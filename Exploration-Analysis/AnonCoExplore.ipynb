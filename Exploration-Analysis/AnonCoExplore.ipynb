{
 "cells": [
  {
   "cell_type": "code",
   "execution_count": 1,
   "metadata": {},
   "outputs": [],
   "source": [
    "#imports\n",
    "import pandas as pd\n",
    "import numpy as np\n",
    "import plotly.express as px\n",
    "import plotly.figure_factory as ff\n",
    "from sklearn.cluster import KMeans\n",
    "from sklearn.metrics import silhouette_score, adjusted_rand_score\n",
    "from sklearn.preprocessing import LabelEncoder, MinMaxScaler\n",
    "from sklearn.decomposition import PCA"
   ]
  },
  {
   "cell_type": "code",
   "execution_count": 2,
   "metadata": {},
   "outputs": [],
   "source": [
    "#########################\n",
    "#Preliminary Exploration#\n",
    "#########################"
   ]
  },
  {
   "cell_type": "code",
   "execution_count": 3,
   "metadata": {},
   "outputs": [],
   "source": [
    "#prepare paths to import data\n",
    "msa_csv = \"../data/msa_data.csv\"\n",
    "national_csv = \"../data/national_data.csv\"\n",
    "skill_csv = \"../data/skill_data.csv\"\n",
    "posting_csv = \"../data/job_postings.csv\""
   ]
  },
  {
   "cell_type": "code",
   "execution_count": 4,
   "metadata": {},
   "outputs": [
    {
     "data": {
      "text/html": [
       "<div>\n",
       "<style scoped>\n",
       "    .dataframe tbody tr th:only-of-type {\n",
       "        vertical-align: middle;\n",
       "    }\n",
       "\n",
       "    .dataframe tbody tr th {\n",
       "        vertical-align: top;\n",
       "    }\n",
       "\n",
       "    .dataframe thead th {\n",
       "        text-align: right;\n",
       "    }\n",
       "</style>\n",
       "<table border=\"1\" class=\"dataframe\">\n",
       "  <thead>\n",
       "    <tr style=\"text-align: right;\">\n",
       "      <th></th>\n",
       "      <th>MSA_ID</th>\n",
       "      <th>Metro Area</th>\n",
       "      <th>OCC_CODE</th>\n",
       "      <th>Job Group</th>\n",
       "      <th>Total Employment</th>\n",
       "      <th>Jobs per 1000</th>\n",
       "      <th>Location Quotient</th>\n",
       "      <th>Mean Annual Wage</th>\n",
       "      <th>Annual Wage 10th Pct</th>\n",
       "      <th>Annual Wage 25th Pct</th>\n",
       "      <th>Median Annual Wage</th>\n",
       "      <th>Annual Wage 75th Pct</th>\n",
       "      <th>Annual Wage 90th Pct</th>\n",
       "    </tr>\n",
       "  </thead>\n",
       "  <tbody>\n",
       "    <tr>\n",
       "      <th>0</th>\n",
       "      <td>10180</td>\n",
       "      <td>Abilene, TX</td>\n",
       "      <td>11-1021</td>\n",
       "      <td>General and Operations Managers</td>\n",
       "      <td>1100.0</td>\n",
       "      <td>16.499</td>\n",
       "      <td>1.01</td>\n",
       "      <td>84000.0</td>\n",
       "      <td>22810.0</td>\n",
       "      <td>50350.0</td>\n",
       "      <td>73850.0</td>\n",
       "      <td>106870.0</td>\n",
       "      <td>154520.0</td>\n",
       "    </tr>\n",
       "    <tr>\n",
       "      <th>1</th>\n",
       "      <td>10180</td>\n",
       "      <td>Abilene, TX</td>\n",
       "      <td>11-2022</td>\n",
       "      <td>Sales Managers</td>\n",
       "      <td>110.0</td>\n",
       "      <td>1.728</td>\n",
       "      <td>0.63</td>\n",
       "      <td>124710.0</td>\n",
       "      <td>47360.0</td>\n",
       "      <td>72140.0</td>\n",
       "      <td>119920.0</td>\n",
       "      <td>155050.0</td>\n",
       "      <td>207570.0</td>\n",
       "    </tr>\n",
       "    <tr>\n",
       "      <th>2</th>\n",
       "      <td>10180</td>\n",
       "      <td>Abilene, TX</td>\n",
       "      <td>11-2030</td>\n",
       "      <td>Public Relations and Fundraising Managers</td>\n",
       "      <td>40.0</td>\n",
       "      <td>0.571</td>\n",
       "      <td>1.06</td>\n",
       "      <td>NaN</td>\n",
       "      <td>NaN</td>\n",
       "      <td>NaN</td>\n",
       "      <td>NaN</td>\n",
       "      <td>NaN</td>\n",
       "      <td>NaN</td>\n",
       "    </tr>\n",
       "    <tr>\n",
       "      <th>3</th>\n",
       "      <td>10180</td>\n",
       "      <td>Abilene, TX</td>\n",
       "      <td>11-3010</td>\n",
       "      <td>Administrative Services and Facilities Managers</td>\n",
       "      <td>150.0</td>\n",
       "      <td>2.197</td>\n",
       "      <td>1.05</td>\n",
       "      <td>84350.0</td>\n",
       "      <td>52360.0</td>\n",
       "      <td>58760.0</td>\n",
       "      <td>71810.0</td>\n",
       "      <td>91380.0</td>\n",
       "      <td>120490.0</td>\n",
       "    </tr>\n",
       "    <tr>\n",
       "      <th>4</th>\n",
       "      <td>10180</td>\n",
       "      <td>Abilene, TX</td>\n",
       "      <td>11-3021</td>\n",
       "      <td>Computer and Information Systems Managers</td>\n",
       "      <td>50.0</td>\n",
       "      <td>0.819</td>\n",
       "      <td>0.28</td>\n",
       "      <td>116390.0</td>\n",
       "      <td>56260.0</td>\n",
       "      <td>74910.0</td>\n",
       "      <td>104350.0</td>\n",
       "      <td>144370.0</td>\n",
       "      <td>194760.0</td>\n",
       "    </tr>\n",
       "  </tbody>\n",
       "</table>\n",
       "</div>"
      ],
      "text/plain": [
       "   MSA_ID   Metro Area OCC_CODE  \\\n",
       "0   10180  Abilene, TX  11-1021   \n",
       "1   10180  Abilene, TX  11-2022   \n",
       "2   10180  Abilene, TX  11-2030   \n",
       "3   10180  Abilene, TX  11-3010   \n",
       "4   10180  Abilene, TX  11-3021   \n",
       "\n",
       "                                         Job Group  Total Employment  \\\n",
       "0                  General and Operations Managers            1100.0   \n",
       "1                                   Sales Managers             110.0   \n",
       "2        Public Relations and Fundraising Managers              40.0   \n",
       "3  Administrative Services and Facilities Managers             150.0   \n",
       "4        Computer and Information Systems Managers              50.0   \n",
       "\n",
       "   Jobs per 1000  Location Quotient  Mean Annual Wage  Annual Wage 10th Pct  \\\n",
       "0         16.499               1.01           84000.0               22810.0   \n",
       "1          1.728               0.63          124710.0               47360.0   \n",
       "2          0.571               1.06               NaN                   NaN   \n",
       "3          2.197               1.05           84350.0               52360.0   \n",
       "4          0.819               0.28          116390.0               56260.0   \n",
       "\n",
       "   Annual Wage 25th Pct  Median Annual Wage  Annual Wage 75th Pct  \\\n",
       "0               50350.0             73850.0              106870.0   \n",
       "1               72140.0            119920.0              155050.0   \n",
       "2                   NaN                 NaN                   NaN   \n",
       "3               58760.0             71810.0               91380.0   \n",
       "4               74910.0            104350.0              144370.0   \n",
       "\n",
       "   Annual Wage 90th Pct  \n",
       "0              154520.0  \n",
       "1              207570.0  \n",
       "2                   NaN  \n",
       "3              120490.0  \n",
       "4              194760.0  "
      ]
     },
     "execution_count": 4,
     "metadata": {},
     "output_type": "execute_result"
    }
   ],
   "source": [
    "#read msa_data as df and check\n",
    "msa_df = pd.read_csv(msa_csv, sep=\",\")\n",
    "msa_df.head()"
   ]
  },
  {
   "cell_type": "code",
   "execution_count": 5,
   "metadata": {},
   "outputs": [
    {
     "data": {
      "text/html": [
       "<div>\n",
       "<style scoped>\n",
       "    .dataframe tbody tr th:only-of-type {\n",
       "        vertical-align: middle;\n",
       "    }\n",
       "\n",
       "    .dataframe tbody tr th {\n",
       "        vertical-align: top;\n",
       "    }\n",
       "\n",
       "    .dataframe thead th {\n",
       "        text-align: right;\n",
       "    }\n",
       "</style>\n",
       "<table border=\"1\" class=\"dataframe\">\n",
       "  <thead>\n",
       "    <tr style=\"text-align: right;\">\n",
       "      <th></th>\n",
       "      <th>MSA_ID</th>\n",
       "      <th>Metro Area</th>\n",
       "    </tr>\n",
       "  </thead>\n",
       "  <tbody>\n",
       "    <tr>\n",
       "      <th>0</th>\n",
       "      <td>10180</td>\n",
       "      <td>Abilene, TX</td>\n",
       "    </tr>\n",
       "    <tr>\n",
       "      <th>1</th>\n",
       "      <td>10180</td>\n",
       "      <td>Abilene, TX</td>\n",
       "    </tr>\n",
       "    <tr>\n",
       "      <th>2</th>\n",
       "      <td>10180</td>\n",
       "      <td>Abilene, TX</td>\n",
       "    </tr>\n",
       "    <tr>\n",
       "      <th>3</th>\n",
       "      <td>10180</td>\n",
       "      <td>Abilene, TX</td>\n",
       "    </tr>\n",
       "    <tr>\n",
       "      <th>4</th>\n",
       "      <td>10180</td>\n",
       "      <td>Abilene, TX</td>\n",
       "    </tr>\n",
       "  </tbody>\n",
       "</table>\n",
       "</div>"
      ],
      "text/plain": [
       "   MSA_ID   Metro Area\n",
       "0   10180  Abilene, TX\n",
       "1   10180  Abilene, TX\n",
       "2   10180  Abilene, TX\n",
       "3   10180  Abilene, TX\n",
       "4   10180  Abilene, TX"
      ]
     },
     "execution_count": 5,
     "metadata": {},
     "output_type": "execute_result"
    }
   ],
   "source": [
    "#Break off separate \n",
    "msa_Only_DF = msa_df[['MSA_ID', 'Metro Area']]\n",
    "msa_Only_DF.head()"
   ]
  },
  {
   "cell_type": "code",
   "execution_count": 6,
   "metadata": {
    "scrolled": false
   },
   "outputs": [
    {
     "data": {
      "text/html": [
       "<div>\n",
       "<style scoped>\n",
       "    .dataframe tbody tr th:only-of-type {\n",
       "        vertical-align: middle;\n",
       "    }\n",
       "\n",
       "    .dataframe tbody tr th {\n",
       "        vertical-align: top;\n",
       "    }\n",
       "\n",
       "    .dataframe thead th {\n",
       "        text-align: right;\n",
       "    }\n",
       "</style>\n",
       "<table border=\"1\" class=\"dataframe\">\n",
       "  <thead>\n",
       "    <tr style=\"text-align: right;\">\n",
       "      <th></th>\n",
       "      <th>MSA_ID</th>\n",
       "      <th>Metro Area</th>\n",
       "    </tr>\n",
       "  </thead>\n",
       "  <tbody>\n",
       "    <tr>\n",
       "      <th>0</th>\n",
       "      <td>10180</td>\n",
       "      <td>Abilene, TX</td>\n",
       "    </tr>\n",
       "    <tr>\n",
       "      <th>1</th>\n",
       "      <td>10380</td>\n",
       "      <td>Aguadilla-Isabela, PR</td>\n",
       "    </tr>\n",
       "    <tr>\n",
       "      <th>2</th>\n",
       "      <td>10420</td>\n",
       "      <td>Akron, OH</td>\n",
       "    </tr>\n",
       "    <tr>\n",
       "      <th>3</th>\n",
       "      <td>10500</td>\n",
       "      <td>Albany, GA</td>\n",
       "    </tr>\n",
       "    <tr>\n",
       "      <th>4</th>\n",
       "      <td>10540</td>\n",
       "      <td>Albany, OR</td>\n",
       "    </tr>\n",
       "    <tr>\n",
       "      <th>...</th>\n",
       "      <td>...</td>\n",
       "      <td>...</td>\n",
       "    </tr>\n",
       "    <tr>\n",
       "      <th>391</th>\n",
       "      <td>76900</td>\n",
       "      <td>Portsmouth, NH-ME</td>\n",
       "    </tr>\n",
       "    <tr>\n",
       "      <th>392</th>\n",
       "      <td>77200</td>\n",
       "      <td>Providence-Warwick, RI-MA</td>\n",
       "    </tr>\n",
       "    <tr>\n",
       "      <th>393</th>\n",
       "      <td>78100</td>\n",
       "      <td>Springfield, MA-CT</td>\n",
       "    </tr>\n",
       "    <tr>\n",
       "      <th>394</th>\n",
       "      <td>78700</td>\n",
       "      <td>Waterbury, CT</td>\n",
       "    </tr>\n",
       "    <tr>\n",
       "      <th>395</th>\n",
       "      <td>79600</td>\n",
       "      <td>Worcester, MA-CT</td>\n",
       "    </tr>\n",
       "  </tbody>\n",
       "</table>\n",
       "<p>396 rows × 2 columns</p>\n",
       "</div>"
      ],
      "text/plain": [
       "     MSA_ID                 Metro Area\n",
       "0     10180                Abilene, TX\n",
       "1     10380      Aguadilla-Isabela, PR\n",
       "2     10420                  Akron, OH\n",
       "3     10500                 Albany, GA\n",
       "4     10540                 Albany, OR\n",
       "..      ...                        ...\n",
       "391   76900          Portsmouth, NH-ME\n",
       "392   77200  Providence-Warwick, RI-MA\n",
       "393   78100         Springfield, MA-CT\n",
       "394   78700              Waterbury, CT\n",
       "395   79600           Worcester, MA-CT\n",
       "\n",
       "[396 rows x 2 columns]"
      ]
     },
     "execution_count": 6,
     "metadata": {},
     "output_type": "execute_result"
    }
   ],
   "source": [
    "# #Make a separate DF to preserve  Metro Area Text\n",
    "msa_Only_DF = msa_Only_DF.drop_duplicates(ignore_index = True, subset='MSA_ID')\n",
    "msa_Only_DF"
   ]
  },
  {
   "cell_type": "code",
   "execution_count": 7,
   "metadata": {
    "scrolled": true
   },
   "outputs": [
    {
     "data": {
      "text/html": [
       "<div>\n",
       "<style scoped>\n",
       "    .dataframe tbody tr th:only-of-type {\n",
       "        vertical-align: middle;\n",
       "    }\n",
       "\n",
       "    .dataframe tbody tr th {\n",
       "        vertical-align: top;\n",
       "    }\n",
       "\n",
       "    .dataframe thead th {\n",
       "        text-align: right;\n",
       "    }\n",
       "</style>\n",
       "<table border=\"1\" class=\"dataframe\">\n",
       "  <thead>\n",
       "    <tr style=\"text-align: right;\">\n",
       "      <th></th>\n",
       "      <th>MSA_ID</th>\n",
       "      <th>Metro Area</th>\n",
       "    </tr>\n",
       "  </thead>\n",
       "  <tbody>\n",
       "    <tr>\n",
       "      <th>0</th>\n",
       "      <td>10180</td>\n",
       "      <td>Abilene, TX</td>\n",
       "    </tr>\n",
       "    <tr>\n",
       "      <th>1</th>\n",
       "      <td>10380</td>\n",
       "      <td>Aguadilla-Isabela, PR</td>\n",
       "    </tr>\n",
       "    <tr>\n",
       "      <th>2</th>\n",
       "      <td>10420</td>\n",
       "      <td>Akron, OH</td>\n",
       "    </tr>\n",
       "    <tr>\n",
       "      <th>3</th>\n",
       "      <td>10500</td>\n",
       "      <td>Albany, GA</td>\n",
       "    </tr>\n",
       "    <tr>\n",
       "      <th>4</th>\n",
       "      <td>10540</td>\n",
       "      <td>Albany, OR</td>\n",
       "    </tr>\n",
       "    <tr>\n",
       "      <th>...</th>\n",
       "      <td>...</td>\n",
       "      <td>...</td>\n",
       "    </tr>\n",
       "    <tr>\n",
       "      <th>391</th>\n",
       "      <td>76900</td>\n",
       "      <td>Portsmouth, NH-ME</td>\n",
       "    </tr>\n",
       "    <tr>\n",
       "      <th>392</th>\n",
       "      <td>77200</td>\n",
       "      <td>Providence-Warwick, RI-MA</td>\n",
       "    </tr>\n",
       "    <tr>\n",
       "      <th>393</th>\n",
       "      <td>78100</td>\n",
       "      <td>Springfield, MA-CT</td>\n",
       "    </tr>\n",
       "    <tr>\n",
       "      <th>394</th>\n",
       "      <td>78700</td>\n",
       "      <td>Waterbury, CT</td>\n",
       "    </tr>\n",
       "    <tr>\n",
       "      <th>395</th>\n",
       "      <td>79600</td>\n",
       "      <td>Worcester, MA-CT</td>\n",
       "    </tr>\n",
       "  </tbody>\n",
       "</table>\n",
       "<p>396 rows × 2 columns</p>\n",
       "</div>"
      ],
      "text/plain": [
       "     MSA_ID                 Metro Area\n",
       "0     10180                Abilene, TX\n",
       "1     10380      Aguadilla-Isabela, PR\n",
       "2     10420                  Akron, OH\n",
       "3     10500                 Albany, GA\n",
       "4     10540                 Albany, OR\n",
       "..      ...                        ...\n",
       "391   76900          Portsmouth, NH-ME\n",
       "392   77200  Providence-Warwick, RI-MA\n",
       "393   78100         Springfield, MA-CT\n",
       "394   78700              Waterbury, CT\n",
       "395   79600           Worcester, MA-CT\n",
       "\n",
       "[396 rows x 2 columns]"
      ]
     },
     "execution_count": 7,
     "metadata": {},
     "output_type": "execute_result"
    }
   ],
   "source": [
    "msa_Only_DF = msa_Only_DF.reset_index(drop = True)\n",
    "msa_Only_DF"
   ]
  },
  {
   "cell_type": "code",
   "execution_count": 8,
   "metadata": {},
   "outputs": [
    {
     "data": {
      "text/plain": [
       "MSA_ID                    int64\n",
       "Metro Area               object\n",
       "OCC_CODE                 object\n",
       "Job Group                object\n",
       "Total Employment        float64\n",
       "Jobs per 1000           float64\n",
       "Location Quotient       float64\n",
       "Mean Annual Wage        float64\n",
       "Annual Wage 10th Pct    float64\n",
       "Annual Wage 25th Pct    float64\n",
       "Median Annual Wage      float64\n",
       "Annual Wage 75th Pct    float64\n",
       "Annual Wage 90th Pct    float64\n",
       "dtype: object"
      ]
     },
     "execution_count": 8,
     "metadata": {},
     "output_type": "execute_result"
    }
   ],
   "source": [
    "#check msa_df datatypes\n",
    "msa_df.dtypes"
   ]
  },
  {
   "cell_type": "code",
   "execution_count": 9,
   "metadata": {},
   "outputs": [
    {
     "data": {
      "text/plain": [
       "Location Quotient       11651\n",
       "Jobs per 1000           11651\n",
       "Total Employment        11651\n",
       "Annual Wage 90th Pct     6458\n",
       "Annual Wage 75th Pct     4361\n",
       "Median Annual Wage       3508\n",
       "Annual Wage 25th Pct     2918\n",
       "Annual Wage 10th Pct     2692\n",
       "Mean Annual Wage         2688\n",
       "Job Group                   0\n",
       "OCC_CODE                    0\n",
       "Metro Area                  0\n",
       "MSA_ID                      0\n",
       "dtype: int64"
      ]
     },
     "execution_count": 9,
     "metadata": {},
     "output_type": "execute_result"
    }
   ],
   "source": [
    "#check NaNs\n",
    "msa_df.isnull().sum().sort_values(ascending = False)"
   ]
  },
  {
   "cell_type": "code",
   "execution_count": 10,
   "metadata": {},
   "outputs": [
    {
     "name": "stdout",
     "output_type": "stream",
     "text": [
      "NaN values are 8.735913143234185\n"
     ]
    }
   ],
   "source": [
    "#calculate percentage of NaN\n",
    "msa_length = msa_df[\"OCC_CODE\"].count()\n",
    "msa_NaN = msa_df[\"Total Employment\"].isnull().sum()\n",
    "msa_Nan_Form = msa_NaN/msa_length*100\n",
    "print(f\"NaN values are {msa_Nan_Form}\")"
   ]
  },
  {
   "cell_type": "code",
   "execution_count": 11,
   "metadata": {
    "scrolled": false
   },
   "outputs": [
    {
     "data": {
      "text/html": [
       "<div>\n",
       "<style scoped>\n",
       "    .dataframe tbody tr th:only-of-type {\n",
       "        vertical-align: middle;\n",
       "    }\n",
       "\n",
       "    .dataframe tbody tr th {\n",
       "        vertical-align: top;\n",
       "    }\n",
       "\n",
       "    .dataframe thead th {\n",
       "        text-align: right;\n",
       "    }\n",
       "</style>\n",
       "<table border=\"1\" class=\"dataframe\">\n",
       "  <thead>\n",
       "    <tr style=\"text-align: right;\">\n",
       "      <th></th>\n",
       "      <th>BLS Job Title</th>\n",
       "      <th>LONG_OCC_CODE</th>\n",
       "      <th>Percentage with AA Degree or Less</th>\n",
       "      <th>Percentage with BA Degree or More</th>\n",
       "      <th>Total Employment (National)</th>\n",
       "      <th>Mean Annual Wage (National)</th>\n",
       "      <th>Annual Wage 10th Pct (National)</th>\n",
       "      <th>Annual Wage 25th Pct (National)</th>\n",
       "      <th>Median Annual Wage (National)</th>\n",
       "      <th>Annual Wage 75th Pct (National)</th>\n",
       "      <th>Annual Wage 90th Pct (National)</th>\n",
       "      <th>Typical education needed for entry</th>\n",
       "      <th>Work experience in a related occupation</th>\n",
       "      <th>Non-Entry Level</th>\n",
       "      <th>BA Entry Level</th>\n",
       "      <th>Middle Skilled</th>\n",
       "      <th>Low Wage</th>\n",
       "    </tr>\n",
       "  </thead>\n",
       "  <tbody>\n",
       "    <tr>\n",
       "      <th>0</th>\n",
       "      <td>Computer Operator</td>\n",
       "      <td>43-9011.00</td>\n",
       "      <td>64.9</td>\n",
       "      <td>35.1</td>\n",
       "      <td>NaN</td>\n",
       "      <td>NaN</td>\n",
       "      <td>NaN</td>\n",
       "      <td>NaN</td>\n",
       "      <td>NaN</td>\n",
       "      <td>NaN</td>\n",
       "      <td>NaN</td>\n",
       "      <td>High school diploma or equivalent</td>\n",
       "      <td>None</td>\n",
       "      <td>False</td>\n",
       "      <td>False</td>\n",
       "      <td>True</td>\n",
       "      <td>False</td>\n",
       "    </tr>\n",
       "    <tr>\n",
       "      <th>1</th>\n",
       "      <td>Business Intelligence Analyst</td>\n",
       "      <td>15-1199.93</td>\n",
       "      <td>43.8</td>\n",
       "      <td>56.4</td>\n",
       "      <td>NaN</td>\n",
       "      <td>NaN</td>\n",
       "      <td>NaN</td>\n",
       "      <td>NaN</td>\n",
       "      <td>NaN</td>\n",
       "      <td>NaN</td>\n",
       "      <td>NaN</td>\n",
       "      <td>Bachelor's degree</td>\n",
       "      <td>None</td>\n",
       "      <td>False</td>\n",
       "      <td>True</td>\n",
       "      <td>False</td>\n",
       "      <td>False</td>\n",
       "    </tr>\n",
       "    <tr>\n",
       "      <th>2</th>\n",
       "      <td>IT Project Manager</td>\n",
       "      <td>15-1199.95</td>\n",
       "      <td>43.8</td>\n",
       "      <td>56.4</td>\n",
       "      <td>NaN</td>\n",
       "      <td>NaN</td>\n",
       "      <td>NaN</td>\n",
       "      <td>NaN</td>\n",
       "      <td>NaN</td>\n",
       "      <td>NaN</td>\n",
       "      <td>NaN</td>\n",
       "      <td>Bachelor's degree</td>\n",
       "      <td>None</td>\n",
       "      <td>False</td>\n",
       "      <td>True</td>\n",
       "      <td>False</td>\n",
       "      <td>False</td>\n",
       "    </tr>\n",
       "    <tr>\n",
       "      <th>3</th>\n",
       "      <td>Network Engineer / Architect</td>\n",
       "      <td>15-1199.02</td>\n",
       "      <td>43.8</td>\n",
       "      <td>56.4</td>\n",
       "      <td>NaN</td>\n",
       "      <td>NaN</td>\n",
       "      <td>NaN</td>\n",
       "      <td>NaN</td>\n",
       "      <td>NaN</td>\n",
       "      <td>NaN</td>\n",
       "      <td>NaN</td>\n",
       "      <td>Bachelor's degree</td>\n",
       "      <td>None</td>\n",
       "      <td>False</td>\n",
       "      <td>True</td>\n",
       "      <td>False</td>\n",
       "      <td>False</td>\n",
       "    </tr>\n",
       "    <tr>\n",
       "      <th>4</th>\n",
       "      <td>Network Engineer / Architect</td>\n",
       "      <td>15-1133.00</td>\n",
       "      <td>14.7</td>\n",
       "      <td>85.2</td>\n",
       "      <td>NaN</td>\n",
       "      <td>NaN</td>\n",
       "      <td>NaN</td>\n",
       "      <td>NaN</td>\n",
       "      <td>NaN</td>\n",
       "      <td>NaN</td>\n",
       "      <td>NaN</td>\n",
       "      <td>Bachelor's degree</td>\n",
       "      <td>None</td>\n",
       "      <td>False</td>\n",
       "      <td>True</td>\n",
       "      <td>False</td>\n",
       "      <td>False</td>\n",
       "    </tr>\n",
       "  </tbody>\n",
       "</table>\n",
       "</div>"
      ],
      "text/plain": [
       "                   BLS Job Title LONG_OCC_CODE  \\\n",
       "0              Computer Operator    43-9011.00   \n",
       "1  Business Intelligence Analyst    15-1199.93   \n",
       "2             IT Project Manager    15-1199.95   \n",
       "3   Network Engineer / Architect    15-1199.02   \n",
       "4   Network Engineer / Architect    15-1133.00   \n",
       "\n",
       "   Percentage with AA Degree or Less  Percentage with BA Degree or More  \\\n",
       "0                               64.9                               35.1   \n",
       "1                               43.8                               56.4   \n",
       "2                               43.8                               56.4   \n",
       "3                               43.8                               56.4   \n",
       "4                               14.7                               85.2   \n",
       "\n",
       "   Total Employment (National)  Mean Annual Wage (National)  \\\n",
       "0                          NaN                          NaN   \n",
       "1                          NaN                          NaN   \n",
       "2                          NaN                          NaN   \n",
       "3                          NaN                          NaN   \n",
       "4                          NaN                          NaN   \n",
       "\n",
       "   Annual Wage 10th Pct (National)  Annual Wage 25th Pct (National)  \\\n",
       "0                              NaN                              NaN   \n",
       "1                              NaN                              NaN   \n",
       "2                              NaN                              NaN   \n",
       "3                              NaN                              NaN   \n",
       "4                              NaN                              NaN   \n",
       "\n",
       "   Median Annual Wage (National)  Annual Wage 75th Pct (National)  \\\n",
       "0                            NaN                              NaN   \n",
       "1                            NaN                              NaN   \n",
       "2                            NaN                              NaN   \n",
       "3                            NaN                              NaN   \n",
       "4                            NaN                              NaN   \n",
       "\n",
       "   Annual Wage 90th Pct (National) Typical education needed for entry  \\\n",
       "0                              NaN  High school diploma or equivalent   \n",
       "1                              NaN                  Bachelor's degree   \n",
       "2                              NaN                  Bachelor's degree   \n",
       "3                              NaN                  Bachelor's degree   \n",
       "4                              NaN                  Bachelor's degree   \n",
       "\n",
       "  Work experience in a related occupation  Non-Entry Level  BA Entry Level  \\\n",
       "0                                    None            False           False   \n",
       "1                                    None            False            True   \n",
       "2                                    None            False            True   \n",
       "3                                    None            False            True   \n",
       "4                                    None            False            True   \n",
       "\n",
       "   Middle Skilled  Low Wage  \n",
       "0            True     False  \n",
       "1           False     False  \n",
       "2           False     False  \n",
       "3           False     False  \n",
       "4           False     False  "
      ]
     },
     "execution_count": 11,
     "metadata": {},
     "output_type": "execute_result"
    }
   ],
   "source": [
    "#read national_data as df and check\n",
    "national_df = pd.read_csv(national_csv, sep=\",\")\n",
    "national_df.head()"
   ]
  },
  {
   "cell_type": "code",
   "execution_count": 12,
   "metadata": {},
   "outputs": [
    {
     "data": {
      "text/plain": [
       "BLS Job Title                               object\n",
       "LONG_OCC_CODE                               object\n",
       "Percentage with AA Degree or Less          float64\n",
       "Percentage with BA Degree or More          float64\n",
       "Total Employment (National)                float64\n",
       "Mean Annual Wage (National)                float64\n",
       "Annual Wage 10th Pct (National)            float64\n",
       "Annual Wage 25th Pct (National)            float64\n",
       "Median Annual Wage (National)              float64\n",
       "Annual Wage 75th Pct (National)            float64\n",
       "Annual Wage 90th Pct (National)            float64\n",
       "Typical education needed for entry          object\n",
       "Work experience in a related occupation     object\n",
       "Non-Entry Level                               bool\n",
       "BA Entry Level                                bool\n",
       "Middle Skilled                                bool\n",
       "Low Wage                                      bool\n",
       "dtype: object"
      ]
     },
     "execution_count": 12,
     "metadata": {},
     "output_type": "execute_result"
    }
   ],
   "source": [
    "#check national_df datatypes\n",
    "national_df.dtypes"
   ]
  },
  {
   "cell_type": "code",
   "execution_count": 13,
   "metadata": {},
   "outputs": [
    {
     "data": {
      "text/plain": [
       "Annual Wage 90th Pct (National)            232\n",
       "Annual Wage 75th Pct (National)            166\n",
       "Median Annual Wage (National)              165\n",
       "Annual Wage 25th Pct (National)            165\n",
       "Annual Wage 10th Pct (National)            165\n",
       "Mean Annual Wage (National)                165\n",
       "Total Employment (National)                164\n",
       "Percentage with AA Degree or Less            6\n",
       "Work experience in a related occupation      6\n",
       "Typical education needed for entry           6\n",
       "Percentage with BA Degree or More            6\n",
       "LONG_OCC_CODE                                0\n",
       "Low Wage                                     0\n",
       "Middle Skilled                               0\n",
       "Non-Entry Level                              0\n",
       "BA Entry Level                               0\n",
       "BLS Job Title                                0\n",
       "dtype: int64"
      ]
     },
     "execution_count": 13,
     "metadata": {},
     "output_type": "execute_result"
    }
   ],
   "source": [
    "#check NaNs\n",
    "national_df.isnull().sum().sort_values(ascending = False)"
   ]
  },
  {
   "cell_type": "code",
   "execution_count": 14,
   "metadata": {},
   "outputs": [
    {
     "name": "stdout",
     "output_type": "stream",
     "text": [
      "NaN values are 40.98939929328622\n"
     ]
    }
   ],
   "source": [
    "#calculate percentage of NaN\n",
    "national_length = national_df[\"LONG_OCC_CODE\"].count()\n",
    "national_NaN = national_df[\"Annual Wage 90th Pct (National)\"].isnull().sum()\n",
    "print(f\"NaN values are {national_NaN/national_length*100}\")"
   ]
  },
  {
   "cell_type": "code",
   "execution_count": 15,
   "metadata": {},
   "outputs": [
    {
     "data": {
      "text/html": [
       "<div>\n",
       "<style scoped>\n",
       "    .dataframe tbody tr th:only-of-type {\n",
       "        vertical-align: middle;\n",
       "    }\n",
       "\n",
       "    .dataframe tbody tr th {\n",
       "        vertical-align: top;\n",
       "    }\n",
       "\n",
       "    .dataframe thead th {\n",
       "        text-align: right;\n",
       "    }\n",
       "</style>\n",
       "<table border=\"1\" class=\"dataframe\">\n",
       "  <thead>\n",
       "    <tr style=\"text-align: right;\">\n",
       "      <th></th>\n",
       "      <th>LONG_OCC_CODE</th>\n",
       "      <th>BLS Job Title</th>\n",
       "      <th>Artistic_oi</th>\n",
       "      <th>Conventional_oi</th>\n",
       "      <th>Enterprising_oi</th>\n",
       "      <th>Investigative_oi</th>\n",
       "      <th>Realistic_oi</th>\n",
       "      <th>Social_oi</th>\n",
       "      <th>Arm-Hand Steadiness_im</th>\n",
       "      <th>Auditory Attention_im</th>\n",
       "      <th>...</th>\n",
       "      <th>Persistence_im</th>\n",
       "      <th>Self Control_im</th>\n",
       "      <th>Social Orientation_im</th>\n",
       "      <th>Stress Tolerance_im</th>\n",
       "      <th>Achievement_ex</th>\n",
       "      <th>Independence_ex</th>\n",
       "      <th>Recognition_ex</th>\n",
       "      <th>Relationships_ex</th>\n",
       "      <th>Support_ex</th>\n",
       "      <th>Working Conditions_ex</th>\n",
       "    </tr>\n",
       "  </thead>\n",
       "  <tbody>\n",
       "    <tr>\n",
       "      <th>0</th>\n",
       "      <td>11-1011.00</td>\n",
       "      <td>Chief Executives</td>\n",
       "      <td>2.67</td>\n",
       "      <td>5.33</td>\n",
       "      <td>7.00</td>\n",
       "      <td>2.00</td>\n",
       "      <td>1.33</td>\n",
       "      <td>3.67</td>\n",
       "      <td>1.00</td>\n",
       "      <td>2.12</td>\n",
       "      <td>...</td>\n",
       "      <td>4.43</td>\n",
       "      <td>4.52</td>\n",
       "      <td>3.67</td>\n",
       "      <td>4.75</td>\n",
       "      <td>6.33</td>\n",
       "      <td>7.00</td>\n",
       "      <td>7.00</td>\n",
       "      <td>5.00</td>\n",
       "      <td>5.33</td>\n",
       "      <td>6.33</td>\n",
       "    </tr>\n",
       "    <tr>\n",
       "      <th>1</th>\n",
       "      <td>11-1011.03</td>\n",
       "      <td>Chief Sustainability Officers</td>\n",
       "      <td>2.67</td>\n",
       "      <td>4.33</td>\n",
       "      <td>7.00</td>\n",
       "      <td>4.33</td>\n",
       "      <td>1.00</td>\n",
       "      <td>2.33</td>\n",
       "      <td>1.00</td>\n",
       "      <td>1.88</td>\n",
       "      <td>...</td>\n",
       "      <td>4.31</td>\n",
       "      <td>4.00</td>\n",
       "      <td>3.35</td>\n",
       "      <td>4.08</td>\n",
       "      <td>6.67</td>\n",
       "      <td>6.67</td>\n",
       "      <td>6.00</td>\n",
       "      <td>5.00</td>\n",
       "      <td>3.33</td>\n",
       "      <td>6.33</td>\n",
       "    </tr>\n",
       "    <tr>\n",
       "      <th>2</th>\n",
       "      <td>11-1021.00</td>\n",
       "      <td>General and Operations Managers</td>\n",
       "      <td>1.00</td>\n",
       "      <td>3.67</td>\n",
       "      <td>7.00</td>\n",
       "      <td>1.33</td>\n",
       "      <td>1.33</td>\n",
       "      <td>3.33</td>\n",
       "      <td>2.00</td>\n",
       "      <td>2.12</td>\n",
       "      <td>...</td>\n",
       "      <td>4.04</td>\n",
       "      <td>4.31</td>\n",
       "      <td>3.57</td>\n",
       "      <td>4.33</td>\n",
       "      <td>5.33</td>\n",
       "      <td>6.00</td>\n",
       "      <td>5.67</td>\n",
       "      <td>6.33</td>\n",
       "      <td>4.67</td>\n",
       "      <td>6.00</td>\n",
       "    </tr>\n",
       "    <tr>\n",
       "      <th>3</th>\n",
       "      <td>11-1031.00</td>\n",
       "      <td>Legislators</td>\n",
       "      <td>3.67</td>\n",
       "      <td>3.00</td>\n",
       "      <td>7.00</td>\n",
       "      <td>3.67</td>\n",
       "      <td>1.00</td>\n",
       "      <td>4.67</td>\n",
       "      <td>NaN</td>\n",
       "      <td>NaN</td>\n",
       "      <td>...</td>\n",
       "      <td>NaN</td>\n",
       "      <td>NaN</td>\n",
       "      <td>NaN</td>\n",
       "      <td>NaN</td>\n",
       "      <td>5.33</td>\n",
       "      <td>5.00</td>\n",
       "      <td>5.00</td>\n",
       "      <td>5.67</td>\n",
       "      <td>4.00</td>\n",
       "      <td>4.33</td>\n",
       "    </tr>\n",
       "    <tr>\n",
       "      <th>4</th>\n",
       "      <td>11-2011.00</td>\n",
       "      <td>Advertising and Promotions Managers</td>\n",
       "      <td>5.33</td>\n",
       "      <td>4.67</td>\n",
       "      <td>7.00</td>\n",
       "      <td>2.00</td>\n",
       "      <td>1.67</td>\n",
       "      <td>2.33</td>\n",
       "      <td>1.38</td>\n",
       "      <td>1.75</td>\n",
       "      <td>...</td>\n",
       "      <td>4.32</td>\n",
       "      <td>4.18</td>\n",
       "      <td>3.70</td>\n",
       "      <td>4.35</td>\n",
       "      <td>5.33</td>\n",
       "      <td>5.33</td>\n",
       "      <td>5.33</td>\n",
       "      <td>5.00</td>\n",
       "      <td>4.00</td>\n",
       "      <td>5.33</td>\n",
       "    </tr>\n",
       "    <tr>\n",
       "      <th>5</th>\n",
       "      <td>11-2011.01</td>\n",
       "      <td>Green Marketers</td>\n",
       "      <td>4.33</td>\n",
       "      <td>3.00</td>\n",
       "      <td>5.33</td>\n",
       "      <td>5.33</td>\n",
       "      <td>1.00</td>\n",
       "      <td>2.33</td>\n",
       "      <td>NaN</td>\n",
       "      <td>NaN</td>\n",
       "      <td>...</td>\n",
       "      <td>NaN</td>\n",
       "      <td>NaN</td>\n",
       "      <td>NaN</td>\n",
       "      <td>NaN</td>\n",
       "      <td>5.33</td>\n",
       "      <td>5.33</td>\n",
       "      <td>5.00</td>\n",
       "      <td>5.00</td>\n",
       "      <td>4.00</td>\n",
       "      <td>4.83</td>\n",
       "    </tr>\n",
       "    <tr>\n",
       "      <th>6</th>\n",
       "      <td>11-2021.00</td>\n",
       "      <td>Marketing Managers</td>\n",
       "      <td>3.67</td>\n",
       "      <td>5.33</td>\n",
       "      <td>7.00</td>\n",
       "      <td>2.33</td>\n",
       "      <td>1.00</td>\n",
       "      <td>2.67</td>\n",
       "      <td>1.12</td>\n",
       "      <td>1.88</td>\n",
       "      <td>...</td>\n",
       "      <td>4.23</td>\n",
       "      <td>3.87</td>\n",
       "      <td>3.80</td>\n",
       "      <td>4.01</td>\n",
       "      <td>6.00</td>\n",
       "      <td>5.67</td>\n",
       "      <td>5.33</td>\n",
       "      <td>5.67</td>\n",
       "      <td>5.00</td>\n",
       "      <td>6.17</td>\n",
       "    </tr>\n",
       "    <tr>\n",
       "      <th>7</th>\n",
       "      <td>11-2022.00</td>\n",
       "      <td>Sales Managers</td>\n",
       "      <td>2.00</td>\n",
       "      <td>4.67</td>\n",
       "      <td>7.00</td>\n",
       "      <td>2.00</td>\n",
       "      <td>3.00</td>\n",
       "      <td>3.67</td>\n",
       "      <td>1.38</td>\n",
       "      <td>2.00</td>\n",
       "      <td>...</td>\n",
       "      <td>4.48</td>\n",
       "      <td>4.30</td>\n",
       "      <td>3.83</td>\n",
       "      <td>4.52</td>\n",
       "      <td>5.33</td>\n",
       "      <td>5.67</td>\n",
       "      <td>4.67</td>\n",
       "      <td>4.00</td>\n",
       "      <td>5.33</td>\n",
       "      <td>5.50</td>\n",
       "    </tr>\n",
       "    <tr>\n",
       "      <th>8</th>\n",
       "      <td>11-2031.00</td>\n",
       "      <td>Public Relations and Fundraising Managers</td>\n",
       "      <td>5.00</td>\n",
       "      <td>3.67</td>\n",
       "      <td>7.00</td>\n",
       "      <td>1.33</td>\n",
       "      <td>1.33</td>\n",
       "      <td>3.67</td>\n",
       "      <td>1.00</td>\n",
       "      <td>1.75</td>\n",
       "      <td>...</td>\n",
       "      <td>4.53</td>\n",
       "      <td>3.94</td>\n",
       "      <td>4.15</td>\n",
       "      <td>4.17</td>\n",
       "      <td>5.33</td>\n",
       "      <td>6.00</td>\n",
       "      <td>5.00</td>\n",
       "      <td>6.00</td>\n",
       "      <td>4.67</td>\n",
       "      <td>6.17</td>\n",
       "    </tr>\n",
       "    <tr>\n",
       "      <th>9</th>\n",
       "      <td>11-3011.00</td>\n",
       "      <td>Administrative Services Managers</td>\n",
       "      <td>1.00</td>\n",
       "      <td>5.33</td>\n",
       "      <td>7.00</td>\n",
       "      <td>2.33</td>\n",
       "      <td>2.00</td>\n",
       "      <td>2.67</td>\n",
       "      <td>2.12</td>\n",
       "      <td>2.25</td>\n",
       "      <td>...</td>\n",
       "      <td>3.98</td>\n",
       "      <td>4.53</td>\n",
       "      <td>3.65</td>\n",
       "      <td>4.44</td>\n",
       "      <td>4.67</td>\n",
       "      <td>5.67</td>\n",
       "      <td>4.67</td>\n",
       "      <td>6.33</td>\n",
       "      <td>4.00</td>\n",
       "      <td>4.67</td>\n",
       "    </tr>\n",
       "    <tr>\n",
       "      <th>10</th>\n",
       "      <td>11-3021.00</td>\n",
       "      <td>Computer and Information Systems Managers</td>\n",
       "      <td>1.67</td>\n",
       "      <td>5.33</td>\n",
       "      <td>6.67</td>\n",
       "      <td>4.33</td>\n",
       "      <td>4.00</td>\n",
       "      <td>1.67</td>\n",
       "      <td>2.25</td>\n",
       "      <td>2.00</td>\n",
       "      <td>...</td>\n",
       "      <td>4.03</td>\n",
       "      <td>4.10</td>\n",
       "      <td>3.69</td>\n",
       "      <td>4.16</td>\n",
       "      <td>5.33</td>\n",
       "      <td>5.00</td>\n",
       "      <td>5.33</td>\n",
       "      <td>4.33</td>\n",
       "      <td>5.67</td>\n",
       "      <td>6.50</td>\n",
       "    </tr>\n",
       "    <tr>\n",
       "      <th>11</th>\n",
       "      <td>11-3031.01</td>\n",
       "      <td>Treasurers and Controllers</td>\n",
       "      <td>1.00</td>\n",
       "      <td>7.00</td>\n",
       "      <td>6.00</td>\n",
       "      <td>2.67</td>\n",
       "      <td>1.67</td>\n",
       "      <td>2.67</td>\n",
       "      <td>1.00</td>\n",
       "      <td>1.75</td>\n",
       "      <td>...</td>\n",
       "      <td>4.23</td>\n",
       "      <td>4.00</td>\n",
       "      <td>3.23</td>\n",
       "      <td>4.20</td>\n",
       "      <td>5.67</td>\n",
       "      <td>5.67</td>\n",
       "      <td>5.00</td>\n",
       "      <td>4.00</td>\n",
       "      <td>5.33</td>\n",
       "      <td>5.83</td>\n",
       "    </tr>\n",
       "    <tr>\n",
       "      <th>12</th>\n",
       "      <td>11-3031.02</td>\n",
       "      <td>Financial Managers, Branch or Department</td>\n",
       "      <td>1.33</td>\n",
       "      <td>5.00</td>\n",
       "      <td>7.00</td>\n",
       "      <td>1.67</td>\n",
       "      <td>1.67</td>\n",
       "      <td>3.33</td>\n",
       "      <td>1.25</td>\n",
       "      <td>2.12</td>\n",
       "      <td>...</td>\n",
       "      <td>4.42</td>\n",
       "      <td>4.18</td>\n",
       "      <td>3.62</td>\n",
       "      <td>4.23</td>\n",
       "      <td>5.33</td>\n",
       "      <td>6.00</td>\n",
       "      <td>5.67</td>\n",
       "      <td>5.00</td>\n",
       "      <td>5.00</td>\n",
       "      <td>6.00</td>\n",
       "    </tr>\n",
       "    <tr>\n",
       "      <th>13</th>\n",
       "      <td>11-3051.00</td>\n",
       "      <td>Industrial Production Managers</td>\n",
       "      <td>1.33</td>\n",
       "      <td>6.00</td>\n",
       "      <td>7.00</td>\n",
       "      <td>2.33</td>\n",
       "      <td>2.67</td>\n",
       "      <td>3.33</td>\n",
       "      <td>2.00</td>\n",
       "      <td>2.75</td>\n",
       "      <td>...</td>\n",
       "      <td>4.20</td>\n",
       "      <td>4.34</td>\n",
       "      <td>4.04</td>\n",
       "      <td>4.54</td>\n",
       "      <td>5.00</td>\n",
       "      <td>6.00</td>\n",
       "      <td>5.00</td>\n",
       "      <td>5.33</td>\n",
       "      <td>5.00</td>\n",
       "      <td>5.67</td>\n",
       "    </tr>\n",
       "    <tr>\n",
       "      <th>14</th>\n",
       "      <td>11-3051.01</td>\n",
       "      <td>Quality Control Systems Managers</td>\n",
       "      <td>1.33</td>\n",
       "      <td>5.67</td>\n",
       "      <td>7.00</td>\n",
       "      <td>3.33</td>\n",
       "      <td>4.33</td>\n",
       "      <td>2.00</td>\n",
       "      <td>2.88</td>\n",
       "      <td>2.50</td>\n",
       "      <td>...</td>\n",
       "      <td>4.08</td>\n",
       "      <td>4.08</td>\n",
       "      <td>3.44</td>\n",
       "      <td>4.58</td>\n",
       "      <td>5.00</td>\n",
       "      <td>5.00</td>\n",
       "      <td>4.67</td>\n",
       "      <td>4.00</td>\n",
       "      <td>5.33</td>\n",
       "      <td>4.50</td>\n",
       "    </tr>\n",
       "    <tr>\n",
       "      <th>15</th>\n",
       "      <td>11-3051.02</td>\n",
       "      <td>Geothermal Production Managers</td>\n",
       "      <td>2.00</td>\n",
       "      <td>5.67</td>\n",
       "      <td>7.00</td>\n",
       "      <td>3.33</td>\n",
       "      <td>3.67</td>\n",
       "      <td>1.67</td>\n",
       "      <td>2.38</td>\n",
       "      <td>2.50</td>\n",
       "      <td>...</td>\n",
       "      <td>3.95</td>\n",
       "      <td>4.15</td>\n",
       "      <td>3.81</td>\n",
       "      <td>4.38</td>\n",
       "      <td>6.00</td>\n",
       "      <td>5.67</td>\n",
       "      <td>6.00</td>\n",
       "      <td>4.67</td>\n",
       "      <td>4.00</td>\n",
       "      <td>6.00</td>\n",
       "    </tr>\n",
       "    <tr>\n",
       "      <th>16</th>\n",
       "      <td>11-3051.03</td>\n",
       "      <td>Biofuels Production Managers</td>\n",
       "      <td>1.33</td>\n",
       "      <td>5.67</td>\n",
       "      <td>7.00</td>\n",
       "      <td>3.33</td>\n",
       "      <td>4.00</td>\n",
       "      <td>2.00</td>\n",
       "      <td>2.75</td>\n",
       "      <td>2.75</td>\n",
       "      <td>...</td>\n",
       "      <td>4.00</td>\n",
       "      <td>4.06</td>\n",
       "      <td>3.28</td>\n",
       "      <td>4.09</td>\n",
       "      <td>5.67</td>\n",
       "      <td>5.33</td>\n",
       "      <td>5.67</td>\n",
       "      <td>4.33</td>\n",
       "      <td>4.33</td>\n",
       "      <td>6.00</td>\n",
       "    </tr>\n",
       "    <tr>\n",
       "      <th>17</th>\n",
       "      <td>11-3051.04</td>\n",
       "      <td>Biomass Power Plant Managers</td>\n",
       "      <td>1.33</td>\n",
       "      <td>5.67</td>\n",
       "      <td>7.00</td>\n",
       "      <td>3.00</td>\n",
       "      <td>5.00</td>\n",
       "      <td>2.00</td>\n",
       "      <td>2.62</td>\n",
       "      <td>2.62</td>\n",
       "      <td>...</td>\n",
       "      <td>4.60</td>\n",
       "      <td>3.92</td>\n",
       "      <td>3.56</td>\n",
       "      <td>4.40</td>\n",
       "      <td>5.67</td>\n",
       "      <td>5.33</td>\n",
       "      <td>5.67</td>\n",
       "      <td>4.33</td>\n",
       "      <td>4.00</td>\n",
       "      <td>6.00</td>\n",
       "    </tr>\n",
       "    <tr>\n",
       "      <th>18</th>\n",
       "      <td>11-3051.05</td>\n",
       "      <td>Methane/Landfill Gas Collection System Operators</td>\n",
       "      <td>1.67</td>\n",
       "      <td>6.67</td>\n",
       "      <td>5.33</td>\n",
       "      <td>3.00</td>\n",
       "      <td>4.67</td>\n",
       "      <td>1.33</td>\n",
       "      <td>NaN</td>\n",
       "      <td>NaN</td>\n",
       "      <td>...</td>\n",
       "      <td>NaN</td>\n",
       "      <td>NaN</td>\n",
       "      <td>NaN</td>\n",
       "      <td>NaN</td>\n",
       "      <td>4.67</td>\n",
       "      <td>3.67</td>\n",
       "      <td>3.67</td>\n",
       "      <td>3.00</td>\n",
       "      <td>4.67</td>\n",
       "      <td>4.50</td>\n",
       "    </tr>\n",
       "    <tr>\n",
       "      <th>19</th>\n",
       "      <td>11-3051.06</td>\n",
       "      <td>Hydroelectric Production Managers</td>\n",
       "      <td>1.33</td>\n",
       "      <td>5.67</td>\n",
       "      <td>7.00</td>\n",
       "      <td>3.00</td>\n",
       "      <td>3.67</td>\n",
       "      <td>1.33</td>\n",
       "      <td>2.50</td>\n",
       "      <td>2.88</td>\n",
       "      <td>...</td>\n",
       "      <td>3.89</td>\n",
       "      <td>4.02</td>\n",
       "      <td>3.12</td>\n",
       "      <td>4.12</td>\n",
       "      <td>6.00</td>\n",
       "      <td>5.67</td>\n",
       "      <td>5.67</td>\n",
       "      <td>4.67</td>\n",
       "      <td>4.00</td>\n",
       "      <td>6.00</td>\n",
       "    </tr>\n",
       "  </tbody>\n",
       "</table>\n",
       "<p>20 rows × 352 columns</p>\n",
       "</div>"
      ],
      "text/plain": [
       "   LONG_OCC_CODE                                     BLS Job Title  \\\n",
       "0     11-1011.00                                  Chief Executives   \n",
       "1     11-1011.03                     Chief Sustainability Officers   \n",
       "2     11-1021.00                   General and Operations Managers   \n",
       "3     11-1031.00                                       Legislators   \n",
       "4     11-2011.00               Advertising and Promotions Managers   \n",
       "5     11-2011.01                                   Green Marketers   \n",
       "6     11-2021.00                                Marketing Managers   \n",
       "7     11-2022.00                                    Sales Managers   \n",
       "8     11-2031.00         Public Relations and Fundraising Managers   \n",
       "9     11-3011.00                  Administrative Services Managers   \n",
       "10    11-3021.00         Computer and Information Systems Managers   \n",
       "11    11-3031.01                        Treasurers and Controllers   \n",
       "12    11-3031.02          Financial Managers, Branch or Department   \n",
       "13    11-3051.00                    Industrial Production Managers   \n",
       "14    11-3051.01                  Quality Control Systems Managers   \n",
       "15    11-3051.02                    Geothermal Production Managers   \n",
       "16    11-3051.03                      Biofuels Production Managers   \n",
       "17    11-3051.04                      Biomass Power Plant Managers   \n",
       "18    11-3051.05  Methane/Landfill Gas Collection System Operators   \n",
       "19    11-3051.06                 Hydroelectric Production Managers   \n",
       "\n",
       "    Artistic_oi  Conventional_oi  Enterprising_oi  Investigative_oi  \\\n",
       "0          2.67             5.33             7.00              2.00   \n",
       "1          2.67             4.33             7.00              4.33   \n",
       "2          1.00             3.67             7.00              1.33   \n",
       "3          3.67             3.00             7.00              3.67   \n",
       "4          5.33             4.67             7.00              2.00   \n",
       "5          4.33             3.00             5.33              5.33   \n",
       "6          3.67             5.33             7.00              2.33   \n",
       "7          2.00             4.67             7.00              2.00   \n",
       "8          5.00             3.67             7.00              1.33   \n",
       "9          1.00             5.33             7.00              2.33   \n",
       "10         1.67             5.33             6.67              4.33   \n",
       "11         1.00             7.00             6.00              2.67   \n",
       "12         1.33             5.00             7.00              1.67   \n",
       "13         1.33             6.00             7.00              2.33   \n",
       "14         1.33             5.67             7.00              3.33   \n",
       "15         2.00             5.67             7.00              3.33   \n",
       "16         1.33             5.67             7.00              3.33   \n",
       "17         1.33             5.67             7.00              3.00   \n",
       "18         1.67             6.67             5.33              3.00   \n",
       "19         1.33             5.67             7.00              3.00   \n",
       "\n",
       "    Realistic_oi  Social_oi  Arm-Hand Steadiness_im  Auditory Attention_im  \\\n",
       "0           1.33       3.67                    1.00                   2.12   \n",
       "1           1.00       2.33                    1.00                   1.88   \n",
       "2           1.33       3.33                    2.00                   2.12   \n",
       "3           1.00       4.67                     NaN                    NaN   \n",
       "4           1.67       2.33                    1.38                   1.75   \n",
       "5           1.00       2.33                     NaN                    NaN   \n",
       "6           1.00       2.67                    1.12                   1.88   \n",
       "7           3.00       3.67                    1.38                   2.00   \n",
       "8           1.33       3.67                    1.00                   1.75   \n",
       "9           2.00       2.67                    2.12                   2.25   \n",
       "10          4.00       1.67                    2.25                   2.00   \n",
       "11          1.67       2.67                    1.00                   1.75   \n",
       "12          1.67       3.33                    1.25                   2.12   \n",
       "13          2.67       3.33                    2.00                   2.75   \n",
       "14          4.33       2.00                    2.88                   2.50   \n",
       "15          3.67       1.67                    2.38                   2.50   \n",
       "16          4.00       2.00                    2.75                   2.75   \n",
       "17          5.00       2.00                    2.62                   2.62   \n",
       "18          4.67       1.33                     NaN                    NaN   \n",
       "19          3.67       1.33                    2.50                   2.88   \n",
       "\n",
       "    ...  Persistence_im  Self Control_im  Social Orientation_im  \\\n",
       "0   ...            4.43             4.52                   3.67   \n",
       "1   ...            4.31             4.00                   3.35   \n",
       "2   ...            4.04             4.31                   3.57   \n",
       "3   ...             NaN              NaN                    NaN   \n",
       "4   ...            4.32             4.18                   3.70   \n",
       "5   ...             NaN              NaN                    NaN   \n",
       "6   ...            4.23             3.87                   3.80   \n",
       "7   ...            4.48             4.30                   3.83   \n",
       "8   ...            4.53             3.94                   4.15   \n",
       "9   ...            3.98             4.53                   3.65   \n",
       "10  ...            4.03             4.10                   3.69   \n",
       "11  ...            4.23             4.00                   3.23   \n",
       "12  ...            4.42             4.18                   3.62   \n",
       "13  ...            4.20             4.34                   4.04   \n",
       "14  ...            4.08             4.08                   3.44   \n",
       "15  ...            3.95             4.15                   3.81   \n",
       "16  ...            4.00             4.06                   3.28   \n",
       "17  ...            4.60             3.92                   3.56   \n",
       "18  ...             NaN              NaN                    NaN   \n",
       "19  ...            3.89             4.02                   3.12   \n",
       "\n",
       "    Stress Tolerance_im  Achievement_ex  Independence_ex  Recognition_ex  \\\n",
       "0                  4.75            6.33             7.00            7.00   \n",
       "1                  4.08            6.67             6.67            6.00   \n",
       "2                  4.33            5.33             6.00            5.67   \n",
       "3                   NaN            5.33             5.00            5.00   \n",
       "4                  4.35            5.33             5.33            5.33   \n",
       "5                   NaN            5.33             5.33            5.00   \n",
       "6                  4.01            6.00             5.67            5.33   \n",
       "7                  4.52            5.33             5.67            4.67   \n",
       "8                  4.17            5.33             6.00            5.00   \n",
       "9                  4.44            4.67             5.67            4.67   \n",
       "10                 4.16            5.33             5.00            5.33   \n",
       "11                 4.20            5.67             5.67            5.00   \n",
       "12                 4.23            5.33             6.00            5.67   \n",
       "13                 4.54            5.00             6.00            5.00   \n",
       "14                 4.58            5.00             5.00            4.67   \n",
       "15                 4.38            6.00             5.67            6.00   \n",
       "16                 4.09            5.67             5.33            5.67   \n",
       "17                 4.40            5.67             5.33            5.67   \n",
       "18                  NaN            4.67             3.67            3.67   \n",
       "19                 4.12            6.00             5.67            5.67   \n",
       "\n",
       "    Relationships_ex  Support_ex  Working Conditions_ex  \n",
       "0               5.00        5.33                   6.33  \n",
       "1               5.00        3.33                   6.33  \n",
       "2               6.33        4.67                   6.00  \n",
       "3               5.67        4.00                   4.33  \n",
       "4               5.00        4.00                   5.33  \n",
       "5               5.00        4.00                   4.83  \n",
       "6               5.67        5.00                   6.17  \n",
       "7               4.00        5.33                   5.50  \n",
       "8               6.00        4.67                   6.17  \n",
       "9               6.33        4.00                   4.67  \n",
       "10              4.33        5.67                   6.50  \n",
       "11              4.00        5.33                   5.83  \n",
       "12              5.00        5.00                   6.00  \n",
       "13              5.33        5.00                   5.67  \n",
       "14              4.00        5.33                   4.50  \n",
       "15              4.67        4.00                   6.00  \n",
       "16              4.33        4.33                   6.00  \n",
       "17              4.33        4.00                   6.00  \n",
       "18              3.00        4.67                   4.50  \n",
       "19              4.67        4.00                   6.00  \n",
       "\n",
       "[20 rows x 352 columns]"
      ]
     },
     "execution_count": 15,
     "metadata": {},
     "output_type": "execute_result"
    }
   ],
   "source": [
    "#read skill_data as df and check\n",
    "skill_df = pd.read_csv(skill_csv, sep=\",\")\n",
    "skill_df.head(20)"
   ]
  },
  {
   "cell_type": "code",
   "execution_count": 16,
   "metadata": {},
   "outputs": [
    {
     "data": {
      "text/plain": [
       "LONG_OCC_CODE             object\n",
       "BLS Job Title             object\n",
       "Artistic_oi              float64\n",
       "Conventional_oi          float64\n",
       "Enterprising_oi          float64\n",
       "                          ...   \n",
       "Independence_ex          float64\n",
       "Recognition_ex           float64\n",
       "Relationships_ex         float64\n",
       "Support_ex               float64\n",
       "Working Conditions_ex    float64\n",
       "Length: 352, dtype: object"
      ]
     },
     "execution_count": 16,
     "metadata": {},
     "output_type": "execute_result"
    }
   ],
   "source": [
    "#check skill_df datatypes\n",
    "skill_df.dtypes"
   ]
  },
  {
   "cell_type": "code",
   "execution_count": 17,
   "metadata": {},
   "outputs": [
    {
     "data": {
      "text/plain": [
       "Attention to Detail_im         7\n",
       "Integrity_im                   7\n",
       "Achievement/Effort_im          7\n",
       "Adaptability/Flexibility_im    7\n",
       "Analytical Thinking_im         7\n",
       "                              ..\n",
       "Achievement_ex                 0\n",
       "Independence_ex                0\n",
       "Recognition_ex                 0\n",
       "Relationships_ex               0\n",
       "LONG_OCC_CODE                  0\n",
       "Length: 352, dtype: int64"
      ]
     },
     "execution_count": 17,
     "metadata": {},
     "output_type": "execute_result"
    }
   ],
   "source": [
    "#check NaNs\n",
    "skill_df.isnull().sum().sort_values(ascending = False)"
   ]
  },
  {
   "cell_type": "code",
   "execution_count": 18,
   "metadata": {},
   "outputs": [
    {
     "name": "stdout",
     "output_type": "stream",
     "text": [
      "NaN values are 0.7186858316221766\n"
     ]
    }
   ],
   "source": [
    "#calculate percentage of NaN\n",
    "skill_length = skill_df[\"LONG_OCC_CODE\"].count()\n",
    "skill_NaN = skill_df[\"Concern for Others_im\"].isnull().sum()\n",
    "print(f\"NaN values are {skill_NaN/skill_length*100}\")"
   ]
  },
  {
   "cell_type": "code",
   "execution_count": 19,
   "metadata": {},
   "outputs": [
    {
     "data": {
      "text/html": [
       "<div>\n",
       "<style scoped>\n",
       "    .dataframe tbody tr th:only-of-type {\n",
       "        vertical-align: middle;\n",
       "    }\n",
       "\n",
       "    .dataframe tbody tr th {\n",
       "        vertical-align: top;\n",
       "    }\n",
       "\n",
       "    .dataframe thead th {\n",
       "        text-align: right;\n",
       "    }\n",
       "</style>\n",
       "<table border=\"1\" class=\"dataframe\">\n",
       "  <thead>\n",
       "    <tr style=\"text-align: right;\">\n",
       "      <th></th>\n",
       "      <th>JOB_ID</th>\n",
       "      <th>BLS Job Title</th>\n",
       "      <th>LONG_OCC_CODE</th>\n",
       "      <th>YEAR</th>\n",
       "      <th>STATE</th>\n",
       "      <th>CITY</th>\n",
       "      <th>MSA_ID</th>\n",
       "      <th>CANON_MAXIMUM_DEGREE</th>\n",
       "      <th>CANON_MINIMUM_DEGREE</th>\n",
       "      <th>CANON_OTHER_DEGREES</th>\n",
       "      <th>...</th>\n",
       "      <th>CIP_CODE</th>\n",
       "      <th>STANDARD_MAJOR</th>\n",
       "      <th>MAX_EXPERIENCE</th>\n",
       "      <th>MIN_EXPERIENCE</th>\n",
       "      <th>MAX_ANNUAL_SALARY</th>\n",
       "      <th>MAX_HOURLY_SALARY</th>\n",
       "      <th>MIN_ANNUAL_SALARY</th>\n",
       "      <th>MIN_HOURLY_SALARY</th>\n",
       "      <th>YEARS_OF_EXPERIENCE</th>\n",
       "      <th>CANON_JOB_HOURS</th>\n",
       "    </tr>\n",
       "  </thead>\n",
       "  <tbody>\n",
       "    <tr>\n",
       "      <th>0</th>\n",
       "      <td>38472841335</td>\n",
       "      <td>Recruiter (General)</td>\n",
       "      <td>13-1071.91</td>\n",
       "      <td>2019</td>\n",
       "      <td>WA</td>\n",
       "      <td>Seattle</td>\n",
       "      <td>42660.0</td>\n",
       "      <td>Bachelor's</td>\n",
       "      <td>Higher Secondary Certificate</td>\n",
       "      <td>NaN</td>\n",
       "      <td>...</td>\n",
       "      <td>NaN</td>\n",
       "      <td>NaN</td>\n",
       "      <td>NaN</td>\n",
       "      <td>2.0</td>\n",
       "      <td>NaN</td>\n",
       "      <td>NaN</td>\n",
       "      <td>NaN</td>\n",
       "      <td>NaN</td>\n",
       "      <td>2+ years|2 years</td>\n",
       "      <td>fulltime</td>\n",
       "    </tr>\n",
       "    <tr>\n",
       "      <th>1</th>\n",
       "      <td>38474073426</td>\n",
       "      <td>Estimator</td>\n",
       "      <td>13-1051.00</td>\n",
       "      <td>2019</td>\n",
       "      <td>AZ</td>\n",
       "      <td>Chandler</td>\n",
       "      <td>38060.0</td>\n",
       "      <td>NaN</td>\n",
       "      <td>NaN</td>\n",
       "      <td>NaN</td>\n",
       "      <td>...</td>\n",
       "      <td>NaN</td>\n",
       "      <td>NaN</td>\n",
       "      <td>NaN</td>\n",
       "      <td>NaN</td>\n",
       "      <td>NaN</td>\n",
       "      <td>NaN</td>\n",
       "      <td>NaN</td>\n",
       "      <td>NaN</td>\n",
       "      <td>NaN</td>\n",
       "      <td>NaN</td>\n",
       "    </tr>\n",
       "    <tr>\n",
       "      <th>2</th>\n",
       "      <td>38474083740</td>\n",
       "      <td>Auto Body Technician</td>\n",
       "      <td>49-3021.00</td>\n",
       "      <td>2019</td>\n",
       "      <td>AZ</td>\n",
       "      <td>Chandler</td>\n",
       "      <td>38060.0</td>\n",
       "      <td>NaN</td>\n",
       "      <td>NaN</td>\n",
       "      <td>NaN</td>\n",
       "      <td>...</td>\n",
       "      <td>NaN</td>\n",
       "      <td>NaN</td>\n",
       "      <td>NaN</td>\n",
       "      <td>NaN</td>\n",
       "      <td>NaN</td>\n",
       "      <td>NaN</td>\n",
       "      <td>NaN</td>\n",
       "      <td>NaN</td>\n",
       "      <td>NaN</td>\n",
       "      <td>NaN</td>\n",
       "    </tr>\n",
       "    <tr>\n",
       "      <th>3</th>\n",
       "      <td>38709992297</td>\n",
       "      <td>General Manager</td>\n",
       "      <td>11-1021.92</td>\n",
       "      <td>2020</td>\n",
       "      <td>FL</td>\n",
       "      <td>Tampa</td>\n",
       "      <td>45300.0</td>\n",
       "      <td>Bachelor's</td>\n",
       "      <td>Higher Secondary Certificate</td>\n",
       "      <td>NaN</td>\n",
       "      <td>...</td>\n",
       "      <td>NaN</td>\n",
       "      <td>NaN</td>\n",
       "      <td>5.0</td>\n",
       "      <td>3.0</td>\n",
       "      <td>NaN</td>\n",
       "      <td>NaN</td>\n",
       "      <td>NaN</td>\n",
       "      <td>NaN</td>\n",
       "      <td>3-5 years</td>\n",
       "      <td>NaN</td>\n",
       "    </tr>\n",
       "    <tr>\n",
       "      <th>4</th>\n",
       "      <td>38709918452</td>\n",
       "      <td>Maintenance Helper / Assistant</td>\n",
       "      <td>49-9098.00</td>\n",
       "      <td>2020</td>\n",
       "      <td>TX</td>\n",
       "      <td>San Antonio</td>\n",
       "      <td>41700.0</td>\n",
       "      <td>NaN</td>\n",
       "      <td>NaN</td>\n",
       "      <td>NaN</td>\n",
       "      <td>...</td>\n",
       "      <td>NaN</td>\n",
       "      <td>NaN</td>\n",
       "      <td>NaN</td>\n",
       "      <td>NaN</td>\n",
       "      <td>NaN</td>\n",
       "      <td>NaN</td>\n",
       "      <td>NaN</td>\n",
       "      <td>NaN</td>\n",
       "      <td>NaN</td>\n",
       "      <td>NaN</td>\n",
       "    </tr>\n",
       "  </tbody>\n",
       "</table>\n",
       "<p>5 rows × 22 columns</p>\n",
       "</div>"
      ],
      "text/plain": [
       "        JOB_ID                   BLS Job Title LONG_OCC_CODE  YEAR STATE  \\\n",
       "0  38472841335             Recruiter (General)    13-1071.91  2019    WA   \n",
       "1  38474073426                       Estimator    13-1051.00  2019    AZ   \n",
       "2  38474083740            Auto Body Technician    49-3021.00  2019    AZ   \n",
       "3  38709992297                 General Manager    11-1021.92  2020    FL   \n",
       "4  38709918452  Maintenance Helper / Assistant    49-9098.00  2020    TX   \n",
       "\n",
       "          CITY   MSA_ID CANON_MAXIMUM_DEGREE          CANON_MINIMUM_DEGREE  \\\n",
       "0      Seattle  42660.0           Bachelor's  Higher Secondary Certificate   \n",
       "1     Chandler  38060.0                  NaN                           NaN   \n",
       "2     Chandler  38060.0                  NaN                           NaN   \n",
       "3        Tampa  45300.0           Bachelor's  Higher Secondary Certificate   \n",
       "4  San Antonio  41700.0                  NaN                           NaN   \n",
       "\n",
       "   CANON_OTHER_DEGREES  ... CIP_CODE STANDARD_MAJOR MAX_EXPERIENCE  \\\n",
       "0                  NaN  ...      NaN            NaN            NaN   \n",
       "1                  NaN  ...      NaN            NaN            NaN   \n",
       "2                  NaN  ...      NaN            NaN            NaN   \n",
       "3                  NaN  ...      NaN            NaN            5.0   \n",
       "4                  NaN  ...      NaN            NaN            NaN   \n",
       "\n",
       "  MIN_EXPERIENCE  MAX_ANNUAL_SALARY  MAX_HOURLY_SALARY  MIN_ANNUAL_SALARY  \\\n",
       "0            2.0                NaN                NaN                NaN   \n",
       "1            NaN                NaN                NaN                NaN   \n",
       "2            NaN                NaN                NaN                NaN   \n",
       "3            3.0                NaN                NaN                NaN   \n",
       "4            NaN                NaN                NaN                NaN   \n",
       "\n",
       "   MIN_HOURLY_SALARY  YEARS_OF_EXPERIENCE  CANON_JOB_HOURS  \n",
       "0                NaN     2+ years|2 years         fulltime  \n",
       "1                NaN                  NaN              NaN  \n",
       "2                NaN                  NaN              NaN  \n",
       "3                NaN            3-5 years              NaN  \n",
       "4                NaN                  NaN              NaN  \n",
       "\n",
       "[5 rows x 22 columns]"
      ]
     },
     "execution_count": 19,
     "metadata": {},
     "output_type": "execute_result"
    }
   ],
   "source": [
    "#read job_posting as df and check\n",
    "posting_df = pd.read_csv(posting_csv, sep=\",\")\n",
    "posting_df.head()"
   ]
  },
  {
   "cell_type": "code",
   "execution_count": 20,
   "metadata": {},
   "outputs": [
    {
     "data": {
      "text/plain": [
       "JOB_ID                       int64\n",
       "BLS Job Title               object\n",
       "LONG_OCC_CODE               object\n",
       "YEAR                         int64\n",
       "STATE                       object\n",
       "CITY                        object\n",
       "MSA_ID                     float64\n",
       "CANON_MAXIMUM_DEGREE        object\n",
       "CANON_MINIMUM_DEGREE        object\n",
       "CANON_OTHER_DEGREES        float64\n",
       "CANON_PREFERRED_DEGREES     object\n",
       "CANON_REQUIRED_DEGREES      object\n",
       "CIP_CODE                    object\n",
       "STANDARD_MAJOR              object\n",
       "MAX_EXPERIENCE             float64\n",
       "MIN_EXPERIENCE             float64\n",
       "MAX_ANNUAL_SALARY          float64\n",
       "MAX_HOURLY_SALARY          float64\n",
       "MIN_ANNUAL_SALARY          float64\n",
       "MIN_HOURLY_SALARY          float64\n",
       "YEARS_OF_EXPERIENCE         object\n",
       "CANON_JOB_HOURS             object\n",
       "dtype: object"
      ]
     },
     "execution_count": 20,
     "metadata": {},
     "output_type": "execute_result"
    }
   ],
   "source": [
    "#check posting_df datatypes\n",
    "posting_df.dtypes"
   ]
  },
  {
   "cell_type": "code",
   "execution_count": 21,
   "metadata": {},
   "outputs": [
    {
     "data": {
      "text/plain": [
       "CANON_OTHER_DEGREES        5079\n",
       "STANDARD_MAJOR             5042\n",
       "CIP_CODE                   5042\n",
       "MAX_EXPERIENCE             4926\n",
       "CANON_PREFERRED_DEGREES    4905\n",
       "CANON_MAXIMUM_DEGREE       4895\n",
       "MIN_EXPERIENCE             4662\n",
       "CANON_REQUIRED_DEGREES     4600\n",
       "CANON_MINIMUM_DEGREE       4565\n",
       "YEARS_OF_EXPERIENCE        4146\n",
       "CANON_JOB_HOURS            4057\n",
       "MAX_ANNUAL_SALARY          3163\n",
       "MAX_HOURLY_SALARY          3163\n",
       "MIN_ANNUAL_SALARY          3163\n",
       "MIN_HOURLY_SALARY          3163\n",
       "MSA_ID                       24\n",
       "CITY                         23\n",
       "STATE                         0\n",
       "YEAR                          0\n",
       "LONG_OCC_CODE                 0\n",
       "BLS Job Title                 0\n",
       "JOB_ID                        0\n",
       "dtype: int64"
      ]
     },
     "execution_count": 21,
     "metadata": {},
     "output_type": "execute_result"
    }
   ],
   "source": [
    "#check NaNs\n",
    "posting_df.isnull().sum().sort_values(ascending = False)"
   ]
  },
  {
   "cell_type": "code",
   "execution_count": 22,
   "metadata": {},
   "outputs": [
    {
     "name": "stdout",
     "output_type": "stream",
     "text": [
      "NaN values are 100.0\n"
     ]
    }
   ],
   "source": [
    "#calculate percentage of NaN\n",
    "posting_length = posting_df[\"LONG_OCC_CODE\"].count()\n",
    "posting_NaN = posting_df[\"CANON_OTHER_DEGREES\"].isnull().sum()\n",
    "print(f\"NaN values are {posting_NaN/posting_length*100}\")"
   ]
  },
  {
   "cell_type": "code",
   "execution_count": 23,
   "metadata": {},
   "outputs": [
    {
     "name": "stdout",
     "output_type": "stream",
     "text": [
      "Length: 5079. NaN Count: 5079.\n"
     ]
    }
   ],
   "source": [
    "#verify that 5079 is 100% the size of the DF\n",
    "print(f\"Length: {posting_length}. NaN Count: {posting_NaN}.\")"
   ]
  },
  {
   "cell_type": "code",
   "execution_count": 24,
   "metadata": {},
   "outputs": [
    {
     "name": "stdout",
     "output_type": "stream",
     "text": [
      "566\n",
      "974\n",
      "5079\n",
      "121718\n"
     ]
    }
   ],
   "source": [
    "print(national_df['Non-Entry Level'].count())\n",
    "print(skill_df['Artistic_oi'].count())\n",
    "print(posting_df['YEAR'].count())\n",
    "print(msa_df['Total Employment'].count())"
   ]
  },
  {
   "cell_type": "code",
   "execution_count": 25,
   "metadata": {},
   "outputs": [],
   "source": [
    "######################\n",
    "#Clean individual DFs#\n",
    "######################"
   ]
  },
  {
   "cell_type": "code",
   "execution_count": 26,
   "metadata": {},
   "outputs": [
    {
     "name": "stdout",
     "output_type": "stream",
     "text": [
      "17634\n"
     ]
    }
   ],
   "source": [
    "#Drop NaNs from msa_df, and print difference from old df\n",
    "msa_df = msa_df.dropna()\n",
    "print(msa_length-msa_df[\"OCC_CODE\"].count())"
   ]
  },
  {
   "cell_type": "code",
   "execution_count": 27,
   "metadata": {},
   "outputs": [
    {
     "name": "stdout",
     "output_type": "stream",
     "text": [
      "11651\n"
     ]
    }
   ],
   "source": [
    "#compare greatest NaN row to rows dropped\n",
    "print(msa_NaN)"
   ]
  },
  {
   "cell_type": "code",
   "execution_count": 28,
   "metadata": {},
   "outputs": [
    {
     "data": {
      "text/html": [
       "<div>\n",
       "<style scoped>\n",
       "    .dataframe tbody tr th:only-of-type {\n",
       "        vertical-align: middle;\n",
       "    }\n",
       "\n",
       "    .dataframe tbody tr th {\n",
       "        vertical-align: top;\n",
       "    }\n",
       "\n",
       "    .dataframe thead th {\n",
       "        text-align: right;\n",
       "    }\n",
       "</style>\n",
       "<table border=\"1\" class=\"dataframe\">\n",
       "  <thead>\n",
       "    <tr style=\"text-align: right;\">\n",
       "      <th></th>\n",
       "      <th>MSA_ID</th>\n",
       "      <th>Metro Area</th>\n",
       "      <th>OCC_CODE</th>\n",
       "      <th>Job Group</th>\n",
       "      <th>Total Employment</th>\n",
       "      <th>Jobs per 1000</th>\n",
       "      <th>Location Quotient</th>\n",
       "      <th>Mean Annual Wage</th>\n",
       "      <th>Annual Wage 10th Pct</th>\n",
       "      <th>Annual Wage 25th Pct</th>\n",
       "      <th>Median Annual Wage</th>\n",
       "      <th>Annual Wage 75th Pct</th>\n",
       "      <th>Annual Wage 90th Pct</th>\n",
       "    </tr>\n",
       "  </thead>\n",
       "  <tbody>\n",
       "    <tr>\n",
       "      <th>0</th>\n",
       "      <td>10180</td>\n",
       "      <td>Abilene, TX</td>\n",
       "      <td>11-1021</td>\n",
       "      <td>General and Operations Managers</td>\n",
       "      <td>1100.0</td>\n",
       "      <td>16.499</td>\n",
       "      <td>1.01</td>\n",
       "      <td>84000.0</td>\n",
       "      <td>22810.0</td>\n",
       "      <td>50350.0</td>\n",
       "      <td>73850.0</td>\n",
       "      <td>106870.0</td>\n",
       "      <td>154520.0</td>\n",
       "    </tr>\n",
       "    <tr>\n",
       "      <th>1</th>\n",
       "      <td>10180</td>\n",
       "      <td>Abilene, TX</td>\n",
       "      <td>11-2022</td>\n",
       "      <td>Sales Managers</td>\n",
       "      <td>110.0</td>\n",
       "      <td>1.728</td>\n",
       "      <td>0.63</td>\n",
       "      <td>124710.0</td>\n",
       "      <td>47360.0</td>\n",
       "      <td>72140.0</td>\n",
       "      <td>119920.0</td>\n",
       "      <td>155050.0</td>\n",
       "      <td>207570.0</td>\n",
       "    </tr>\n",
       "    <tr>\n",
       "      <th>3</th>\n",
       "      <td>10180</td>\n",
       "      <td>Abilene, TX</td>\n",
       "      <td>11-3010</td>\n",
       "      <td>Administrative Services and Facilities Managers</td>\n",
       "      <td>150.0</td>\n",
       "      <td>2.197</td>\n",
       "      <td>1.05</td>\n",
       "      <td>84350.0</td>\n",
       "      <td>52360.0</td>\n",
       "      <td>58760.0</td>\n",
       "      <td>71810.0</td>\n",
       "      <td>91380.0</td>\n",
       "      <td>120490.0</td>\n",
       "    </tr>\n",
       "    <tr>\n",
       "      <th>4</th>\n",
       "      <td>10180</td>\n",
       "      <td>Abilene, TX</td>\n",
       "      <td>11-3021</td>\n",
       "      <td>Computer and Information Systems Managers</td>\n",
       "      <td>50.0</td>\n",
       "      <td>0.819</td>\n",
       "      <td>0.28</td>\n",
       "      <td>116390.0</td>\n",
       "      <td>56260.0</td>\n",
       "      <td>74910.0</td>\n",
       "      <td>104350.0</td>\n",
       "      <td>144370.0</td>\n",
       "      <td>194760.0</td>\n",
       "    </tr>\n",
       "    <tr>\n",
       "      <th>6</th>\n",
       "      <td>10180</td>\n",
       "      <td>Abilene, TX</td>\n",
       "      <td>11-3051</td>\n",
       "      <td>Industrial Production Managers</td>\n",
       "      <td>40.0</td>\n",
       "      <td>0.603</td>\n",
       "      <td>0.48</td>\n",
       "      <td>98640.0</td>\n",
       "      <td>57580.0</td>\n",
       "      <td>68030.0</td>\n",
       "      <td>88490.0</td>\n",
       "      <td>111530.0</td>\n",
       "      <td>130800.0</td>\n",
       "    </tr>\n",
       "  </tbody>\n",
       "</table>\n",
       "</div>"
      ],
      "text/plain": [
       "   MSA_ID   Metro Area OCC_CODE  \\\n",
       "0   10180  Abilene, TX  11-1021   \n",
       "1   10180  Abilene, TX  11-2022   \n",
       "3   10180  Abilene, TX  11-3010   \n",
       "4   10180  Abilene, TX  11-3021   \n",
       "6   10180  Abilene, TX  11-3051   \n",
       "\n",
       "                                         Job Group  Total Employment  \\\n",
       "0                  General and Operations Managers            1100.0   \n",
       "1                                   Sales Managers             110.0   \n",
       "3  Administrative Services and Facilities Managers             150.0   \n",
       "4        Computer and Information Systems Managers              50.0   \n",
       "6                   Industrial Production Managers              40.0   \n",
       "\n",
       "   Jobs per 1000  Location Quotient  Mean Annual Wage  Annual Wage 10th Pct  \\\n",
       "0         16.499               1.01           84000.0               22810.0   \n",
       "1          1.728               0.63          124710.0               47360.0   \n",
       "3          2.197               1.05           84350.0               52360.0   \n",
       "4          0.819               0.28          116390.0               56260.0   \n",
       "6          0.603               0.48           98640.0               57580.0   \n",
       "\n",
       "   Annual Wage 25th Pct  Median Annual Wage  Annual Wage 75th Pct  \\\n",
       "0               50350.0             73850.0              106870.0   \n",
       "1               72140.0            119920.0              155050.0   \n",
       "3               58760.0             71810.0               91380.0   \n",
       "4               74910.0            104350.0              144370.0   \n",
       "6               68030.0             88490.0              111530.0   \n",
       "\n",
       "   Annual Wage 90th Pct  \n",
       "0              154520.0  \n",
       "1              207570.0  \n",
       "3              120490.0  \n",
       "4              194760.0  \n",
       "6              130800.0  "
      ]
     },
     "execution_count": 28,
     "metadata": {},
     "output_type": "execute_result"
    }
   ],
   "source": [
    "#Print new msa_df\n",
    "msa_df.head()"
   ]
  },
  {
   "cell_type": "code",
   "execution_count": 29,
   "metadata": {},
   "outputs": [
    {
     "data": {
      "text/html": [
       "<div>\n",
       "<style scoped>\n",
       "    .dataframe tbody tr th:only-of-type {\n",
       "        vertical-align: middle;\n",
       "    }\n",
       "\n",
       "    .dataframe tbody tr th {\n",
       "        vertical-align: top;\n",
       "    }\n",
       "\n",
       "    .dataframe thead th {\n",
       "        text-align: right;\n",
       "    }\n",
       "</style>\n",
       "<table border=\"1\" class=\"dataframe\">\n",
       "  <thead>\n",
       "    <tr style=\"text-align: right;\">\n",
       "      <th></th>\n",
       "      <th>BLS Job Title</th>\n",
       "      <th>LONG_OCC_CODE</th>\n",
       "      <th>Percentage with AA Degree or Less</th>\n",
       "      <th>Percentage with BA Degree or More</th>\n",
       "      <th>Typical education needed for entry</th>\n",
       "      <th>Work experience in a related occupation</th>\n",
       "      <th>Non-Entry Level</th>\n",
       "      <th>BA Entry Level</th>\n",
       "      <th>Middle Skilled</th>\n",
       "      <th>Low Wage</th>\n",
       "    </tr>\n",
       "  </thead>\n",
       "  <tbody>\n",
       "    <tr>\n",
       "      <th>0</th>\n",
       "      <td>Computer Operator</td>\n",
       "      <td>43-9011.00</td>\n",
       "      <td>64.9</td>\n",
       "      <td>35.1</td>\n",
       "      <td>High school diploma or equivalent</td>\n",
       "      <td>None</td>\n",
       "      <td>False</td>\n",
       "      <td>False</td>\n",
       "      <td>True</td>\n",
       "      <td>False</td>\n",
       "    </tr>\n",
       "    <tr>\n",
       "      <th>1</th>\n",
       "      <td>Business Intelligence Analyst</td>\n",
       "      <td>15-1199.93</td>\n",
       "      <td>43.8</td>\n",
       "      <td>56.4</td>\n",
       "      <td>Bachelor's degree</td>\n",
       "      <td>None</td>\n",
       "      <td>False</td>\n",
       "      <td>True</td>\n",
       "      <td>False</td>\n",
       "      <td>False</td>\n",
       "    </tr>\n",
       "    <tr>\n",
       "      <th>2</th>\n",
       "      <td>IT Project Manager</td>\n",
       "      <td>15-1199.95</td>\n",
       "      <td>43.8</td>\n",
       "      <td>56.4</td>\n",
       "      <td>Bachelor's degree</td>\n",
       "      <td>None</td>\n",
       "      <td>False</td>\n",
       "      <td>True</td>\n",
       "      <td>False</td>\n",
       "      <td>False</td>\n",
       "    </tr>\n",
       "    <tr>\n",
       "      <th>3</th>\n",
       "      <td>Network Engineer / Architect</td>\n",
       "      <td>15-1199.02</td>\n",
       "      <td>43.8</td>\n",
       "      <td>56.4</td>\n",
       "      <td>Bachelor's degree</td>\n",
       "      <td>None</td>\n",
       "      <td>False</td>\n",
       "      <td>True</td>\n",
       "      <td>False</td>\n",
       "      <td>False</td>\n",
       "    </tr>\n",
       "    <tr>\n",
       "      <th>4</th>\n",
       "      <td>Network Engineer / Architect</td>\n",
       "      <td>15-1133.00</td>\n",
       "      <td>14.7</td>\n",
       "      <td>85.2</td>\n",
       "      <td>Bachelor's degree</td>\n",
       "      <td>None</td>\n",
       "      <td>False</td>\n",
       "      <td>True</td>\n",
       "      <td>False</td>\n",
       "      <td>False</td>\n",
       "    </tr>\n",
       "  </tbody>\n",
       "</table>\n",
       "</div>"
      ],
      "text/plain": [
       "                   BLS Job Title LONG_OCC_CODE  \\\n",
       "0              Computer Operator    43-9011.00   \n",
       "1  Business Intelligence Analyst    15-1199.93   \n",
       "2             IT Project Manager    15-1199.95   \n",
       "3   Network Engineer / Architect    15-1199.02   \n",
       "4   Network Engineer / Architect    15-1133.00   \n",
       "\n",
       "   Percentage with AA Degree or Less  Percentage with BA Degree or More  \\\n",
       "0                               64.9                               35.1   \n",
       "1                               43.8                               56.4   \n",
       "2                               43.8                               56.4   \n",
       "3                               43.8                               56.4   \n",
       "4                               14.7                               85.2   \n",
       "\n",
       "  Typical education needed for entry Work experience in a related occupation  \\\n",
       "0  High school diploma or equivalent                                    None   \n",
       "1                  Bachelor's degree                                    None   \n",
       "2                  Bachelor's degree                                    None   \n",
       "3                  Bachelor's degree                                    None   \n",
       "4                  Bachelor's degree                                    None   \n",
       "\n",
       "   Non-Entry Level  BA Entry Level  Middle Skilled  Low Wage  \n",
       "0            False           False            True     False  \n",
       "1            False            True           False     False  \n",
       "2            False            True           False     False  \n",
       "3            False            True           False     False  \n",
       "4            False            True           False     False  "
      ]
     },
     "execution_count": 29,
     "metadata": {},
     "output_type": "execute_result"
    }
   ],
   "source": [
    "#wage data does not seem to be of importance, and has a high amount of NaN values. Dropped columns\n",
    "national_df = national_df.drop(columns=['Annual Wage 90th Pct (National)', 'Annual Wage 75th Pct (National)', 'Annual Wage 25th Pct (National)', 'Annual Wage 10th Pct (National)', 'Median Annual Wage (National)', 'Mean Annual Wage (National)', 'Total Employment (National)'])\n",
    "national_df.head()"
   ]
  },
  {
   "cell_type": "code",
   "execution_count": 30,
   "metadata": {},
   "outputs": [
    {
     "name": "stdout",
     "output_type": "stream",
     "text": [
      "560\n",
      "566\n"
     ]
    }
   ],
   "source": [
    "#The earlier exploration showed a few columns with about 6 NaN values. Dropped, and checked lengths of old and new dfs\n",
    "national_df = national_df.dropna()\n",
    "print(national_df[\"LONG_OCC_CODE\"].count())\n",
    "print(national_length)"
   ]
  },
  {
   "cell_type": "code",
   "execution_count": 31,
   "metadata": {},
   "outputs": [
    {
     "name": "stdout",
     "output_type": "stream",
     "text": [
      "967\n",
      "974\n"
     ]
    }
   ],
   "source": [
    "#skill df had minimum NaNs. Dropped NaNs, and verified minimal data loss\n",
    "skill_df = skill_df.dropna()\n",
    "print(skill_df[\"LONG_OCC_CODE\"].count())\n",
    "print(skill_length)"
   ]
  },
  {
   "cell_type": "code",
   "execution_count": 32,
   "metadata": {},
   "outputs": [
    {
     "data": {
      "text/html": [
       "<div>\n",
       "<style scoped>\n",
       "    .dataframe tbody tr th:only-of-type {\n",
       "        vertical-align: middle;\n",
       "    }\n",
       "\n",
       "    .dataframe tbody tr th {\n",
       "        vertical-align: top;\n",
       "    }\n",
       "\n",
       "    .dataframe thead th {\n",
       "        text-align: right;\n",
       "    }\n",
       "</style>\n",
       "<table border=\"1\" class=\"dataframe\">\n",
       "  <thead>\n",
       "    <tr style=\"text-align: right;\">\n",
       "      <th></th>\n",
       "      <th>MSA_ID</th>\n",
       "      <th>CITY</th>\n",
       "      <th>STATE</th>\n",
       "      <th>YEAR</th>\n",
       "      <th>LONG_OCC_CODE</th>\n",
       "      <th>BLS Job Title</th>\n",
       "      <th>JOB_ID</th>\n",
       "    </tr>\n",
       "  </thead>\n",
       "  <tbody>\n",
       "    <tr>\n",
       "      <th>0</th>\n",
       "      <td>42660.0</td>\n",
       "      <td>Seattle</td>\n",
       "      <td>WA</td>\n",
       "      <td>2019</td>\n",
       "      <td>13-1071.91</td>\n",
       "      <td>Recruiter (General)</td>\n",
       "      <td>38472841335</td>\n",
       "    </tr>\n",
       "    <tr>\n",
       "      <th>1</th>\n",
       "      <td>38060.0</td>\n",
       "      <td>Chandler</td>\n",
       "      <td>AZ</td>\n",
       "      <td>2019</td>\n",
       "      <td>13-1051.00</td>\n",
       "      <td>Estimator</td>\n",
       "      <td>38474073426</td>\n",
       "    </tr>\n",
       "    <tr>\n",
       "      <th>2</th>\n",
       "      <td>38060.0</td>\n",
       "      <td>Chandler</td>\n",
       "      <td>AZ</td>\n",
       "      <td>2019</td>\n",
       "      <td>49-3021.00</td>\n",
       "      <td>Auto Body Technician</td>\n",
       "      <td>38474083740</td>\n",
       "    </tr>\n",
       "    <tr>\n",
       "      <th>3</th>\n",
       "      <td>45300.0</td>\n",
       "      <td>Tampa</td>\n",
       "      <td>FL</td>\n",
       "      <td>2020</td>\n",
       "      <td>11-1021.92</td>\n",
       "      <td>General Manager</td>\n",
       "      <td>38709992297</td>\n",
       "    </tr>\n",
       "    <tr>\n",
       "      <th>4</th>\n",
       "      <td>41700.0</td>\n",
       "      <td>San Antonio</td>\n",
       "      <td>TX</td>\n",
       "      <td>2020</td>\n",
       "      <td>49-9098.00</td>\n",
       "      <td>Maintenance Helper / Assistant</td>\n",
       "      <td>38709918452</td>\n",
       "    </tr>\n",
       "  </tbody>\n",
       "</table>\n",
       "</div>"
      ],
      "text/plain": [
       "    MSA_ID         CITY STATE  YEAR LONG_OCC_CODE  \\\n",
       "0  42660.0      Seattle    WA  2019    13-1071.91   \n",
       "1  38060.0     Chandler    AZ  2019    13-1051.00   \n",
       "2  38060.0     Chandler    AZ  2019    49-3021.00   \n",
       "3  45300.0        Tampa    FL  2020    11-1021.92   \n",
       "4  41700.0  San Antonio    TX  2020    49-9098.00   \n",
       "\n",
       "                    BLS Job Title       JOB_ID  \n",
       "0             Recruiter (General)  38472841335  \n",
       "1                       Estimator  38474073426  \n",
       "2            Auto Body Technician  38474083740  \n",
       "3                 General Manager  38709992297  \n",
       "4  Maintenance Helper / Assistant  38709918452  "
      ]
     },
     "execution_count": 32,
     "metadata": {},
     "output_type": "execute_result"
    }
   ],
   "source": [
    "#Earlier exploration showed it is best to remove certain rows from posting_df\n",
    "posting_df = posting_df.filter(['MSA_ID', 'CITY', 'STATE', 'YEAR', 'LONG_OCC_CODE', 'BLS Job Title', 'JOB_ID'])\n",
    "posting_df.head()"
   ]
  },
  {
   "cell_type": "code",
   "execution_count": 33,
   "metadata": {},
   "outputs": [],
   "source": [
    "#######################\n",
    "#Prepare DFs for Merge#\n",
    "#######################"
   ]
  },
  {
   "cell_type": "code",
   "execution_count": 34,
   "metadata": {},
   "outputs": [
    {
     "data": {
      "text/html": [
       "<div>\n",
       "<style scoped>\n",
       "    .dataframe tbody tr th:only-of-type {\n",
       "        vertical-align: middle;\n",
       "    }\n",
       "\n",
       "    .dataframe tbody tr th {\n",
       "        vertical-align: top;\n",
       "    }\n",
       "\n",
       "    .dataframe thead th {\n",
       "        text-align: right;\n",
       "    }\n",
       "</style>\n",
       "<table border=\"1\" class=\"dataframe\">\n",
       "  <thead>\n",
       "    <tr style=\"text-align: right;\">\n",
       "      <th></th>\n",
       "      <th>BLS Job Title</th>\n",
       "      <th>LONG_OCC_CODE</th>\n",
       "      <th>Percentage with AA Degree or Less</th>\n",
       "      <th>Percentage with BA Degree or More</th>\n",
       "      <th>Typical education needed for entry</th>\n",
       "      <th>Work experience in a related occupation</th>\n",
       "      <th>Non-Entry Level</th>\n",
       "      <th>BA Entry Level</th>\n",
       "      <th>Middle Skilled</th>\n",
       "      <th>Low Wage</th>\n",
       "      <th>OCC_CODE</th>\n",
       "    </tr>\n",
       "  </thead>\n",
       "  <tbody>\n",
       "    <tr>\n",
       "      <th>0</th>\n",
       "      <td>Computer Operator</td>\n",
       "      <td>43-9011.00</td>\n",
       "      <td>64.9</td>\n",
       "      <td>35.1</td>\n",
       "      <td>High school diploma or equivalent</td>\n",
       "      <td>None</td>\n",
       "      <td>False</td>\n",
       "      <td>False</td>\n",
       "      <td>True</td>\n",
       "      <td>False</td>\n",
       "      <td>43-9011</td>\n",
       "    </tr>\n",
       "    <tr>\n",
       "      <th>1</th>\n",
       "      <td>Business Intelligence Analyst</td>\n",
       "      <td>15-1199.93</td>\n",
       "      <td>43.8</td>\n",
       "      <td>56.4</td>\n",
       "      <td>Bachelor's degree</td>\n",
       "      <td>None</td>\n",
       "      <td>False</td>\n",
       "      <td>True</td>\n",
       "      <td>False</td>\n",
       "      <td>False</td>\n",
       "      <td>15-1199</td>\n",
       "    </tr>\n",
       "    <tr>\n",
       "      <th>2</th>\n",
       "      <td>IT Project Manager</td>\n",
       "      <td>15-1199.95</td>\n",
       "      <td>43.8</td>\n",
       "      <td>56.4</td>\n",
       "      <td>Bachelor's degree</td>\n",
       "      <td>None</td>\n",
       "      <td>False</td>\n",
       "      <td>True</td>\n",
       "      <td>False</td>\n",
       "      <td>False</td>\n",
       "      <td>15-1199</td>\n",
       "    </tr>\n",
       "    <tr>\n",
       "      <th>3</th>\n",
       "      <td>Network Engineer / Architect</td>\n",
       "      <td>15-1199.02</td>\n",
       "      <td>43.8</td>\n",
       "      <td>56.4</td>\n",
       "      <td>Bachelor's degree</td>\n",
       "      <td>None</td>\n",
       "      <td>False</td>\n",
       "      <td>True</td>\n",
       "      <td>False</td>\n",
       "      <td>False</td>\n",
       "      <td>15-1199</td>\n",
       "    </tr>\n",
       "    <tr>\n",
       "      <th>4</th>\n",
       "      <td>Network Engineer / Architect</td>\n",
       "      <td>15-1133.00</td>\n",
       "      <td>14.7</td>\n",
       "      <td>85.2</td>\n",
       "      <td>Bachelor's degree</td>\n",
       "      <td>None</td>\n",
       "      <td>False</td>\n",
       "      <td>True</td>\n",
       "      <td>False</td>\n",
       "      <td>False</td>\n",
       "      <td>15-1133</td>\n",
       "    </tr>\n",
       "  </tbody>\n",
       "</table>\n",
       "</div>"
      ],
      "text/plain": [
       "                   BLS Job Title LONG_OCC_CODE  \\\n",
       "0              Computer Operator    43-9011.00   \n",
       "1  Business Intelligence Analyst    15-1199.93   \n",
       "2             IT Project Manager    15-1199.95   \n",
       "3   Network Engineer / Architect    15-1199.02   \n",
       "4   Network Engineer / Architect    15-1133.00   \n",
       "\n",
       "   Percentage with AA Degree or Less  Percentage with BA Degree or More  \\\n",
       "0                               64.9                               35.1   \n",
       "1                               43.8                               56.4   \n",
       "2                               43.8                               56.4   \n",
       "3                               43.8                               56.4   \n",
       "4                               14.7                               85.2   \n",
       "\n",
       "  Typical education needed for entry Work experience in a related occupation  \\\n",
       "0  High school diploma or equivalent                                    None   \n",
       "1                  Bachelor's degree                                    None   \n",
       "2                  Bachelor's degree                                    None   \n",
       "3                  Bachelor's degree                                    None   \n",
       "4                  Bachelor's degree                                    None   \n",
       "\n",
       "   Non-Entry Level  BA Entry Level  Middle Skilled  Low Wage OCC_CODE  \n",
       "0            False           False            True     False  43-9011  \n",
       "1            False            True           False     False  15-1199  \n",
       "2            False            True           False     False  15-1199  \n",
       "3            False            True           False     False  15-1199  \n",
       "4            False            True           False     False  15-1133  "
      ]
     },
     "execution_count": 34,
     "metadata": {},
     "output_type": "execute_result"
    }
   ],
   "source": [
    "#creat OCC_CODE column that drops last 3 chars from LONG_OCC_CODE\n",
    "national_df['OCC_CODE'] = national_df['LONG_OCC_CODE'].str.slice(stop=7)\n",
    "national_df.head()"
   ]
  },
  {
   "cell_type": "code",
   "execution_count": 35,
   "metadata": {},
   "outputs": [
    {
     "data": {
      "text/html": [
       "<div>\n",
       "<style scoped>\n",
       "    .dataframe tbody tr th:only-of-type {\n",
       "        vertical-align: middle;\n",
       "    }\n",
       "\n",
       "    .dataframe tbody tr th {\n",
       "        vertical-align: top;\n",
       "    }\n",
       "\n",
       "    .dataframe thead th {\n",
       "        text-align: right;\n",
       "    }\n",
       "</style>\n",
       "<table border=\"1\" class=\"dataframe\">\n",
       "  <thead>\n",
       "    <tr style=\"text-align: right;\">\n",
       "      <th></th>\n",
       "      <th>LONG_OCC_CODE</th>\n",
       "      <th>BLS Job Title</th>\n",
       "      <th>Artistic_oi</th>\n",
       "      <th>Conventional_oi</th>\n",
       "      <th>Enterprising_oi</th>\n",
       "      <th>Investigative_oi</th>\n",
       "      <th>Realistic_oi</th>\n",
       "      <th>Social_oi</th>\n",
       "      <th>Arm-Hand Steadiness_im</th>\n",
       "      <th>Auditory Attention_im</th>\n",
       "      <th>...</th>\n",
       "      <th>Self Control_im</th>\n",
       "      <th>Social Orientation_im</th>\n",
       "      <th>Stress Tolerance_im</th>\n",
       "      <th>Achievement_ex</th>\n",
       "      <th>Independence_ex</th>\n",
       "      <th>Recognition_ex</th>\n",
       "      <th>Relationships_ex</th>\n",
       "      <th>Support_ex</th>\n",
       "      <th>Working Conditions_ex</th>\n",
       "      <th>OCC_CODE</th>\n",
       "    </tr>\n",
       "  </thead>\n",
       "  <tbody>\n",
       "    <tr>\n",
       "      <th>0</th>\n",
       "      <td>11-1011.00</td>\n",
       "      <td>Chief Executives</td>\n",
       "      <td>2.67</td>\n",
       "      <td>5.33</td>\n",
       "      <td>7.0</td>\n",
       "      <td>2.00</td>\n",
       "      <td>1.33</td>\n",
       "      <td>3.67</td>\n",
       "      <td>1.00</td>\n",
       "      <td>2.12</td>\n",
       "      <td>...</td>\n",
       "      <td>4.52</td>\n",
       "      <td>3.67</td>\n",
       "      <td>4.75</td>\n",
       "      <td>6.33</td>\n",
       "      <td>7.00</td>\n",
       "      <td>7.00</td>\n",
       "      <td>5.00</td>\n",
       "      <td>5.33</td>\n",
       "      <td>6.33</td>\n",
       "      <td>11-1011</td>\n",
       "    </tr>\n",
       "    <tr>\n",
       "      <th>1</th>\n",
       "      <td>11-1011.03</td>\n",
       "      <td>Chief Sustainability Officers</td>\n",
       "      <td>2.67</td>\n",
       "      <td>4.33</td>\n",
       "      <td>7.0</td>\n",
       "      <td>4.33</td>\n",
       "      <td>1.00</td>\n",
       "      <td>2.33</td>\n",
       "      <td>1.00</td>\n",
       "      <td>1.88</td>\n",
       "      <td>...</td>\n",
       "      <td>4.00</td>\n",
       "      <td>3.35</td>\n",
       "      <td>4.08</td>\n",
       "      <td>6.67</td>\n",
       "      <td>6.67</td>\n",
       "      <td>6.00</td>\n",
       "      <td>5.00</td>\n",
       "      <td>3.33</td>\n",
       "      <td>6.33</td>\n",
       "      <td>11-1011</td>\n",
       "    </tr>\n",
       "    <tr>\n",
       "      <th>2</th>\n",
       "      <td>11-1021.00</td>\n",
       "      <td>General and Operations Managers</td>\n",
       "      <td>1.00</td>\n",
       "      <td>3.67</td>\n",
       "      <td>7.0</td>\n",
       "      <td>1.33</td>\n",
       "      <td>1.33</td>\n",
       "      <td>3.33</td>\n",
       "      <td>2.00</td>\n",
       "      <td>2.12</td>\n",
       "      <td>...</td>\n",
       "      <td>4.31</td>\n",
       "      <td>3.57</td>\n",
       "      <td>4.33</td>\n",
       "      <td>5.33</td>\n",
       "      <td>6.00</td>\n",
       "      <td>5.67</td>\n",
       "      <td>6.33</td>\n",
       "      <td>4.67</td>\n",
       "      <td>6.00</td>\n",
       "      <td>11-1021</td>\n",
       "    </tr>\n",
       "    <tr>\n",
       "      <th>4</th>\n",
       "      <td>11-2011.00</td>\n",
       "      <td>Advertising and Promotions Managers</td>\n",
       "      <td>5.33</td>\n",
       "      <td>4.67</td>\n",
       "      <td>7.0</td>\n",
       "      <td>2.00</td>\n",
       "      <td>1.67</td>\n",
       "      <td>2.33</td>\n",
       "      <td>1.38</td>\n",
       "      <td>1.75</td>\n",
       "      <td>...</td>\n",
       "      <td>4.18</td>\n",
       "      <td>3.70</td>\n",
       "      <td>4.35</td>\n",
       "      <td>5.33</td>\n",
       "      <td>5.33</td>\n",
       "      <td>5.33</td>\n",
       "      <td>5.00</td>\n",
       "      <td>4.00</td>\n",
       "      <td>5.33</td>\n",
       "      <td>11-2011</td>\n",
       "    </tr>\n",
       "    <tr>\n",
       "      <th>6</th>\n",
       "      <td>11-2021.00</td>\n",
       "      <td>Marketing Managers</td>\n",
       "      <td>3.67</td>\n",
       "      <td>5.33</td>\n",
       "      <td>7.0</td>\n",
       "      <td>2.33</td>\n",
       "      <td>1.00</td>\n",
       "      <td>2.67</td>\n",
       "      <td>1.12</td>\n",
       "      <td>1.88</td>\n",
       "      <td>...</td>\n",
       "      <td>3.87</td>\n",
       "      <td>3.80</td>\n",
       "      <td>4.01</td>\n",
       "      <td>6.00</td>\n",
       "      <td>5.67</td>\n",
       "      <td>5.33</td>\n",
       "      <td>5.67</td>\n",
       "      <td>5.00</td>\n",
       "      <td>6.17</td>\n",
       "      <td>11-2021</td>\n",
       "    </tr>\n",
       "  </tbody>\n",
       "</table>\n",
       "<p>5 rows × 353 columns</p>\n",
       "</div>"
      ],
      "text/plain": [
       "  LONG_OCC_CODE                        BLS Job Title  Artistic_oi  \\\n",
       "0    11-1011.00                     Chief Executives         2.67   \n",
       "1    11-1011.03        Chief Sustainability Officers         2.67   \n",
       "2    11-1021.00      General and Operations Managers         1.00   \n",
       "4    11-2011.00  Advertising and Promotions Managers         5.33   \n",
       "6    11-2021.00                   Marketing Managers         3.67   \n",
       "\n",
       "   Conventional_oi  Enterprising_oi  Investigative_oi  Realistic_oi  \\\n",
       "0             5.33              7.0              2.00          1.33   \n",
       "1             4.33              7.0              4.33          1.00   \n",
       "2             3.67              7.0              1.33          1.33   \n",
       "4             4.67              7.0              2.00          1.67   \n",
       "6             5.33              7.0              2.33          1.00   \n",
       "\n",
       "   Social_oi  Arm-Hand Steadiness_im  Auditory Attention_im  ...  \\\n",
       "0       3.67                    1.00                   2.12  ...   \n",
       "1       2.33                    1.00                   1.88  ...   \n",
       "2       3.33                    2.00                   2.12  ...   \n",
       "4       2.33                    1.38                   1.75  ...   \n",
       "6       2.67                    1.12                   1.88  ...   \n",
       "\n",
       "   Self Control_im  Social Orientation_im  Stress Tolerance_im  \\\n",
       "0             4.52                   3.67                 4.75   \n",
       "1             4.00                   3.35                 4.08   \n",
       "2             4.31                   3.57                 4.33   \n",
       "4             4.18                   3.70                 4.35   \n",
       "6             3.87                   3.80                 4.01   \n",
       "\n",
       "   Achievement_ex  Independence_ex  Recognition_ex  Relationships_ex  \\\n",
       "0            6.33             7.00            7.00              5.00   \n",
       "1            6.67             6.67            6.00              5.00   \n",
       "2            5.33             6.00            5.67              6.33   \n",
       "4            5.33             5.33            5.33              5.00   \n",
       "6            6.00             5.67            5.33              5.67   \n",
       "\n",
       "   Support_ex  Working Conditions_ex  OCC_CODE  \n",
       "0        5.33                   6.33   11-1011  \n",
       "1        3.33                   6.33   11-1011  \n",
       "2        4.67                   6.00   11-1021  \n",
       "4        4.00                   5.33   11-2011  \n",
       "6        5.00                   6.17   11-2021  \n",
       "\n",
       "[5 rows x 353 columns]"
      ]
     },
     "execution_count": 35,
     "metadata": {},
     "output_type": "execute_result"
    }
   ],
   "source": [
    "#creat OCC_CODE column that drops last 3 chars from LONG_OCC_CODE\n",
    "skill_df['OCC_CODE'] = skill_df['LONG_OCC_CODE'].str.slice(stop=7)\n",
    "skill_df.head()"
   ]
  },
  {
   "cell_type": "code",
   "execution_count": 36,
   "metadata": {},
   "outputs": [
    {
     "data": {
      "text/html": [
       "<div>\n",
       "<style scoped>\n",
       "    .dataframe tbody tr th:only-of-type {\n",
       "        vertical-align: middle;\n",
       "    }\n",
       "\n",
       "    .dataframe tbody tr th {\n",
       "        vertical-align: top;\n",
       "    }\n",
       "\n",
       "    .dataframe thead th {\n",
       "        text-align: right;\n",
       "    }\n",
       "</style>\n",
       "<table border=\"1\" class=\"dataframe\">\n",
       "  <thead>\n",
       "    <tr style=\"text-align: right;\">\n",
       "      <th></th>\n",
       "      <th>MSA_ID</th>\n",
       "      <th>CITY</th>\n",
       "      <th>STATE</th>\n",
       "      <th>YEAR</th>\n",
       "      <th>LONG_OCC_CODE</th>\n",
       "      <th>BLS Job Title</th>\n",
       "      <th>JOB_ID</th>\n",
       "      <th>OCC_CODE</th>\n",
       "    </tr>\n",
       "  </thead>\n",
       "  <tbody>\n",
       "    <tr>\n",
       "      <th>0</th>\n",
       "      <td>42660.0</td>\n",
       "      <td>Seattle</td>\n",
       "      <td>WA</td>\n",
       "      <td>2019</td>\n",
       "      <td>13-1071.91</td>\n",
       "      <td>Recruiter (General)</td>\n",
       "      <td>38472841335</td>\n",
       "      <td>13-1071</td>\n",
       "    </tr>\n",
       "    <tr>\n",
       "      <th>1</th>\n",
       "      <td>38060.0</td>\n",
       "      <td>Chandler</td>\n",
       "      <td>AZ</td>\n",
       "      <td>2019</td>\n",
       "      <td>13-1051.00</td>\n",
       "      <td>Estimator</td>\n",
       "      <td>38474073426</td>\n",
       "      <td>13-1051</td>\n",
       "    </tr>\n",
       "    <tr>\n",
       "      <th>2</th>\n",
       "      <td>38060.0</td>\n",
       "      <td>Chandler</td>\n",
       "      <td>AZ</td>\n",
       "      <td>2019</td>\n",
       "      <td>49-3021.00</td>\n",
       "      <td>Auto Body Technician</td>\n",
       "      <td>38474083740</td>\n",
       "      <td>49-3021</td>\n",
       "    </tr>\n",
       "    <tr>\n",
       "      <th>3</th>\n",
       "      <td>45300.0</td>\n",
       "      <td>Tampa</td>\n",
       "      <td>FL</td>\n",
       "      <td>2020</td>\n",
       "      <td>11-1021.92</td>\n",
       "      <td>General Manager</td>\n",
       "      <td>38709992297</td>\n",
       "      <td>11-1021</td>\n",
       "    </tr>\n",
       "    <tr>\n",
       "      <th>4</th>\n",
       "      <td>41700.0</td>\n",
       "      <td>San Antonio</td>\n",
       "      <td>TX</td>\n",
       "      <td>2020</td>\n",
       "      <td>49-9098.00</td>\n",
       "      <td>Maintenance Helper / Assistant</td>\n",
       "      <td>38709918452</td>\n",
       "      <td>49-9098</td>\n",
       "    </tr>\n",
       "  </tbody>\n",
       "</table>\n",
       "</div>"
      ],
      "text/plain": [
       "    MSA_ID         CITY STATE  YEAR LONG_OCC_CODE  \\\n",
       "0  42660.0      Seattle    WA  2019    13-1071.91   \n",
       "1  38060.0     Chandler    AZ  2019    13-1051.00   \n",
       "2  38060.0     Chandler    AZ  2019    49-3021.00   \n",
       "3  45300.0        Tampa    FL  2020    11-1021.92   \n",
       "4  41700.0  San Antonio    TX  2020    49-9098.00   \n",
       "\n",
       "                    BLS Job Title       JOB_ID OCC_CODE  \n",
       "0             Recruiter (General)  38472841335  13-1071  \n",
       "1                       Estimator  38474073426  13-1051  \n",
       "2            Auto Body Technician  38474083740  49-3021  \n",
       "3                 General Manager  38709992297  11-1021  \n",
       "4  Maintenance Helper / Assistant  38709918452  49-9098  "
      ]
     },
     "execution_count": 36,
     "metadata": {},
     "output_type": "execute_result"
    }
   ],
   "source": [
    "#creat OCC_CODE column that drops last 3 chars from LONG_OCC_CODE\n",
    "posting_df['OCC_CODE'] = posting_df['LONG_OCC_CODE'].str.slice(stop=7)\n",
    "posting_df.head()"
   ]
  },
  {
   "cell_type": "code",
   "execution_count": 37,
   "metadata": {},
   "outputs": [
    {
     "data": {
      "text/html": [
       "<div>\n",
       "<style scoped>\n",
       "    .dataframe tbody tr th:only-of-type {\n",
       "        vertical-align: middle;\n",
       "    }\n",
       "\n",
       "    .dataframe tbody tr th {\n",
       "        vertical-align: top;\n",
       "    }\n",
       "\n",
       "    .dataframe thead th {\n",
       "        text-align: right;\n",
       "    }\n",
       "</style>\n",
       "<table border=\"1\" class=\"dataframe\">\n",
       "  <thead>\n",
       "    <tr style=\"text-align: right;\">\n",
       "      <th></th>\n",
       "      <th>LONG_OCC_CODE</th>\n",
       "      <th>BLS Job Title</th>\n",
       "    </tr>\n",
       "  </thead>\n",
       "  <tbody>\n",
       "    <tr>\n",
       "      <th>0</th>\n",
       "      <td>13-1071.91</td>\n",
       "      <td>Recruiter (General)</td>\n",
       "    </tr>\n",
       "    <tr>\n",
       "      <th>1</th>\n",
       "      <td>13-1051.00</td>\n",
       "      <td>Estimator</td>\n",
       "    </tr>\n",
       "    <tr>\n",
       "      <th>2</th>\n",
       "      <td>49-3021.00</td>\n",
       "      <td>Auto Body Technician</td>\n",
       "    </tr>\n",
       "    <tr>\n",
       "      <th>3</th>\n",
       "      <td>11-1021.92</td>\n",
       "      <td>General Manager</td>\n",
       "    </tr>\n",
       "    <tr>\n",
       "      <th>4</th>\n",
       "      <td>49-9098.00</td>\n",
       "      <td>Maintenance Helper / Assistant</td>\n",
       "    </tr>\n",
       "  </tbody>\n",
       "</table>\n",
       "</div>"
      ],
      "text/plain": [
       "  LONG_OCC_CODE                   BLS Job Title\n",
       "0    13-1071.91             Recruiter (General)\n",
       "1    13-1051.00                       Estimator\n",
       "2    49-3021.00            Auto Body Technician\n",
       "3    11-1021.92                 General Manager\n",
       "4    49-9098.00  Maintenance Helper / Assistant"
      ]
     },
     "execution_count": 37,
     "metadata": {},
     "output_type": "execute_result"
    }
   ],
   "source": [
    "#Creat a DF for only Job Titles and LONG_OCC\n",
    "LONG_OCC_TITLE = posting_df[['LONG_OCC_CODE', 'BLS Job Title']]\n",
    "LONG_OCC_TITLE.head()"
   ]
  },
  {
   "cell_type": "code",
   "execution_count": 38,
   "metadata": {
    "scrolled": false
   },
   "outputs": [
    {
     "data": {
      "text/html": [
       "<div>\n",
       "<style scoped>\n",
       "    .dataframe tbody tr th:only-of-type {\n",
       "        vertical-align: middle;\n",
       "    }\n",
       "\n",
       "    .dataframe tbody tr th {\n",
       "        vertical-align: top;\n",
       "    }\n",
       "\n",
       "    .dataframe thead th {\n",
       "        text-align: right;\n",
       "    }\n",
       "</style>\n",
       "<table border=\"1\" class=\"dataframe\">\n",
       "  <thead>\n",
       "    <tr style=\"text-align: right;\">\n",
       "      <th></th>\n",
       "      <th>LONG_OCC_CODE</th>\n",
       "      <th>BLS Job Title</th>\n",
       "    </tr>\n",
       "  </thead>\n",
       "  <tbody>\n",
       "    <tr>\n",
       "      <th>0</th>\n",
       "      <td>13-1071.91</td>\n",
       "      <td>Recruiter (General)</td>\n",
       "    </tr>\n",
       "    <tr>\n",
       "      <th>1</th>\n",
       "      <td>13-1051.00</td>\n",
       "      <td>Estimator</td>\n",
       "    </tr>\n",
       "    <tr>\n",
       "      <th>2</th>\n",
       "      <td>49-3021.00</td>\n",
       "      <td>Auto Body Technician</td>\n",
       "    </tr>\n",
       "    <tr>\n",
       "      <th>3</th>\n",
       "      <td>11-1021.92</td>\n",
       "      <td>General Manager</td>\n",
       "    </tr>\n",
       "    <tr>\n",
       "      <th>4</th>\n",
       "      <td>49-9098.00</td>\n",
       "      <td>Maintenance Helper / Assistant</td>\n",
       "    </tr>\n",
       "  </tbody>\n",
       "</table>\n",
       "</div>"
      ],
      "text/plain": [
       "  LONG_OCC_CODE                   BLS Job Title\n",
       "0    13-1071.91             Recruiter (General)\n",
       "1    13-1051.00                       Estimator\n",
       "2    49-3021.00            Auto Body Technician\n",
       "3    11-1021.92                 General Manager\n",
       "4    49-9098.00  Maintenance Helper / Assistant"
      ]
     },
     "execution_count": 38,
     "metadata": {},
     "output_type": "execute_result"
    }
   ],
   "source": [
    "LONG_OCC_TITLE = LONG_OCC_TITLE.drop_duplicates(subset='LONG_OCC_CODE', ignore_index = True)\n",
    "LONG_OCC_TITLE.head()"
   ]
  },
  {
   "cell_type": "code",
   "execution_count": 39,
   "metadata": {},
   "outputs": [
    {
     "data": {
      "text/html": [
       "<div>\n",
       "<style scoped>\n",
       "    .dataframe tbody tr th:only-of-type {\n",
       "        vertical-align: middle;\n",
       "    }\n",
       "\n",
       "    .dataframe tbody tr th {\n",
       "        vertical-align: top;\n",
       "    }\n",
       "\n",
       "    .dataframe thead th {\n",
       "        text-align: right;\n",
       "    }\n",
       "</style>\n",
       "<table border=\"1\" class=\"dataframe\">\n",
       "  <thead>\n",
       "    <tr style=\"text-align: right;\">\n",
       "      <th></th>\n",
       "      <th>MSA_ID</th>\n",
       "      <th>CITY</th>\n",
       "      <th>STATE</th>\n",
       "    </tr>\n",
       "  </thead>\n",
       "  <tbody>\n",
       "    <tr>\n",
       "      <th>0</th>\n",
       "      <td>42660.0</td>\n",
       "      <td>Seattle</td>\n",
       "      <td>WA</td>\n",
       "    </tr>\n",
       "    <tr>\n",
       "      <th>1</th>\n",
       "      <td>38060.0</td>\n",
       "      <td>Chandler</td>\n",
       "      <td>AZ</td>\n",
       "    </tr>\n",
       "    <tr>\n",
       "      <th>2</th>\n",
       "      <td>38060.0</td>\n",
       "      <td>Chandler</td>\n",
       "      <td>AZ</td>\n",
       "    </tr>\n",
       "    <tr>\n",
       "      <th>3</th>\n",
       "      <td>45300.0</td>\n",
       "      <td>Tampa</td>\n",
       "      <td>FL</td>\n",
       "    </tr>\n",
       "    <tr>\n",
       "      <th>4</th>\n",
       "      <td>41700.0</td>\n",
       "      <td>San Antonio</td>\n",
       "      <td>TX</td>\n",
       "    </tr>\n",
       "  </tbody>\n",
       "</table>\n",
       "</div>"
      ],
      "text/plain": [
       "    MSA_ID         CITY STATE\n",
       "0  42660.0      Seattle    WA\n",
       "1  38060.0     Chandler    AZ\n",
       "2  38060.0     Chandler    AZ\n",
       "3  45300.0        Tampa    FL\n",
       "4  41700.0  San Antonio    TX"
      ]
     },
     "execution_count": 39,
     "metadata": {},
     "output_type": "execute_result"
    }
   ],
   "source": [
    "#Create a DF for only MSA_ID and Location\n",
    "msa_CiSt_DF = posting_df[['MSA_ID', 'CITY', 'STATE']]\n",
    "msa_CiSt_DF.head()"
   ]
  },
  {
   "cell_type": "code",
   "execution_count": 40,
   "metadata": {},
   "outputs": [
    {
     "data": {
      "text/html": [
       "<div>\n",
       "<style scoped>\n",
       "    .dataframe tbody tr th:only-of-type {\n",
       "        vertical-align: middle;\n",
       "    }\n",
       "\n",
       "    .dataframe tbody tr th {\n",
       "        vertical-align: top;\n",
       "    }\n",
       "\n",
       "    .dataframe thead th {\n",
       "        text-align: right;\n",
       "    }\n",
       "</style>\n",
       "<table border=\"1\" class=\"dataframe\">\n",
       "  <thead>\n",
       "    <tr style=\"text-align: right;\">\n",
       "      <th></th>\n",
       "      <th>MSA_ID</th>\n",
       "      <th>CITY</th>\n",
       "      <th>STATE</th>\n",
       "    </tr>\n",
       "  </thead>\n",
       "  <tbody>\n",
       "    <tr>\n",
       "      <th>0</th>\n",
       "      <td>42660.0</td>\n",
       "      <td>Seattle</td>\n",
       "      <td>WA</td>\n",
       "    </tr>\n",
       "    <tr>\n",
       "      <th>1</th>\n",
       "      <td>38060.0</td>\n",
       "      <td>Chandler</td>\n",
       "      <td>AZ</td>\n",
       "    </tr>\n",
       "    <tr>\n",
       "      <th>2</th>\n",
       "      <td>45300.0</td>\n",
       "      <td>Tampa</td>\n",
       "      <td>FL</td>\n",
       "    </tr>\n",
       "    <tr>\n",
       "      <th>3</th>\n",
       "      <td>41700.0</td>\n",
       "      <td>San Antonio</td>\n",
       "      <td>TX</td>\n",
       "    </tr>\n",
       "    <tr>\n",
       "      <th>4</th>\n",
       "      <td>41860.0</td>\n",
       "      <td>Dublin</td>\n",
       "      <td>CA</td>\n",
       "    </tr>\n",
       "  </tbody>\n",
       "</table>\n",
       "</div>"
      ],
      "text/plain": [
       "    MSA_ID         CITY STATE\n",
       "0  42660.0      Seattle    WA\n",
       "1  38060.0     Chandler    AZ\n",
       "2  45300.0        Tampa    FL\n",
       "3  41700.0  San Antonio    TX\n",
       "4  41860.0       Dublin    CA"
      ]
     },
     "execution_count": 40,
     "metadata": {},
     "output_type": "execute_result"
    }
   ],
   "source": [
    "msa_CiSt_DF = msa_CiSt_DF.drop_duplicates(ignore_index = True)\n",
    "msa_CiSt_DF.head()"
   ]
  },
  {
   "cell_type": "code",
   "execution_count": 41,
   "metadata": {},
   "outputs": [
    {
     "data": {
      "text/html": [
       "<div>\n",
       "<style scoped>\n",
       "    .dataframe tbody tr th:only-of-type {\n",
       "        vertical-align: middle;\n",
       "    }\n",
       "\n",
       "    .dataframe tbody tr th {\n",
       "        vertical-align: top;\n",
       "    }\n",
       "\n",
       "    .dataframe thead th {\n",
       "        text-align: right;\n",
       "    }\n",
       "</style>\n",
       "<table border=\"1\" class=\"dataframe\">\n",
       "  <thead>\n",
       "    <tr style=\"text-align: right;\">\n",
       "      <th></th>\n",
       "      <th>MSA_ID</th>\n",
       "      <th>CITY</th>\n",
       "      <th>STATE</th>\n",
       "    </tr>\n",
       "  </thead>\n",
       "  <tbody>\n",
       "    <tr>\n",
       "      <th>0</th>\n",
       "      <td>42660</td>\n",
       "      <td>Seattle</td>\n",
       "      <td>WA</td>\n",
       "    </tr>\n",
       "    <tr>\n",
       "      <th>1</th>\n",
       "      <td>38060</td>\n",
       "      <td>Chandler</td>\n",
       "      <td>AZ</td>\n",
       "    </tr>\n",
       "    <tr>\n",
       "      <th>2</th>\n",
       "      <td>45300</td>\n",
       "      <td>Tampa</td>\n",
       "      <td>FL</td>\n",
       "    </tr>\n",
       "    <tr>\n",
       "      <th>3</th>\n",
       "      <td>41700</td>\n",
       "      <td>San Antonio</td>\n",
       "      <td>TX</td>\n",
       "    </tr>\n",
       "    <tr>\n",
       "      <th>4</th>\n",
       "      <td>41860</td>\n",
       "      <td>Dublin</td>\n",
       "      <td>CA</td>\n",
       "    </tr>\n",
       "  </tbody>\n",
       "</table>\n",
       "</div>"
      ],
      "text/plain": [
       "  MSA_ID         CITY STATE\n",
       "0  42660      Seattle    WA\n",
       "1  38060     Chandler    AZ\n",
       "2  45300        Tampa    FL\n",
       "3  41700  San Antonio    TX\n",
       "4  41860       Dublin    CA"
      ]
     },
     "execution_count": 41,
     "metadata": {},
     "output_type": "execute_result"
    }
   ],
   "source": [
    "msa_CiSt_DF = msa_CiSt_DF.astype('object')\n",
    "msa_CiSt_DF.head()"
   ]
  },
  {
   "cell_type": "code",
   "execution_count": 42,
   "metadata": {},
   "outputs": [
    {
     "data": {
      "text/plain": [
       "MSA_ID                    int64\n",
       "Metro Area               object\n",
       "OCC_CODE                 object\n",
       "Job Group                object\n",
       "Total Employment        float64\n",
       "Jobs per 1000           float64\n",
       "Location Quotient       float64\n",
       "Mean Annual Wage        float64\n",
       "Annual Wage 10th Pct    float64\n",
       "Annual Wage 25th Pct    float64\n",
       "Median Annual Wage      float64\n",
       "Annual Wage 75th Pct    float64\n",
       "Annual Wage 90th Pct    float64\n",
       "dtype: object"
      ]
     },
     "execution_count": 42,
     "metadata": {},
     "output_type": "execute_result"
    }
   ],
   "source": [
    "#Check remaining datatypes before merge\n",
    "msa_df.dtypes"
   ]
  },
  {
   "cell_type": "code",
   "execution_count": 43,
   "metadata": {},
   "outputs": [
    {
     "data": {
      "text/plain": [
       "BLS Job Title                               object\n",
       "LONG_OCC_CODE                               object\n",
       "Percentage with AA Degree or Less          float64\n",
       "Percentage with BA Degree or More          float64\n",
       "Typical education needed for entry          object\n",
       "Work experience in a related occupation     object\n",
       "Non-Entry Level                               bool\n",
       "BA Entry Level                                bool\n",
       "Middle Skilled                                bool\n",
       "Low Wage                                      bool\n",
       "OCC_CODE                                    object\n",
       "dtype: object"
      ]
     },
     "execution_count": 43,
     "metadata": {},
     "output_type": "execute_result"
    }
   ],
   "source": [
    "national_df.dtypes"
   ]
  },
  {
   "cell_type": "code",
   "execution_count": 44,
   "metadata": {
    "scrolled": true
   },
   "outputs": [
    {
     "data": {
      "text/plain": [
       "LONG_OCC_CODE             object\n",
       "BLS Job Title             object\n",
       "Artistic_oi              float64\n",
       "Conventional_oi          float64\n",
       "Enterprising_oi          float64\n",
       "                          ...   \n",
       "Recognition_ex           float64\n",
       "Relationships_ex         float64\n",
       "Support_ex               float64\n",
       "Working Conditions_ex    float64\n",
       "OCC_CODE                  object\n",
       "Length: 353, dtype: object"
      ]
     },
     "execution_count": 44,
     "metadata": {},
     "output_type": "execute_result"
    }
   ],
   "source": [
    "skill_df.dtypes"
   ]
  },
  {
   "cell_type": "code",
   "execution_count": 45,
   "metadata": {},
   "outputs": [
    {
     "data": {
      "text/plain": [
       "MSA_ID           float64\n",
       "CITY              object\n",
       "STATE             object\n",
       "YEAR               int64\n",
       "LONG_OCC_CODE     object\n",
       "BLS Job Title     object\n",
       "JOB_ID             int64\n",
       "OCC_CODE          object\n",
       "dtype: object"
      ]
     },
     "execution_count": 45,
     "metadata": {},
     "output_type": "execute_result"
    }
   ],
   "source": [
    "posting_df.dtypes"
   ]
  },
  {
   "cell_type": "code",
   "execution_count": 46,
   "metadata": {},
   "outputs": [
    {
     "data": {
      "text/html": [
       "<div>\n",
       "<style scoped>\n",
       "    .dataframe tbody tr th:only-of-type {\n",
       "        vertical-align: middle;\n",
       "    }\n",
       "\n",
       "    .dataframe tbody tr th {\n",
       "        vertical-align: top;\n",
       "    }\n",
       "\n",
       "    .dataframe thead th {\n",
       "        text-align: right;\n",
       "    }\n",
       "</style>\n",
       "<table border=\"1\" class=\"dataframe\">\n",
       "  <thead>\n",
       "    <tr style=\"text-align: right;\">\n",
       "      <th></th>\n",
       "      <th>BLS Job Title</th>\n",
       "      <th>LONG_OCC_CODE</th>\n",
       "      <th>Percentage with AA Degree or Less</th>\n",
       "      <th>Percentage with BA Degree or More</th>\n",
       "      <th>Typical education needed for entry</th>\n",
       "      <th>Work experience in a related occupation</th>\n",
       "      <th>Non-Entry Level</th>\n",
       "      <th>BA Entry Level</th>\n",
       "      <th>Middle Skilled</th>\n",
       "      <th>Low Wage</th>\n",
       "      <th>OCC_CODE</th>\n",
       "    </tr>\n",
       "  </thead>\n",
       "  <tbody>\n",
       "    <tr>\n",
       "      <th>0</th>\n",
       "      <td>Computer Operator</td>\n",
       "      <td>43-9011.00</td>\n",
       "      <td>64.9</td>\n",
       "      <td>35.1</td>\n",
       "      <td>High school diploma or equivalent</td>\n",
       "      <td>None</td>\n",
       "      <td>False</td>\n",
       "      <td>False</td>\n",
       "      <td>True</td>\n",
       "      <td>False</td>\n",
       "      <td>43-9011</td>\n",
       "    </tr>\n",
       "    <tr>\n",
       "      <th>1</th>\n",
       "      <td>Business Intelligence Analyst</td>\n",
       "      <td>15-1199.93</td>\n",
       "      <td>43.8</td>\n",
       "      <td>56.4</td>\n",
       "      <td>Bachelor's degree</td>\n",
       "      <td>None</td>\n",
       "      <td>False</td>\n",
       "      <td>True</td>\n",
       "      <td>False</td>\n",
       "      <td>False</td>\n",
       "      <td>15-1199</td>\n",
       "    </tr>\n",
       "    <tr>\n",
       "      <th>2</th>\n",
       "      <td>IT Project Manager</td>\n",
       "      <td>15-1199.95</td>\n",
       "      <td>43.8</td>\n",
       "      <td>56.4</td>\n",
       "      <td>Bachelor's degree</td>\n",
       "      <td>None</td>\n",
       "      <td>False</td>\n",
       "      <td>True</td>\n",
       "      <td>False</td>\n",
       "      <td>False</td>\n",
       "      <td>15-1199</td>\n",
       "    </tr>\n",
       "    <tr>\n",
       "      <th>3</th>\n",
       "      <td>Network Engineer / Architect</td>\n",
       "      <td>15-1199.02</td>\n",
       "      <td>43.8</td>\n",
       "      <td>56.4</td>\n",
       "      <td>Bachelor's degree</td>\n",
       "      <td>None</td>\n",
       "      <td>False</td>\n",
       "      <td>True</td>\n",
       "      <td>False</td>\n",
       "      <td>False</td>\n",
       "      <td>15-1199</td>\n",
       "    </tr>\n",
       "    <tr>\n",
       "      <th>4</th>\n",
       "      <td>Network Engineer / Architect</td>\n",
       "      <td>15-1133.00</td>\n",
       "      <td>14.7</td>\n",
       "      <td>85.2</td>\n",
       "      <td>Bachelor's degree</td>\n",
       "      <td>None</td>\n",
       "      <td>False</td>\n",
       "      <td>True</td>\n",
       "      <td>False</td>\n",
       "      <td>False</td>\n",
       "      <td>15-1133</td>\n",
       "    </tr>\n",
       "  </tbody>\n",
       "</table>\n",
       "</div>"
      ],
      "text/plain": [
       "                   BLS Job Title LONG_OCC_CODE  \\\n",
       "0              Computer Operator    43-9011.00   \n",
       "1  Business Intelligence Analyst    15-1199.93   \n",
       "2             IT Project Manager    15-1199.95   \n",
       "3   Network Engineer / Architect    15-1199.02   \n",
       "4   Network Engineer / Architect    15-1133.00   \n",
       "\n",
       "   Percentage with AA Degree or Less  Percentage with BA Degree or More  \\\n",
       "0                               64.9                               35.1   \n",
       "1                               43.8                               56.4   \n",
       "2                               43.8                               56.4   \n",
       "3                               43.8                               56.4   \n",
       "4                               14.7                               85.2   \n",
       "\n",
       "  Typical education needed for entry Work experience in a related occupation  \\\n",
       "0  High school diploma or equivalent                                    None   \n",
       "1                  Bachelor's degree                                    None   \n",
       "2                  Bachelor's degree                                    None   \n",
       "3                  Bachelor's degree                                    None   \n",
       "4                  Bachelor's degree                                    None   \n",
       "\n",
       "   Non-Entry Level  BA Entry Level  Middle Skilled  Low Wage OCC_CODE  \n",
       "0            False           False            True     False  43-9011  \n",
       "1            False            True           False     False  15-1199  \n",
       "2            False            True           False     False  15-1199  \n",
       "3            False            True           False     False  15-1199  \n",
       "4            False            True           False     False  15-1133  "
      ]
     },
     "execution_count": 46,
     "metadata": {},
     "output_type": "execute_result"
    }
   ],
   "source": [
    "#Perform Groubys on national_df\n",
    "national_df_OCC = national_df.groupby(['OCC_CODE']).mean()\n",
    "national_df.head()"
   ]
  },
  {
   "cell_type": "code",
   "execution_count": 47,
   "metadata": {},
   "outputs": [
    {
     "data": {
      "text/html": [
       "<div>\n",
       "<style scoped>\n",
       "    .dataframe tbody tr th:only-of-type {\n",
       "        vertical-align: middle;\n",
       "    }\n",
       "\n",
       "    .dataframe tbody tr th {\n",
       "        vertical-align: top;\n",
       "    }\n",
       "\n",
       "    .dataframe thead th {\n",
       "        text-align: right;\n",
       "    }\n",
       "</style>\n",
       "<table border=\"1\" class=\"dataframe\">\n",
       "  <thead>\n",
       "    <tr style=\"text-align: right;\">\n",
       "      <th></th>\n",
       "      <th>Percentage with AA Degree or Less</th>\n",
       "      <th>Percentage with BA Degree or More</th>\n",
       "      <th>Non-Entry Level</th>\n",
       "      <th>BA Entry Level</th>\n",
       "      <th>Middle Skilled</th>\n",
       "      <th>Low Wage</th>\n",
       "    </tr>\n",
       "    <tr>\n",
       "      <th>LONG_OCC_CODE</th>\n",
       "      <th></th>\n",
       "      <th></th>\n",
       "      <th></th>\n",
       "      <th></th>\n",
       "      <th></th>\n",
       "      <th></th>\n",
       "    </tr>\n",
       "  </thead>\n",
       "  <tbody>\n",
       "    <tr>\n",
       "      <th>11-1011.00</th>\n",
       "      <td>30.2</td>\n",
       "      <td>69.9</td>\n",
       "      <td>1.0</td>\n",
       "      <td>0.0</td>\n",
       "      <td>0.0</td>\n",
       "      <td>0.0</td>\n",
       "    </tr>\n",
       "    <tr>\n",
       "      <th>11-1021.91</th>\n",
       "      <td>54.1</td>\n",
       "      <td>45.9</td>\n",
       "      <td>1.0</td>\n",
       "      <td>0.0</td>\n",
       "      <td>0.0</td>\n",
       "      <td>0.0</td>\n",
       "    </tr>\n",
       "    <tr>\n",
       "      <th>11-1021.92</th>\n",
       "      <td>54.1</td>\n",
       "      <td>45.9</td>\n",
       "      <td>1.0</td>\n",
       "      <td>0.0</td>\n",
       "      <td>0.0</td>\n",
       "      <td>0.0</td>\n",
       "    </tr>\n",
       "    <tr>\n",
       "      <th>11-2021.91</th>\n",
       "      <td>30.3</td>\n",
       "      <td>69.8</td>\n",
       "      <td>1.0</td>\n",
       "      <td>0.0</td>\n",
       "      <td>0.0</td>\n",
       "      <td>0.0</td>\n",
       "    </tr>\n",
       "    <tr>\n",
       "      <th>11-2021.92</th>\n",
       "      <td>30.3</td>\n",
       "      <td>69.8</td>\n",
       "      <td>1.0</td>\n",
       "      <td>0.0</td>\n",
       "      <td>0.0</td>\n",
       "      <td>0.0</td>\n",
       "    </tr>\n",
       "  </tbody>\n",
       "</table>\n",
       "</div>"
      ],
      "text/plain": [
       "               Percentage with AA Degree or Less  \\\n",
       "LONG_OCC_CODE                                      \n",
       "11-1011.00                                  30.2   \n",
       "11-1021.91                                  54.1   \n",
       "11-1021.92                                  54.1   \n",
       "11-2021.91                                  30.3   \n",
       "11-2021.92                                  30.3   \n",
       "\n",
       "               Percentage with BA Degree or More  Non-Entry Level  \\\n",
       "LONG_OCC_CODE                                                       \n",
       "11-1011.00                                  69.9              1.0   \n",
       "11-1021.91                                  45.9              1.0   \n",
       "11-1021.92                                  45.9              1.0   \n",
       "11-2021.91                                  69.8              1.0   \n",
       "11-2021.92                                  69.8              1.0   \n",
       "\n",
       "               BA Entry Level  Middle Skilled  Low Wage  \n",
       "LONG_OCC_CODE                                            \n",
       "11-1011.00                0.0             0.0       0.0  \n",
       "11-1021.91                0.0             0.0       0.0  \n",
       "11-1021.92                0.0             0.0       0.0  \n",
       "11-2021.91                0.0             0.0       0.0  \n",
       "11-2021.92                0.0             0.0       0.0  "
      ]
     },
     "execution_count": 47,
     "metadata": {},
     "output_type": "execute_result"
    }
   ],
   "source": [
    "national_df_LONG = national_df.groupby(['LONG_OCC_CODE']).mean()\n",
    "national_df_LONG.head()"
   ]
  },
  {
   "cell_type": "code",
   "execution_count": 48,
   "metadata": {},
   "outputs": [
    {
     "data": {
      "text/html": [
       "<div>\n",
       "<style scoped>\n",
       "    .dataframe tbody tr th:only-of-type {\n",
       "        vertical-align: middle;\n",
       "    }\n",
       "\n",
       "    .dataframe tbody tr th {\n",
       "        vertical-align: top;\n",
       "    }\n",
       "\n",
       "    .dataframe thead th {\n",
       "        text-align: right;\n",
       "    }\n",
       "</style>\n",
       "<table border=\"1\" class=\"dataframe\">\n",
       "  <thead>\n",
       "    <tr style=\"text-align: right;\">\n",
       "      <th></th>\n",
       "      <th>LONG_OCC_CODE</th>\n",
       "      <th>BLS Job Title</th>\n",
       "      <th>Artistic_oi</th>\n",
       "      <th>Conventional_oi</th>\n",
       "      <th>Enterprising_oi</th>\n",
       "      <th>Investigative_oi</th>\n",
       "      <th>Realistic_oi</th>\n",
       "      <th>Social_oi</th>\n",
       "      <th>Arm-Hand Steadiness_im</th>\n",
       "      <th>Auditory Attention_im</th>\n",
       "      <th>...</th>\n",
       "      <th>Self Control_im</th>\n",
       "      <th>Social Orientation_im</th>\n",
       "      <th>Stress Tolerance_im</th>\n",
       "      <th>Achievement_ex</th>\n",
       "      <th>Independence_ex</th>\n",
       "      <th>Recognition_ex</th>\n",
       "      <th>Relationships_ex</th>\n",
       "      <th>Support_ex</th>\n",
       "      <th>Working Conditions_ex</th>\n",
       "      <th>OCC_CODE</th>\n",
       "    </tr>\n",
       "  </thead>\n",
       "  <tbody>\n",
       "    <tr>\n",
       "      <th>0</th>\n",
       "      <td>11-1011.00</td>\n",
       "      <td>Chief Executives</td>\n",
       "      <td>2.67</td>\n",
       "      <td>5.33</td>\n",
       "      <td>7.0</td>\n",
       "      <td>2.00</td>\n",
       "      <td>1.33</td>\n",
       "      <td>3.67</td>\n",
       "      <td>1.00</td>\n",
       "      <td>2.12</td>\n",
       "      <td>...</td>\n",
       "      <td>4.52</td>\n",
       "      <td>3.67</td>\n",
       "      <td>4.75</td>\n",
       "      <td>6.33</td>\n",
       "      <td>7.00</td>\n",
       "      <td>7.00</td>\n",
       "      <td>5.00</td>\n",
       "      <td>5.33</td>\n",
       "      <td>6.33</td>\n",
       "      <td>11-1011</td>\n",
       "    </tr>\n",
       "    <tr>\n",
       "      <th>1</th>\n",
       "      <td>11-1011.03</td>\n",
       "      <td>Chief Sustainability Officers</td>\n",
       "      <td>2.67</td>\n",
       "      <td>4.33</td>\n",
       "      <td>7.0</td>\n",
       "      <td>4.33</td>\n",
       "      <td>1.00</td>\n",
       "      <td>2.33</td>\n",
       "      <td>1.00</td>\n",
       "      <td>1.88</td>\n",
       "      <td>...</td>\n",
       "      <td>4.00</td>\n",
       "      <td>3.35</td>\n",
       "      <td>4.08</td>\n",
       "      <td>6.67</td>\n",
       "      <td>6.67</td>\n",
       "      <td>6.00</td>\n",
       "      <td>5.00</td>\n",
       "      <td>3.33</td>\n",
       "      <td>6.33</td>\n",
       "      <td>11-1011</td>\n",
       "    </tr>\n",
       "    <tr>\n",
       "      <th>2</th>\n",
       "      <td>11-1021.00</td>\n",
       "      <td>General and Operations Managers</td>\n",
       "      <td>1.00</td>\n",
       "      <td>3.67</td>\n",
       "      <td>7.0</td>\n",
       "      <td>1.33</td>\n",
       "      <td>1.33</td>\n",
       "      <td>3.33</td>\n",
       "      <td>2.00</td>\n",
       "      <td>2.12</td>\n",
       "      <td>...</td>\n",
       "      <td>4.31</td>\n",
       "      <td>3.57</td>\n",
       "      <td>4.33</td>\n",
       "      <td>5.33</td>\n",
       "      <td>6.00</td>\n",
       "      <td>5.67</td>\n",
       "      <td>6.33</td>\n",
       "      <td>4.67</td>\n",
       "      <td>6.00</td>\n",
       "      <td>11-1021</td>\n",
       "    </tr>\n",
       "    <tr>\n",
       "      <th>4</th>\n",
       "      <td>11-2011.00</td>\n",
       "      <td>Advertising and Promotions Managers</td>\n",
       "      <td>5.33</td>\n",
       "      <td>4.67</td>\n",
       "      <td>7.0</td>\n",
       "      <td>2.00</td>\n",
       "      <td>1.67</td>\n",
       "      <td>2.33</td>\n",
       "      <td>1.38</td>\n",
       "      <td>1.75</td>\n",
       "      <td>...</td>\n",
       "      <td>4.18</td>\n",
       "      <td>3.70</td>\n",
       "      <td>4.35</td>\n",
       "      <td>5.33</td>\n",
       "      <td>5.33</td>\n",
       "      <td>5.33</td>\n",
       "      <td>5.00</td>\n",
       "      <td>4.00</td>\n",
       "      <td>5.33</td>\n",
       "      <td>11-2011</td>\n",
       "    </tr>\n",
       "    <tr>\n",
       "      <th>6</th>\n",
       "      <td>11-2021.00</td>\n",
       "      <td>Marketing Managers</td>\n",
       "      <td>3.67</td>\n",
       "      <td>5.33</td>\n",
       "      <td>7.0</td>\n",
       "      <td>2.33</td>\n",
       "      <td>1.00</td>\n",
       "      <td>2.67</td>\n",
       "      <td>1.12</td>\n",
       "      <td>1.88</td>\n",
       "      <td>...</td>\n",
       "      <td>3.87</td>\n",
       "      <td>3.80</td>\n",
       "      <td>4.01</td>\n",
       "      <td>6.00</td>\n",
       "      <td>5.67</td>\n",
       "      <td>5.33</td>\n",
       "      <td>5.67</td>\n",
       "      <td>5.00</td>\n",
       "      <td>6.17</td>\n",
       "      <td>11-2021</td>\n",
       "    </tr>\n",
       "  </tbody>\n",
       "</table>\n",
       "<p>5 rows × 353 columns</p>\n",
       "</div>"
      ],
      "text/plain": [
       "  LONG_OCC_CODE                        BLS Job Title  Artistic_oi  \\\n",
       "0    11-1011.00                     Chief Executives         2.67   \n",
       "1    11-1011.03        Chief Sustainability Officers         2.67   \n",
       "2    11-1021.00      General and Operations Managers         1.00   \n",
       "4    11-2011.00  Advertising and Promotions Managers         5.33   \n",
       "6    11-2021.00                   Marketing Managers         3.67   \n",
       "\n",
       "   Conventional_oi  Enterprising_oi  Investigative_oi  Realistic_oi  \\\n",
       "0             5.33              7.0              2.00          1.33   \n",
       "1             4.33              7.0              4.33          1.00   \n",
       "2             3.67              7.0              1.33          1.33   \n",
       "4             4.67              7.0              2.00          1.67   \n",
       "6             5.33              7.0              2.33          1.00   \n",
       "\n",
       "   Social_oi  Arm-Hand Steadiness_im  Auditory Attention_im  ...  \\\n",
       "0       3.67                    1.00                   2.12  ...   \n",
       "1       2.33                    1.00                   1.88  ...   \n",
       "2       3.33                    2.00                   2.12  ...   \n",
       "4       2.33                    1.38                   1.75  ...   \n",
       "6       2.67                    1.12                   1.88  ...   \n",
       "\n",
       "   Self Control_im  Social Orientation_im  Stress Tolerance_im  \\\n",
       "0             4.52                   3.67                 4.75   \n",
       "1             4.00                   3.35                 4.08   \n",
       "2             4.31                   3.57                 4.33   \n",
       "4             4.18                   3.70                 4.35   \n",
       "6             3.87                   3.80                 4.01   \n",
       "\n",
       "   Achievement_ex  Independence_ex  Recognition_ex  Relationships_ex  \\\n",
       "0            6.33             7.00            7.00              5.00   \n",
       "1            6.67             6.67            6.00              5.00   \n",
       "2            5.33             6.00            5.67              6.33   \n",
       "4            5.33             5.33            5.33              5.00   \n",
       "6            6.00             5.67            5.33              5.67   \n",
       "\n",
       "   Support_ex  Working Conditions_ex  OCC_CODE  \n",
       "0        5.33                   6.33   11-1011  \n",
       "1        3.33                   6.33   11-1011  \n",
       "2        4.67                   6.00   11-1021  \n",
       "4        4.00                   5.33   11-2011  \n",
       "6        5.00                   6.17   11-2021  \n",
       "\n",
       "[5 rows x 353 columns]"
      ]
     },
     "execution_count": 48,
     "metadata": {},
     "output_type": "execute_result"
    }
   ],
   "source": [
    "#Perform Groubys on skill_df\n",
    "skill_df_OCC = skill_df.groupby(['OCC_CODE']).mean()\n",
    "skill_df.head()"
   ]
  },
  {
   "cell_type": "code",
   "execution_count": 49,
   "metadata": {},
   "outputs": [
    {
     "data": {
      "text/html": [
       "<div>\n",
       "<style scoped>\n",
       "    .dataframe tbody tr th:only-of-type {\n",
       "        vertical-align: middle;\n",
       "    }\n",
       "\n",
       "    .dataframe tbody tr th {\n",
       "        vertical-align: top;\n",
       "    }\n",
       "\n",
       "    .dataframe thead th {\n",
       "        text-align: right;\n",
       "    }\n",
       "</style>\n",
       "<table border=\"1\" class=\"dataframe\">\n",
       "  <thead>\n",
       "    <tr style=\"text-align: right;\">\n",
       "      <th></th>\n",
       "      <th>LONG_OCC_CODE</th>\n",
       "      <th>BLS Job Title</th>\n",
       "      <th>Artistic_oi</th>\n",
       "      <th>Conventional_oi</th>\n",
       "      <th>Enterprising_oi</th>\n",
       "      <th>Investigative_oi</th>\n",
       "      <th>Realistic_oi</th>\n",
       "      <th>Social_oi</th>\n",
       "      <th>Arm-Hand Steadiness_im</th>\n",
       "      <th>Auditory Attention_im</th>\n",
       "      <th>...</th>\n",
       "      <th>Self Control_im</th>\n",
       "      <th>Social Orientation_im</th>\n",
       "      <th>Stress Tolerance_im</th>\n",
       "      <th>Achievement_ex</th>\n",
       "      <th>Independence_ex</th>\n",
       "      <th>Recognition_ex</th>\n",
       "      <th>Relationships_ex</th>\n",
       "      <th>Support_ex</th>\n",
       "      <th>Working Conditions_ex</th>\n",
       "      <th>OCC_CODE</th>\n",
       "    </tr>\n",
       "  </thead>\n",
       "  <tbody>\n",
       "    <tr>\n",
       "      <th>0</th>\n",
       "      <td>11-1011.00</td>\n",
       "      <td>Chief Executives</td>\n",
       "      <td>2.67</td>\n",
       "      <td>5.33</td>\n",
       "      <td>7.0</td>\n",
       "      <td>2.00</td>\n",
       "      <td>1.33</td>\n",
       "      <td>3.67</td>\n",
       "      <td>1.00</td>\n",
       "      <td>2.12</td>\n",
       "      <td>...</td>\n",
       "      <td>4.52</td>\n",
       "      <td>3.67</td>\n",
       "      <td>4.75</td>\n",
       "      <td>6.33</td>\n",
       "      <td>7.00</td>\n",
       "      <td>7.00</td>\n",
       "      <td>5.00</td>\n",
       "      <td>5.33</td>\n",
       "      <td>6.33</td>\n",
       "      <td>11-1011</td>\n",
       "    </tr>\n",
       "    <tr>\n",
       "      <th>1</th>\n",
       "      <td>11-1011.03</td>\n",
       "      <td>Chief Sustainability Officers</td>\n",
       "      <td>2.67</td>\n",
       "      <td>4.33</td>\n",
       "      <td>7.0</td>\n",
       "      <td>4.33</td>\n",
       "      <td>1.00</td>\n",
       "      <td>2.33</td>\n",
       "      <td>1.00</td>\n",
       "      <td>1.88</td>\n",
       "      <td>...</td>\n",
       "      <td>4.00</td>\n",
       "      <td>3.35</td>\n",
       "      <td>4.08</td>\n",
       "      <td>6.67</td>\n",
       "      <td>6.67</td>\n",
       "      <td>6.00</td>\n",
       "      <td>5.00</td>\n",
       "      <td>3.33</td>\n",
       "      <td>6.33</td>\n",
       "      <td>11-1011</td>\n",
       "    </tr>\n",
       "    <tr>\n",
       "      <th>2</th>\n",
       "      <td>11-1021.00</td>\n",
       "      <td>General and Operations Managers</td>\n",
       "      <td>1.00</td>\n",
       "      <td>3.67</td>\n",
       "      <td>7.0</td>\n",
       "      <td>1.33</td>\n",
       "      <td>1.33</td>\n",
       "      <td>3.33</td>\n",
       "      <td>2.00</td>\n",
       "      <td>2.12</td>\n",
       "      <td>...</td>\n",
       "      <td>4.31</td>\n",
       "      <td>3.57</td>\n",
       "      <td>4.33</td>\n",
       "      <td>5.33</td>\n",
       "      <td>6.00</td>\n",
       "      <td>5.67</td>\n",
       "      <td>6.33</td>\n",
       "      <td>4.67</td>\n",
       "      <td>6.00</td>\n",
       "      <td>11-1021</td>\n",
       "    </tr>\n",
       "    <tr>\n",
       "      <th>4</th>\n",
       "      <td>11-2011.00</td>\n",
       "      <td>Advertising and Promotions Managers</td>\n",
       "      <td>5.33</td>\n",
       "      <td>4.67</td>\n",
       "      <td>7.0</td>\n",
       "      <td>2.00</td>\n",
       "      <td>1.67</td>\n",
       "      <td>2.33</td>\n",
       "      <td>1.38</td>\n",
       "      <td>1.75</td>\n",
       "      <td>...</td>\n",
       "      <td>4.18</td>\n",
       "      <td>3.70</td>\n",
       "      <td>4.35</td>\n",
       "      <td>5.33</td>\n",
       "      <td>5.33</td>\n",
       "      <td>5.33</td>\n",
       "      <td>5.00</td>\n",
       "      <td>4.00</td>\n",
       "      <td>5.33</td>\n",
       "      <td>11-2011</td>\n",
       "    </tr>\n",
       "    <tr>\n",
       "      <th>6</th>\n",
       "      <td>11-2021.00</td>\n",
       "      <td>Marketing Managers</td>\n",
       "      <td>3.67</td>\n",
       "      <td>5.33</td>\n",
       "      <td>7.0</td>\n",
       "      <td>2.33</td>\n",
       "      <td>1.00</td>\n",
       "      <td>2.67</td>\n",
       "      <td>1.12</td>\n",
       "      <td>1.88</td>\n",
       "      <td>...</td>\n",
       "      <td>3.87</td>\n",
       "      <td>3.80</td>\n",
       "      <td>4.01</td>\n",
       "      <td>6.00</td>\n",
       "      <td>5.67</td>\n",
       "      <td>5.33</td>\n",
       "      <td>5.67</td>\n",
       "      <td>5.00</td>\n",
       "      <td>6.17</td>\n",
       "      <td>11-2021</td>\n",
       "    </tr>\n",
       "  </tbody>\n",
       "</table>\n",
       "<p>5 rows × 353 columns</p>\n",
       "</div>"
      ],
      "text/plain": [
       "  LONG_OCC_CODE                        BLS Job Title  Artistic_oi  \\\n",
       "0    11-1011.00                     Chief Executives         2.67   \n",
       "1    11-1011.03        Chief Sustainability Officers         2.67   \n",
       "2    11-1021.00      General and Operations Managers         1.00   \n",
       "4    11-2011.00  Advertising and Promotions Managers         5.33   \n",
       "6    11-2021.00                   Marketing Managers         3.67   \n",
       "\n",
       "   Conventional_oi  Enterprising_oi  Investigative_oi  Realistic_oi  \\\n",
       "0             5.33              7.0              2.00          1.33   \n",
       "1             4.33              7.0              4.33          1.00   \n",
       "2             3.67              7.0              1.33          1.33   \n",
       "4             4.67              7.0              2.00          1.67   \n",
       "6             5.33              7.0              2.33          1.00   \n",
       "\n",
       "   Social_oi  Arm-Hand Steadiness_im  Auditory Attention_im  ...  \\\n",
       "0       3.67                    1.00                   2.12  ...   \n",
       "1       2.33                    1.00                   1.88  ...   \n",
       "2       3.33                    2.00                   2.12  ...   \n",
       "4       2.33                    1.38                   1.75  ...   \n",
       "6       2.67                    1.12                   1.88  ...   \n",
       "\n",
       "   Self Control_im  Social Orientation_im  Stress Tolerance_im  \\\n",
       "0             4.52                   3.67                 4.75   \n",
       "1             4.00                   3.35                 4.08   \n",
       "2             4.31                   3.57                 4.33   \n",
       "4             4.18                   3.70                 4.35   \n",
       "6             3.87                   3.80                 4.01   \n",
       "\n",
       "   Achievement_ex  Independence_ex  Recognition_ex  Relationships_ex  \\\n",
       "0            6.33             7.00            7.00              5.00   \n",
       "1            6.67             6.67            6.00              5.00   \n",
       "2            5.33             6.00            5.67              6.33   \n",
       "4            5.33             5.33            5.33              5.00   \n",
       "6            6.00             5.67            5.33              5.67   \n",
       "\n",
       "   Support_ex  Working Conditions_ex  OCC_CODE  \n",
       "0        5.33                   6.33   11-1011  \n",
       "1        3.33                   6.33   11-1011  \n",
       "2        4.67                   6.00   11-1021  \n",
       "4        4.00                   5.33   11-2011  \n",
       "6        5.00                   6.17   11-2021  \n",
       "\n",
       "[5 rows x 353 columns]"
      ]
     },
     "execution_count": 49,
     "metadata": {},
     "output_type": "execute_result"
    }
   ],
   "source": [
    "skill_df_LONG = skill_df.groupby(['LONG_OCC_CODE']).mean()\n",
    "skill_df.head()"
   ]
  },
  {
   "cell_type": "code",
   "execution_count": 50,
   "metadata": {},
   "outputs": [
    {
     "data": {
      "text/html": [
       "<div>\n",
       "<style scoped>\n",
       "    .dataframe tbody tr th:only-of-type {\n",
       "        vertical-align: middle;\n",
       "    }\n",
       "\n",
       "    .dataframe tbody tr th {\n",
       "        vertical-align: top;\n",
       "    }\n",
       "\n",
       "    .dataframe thead th {\n",
       "        text-align: right;\n",
       "    }\n",
       "</style>\n",
       "<table border=\"1\" class=\"dataframe\">\n",
       "  <thead>\n",
       "    <tr style=\"text-align: right;\">\n",
       "      <th></th>\n",
       "      <th>MSA_ID</th>\n",
       "      <th>CITY</th>\n",
       "      <th>STATE</th>\n",
       "      <th>YEAR</th>\n",
       "      <th>LONG_OCC_CODE</th>\n",
       "      <th>BLS Job Title</th>\n",
       "      <th>JOB_ID</th>\n",
       "      <th>OCC_CODE</th>\n",
       "    </tr>\n",
       "  </thead>\n",
       "  <tbody>\n",
       "    <tr>\n",
       "      <th>0</th>\n",
       "      <td>42660.0</td>\n",
       "      <td>Seattle</td>\n",
       "      <td>WA</td>\n",
       "      <td>2019</td>\n",
       "      <td>13-1071.91</td>\n",
       "      <td>Recruiter (General)</td>\n",
       "      <td>38472841335</td>\n",
       "      <td>13-1071</td>\n",
       "    </tr>\n",
       "    <tr>\n",
       "      <th>1</th>\n",
       "      <td>38060.0</td>\n",
       "      <td>Chandler</td>\n",
       "      <td>AZ</td>\n",
       "      <td>2019</td>\n",
       "      <td>13-1051.00</td>\n",
       "      <td>Estimator</td>\n",
       "      <td>38474073426</td>\n",
       "      <td>13-1051</td>\n",
       "    </tr>\n",
       "    <tr>\n",
       "      <th>2</th>\n",
       "      <td>38060.0</td>\n",
       "      <td>Chandler</td>\n",
       "      <td>AZ</td>\n",
       "      <td>2019</td>\n",
       "      <td>49-3021.00</td>\n",
       "      <td>Auto Body Technician</td>\n",
       "      <td>38474083740</td>\n",
       "      <td>49-3021</td>\n",
       "    </tr>\n",
       "    <tr>\n",
       "      <th>7</th>\n",
       "      <td>29820.0</td>\n",
       "      <td>Henderson</td>\n",
       "      <td>NV</td>\n",
       "      <td>2019</td>\n",
       "      <td>49-3021.00</td>\n",
       "      <td>Auto Body Technician</td>\n",
       "      <td>38477189379</td>\n",
       "      <td>49-3021</td>\n",
       "    </tr>\n",
       "    <tr>\n",
       "      <th>14</th>\n",
       "      <td>19100.0</td>\n",
       "      <td>Richardson</td>\n",
       "      <td>TX</td>\n",
       "      <td>2019</td>\n",
       "      <td>11-2022.00</td>\n",
       "      <td>Sales Manager</td>\n",
       "      <td>38536361414</td>\n",
       "      <td>11-2022</td>\n",
       "    </tr>\n",
       "    <tr>\n",
       "      <th>15</th>\n",
       "      <td>19100.0</td>\n",
       "      <td>Plano</td>\n",
       "      <td>TX</td>\n",
       "      <td>2019</td>\n",
       "      <td>51-1011.92</td>\n",
       "      <td>Production Plant Manager</td>\n",
       "      <td>38536316917</td>\n",
       "      <td>51-1011</td>\n",
       "    </tr>\n",
       "    <tr>\n",
       "      <th>16</th>\n",
       "      <td>19820.0</td>\n",
       "      <td>Royal Oak</td>\n",
       "      <td>MI</td>\n",
       "      <td>2019</td>\n",
       "      <td>53-7061.00</td>\n",
       "      <td>Detailer</td>\n",
       "      <td>38501127611</td>\n",
       "      <td>53-7061</td>\n",
       "    </tr>\n",
       "    <tr>\n",
       "      <th>17</th>\n",
       "      <td>19100.0</td>\n",
       "      <td>Plano</td>\n",
       "      <td>TX</td>\n",
       "      <td>2019</td>\n",
       "      <td>43-6014.00</td>\n",
       "      <td>Administrative Clerk / Coordinator</td>\n",
       "      <td>38538984588</td>\n",
       "      <td>43-6014</td>\n",
       "    </tr>\n",
       "    <tr>\n",
       "      <th>26</th>\n",
       "      <td>19100.0</td>\n",
       "      <td>The Colony</td>\n",
       "      <td>TX</td>\n",
       "      <td>2019</td>\n",
       "      <td>13-1032.00</td>\n",
       "      <td>Auto Damage Appraiser</td>\n",
       "      <td>38676824178</td>\n",
       "      <td>13-1032</td>\n",
       "    </tr>\n",
       "    <tr>\n",
       "      <th>32</th>\n",
       "      <td>19820.0</td>\n",
       "      <td>Ferndale</td>\n",
       "      <td>MI</td>\n",
       "      <td>2019</td>\n",
       "      <td>49-3021.00</td>\n",
       "      <td>Auto Body Technician</td>\n",
       "      <td>38634526873</td>\n",
       "      <td>49-3021</td>\n",
       "    </tr>\n",
       "    <tr>\n",
       "      <th>35</th>\n",
       "      <td>32820.0</td>\n",
       "      <td>Memphis</td>\n",
       "      <td>TN</td>\n",
       "      <td>2019</td>\n",
       "      <td>49-3021.00</td>\n",
       "      <td>Auto Body Technician</td>\n",
       "      <td>38686909233</td>\n",
       "      <td>49-3021</td>\n",
       "    </tr>\n",
       "    <tr>\n",
       "      <th>36</th>\n",
       "      <td>17820.0</td>\n",
       "      <td>Colorado Springs</td>\n",
       "      <td>CO</td>\n",
       "      <td>2019</td>\n",
       "      <td>13-1032.00</td>\n",
       "      <td>Auto Damage Appraiser</td>\n",
       "      <td>38505200096</td>\n",
       "      <td>13-1032</td>\n",
       "    </tr>\n",
       "    <tr>\n",
       "      <th>37</th>\n",
       "      <td>47900.0</td>\n",
       "      <td>Herndon</td>\n",
       "      <td>VA</td>\n",
       "      <td>2019</td>\n",
       "      <td>43-4051.00</td>\n",
       "      <td>Customer Service Representative (General)</td>\n",
       "      <td>38493997177</td>\n",
       "      <td>43-4051</td>\n",
       "    </tr>\n",
       "    <tr>\n",
       "      <th>59</th>\n",
       "      <td>26420.0</td>\n",
       "      <td>Houston</td>\n",
       "      <td>TX</td>\n",
       "      <td>2019</td>\n",
       "      <td>53-7061.00</td>\n",
       "      <td>Detailer</td>\n",
       "      <td>38559810305</td>\n",
       "      <td>53-7061</td>\n",
       "    </tr>\n",
       "    <tr>\n",
       "      <th>60</th>\n",
       "      <td>27260.0</td>\n",
       "      <td>Jacksonville</td>\n",
       "      <td>FL</td>\n",
       "      <td>2019</td>\n",
       "      <td>49-1011.00</td>\n",
       "      <td>Maintenance Manager</td>\n",
       "      <td>38555493170</td>\n",
       "      <td>49-1011</td>\n",
       "    </tr>\n",
       "    <tr>\n",
       "      <th>61</th>\n",
       "      <td>26420.0</td>\n",
       "      <td>Pasadena</td>\n",
       "      <td>TX</td>\n",
       "      <td>2019</td>\n",
       "      <td>53-7061.00</td>\n",
       "      <td>Detailer</td>\n",
       "      <td>38564105179</td>\n",
       "      <td>53-7061</td>\n",
       "    </tr>\n",
       "    <tr>\n",
       "      <th>62</th>\n",
       "      <td>19740.0</td>\n",
       "      <td>Thornton</td>\n",
       "      <td>CO</td>\n",
       "      <td>2019</td>\n",
       "      <td>13-1032.00</td>\n",
       "      <td>Auto Damage Appraiser</td>\n",
       "      <td>38556749870</td>\n",
       "      <td>13-1032</td>\n",
       "    </tr>\n",
       "    <tr>\n",
       "      <th>63</th>\n",
       "      <td>27260.0</td>\n",
       "      <td>Jacksonville</td>\n",
       "      <td>FL</td>\n",
       "      <td>2019</td>\n",
       "      <td>13-1051.00</td>\n",
       "      <td>Estimator</td>\n",
       "      <td>38529181397</td>\n",
       "      <td>13-1051</td>\n",
       "    </tr>\n",
       "    <tr>\n",
       "      <th>64</th>\n",
       "      <td>19100.0</td>\n",
       "      <td>Richardson</td>\n",
       "      <td>TX</td>\n",
       "      <td>2019</td>\n",
       "      <td>51-9061.00</td>\n",
       "      <td>Quality Inspector</td>\n",
       "      <td>38641224496</td>\n",
       "      <td>51-9061</td>\n",
       "    </tr>\n",
       "    <tr>\n",
       "      <th>65</th>\n",
       "      <td>12420.0</td>\n",
       "      <td>Austin</td>\n",
       "      <td>TX</td>\n",
       "      <td>2019</td>\n",
       "      <td>13-1051.00</td>\n",
       "      <td>Estimator</td>\n",
       "      <td>38499082459</td>\n",
       "      <td>13-1051</td>\n",
       "    </tr>\n",
       "  </tbody>\n",
       "</table>\n",
       "</div>"
      ],
      "text/plain": [
       "     MSA_ID              CITY STATE  YEAR LONG_OCC_CODE  \\\n",
       "0   42660.0           Seattle    WA  2019    13-1071.91   \n",
       "1   38060.0          Chandler    AZ  2019    13-1051.00   \n",
       "2   38060.0          Chandler    AZ  2019    49-3021.00   \n",
       "7   29820.0         Henderson    NV  2019    49-3021.00   \n",
       "14  19100.0        Richardson    TX  2019    11-2022.00   \n",
       "15  19100.0             Plano    TX  2019    51-1011.92   \n",
       "16  19820.0         Royal Oak    MI  2019    53-7061.00   \n",
       "17  19100.0             Plano    TX  2019    43-6014.00   \n",
       "26  19100.0        The Colony    TX  2019    13-1032.00   \n",
       "32  19820.0          Ferndale    MI  2019    49-3021.00   \n",
       "35  32820.0           Memphis    TN  2019    49-3021.00   \n",
       "36  17820.0  Colorado Springs    CO  2019    13-1032.00   \n",
       "37  47900.0           Herndon    VA  2019    43-4051.00   \n",
       "59  26420.0           Houston    TX  2019    53-7061.00   \n",
       "60  27260.0      Jacksonville    FL  2019    49-1011.00   \n",
       "61  26420.0          Pasadena    TX  2019    53-7061.00   \n",
       "62  19740.0          Thornton    CO  2019    13-1032.00   \n",
       "63  27260.0      Jacksonville    FL  2019    13-1051.00   \n",
       "64  19100.0        Richardson    TX  2019    51-9061.00   \n",
       "65  12420.0            Austin    TX  2019    13-1051.00   \n",
       "\n",
       "                                BLS Job Title       JOB_ID OCC_CODE  \n",
       "0                         Recruiter (General)  38472841335  13-1071  \n",
       "1                                   Estimator  38474073426  13-1051  \n",
       "2                        Auto Body Technician  38474083740  49-3021  \n",
       "7                        Auto Body Technician  38477189379  49-3021  \n",
       "14                              Sales Manager  38536361414  11-2022  \n",
       "15                   Production Plant Manager  38536316917  51-1011  \n",
       "16                                   Detailer  38501127611  53-7061  \n",
       "17         Administrative Clerk / Coordinator  38538984588  43-6014  \n",
       "26                      Auto Damage Appraiser  38676824178  13-1032  \n",
       "32                       Auto Body Technician  38634526873  49-3021  \n",
       "35                       Auto Body Technician  38686909233  49-3021  \n",
       "36                      Auto Damage Appraiser  38505200096  13-1032  \n",
       "37  Customer Service Representative (General)  38493997177  43-4051  \n",
       "59                                   Detailer  38559810305  53-7061  \n",
       "60                        Maintenance Manager  38555493170  49-1011  \n",
       "61                                   Detailer  38564105179  53-7061  \n",
       "62                      Auto Damage Appraiser  38556749870  13-1032  \n",
       "63                                  Estimator  38529181397  13-1051  \n",
       "64                          Quality Inspector  38641224496  51-9061  \n",
       "65                                  Estimator  38499082459  13-1051  "
      ]
     },
     "execution_count": 50,
     "metadata": {},
     "output_type": "execute_result"
    }
   ],
   "source": [
    "#Split dfs by year if I am able to come back to this\n",
    "posting_2019 = posting_df.loc[posting_df['YEAR'] == 2019]\n",
    "posting_2019.head(20)"
   ]
  },
  {
   "cell_type": "code",
   "execution_count": 51,
   "metadata": {},
   "outputs": [
    {
     "data": {
      "text/html": [
       "<div>\n",
       "<style scoped>\n",
       "    .dataframe tbody tr th:only-of-type {\n",
       "        vertical-align: middle;\n",
       "    }\n",
       "\n",
       "    .dataframe tbody tr th {\n",
       "        vertical-align: top;\n",
       "    }\n",
       "\n",
       "    .dataframe thead th {\n",
       "        text-align: right;\n",
       "    }\n",
       "</style>\n",
       "<table border=\"1\" class=\"dataframe\">\n",
       "  <thead>\n",
       "    <tr style=\"text-align: right;\">\n",
       "      <th></th>\n",
       "      <th>MSA_ID</th>\n",
       "      <th>CITY</th>\n",
       "      <th>STATE</th>\n",
       "      <th>YEAR</th>\n",
       "      <th>LONG_OCC_CODE</th>\n",
       "      <th>BLS Job Title</th>\n",
       "      <th>JOB_ID</th>\n",
       "      <th>OCC_CODE</th>\n",
       "    </tr>\n",
       "  </thead>\n",
       "  <tbody>\n",
       "    <tr>\n",
       "      <th>3</th>\n",
       "      <td>45300.0</td>\n",
       "      <td>Tampa</td>\n",
       "      <td>FL</td>\n",
       "      <td>2020</td>\n",
       "      <td>11-1021.92</td>\n",
       "      <td>General Manager</td>\n",
       "      <td>38709992297</td>\n",
       "      <td>11-1021</td>\n",
       "    </tr>\n",
       "    <tr>\n",
       "      <th>4</th>\n",
       "      <td>41700.0</td>\n",
       "      <td>San Antonio</td>\n",
       "      <td>TX</td>\n",
       "      <td>2020</td>\n",
       "      <td>49-9098.00</td>\n",
       "      <td>Maintenance Helper / Assistant</td>\n",
       "      <td>38709918452</td>\n",
       "      <td>49-9098</td>\n",
       "    </tr>\n",
       "    <tr>\n",
       "      <th>5</th>\n",
       "      <td>41860.0</td>\n",
       "      <td>Dublin</td>\n",
       "      <td>CA</td>\n",
       "      <td>2020</td>\n",
       "      <td>11-1021.92</td>\n",
       "      <td>General Manager</td>\n",
       "      <td>38709946390</td>\n",
       "      <td>11-1021</td>\n",
       "    </tr>\n",
       "    <tr>\n",
       "      <th>6</th>\n",
       "      <td>41940.0</td>\n",
       "      <td>Mountain View</td>\n",
       "      <td>CA</td>\n",
       "      <td>2020</td>\n",
       "      <td>49-3021.00</td>\n",
       "      <td>Auto Body Technician</td>\n",
       "      <td>38709947747</td>\n",
       "      <td>49-3021</td>\n",
       "    </tr>\n",
       "    <tr>\n",
       "      <th>8</th>\n",
       "      <td>12060.0</td>\n",
       "      <td>Marietta</td>\n",
       "      <td>GA</td>\n",
       "      <td>2020</td>\n",
       "      <td>49-9098.00</td>\n",
       "      <td>Maintenance Helper / Assistant</td>\n",
       "      <td>38714233901</td>\n",
       "      <td>49-9098</td>\n",
       "    </tr>\n",
       "    <tr>\n",
       "      <th>9</th>\n",
       "      <td>45300.0</td>\n",
       "      <td>Tampa</td>\n",
       "      <td>FL</td>\n",
       "      <td>2020</td>\n",
       "      <td>49-3021.00</td>\n",
       "      <td>Auto Body Technician</td>\n",
       "      <td>38714234989</td>\n",
       "      <td>49-3021</td>\n",
       "    </tr>\n",
       "    <tr>\n",
       "      <th>10</th>\n",
       "      <td>37980.0</td>\n",
       "      <td>Malvern</td>\n",
       "      <td>PA</td>\n",
       "      <td>2020</td>\n",
       "      <td>49-9098.00</td>\n",
       "      <td>Maintenance Helper / Assistant</td>\n",
       "      <td>38713580400</td>\n",
       "      <td>49-9098</td>\n",
       "    </tr>\n",
       "    <tr>\n",
       "      <th>11</th>\n",
       "      <td>19100.0</td>\n",
       "      <td>Richardson</td>\n",
       "      <td>TX</td>\n",
       "      <td>2020</td>\n",
       "      <td>49-9098.00</td>\n",
       "      <td>Maintenance Helper / Assistant</td>\n",
       "      <td>38713580614</td>\n",
       "      <td>49-9098</td>\n",
       "    </tr>\n",
       "    <tr>\n",
       "      <th>12</th>\n",
       "      <td>19100.0</td>\n",
       "      <td>Arlington</td>\n",
       "      <td>TX</td>\n",
       "      <td>2020</td>\n",
       "      <td>49-3023.00</td>\n",
       "      <td>Automotive Service Technician / Mechanic</td>\n",
       "      <td>38720574509</td>\n",
       "      <td>49-3023</td>\n",
       "    </tr>\n",
       "    <tr>\n",
       "      <th>13</th>\n",
       "      <td>19100.0</td>\n",
       "      <td>Irving</td>\n",
       "      <td>TX</td>\n",
       "      <td>2020</td>\n",
       "      <td>49-9098.00</td>\n",
       "      <td>Maintenance Helper / Assistant</td>\n",
       "      <td>38720577681</td>\n",
       "      <td>49-9098</td>\n",
       "    </tr>\n",
       "    <tr>\n",
       "      <th>18</th>\n",
       "      <td>19740.0</td>\n",
       "      <td>Aurora</td>\n",
       "      <td>CO</td>\n",
       "      <td>2020</td>\n",
       "      <td>49-3021.00</td>\n",
       "      <td>Auto Body Technician</td>\n",
       "      <td>38731775184</td>\n",
       "      <td>49-3021</td>\n",
       "    </tr>\n",
       "    <tr>\n",
       "      <th>19</th>\n",
       "      <td>19100.0</td>\n",
       "      <td>Mesquite</td>\n",
       "      <td>TX</td>\n",
       "      <td>2020</td>\n",
       "      <td>37-2011.00</td>\n",
       "      <td>Janitor / Cleaner</td>\n",
       "      <td>38731936074</td>\n",
       "      <td>37-2011</td>\n",
       "    </tr>\n",
       "    <tr>\n",
       "      <th>20</th>\n",
       "      <td>19100.0</td>\n",
       "      <td>Fort Worth</td>\n",
       "      <td>TX</td>\n",
       "      <td>2020</td>\n",
       "      <td>49-3023.00</td>\n",
       "      <td>Automotive Service Technician / Mechanic</td>\n",
       "      <td>38732225958</td>\n",
       "      <td>49-3023</td>\n",
       "    </tr>\n",
       "    <tr>\n",
       "      <th>21</th>\n",
       "      <td>19100.0</td>\n",
       "      <td>Fort Worth</td>\n",
       "      <td>TX</td>\n",
       "      <td>2020</td>\n",
       "      <td>49-3023.00</td>\n",
       "      <td>Automotive Service Technician / Mechanic</td>\n",
       "      <td>38732238048</td>\n",
       "      <td>49-3023</td>\n",
       "    </tr>\n",
       "    <tr>\n",
       "      <th>22</th>\n",
       "      <td>19100.0</td>\n",
       "      <td>Richardson</td>\n",
       "      <td>TX</td>\n",
       "      <td>2020</td>\n",
       "      <td>13-1051.00</td>\n",
       "      <td>Estimator</td>\n",
       "      <td>38732353150</td>\n",
       "      <td>13-1051</td>\n",
       "    </tr>\n",
       "    <tr>\n",
       "      <th>23</th>\n",
       "      <td>37980.0</td>\n",
       "      <td>West Chester</td>\n",
       "      <td>PA</td>\n",
       "      <td>2020</td>\n",
       "      <td>49-9098.00</td>\n",
       "      <td>Maintenance Helper / Assistant</td>\n",
       "      <td>38736054659</td>\n",
       "      <td>49-9098</td>\n",
       "    </tr>\n",
       "    <tr>\n",
       "      <th>24</th>\n",
       "      <td>12060.0</td>\n",
       "      <td>Alpharetta</td>\n",
       "      <td>GA</td>\n",
       "      <td>2020</td>\n",
       "      <td>49-9098.00</td>\n",
       "      <td>Maintenance Helper / Assistant</td>\n",
       "      <td>38735886264</td>\n",
       "      <td>49-9098</td>\n",
       "    </tr>\n",
       "    <tr>\n",
       "      <th>25</th>\n",
       "      <td>41700.0</td>\n",
       "      <td>Spring Branch</td>\n",
       "      <td>TX</td>\n",
       "      <td>2020</td>\n",
       "      <td>49-3021.00</td>\n",
       "      <td>Auto Body Technician</td>\n",
       "      <td>38735894010</td>\n",
       "      <td>49-3021</td>\n",
       "    </tr>\n",
       "    <tr>\n",
       "      <th>27</th>\n",
       "      <td>38300.0</td>\n",
       "      <td>Pittsburgh</td>\n",
       "      <td>PA</td>\n",
       "      <td>2020</td>\n",
       "      <td>49-3021.00</td>\n",
       "      <td>Auto Body Technician</td>\n",
       "      <td>38744692725</td>\n",
       "      <td>49-3021</td>\n",
       "    </tr>\n",
       "    <tr>\n",
       "      <th>28</th>\n",
       "      <td>41700.0</td>\n",
       "      <td>San Antonio</td>\n",
       "      <td>TX</td>\n",
       "      <td>2020</td>\n",
       "      <td>41-2031.00</td>\n",
       "      <td>Retail Sales Associate (General)</td>\n",
       "      <td>38736876560</td>\n",
       "      <td>41-2031</td>\n",
       "    </tr>\n",
       "  </tbody>\n",
       "</table>\n",
       "</div>"
      ],
      "text/plain": [
       "     MSA_ID           CITY STATE  YEAR LONG_OCC_CODE  \\\n",
       "3   45300.0          Tampa    FL  2020    11-1021.92   \n",
       "4   41700.0    San Antonio    TX  2020    49-9098.00   \n",
       "5   41860.0         Dublin    CA  2020    11-1021.92   \n",
       "6   41940.0  Mountain View    CA  2020    49-3021.00   \n",
       "8   12060.0       Marietta    GA  2020    49-9098.00   \n",
       "9   45300.0          Tampa    FL  2020    49-3021.00   \n",
       "10  37980.0        Malvern    PA  2020    49-9098.00   \n",
       "11  19100.0     Richardson    TX  2020    49-9098.00   \n",
       "12  19100.0      Arlington    TX  2020    49-3023.00   \n",
       "13  19100.0         Irving    TX  2020    49-9098.00   \n",
       "18  19740.0         Aurora    CO  2020    49-3021.00   \n",
       "19  19100.0       Mesquite    TX  2020    37-2011.00   \n",
       "20  19100.0     Fort Worth    TX  2020    49-3023.00   \n",
       "21  19100.0     Fort Worth    TX  2020    49-3023.00   \n",
       "22  19100.0     Richardson    TX  2020    13-1051.00   \n",
       "23  37980.0   West Chester    PA  2020    49-9098.00   \n",
       "24  12060.0     Alpharetta    GA  2020    49-9098.00   \n",
       "25  41700.0  Spring Branch    TX  2020    49-3021.00   \n",
       "27  38300.0     Pittsburgh    PA  2020    49-3021.00   \n",
       "28  41700.0    San Antonio    TX  2020    41-2031.00   \n",
       "\n",
       "                               BLS Job Title       JOB_ID OCC_CODE  \n",
       "3                            General Manager  38709992297  11-1021  \n",
       "4             Maintenance Helper / Assistant  38709918452  49-9098  \n",
       "5                            General Manager  38709946390  11-1021  \n",
       "6                       Auto Body Technician  38709947747  49-3021  \n",
       "8             Maintenance Helper / Assistant  38714233901  49-9098  \n",
       "9                       Auto Body Technician  38714234989  49-3021  \n",
       "10            Maintenance Helper / Assistant  38713580400  49-9098  \n",
       "11            Maintenance Helper / Assistant  38713580614  49-9098  \n",
       "12  Automotive Service Technician / Mechanic  38720574509  49-3023  \n",
       "13            Maintenance Helper / Assistant  38720577681  49-9098  \n",
       "18                      Auto Body Technician  38731775184  49-3021  \n",
       "19                         Janitor / Cleaner  38731936074  37-2011  \n",
       "20  Automotive Service Technician / Mechanic  38732225958  49-3023  \n",
       "21  Automotive Service Technician / Mechanic  38732238048  49-3023  \n",
       "22                                 Estimator  38732353150  13-1051  \n",
       "23            Maintenance Helper / Assistant  38736054659  49-9098  \n",
       "24            Maintenance Helper / Assistant  38735886264  49-9098  \n",
       "25                      Auto Body Technician  38735894010  49-3021  \n",
       "27                      Auto Body Technician  38744692725  49-3021  \n",
       "28          Retail Sales Associate (General)  38736876560  41-2031  "
      ]
     },
     "execution_count": 51,
     "metadata": {},
     "output_type": "execute_result"
    }
   ],
   "source": [
    "posting_2020 = posting_df.loc[posting_df['YEAR'] == 2020]\n",
    "posting_2020.head(20)"
   ]
  },
  {
   "cell_type": "code",
   "execution_count": 52,
   "metadata": {},
   "outputs": [
    {
     "data": {
      "text/html": [
       "<div>\n",
       "<style scoped>\n",
       "    .dataframe tbody tr th:only-of-type {\n",
       "        vertical-align: middle;\n",
       "    }\n",
       "\n",
       "    .dataframe tbody tr th {\n",
       "        vertical-align: top;\n",
       "    }\n",
       "\n",
       "    .dataframe thead th {\n",
       "        text-align: right;\n",
       "    }\n",
       "</style>\n",
       "<table border=\"1\" class=\"dataframe\">\n",
       "  <thead>\n",
       "    <tr style=\"text-align: right;\">\n",
       "      <th></th>\n",
       "      <th>MSA_ID</th>\n",
       "      <th>YEAR</th>\n",
       "      <th>JOB_ID</th>\n",
       "    </tr>\n",
       "    <tr>\n",
       "      <th>OCC_CODE</th>\n",
       "      <th></th>\n",
       "      <th></th>\n",
       "      <th></th>\n",
       "    </tr>\n",
       "  </thead>\n",
       "  <tbody>\n",
       "    <tr>\n",
       "      <th>11-1011</th>\n",
       "      <td>41860.000000</td>\n",
       "      <td>2020.000000</td>\n",
       "      <td>3.875803e+10</td>\n",
       "    </tr>\n",
       "    <tr>\n",
       "      <th>11-1021</th>\n",
       "      <td>28558.316498</td>\n",
       "      <td>2019.597315</td>\n",
       "      <td>3.869620e+10</td>\n",
       "    </tr>\n",
       "    <tr>\n",
       "      <th>11-2021</th>\n",
       "      <td>36280.000000</td>\n",
       "      <td>2019.500000</td>\n",
       "      <td>3.862572e+10</td>\n",
       "    </tr>\n",
       "    <tr>\n",
       "      <th>11-2022</th>\n",
       "      <td>18628.000000</td>\n",
       "      <td>2019.600000</td>\n",
       "      <td>3.870868e+10</td>\n",
       "    </tr>\n",
       "    <tr>\n",
       "      <th>11-3011</th>\n",
       "      <td>19100.000000</td>\n",
       "      <td>2019.500000</td>\n",
       "      <td>3.873672e+10</td>\n",
       "    </tr>\n",
       "  </tbody>\n",
       "</table>\n",
       "</div>"
      ],
      "text/plain": [
       "                MSA_ID         YEAR        JOB_ID\n",
       "OCC_CODE                                         \n",
       "11-1011   41860.000000  2020.000000  3.875803e+10\n",
       "11-1021   28558.316498  2019.597315  3.869620e+10\n",
       "11-2021   36280.000000  2019.500000  3.862572e+10\n",
       "11-2022   18628.000000  2019.600000  3.870868e+10\n",
       "11-3011   19100.000000  2019.500000  3.873672e+10"
      ]
     },
     "execution_count": 52,
     "metadata": {},
     "output_type": "execute_result"
    }
   ],
   "source": [
    "#Perform Groubys on posting_df\n",
    "posting_df_OCC = posting_df.groupby(['OCC_CODE']).mean()\n",
    "posting_df_OCC.head()"
   ]
  },
  {
   "cell_type": "code",
   "execution_count": 53,
   "metadata": {},
   "outputs": [
    {
     "data": {
      "text/html": [
       "<div>\n",
       "<style scoped>\n",
       "    .dataframe tbody tr th:only-of-type {\n",
       "        vertical-align: middle;\n",
       "    }\n",
       "\n",
       "    .dataframe tbody tr th {\n",
       "        vertical-align: top;\n",
       "    }\n",
       "\n",
       "    .dataframe thead th {\n",
       "        text-align: right;\n",
       "    }\n",
       "</style>\n",
       "<table border=\"1\" class=\"dataframe\">\n",
       "  <thead>\n",
       "    <tr style=\"text-align: right;\">\n",
       "      <th></th>\n",
       "      <th>MSA_ID</th>\n",
       "      <th>CITY</th>\n",
       "      <th>STATE</th>\n",
       "      <th>YEAR</th>\n",
       "      <th>BLS Job Title</th>\n",
       "      <th>JOB_ID</th>\n",
       "      <th>OCC_CODE</th>\n",
       "    </tr>\n",
       "    <tr>\n",
       "      <th>LONG_OCC_CODE</th>\n",
       "      <th></th>\n",
       "      <th></th>\n",
       "      <th></th>\n",
       "      <th></th>\n",
       "      <th></th>\n",
       "      <th></th>\n",
       "      <th></th>\n",
       "    </tr>\n",
       "  </thead>\n",
       "  <tbody>\n",
       "    <tr>\n",
       "      <th>11-1011.00</th>\n",
       "      <td>1</td>\n",
       "      <td>1</td>\n",
       "      <td>1</td>\n",
       "      <td>1</td>\n",
       "      <td>1</td>\n",
       "      <td>1</td>\n",
       "      <td>1</td>\n",
       "    </tr>\n",
       "    <tr>\n",
       "      <th>11-1021.91</th>\n",
       "      <td>4</td>\n",
       "      <td>4</td>\n",
       "      <td>4</td>\n",
       "      <td>4</td>\n",
       "      <td>4</td>\n",
       "      <td>4</td>\n",
       "      <td>4</td>\n",
       "    </tr>\n",
       "    <tr>\n",
       "      <th>11-1021.92</th>\n",
       "      <td>293</td>\n",
       "      <td>293</td>\n",
       "      <td>294</td>\n",
       "      <td>294</td>\n",
       "      <td>294</td>\n",
       "      <td>294</td>\n",
       "      <td>294</td>\n",
       "    </tr>\n",
       "    <tr>\n",
       "      <th>11-2021.91</th>\n",
       "      <td>1</td>\n",
       "      <td>1</td>\n",
       "      <td>1</td>\n",
       "      <td>1</td>\n",
       "      <td>1</td>\n",
       "      <td>1</td>\n",
       "      <td>1</td>\n",
       "    </tr>\n",
       "    <tr>\n",
       "      <th>11-2021.92</th>\n",
       "      <td>1</td>\n",
       "      <td>1</td>\n",
       "      <td>1</td>\n",
       "      <td>1</td>\n",
       "      <td>1</td>\n",
       "      <td>1</td>\n",
       "      <td>1</td>\n",
       "    </tr>\n",
       "  </tbody>\n",
       "</table>\n",
       "</div>"
      ],
      "text/plain": [
       "               MSA_ID  CITY  STATE  YEAR  BLS Job Title  JOB_ID  OCC_CODE\n",
       "LONG_OCC_CODE                                                            \n",
       "11-1011.00          1     1      1     1              1       1         1\n",
       "11-1021.91          4     4      4     4              4       4         4\n",
       "11-1021.92        293   293    294   294            294     294       294\n",
       "11-2021.91          1     1      1     1              1       1         1\n",
       "11-2021.92          1     1      1     1              1       1         1"
      ]
     },
     "execution_count": 53,
     "metadata": {},
     "output_type": "execute_result"
    }
   ],
   "source": [
    "posting_df_LONG_OCC = posting_df.groupby(['LONG_OCC_CODE']).count()\n",
    "posting_df_LONG_OCC.head()"
   ]
  },
  {
   "cell_type": "code",
   "execution_count": 54,
   "metadata": {},
   "outputs": [
    {
     "data": {
      "text/html": [
       "<div>\n",
       "<style scoped>\n",
       "    .dataframe tbody tr th:only-of-type {\n",
       "        vertical-align: middle;\n",
       "    }\n",
       "\n",
       "    .dataframe tbody tr th {\n",
       "        vertical-align: top;\n",
       "    }\n",
       "\n",
       "    .dataframe thead th {\n",
       "        text-align: right;\n",
       "    }\n",
       "</style>\n",
       "<table border=\"1\" class=\"dataframe\">\n",
       "  <thead>\n",
       "    <tr style=\"text-align: right;\">\n",
       "      <th></th>\n",
       "      <th>CITY</th>\n",
       "      <th>STATE</th>\n",
       "      <th>YEAR</th>\n",
       "      <th>LONG_OCC_CODE</th>\n",
       "      <th>BLS Job Title</th>\n",
       "      <th>JOB_ID</th>\n",
       "      <th>OCC_CODE</th>\n",
       "    </tr>\n",
       "    <tr>\n",
       "      <th>MSA_ID</th>\n",
       "      <th></th>\n",
       "      <th></th>\n",
       "      <th></th>\n",
       "      <th></th>\n",
       "      <th></th>\n",
       "      <th></th>\n",
       "      <th></th>\n",
       "    </tr>\n",
       "  </thead>\n",
       "  <tbody>\n",
       "    <tr>\n",
       "      <th>10420.0</th>\n",
       "      <td>15</td>\n",
       "      <td>15</td>\n",
       "      <td>15</td>\n",
       "      <td>15</td>\n",
       "      <td>15</td>\n",
       "      <td>15</td>\n",
       "      <td>15</td>\n",
       "    </tr>\n",
       "    <tr>\n",
       "      <th>10900.0</th>\n",
       "      <td>12</td>\n",
       "      <td>12</td>\n",
       "      <td>12</td>\n",
       "      <td>12</td>\n",
       "      <td>12</td>\n",
       "      <td>12</td>\n",
       "      <td>12</td>\n",
       "    </tr>\n",
       "    <tr>\n",
       "      <th>12060.0</th>\n",
       "      <td>126</td>\n",
       "      <td>126</td>\n",
       "      <td>126</td>\n",
       "      <td>126</td>\n",
       "      <td>126</td>\n",
       "      <td>126</td>\n",
       "      <td>126</td>\n",
       "    </tr>\n",
       "    <tr>\n",
       "      <th>12420.0</th>\n",
       "      <td>90</td>\n",
       "      <td>90</td>\n",
       "      <td>90</td>\n",
       "      <td>90</td>\n",
       "      <td>90</td>\n",
       "      <td>90</td>\n",
       "      <td>90</td>\n",
       "    </tr>\n",
       "    <tr>\n",
       "      <th>12580.0</th>\n",
       "      <td>20</td>\n",
       "      <td>20</td>\n",
       "      <td>20</td>\n",
       "      <td>20</td>\n",
       "      <td>20</td>\n",
       "      <td>20</td>\n",
       "      <td>20</td>\n",
       "    </tr>\n",
       "  </tbody>\n",
       "</table>\n",
       "</div>"
      ],
      "text/plain": [
       "         CITY  STATE  YEAR  LONG_OCC_CODE  BLS Job Title  JOB_ID  OCC_CODE\n",
       "MSA_ID                                                                    \n",
       "10420.0    15     15    15             15             15      15        15\n",
       "10900.0    12     12    12             12             12      12        12\n",
       "12060.0   126    126   126            126            126     126       126\n",
       "12420.0    90     90    90             90             90      90        90\n",
       "12580.0    20     20    20             20             20      20        20"
      ]
     },
     "execution_count": 54,
     "metadata": {},
     "output_type": "execute_result"
    }
   ],
   "source": [
    "posting_df_MSA = posting_df.groupby(['MSA_ID']).count()\n",
    "posting_df_MSA.head()"
   ]
  },
  {
   "cell_type": "code",
   "execution_count": 55,
   "metadata": {},
   "outputs": [
    {
     "data": {
      "text/html": [
       "<div>\n",
       "<style scoped>\n",
       "    .dataframe tbody tr th:only-of-type {\n",
       "        vertical-align: middle;\n",
       "    }\n",
       "\n",
       "    .dataframe tbody tr th {\n",
       "        vertical-align: top;\n",
       "    }\n",
       "\n",
       "    .dataframe thead th {\n",
       "        text-align: right;\n",
       "    }\n",
       "</style>\n",
       "<table border=\"1\" class=\"dataframe\">\n",
       "  <thead>\n",
       "    <tr style=\"text-align: right;\">\n",
       "      <th></th>\n",
       "      <th>MSA_ID</th>\n",
       "      <th>Total Employment</th>\n",
       "      <th>Jobs per 1000</th>\n",
       "      <th>Location Quotient</th>\n",
       "      <th>Mean Annual Wage</th>\n",
       "      <th>Annual Wage 10th Pct</th>\n",
       "      <th>Annual Wage 25th Pct</th>\n",
       "      <th>Median Annual Wage</th>\n",
       "      <th>Annual Wage 75th Pct</th>\n",
       "      <th>Annual Wage 90th Pct</th>\n",
       "    </tr>\n",
       "    <tr>\n",
       "      <th>OCC_CODE</th>\n",
       "      <th></th>\n",
       "      <th></th>\n",
       "      <th></th>\n",
       "      <th></th>\n",
       "      <th></th>\n",
       "      <th></th>\n",
       "      <th></th>\n",
       "      <th></th>\n",
       "      <th></th>\n",
       "      <th></th>\n",
       "    </tr>\n",
       "  </thead>\n",
       "  <tbody>\n",
       "    <tr>\n",
       "      <th>11-1011</th>\n",
       "      <td>29914.000000</td>\n",
       "      <td>92.666667</td>\n",
       "      <td>1.654000</td>\n",
       "      <td>1.181333</td>\n",
       "      <td>105342.666667</td>\n",
       "      <td>53819.333333</td>\n",
       "      <td>68726.666667</td>\n",
       "      <td>93689.333333</td>\n",
       "      <td>123424.666667</td>\n",
       "      <td>173630.000000</td>\n",
       "    </tr>\n",
       "    <tr>\n",
       "      <th>11-1021</th>\n",
       "      <td>31450.996169</td>\n",
       "      <td>2082.260536</td>\n",
       "      <td>14.993027</td>\n",
       "      <td>0.917471</td>\n",
       "      <td>96114.444444</td>\n",
       "      <td>39498.160920</td>\n",
       "      <td>56049.501916</td>\n",
       "      <td>80143.524904</td>\n",
       "      <td>118010.574713</td>\n",
       "      <td>172455.478927</td>\n",
       "    </tr>\n",
       "    <tr>\n",
       "      <th>11-1031</th>\n",
       "      <td>31091.719745</td>\n",
       "      <td>143.184713</td>\n",
       "      <td>0.574662</td>\n",
       "      <td>1.614522</td>\n",
       "      <td>44833.375796</td>\n",
       "      <td>25077.388535</td>\n",
       "      <td>28214.203822</td>\n",
       "      <td>36569.681529</td>\n",
       "      <td>52524.203822</td>\n",
       "      <td>77397.898089</td>\n",
       "    </tr>\n",
       "    <tr>\n",
       "      <th>11-2011</th>\n",
       "      <td>36955.952381</td>\n",
       "      <td>153.095238</td>\n",
       "      <td>0.149881</td>\n",
       "      <td>0.876667</td>\n",
       "      <td>103666.428571</td>\n",
       "      <td>53591.428571</td>\n",
       "      <td>71100.000000</td>\n",
       "      <td>94747.619048</td>\n",
       "      <td>125297.619048</td>\n",
       "      <td>164601.190476</td>\n",
       "    </tr>\n",
       "    <tr>\n",
       "      <th>11-2021</th>\n",
       "      <td>33202.287582</td>\n",
       "      <td>339.803922</td>\n",
       "      <td>1.028876</td>\n",
       "      <td>0.572876</td>\n",
       "      <td>113340.457516</td>\n",
       "      <td>62261.830065</td>\n",
       "      <td>78638.888889</td>\n",
       "      <td>103665.294118</td>\n",
       "      <td>137923.333333</td>\n",
       "      <td>178686.470588</td>\n",
       "    </tr>\n",
       "  </tbody>\n",
       "</table>\n",
       "</div>"
      ],
      "text/plain": [
       "                MSA_ID  Total Employment  Jobs per 1000  Location Quotient  \\\n",
       "OCC_CODE                                                                     \n",
       "11-1011   29914.000000         92.666667       1.654000           1.181333   \n",
       "11-1021   31450.996169       2082.260536      14.993027           0.917471   \n",
       "11-1031   31091.719745        143.184713       0.574662           1.614522   \n",
       "11-2011   36955.952381        153.095238       0.149881           0.876667   \n",
       "11-2021   33202.287582        339.803922       1.028876           0.572876   \n",
       "\n",
       "          Mean Annual Wage  Annual Wage 10th Pct  Annual Wage 25th Pct  \\\n",
       "OCC_CODE                                                                 \n",
       "11-1011      105342.666667          53819.333333          68726.666667   \n",
       "11-1021       96114.444444          39498.160920          56049.501916   \n",
       "11-1031       44833.375796          25077.388535          28214.203822   \n",
       "11-2011      103666.428571          53591.428571          71100.000000   \n",
       "11-2021      113340.457516          62261.830065          78638.888889   \n",
       "\n",
       "          Median Annual Wage  Annual Wage 75th Pct  Annual Wage 90th Pct  \n",
       "OCC_CODE                                                                  \n",
       "11-1011         93689.333333         123424.666667         173630.000000  \n",
       "11-1021         80143.524904         118010.574713         172455.478927  \n",
       "11-1031         36569.681529          52524.203822          77397.898089  \n",
       "11-2011         94747.619048         125297.619048         164601.190476  \n",
       "11-2021        103665.294118         137923.333333         178686.470588  "
      ]
     },
     "execution_count": 55,
     "metadata": {},
     "output_type": "execute_result"
    }
   ],
   "source": [
    "#Perform Groubys on msa_df\n",
    "msa_df_OCC = msa_df.groupby(['OCC_CODE']).mean()\n",
    "msa_df_OCC.head()"
   ]
  },
  {
   "cell_type": "code",
   "execution_count": 56,
   "metadata": {},
   "outputs": [
    {
     "data": {
      "text/html": [
       "<div>\n",
       "<style scoped>\n",
       "    .dataframe tbody tr th:only-of-type {\n",
       "        vertical-align: middle;\n",
       "    }\n",
       "\n",
       "    .dataframe tbody tr th {\n",
       "        vertical-align: top;\n",
       "    }\n",
       "\n",
       "    .dataframe thead th {\n",
       "        text-align: right;\n",
       "    }\n",
       "</style>\n",
       "<table border=\"1\" class=\"dataframe\">\n",
       "  <thead>\n",
       "    <tr style=\"text-align: right;\">\n",
       "      <th></th>\n",
       "      <th>Total Employment</th>\n",
       "      <th>Jobs per 1000</th>\n",
       "      <th>Location Quotient</th>\n",
       "      <th>Mean Annual Wage</th>\n",
       "      <th>Annual Wage 10th Pct</th>\n",
       "      <th>Annual Wage 25th Pct</th>\n",
       "      <th>Median Annual Wage</th>\n",
       "      <th>Annual Wage 75th Pct</th>\n",
       "      <th>Annual Wage 90th Pct</th>\n",
       "    </tr>\n",
       "    <tr>\n",
       "      <th>MSA_ID</th>\n",
       "      <th></th>\n",
       "      <th></th>\n",
       "      <th></th>\n",
       "      <th></th>\n",
       "      <th></th>\n",
       "      <th></th>\n",
       "      <th></th>\n",
       "      <th></th>\n",
       "      <th></th>\n",
       "    </tr>\n",
       "  </thead>\n",
       "  <tbody>\n",
       "    <tr>\n",
       "      <th>10180</th>\n",
       "      <td>256.517857</td>\n",
       "      <td>3.851402</td>\n",
       "      <td>1.314375</td>\n",
       "      <td>46104.776786</td>\n",
       "      <td>29557.455357</td>\n",
       "      <td>35431.428571</td>\n",
       "      <td>43662.142857</td>\n",
       "      <td>54407.678571</td>\n",
       "      <td>67049.017857</td>\n",
       "    </tr>\n",
       "    <tr>\n",
       "      <th>10380</th>\n",
       "      <td>257.872340</td>\n",
       "      <td>5.659014</td>\n",
       "      <td>1.862553</td>\n",
       "      <td>30245.390071</td>\n",
       "      <td>20116.170213</td>\n",
       "      <td>23464.468085</td>\n",
       "      <td>28356.808511</td>\n",
       "      <td>35213.404255</td>\n",
       "      <td>43742.269504</td>\n",
       "    </tr>\n",
       "    <tr>\n",
       "      <th>10420</th>\n",
       "      <td>746.925000</td>\n",
       "      <td>2.266470</td>\n",
       "      <td>1.190975</td>\n",
       "      <td>52309.375000</td>\n",
       "      <td>33143.050000</td>\n",
       "      <td>40158.475000</td>\n",
       "      <td>50064.025000</td>\n",
       "      <td>62337.450000</td>\n",
       "      <td>75381.650000</td>\n",
       "    </tr>\n",
       "    <tr>\n",
       "      <th>10500</th>\n",
       "      <td>255.611111</td>\n",
       "      <td>4.335828</td>\n",
       "      <td>1.305111</td>\n",
       "      <td>46614.722222</td>\n",
       "      <td>28690.277778</td>\n",
       "      <td>35762.333333</td>\n",
       "      <td>44932.277778</td>\n",
       "      <td>55331.833333</td>\n",
       "      <td>67193.888889</td>\n",
       "    </tr>\n",
       "    <tr>\n",
       "      <th>10540</th>\n",
       "      <td>177.570093</td>\n",
       "      <td>3.939005</td>\n",
       "      <td>2.234813</td>\n",
       "      <td>51859.719626</td>\n",
       "      <td>35119.158879</td>\n",
       "      <td>41025.654206</td>\n",
       "      <td>50036.775701</td>\n",
       "      <td>60816.962617</td>\n",
       "      <td>72574.532710</td>\n",
       "    </tr>\n",
       "  </tbody>\n",
       "</table>\n",
       "</div>"
      ],
      "text/plain": [
       "        Total Employment  Jobs per 1000  Location Quotient  Mean Annual Wage  \\\n",
       "MSA_ID                                                                         \n",
       "10180         256.517857       3.851402           1.314375      46104.776786   \n",
       "10380         257.872340       5.659014           1.862553      30245.390071   \n",
       "10420         746.925000       2.266470           1.190975      52309.375000   \n",
       "10500         255.611111       4.335828           1.305111      46614.722222   \n",
       "10540         177.570093       3.939005           2.234813      51859.719626   \n",
       "\n",
       "        Annual Wage 10th Pct  Annual Wage 25th Pct  Median Annual Wage  \\\n",
       "MSA_ID                                                                   \n",
       "10180           29557.455357          35431.428571        43662.142857   \n",
       "10380           20116.170213          23464.468085        28356.808511   \n",
       "10420           33143.050000          40158.475000        50064.025000   \n",
       "10500           28690.277778          35762.333333        44932.277778   \n",
       "10540           35119.158879          41025.654206        50036.775701   \n",
       "\n",
       "        Annual Wage 75th Pct  Annual Wage 90th Pct  \n",
       "MSA_ID                                              \n",
       "10180           54407.678571          67049.017857  \n",
       "10380           35213.404255          43742.269504  \n",
       "10420           62337.450000          75381.650000  \n",
       "10500           55331.833333          67193.888889  \n",
       "10540           60816.962617          72574.532710  "
      ]
     },
     "execution_count": 56,
     "metadata": {},
     "output_type": "execute_result"
    }
   ],
   "source": [
    "msa_df_MSA = msa_df.groupby(['MSA_ID']).mean()\n",
    "msa_df_MSA.head()"
   ]
  },
  {
   "cell_type": "code",
   "execution_count": 57,
   "metadata": {},
   "outputs": [
    {
     "name": "stdout",
     "output_type": "stream",
     "text": [
      "292\n",
      "236\n",
      "967\n",
      "773\n",
      "76\n",
      "60\n",
      "85\n",
      "769\n",
      "396\n"
     ]
    }
   ],
   "source": [
    "print(national_df_LONG['Non-Entry Level'].count())\n",
    "print(national_df_OCC['Non-Entry Level'].count())\n",
    "print(skill_df_LONG['Artistic_oi'].count())\n",
    "print(skill_df_OCC['Artistic_oi'].count())\n",
    "print(posting_df_OCC['MSA_ID'].count())\n",
    "print(posting_df_MSA['YEAR'].count())\n",
    "print(posting_df_LONG_OCC['YEAR'].count())\n",
    "print(msa_df_OCC['Total Employment'].count())\n",
    "print(msa_df_MSA['Total Employment'].count())"
   ]
  },
  {
   "cell_type": "code",
   "execution_count": 58,
   "metadata": {},
   "outputs": [],
   "source": [
    "#######\n",
    "#Merge#\n",
    "#######"
   ]
  },
  {
   "cell_type": "code",
   "execution_count": 59,
   "metadata": {
    "scrolled": false
   },
   "outputs": [
    {
     "data": {
      "text/html": [
       "<div>\n",
       "<style scoped>\n",
       "    .dataframe tbody tr th:only-of-type {\n",
       "        vertical-align: middle;\n",
       "    }\n",
       "\n",
       "    .dataframe tbody tr th {\n",
       "        vertical-align: top;\n",
       "    }\n",
       "\n",
       "    .dataframe thead th {\n",
       "        text-align: right;\n",
       "    }\n",
       "</style>\n",
       "<table border=\"1\" class=\"dataframe\">\n",
       "  <thead>\n",
       "    <tr style=\"text-align: right;\">\n",
       "      <th></th>\n",
       "      <th>MSA_ID</th>\n",
       "      <th>CITY</th>\n",
       "      <th>STATE</th>\n",
       "      <th>YEAR</th>\n",
       "      <th>BLS Job Title_x</th>\n",
       "      <th>JOB_ID</th>\n",
       "      <th>OCC_CODE</th>\n",
       "      <th>BLS Job Title_y</th>\n",
       "    </tr>\n",
       "    <tr>\n",
       "      <th>LONG_OCC_CODE</th>\n",
       "      <th></th>\n",
       "      <th></th>\n",
       "      <th></th>\n",
       "      <th></th>\n",
       "      <th></th>\n",
       "      <th></th>\n",
       "      <th></th>\n",
       "      <th></th>\n",
       "    </tr>\n",
       "  </thead>\n",
       "  <tbody>\n",
       "    <tr>\n",
       "      <th>11-1011.00</th>\n",
       "      <td>1</td>\n",
       "      <td>1</td>\n",
       "      <td>1</td>\n",
       "      <td>1</td>\n",
       "      <td>1</td>\n",
       "      <td>1</td>\n",
       "      <td>1</td>\n",
       "      <td>Chief Executive Officer</td>\n",
       "    </tr>\n",
       "    <tr>\n",
       "      <th>11-1021.91</th>\n",
       "      <td>4</td>\n",
       "      <td>4</td>\n",
       "      <td>4</td>\n",
       "      <td>4</td>\n",
       "      <td>4</td>\n",
       "      <td>4</td>\n",
       "      <td>4</td>\n",
       "      <td>Director of Operations</td>\n",
       "    </tr>\n",
       "    <tr>\n",
       "      <th>11-1021.92</th>\n",
       "      <td>293</td>\n",
       "      <td>293</td>\n",
       "      <td>294</td>\n",
       "      <td>294</td>\n",
       "      <td>294</td>\n",
       "      <td>294</td>\n",
       "      <td>294</td>\n",
       "      <td>General Manager</td>\n",
       "    </tr>\n",
       "    <tr>\n",
       "      <th>11-2021.91</th>\n",
       "      <td>1</td>\n",
       "      <td>1</td>\n",
       "      <td>1</td>\n",
       "      <td>1</td>\n",
       "      <td>1</td>\n",
       "      <td>1</td>\n",
       "      <td>1</td>\n",
       "      <td>Vice President of Marketing</td>\n",
       "    </tr>\n",
       "    <tr>\n",
       "      <th>11-2021.92</th>\n",
       "      <td>1</td>\n",
       "      <td>1</td>\n",
       "      <td>1</td>\n",
       "      <td>1</td>\n",
       "      <td>1</td>\n",
       "      <td>1</td>\n",
       "      <td>1</td>\n",
       "      <td>Software Product Manager</td>\n",
       "    </tr>\n",
       "    <tr>\n",
       "      <th>11-2022.00</th>\n",
       "      <td>5</td>\n",
       "      <td>5</td>\n",
       "      <td>5</td>\n",
       "      <td>5</td>\n",
       "      <td>5</td>\n",
       "      <td>5</td>\n",
       "      <td>5</td>\n",
       "      <td>Sales Manager</td>\n",
       "    </tr>\n",
       "    <tr>\n",
       "      <th>11-3011.91</th>\n",
       "      <td>4</td>\n",
       "      <td>4</td>\n",
       "      <td>4</td>\n",
       "      <td>4</td>\n",
       "      <td>4</td>\n",
       "      <td>4</td>\n",
       "      <td>4</td>\n",
       "      <td>Facilities Manager</td>\n",
       "    </tr>\n",
       "    <tr>\n",
       "      <th>11-3031.00</th>\n",
       "      <td>1</td>\n",
       "      <td>1</td>\n",
       "      <td>1</td>\n",
       "      <td>1</td>\n",
       "      <td>1</td>\n",
       "      <td>1</td>\n",
       "      <td>1</td>\n",
       "      <td>Accounting Manager</td>\n",
       "    </tr>\n",
       "    <tr>\n",
       "      <th>11-3031.92</th>\n",
       "      <td>1</td>\n",
       "      <td>1</td>\n",
       "      <td>1</td>\n",
       "      <td>1</td>\n",
       "      <td>1</td>\n",
       "      <td>1</td>\n",
       "      <td>1</td>\n",
       "      <td>Financial Reporting Manager</td>\n",
       "    </tr>\n",
       "    <tr>\n",
       "      <th>11-9013.02</th>\n",
       "      <td>1</td>\n",
       "      <td>1</td>\n",
       "      <td>1</td>\n",
       "      <td>1</td>\n",
       "      <td>1</td>\n",
       "      <td>1</td>\n",
       "      <td>1</td>\n",
       "      <td>Farm / Ranch Manager</td>\n",
       "    </tr>\n",
       "    <tr>\n",
       "      <th>11-9021.00</th>\n",
       "      <td>1</td>\n",
       "      <td>1</td>\n",
       "      <td>1</td>\n",
       "      <td>1</td>\n",
       "      <td>1</td>\n",
       "      <td>1</td>\n",
       "      <td>1</td>\n",
       "      <td>Construction Manager</td>\n",
       "    </tr>\n",
       "    <tr>\n",
       "      <th>11-9111.00</th>\n",
       "      <td>2</td>\n",
       "      <td>2</td>\n",
       "      <td>2</td>\n",
       "      <td>2</td>\n",
       "      <td>2</td>\n",
       "      <td>2</td>\n",
       "      <td>2</td>\n",
       "      <td>Healthcare Administrator</td>\n",
       "    </tr>\n",
       "    <tr>\n",
       "      <th>11-9111.94</th>\n",
       "      <td>1</td>\n",
       "      <td>1</td>\n",
       "      <td>1</td>\n",
       "      <td>1</td>\n",
       "      <td>1</td>\n",
       "      <td>1</td>\n",
       "      <td>1</td>\n",
       "      <td>Medical Director (General)</td>\n",
       "    </tr>\n",
       "    <tr>\n",
       "      <th>11-9199.96</th>\n",
       "      <td>2</td>\n",
       "      <td>2</td>\n",
       "      <td>2</td>\n",
       "      <td>2</td>\n",
       "      <td>2</td>\n",
       "      <td>2</td>\n",
       "      <td>2</td>\n",
       "      <td>Procurement / Sourcing Manager</td>\n",
       "    </tr>\n",
       "    <tr>\n",
       "      <th>13-1021.00</th>\n",
       "      <td>1</td>\n",
       "      <td>1</td>\n",
       "      <td>1</td>\n",
       "      <td>1</td>\n",
       "      <td>1</td>\n",
       "      <td>1</td>\n",
       "      <td>1</td>\n",
       "      <td>Procurement / Sourcing Specialist</td>\n",
       "    </tr>\n",
       "    <tr>\n",
       "      <th>13-1032.00</th>\n",
       "      <td>539</td>\n",
       "      <td>539</td>\n",
       "      <td>539</td>\n",
       "      <td>539</td>\n",
       "      <td>539</td>\n",
       "      <td>539</td>\n",
       "      <td>539</td>\n",
       "      <td>Auto Damage Appraiser</td>\n",
       "    </tr>\n",
       "    <tr>\n",
       "      <th>13-1051.00</th>\n",
       "      <td>175</td>\n",
       "      <td>175</td>\n",
       "      <td>175</td>\n",
       "      <td>175</td>\n",
       "      <td>175</td>\n",
       "      <td>175</td>\n",
       "      <td>175</td>\n",
       "      <td>Estimator</td>\n",
       "    </tr>\n",
       "    <tr>\n",
       "      <th>13-1071.91</th>\n",
       "      <td>18</td>\n",
       "      <td>18</td>\n",
       "      <td>18</td>\n",
       "      <td>18</td>\n",
       "      <td>18</td>\n",
       "      <td>18</td>\n",
       "      <td>18</td>\n",
       "      <td>Recruiter (General)</td>\n",
       "    </tr>\n",
       "    <tr>\n",
       "      <th>13-1071.92</th>\n",
       "      <td>6</td>\n",
       "      <td>6</td>\n",
       "      <td>6</td>\n",
       "      <td>6</td>\n",
       "      <td>6</td>\n",
       "      <td>6</td>\n",
       "      <td>6</td>\n",
       "      <td>Human Resources Specialist</td>\n",
       "    </tr>\n",
       "    <tr>\n",
       "      <th>13-1081.00</th>\n",
       "      <td>1</td>\n",
       "      <td>1</td>\n",
       "      <td>1</td>\n",
       "      <td>1</td>\n",
       "      <td>1</td>\n",
       "      <td>1</td>\n",
       "      <td>1</td>\n",
       "      <td>Logistician</td>\n",
       "    </tr>\n",
       "    <tr>\n",
       "      <th>13-1111.00</th>\n",
       "      <td>1</td>\n",
       "      <td>1</td>\n",
       "      <td>1</td>\n",
       "      <td>1</td>\n",
       "      <td>1</td>\n",
       "      <td>1</td>\n",
       "      <td>1</td>\n",
       "      <td>Program Analyst</td>\n",
       "    </tr>\n",
       "    <tr>\n",
       "      <th>13-1121.00</th>\n",
       "      <td>1</td>\n",
       "      <td>1</td>\n",
       "      <td>1</td>\n",
       "      <td>1</td>\n",
       "      <td>1</td>\n",
       "      <td>1</td>\n",
       "      <td>1</td>\n",
       "      <td>Event Planner</td>\n",
       "    </tr>\n",
       "    <tr>\n",
       "      <th>13-1141.00</th>\n",
       "      <td>1</td>\n",
       "      <td>1</td>\n",
       "      <td>1</td>\n",
       "      <td>1</td>\n",
       "      <td>1</td>\n",
       "      <td>1</td>\n",
       "      <td>1</td>\n",
       "      <td>Compensation / Benefits Analyst</td>\n",
       "    </tr>\n",
       "    <tr>\n",
       "      <th>13-1151.00</th>\n",
       "      <td>1</td>\n",
       "      <td>1</td>\n",
       "      <td>1</td>\n",
       "      <td>1</td>\n",
       "      <td>1</td>\n",
       "      <td>1</td>\n",
       "      <td>1</td>\n",
       "      <td>Training and Development Specialist</td>\n",
       "    </tr>\n",
       "    <tr>\n",
       "      <th>13-1161.91</th>\n",
       "      <td>10</td>\n",
       "      <td>10</td>\n",
       "      <td>10</td>\n",
       "      <td>10</td>\n",
       "      <td>10</td>\n",
       "      <td>10</td>\n",
       "      <td>10</td>\n",
       "      <td>Marketing Campaign Analyst</td>\n",
       "    </tr>\n",
       "    <tr>\n",
       "      <th>13-1199.02</th>\n",
       "      <td>1</td>\n",
       "      <td>1</td>\n",
       "      <td>1</td>\n",
       "      <td>1</td>\n",
       "      <td>1</td>\n",
       "      <td>1</td>\n",
       "      <td>1</td>\n",
       "      <td>Cyber Security Analyst</td>\n",
       "    </tr>\n",
       "    <tr>\n",
       "      <th>13-2011.02</th>\n",
       "      <td>1</td>\n",
       "      <td>1</td>\n",
       "      <td>1</td>\n",
       "      <td>1</td>\n",
       "      <td>1</td>\n",
       "      <td>1</td>\n",
       "      <td>1</td>\n",
       "      <td>Compliance Auditor</td>\n",
       "    </tr>\n",
       "    <tr>\n",
       "      <th>13-2011.93</th>\n",
       "      <td>2</td>\n",
       "      <td>2</td>\n",
       "      <td>2</td>\n",
       "      <td>2</td>\n",
       "      <td>2</td>\n",
       "      <td>2</td>\n",
       "      <td>2</td>\n",
       "      <td>Senior Accountant</td>\n",
       "    </tr>\n",
       "    <tr>\n",
       "      <th>13-2011.94</th>\n",
       "      <td>4</td>\n",
       "      <td>4</td>\n",
       "      <td>4</td>\n",
       "      <td>4</td>\n",
       "      <td>4</td>\n",
       "      <td>4</td>\n",
       "      <td>4</td>\n",
       "      <td>Account Representative</td>\n",
       "    </tr>\n",
       "    <tr>\n",
       "      <th>13-2021.00</th>\n",
       "      <td>15</td>\n",
       "      <td>15</td>\n",
       "      <td>15</td>\n",
       "      <td>15</td>\n",
       "      <td>15</td>\n",
       "      <td>15</td>\n",
       "      <td>15</td>\n",
       "      <td>Property Appraiser / Assessor</td>\n",
       "    </tr>\n",
       "  </tbody>\n",
       "</table>\n",
       "</div>"
      ],
      "text/plain": [
       "               MSA_ID  CITY  STATE  YEAR  BLS Job Title_x  JOB_ID  OCC_CODE  \\\n",
       "LONG_OCC_CODE                                                                 \n",
       "11-1011.00          1     1      1     1                1       1         1   \n",
       "11-1021.91          4     4      4     4                4       4         4   \n",
       "11-1021.92        293   293    294   294              294     294       294   \n",
       "11-2021.91          1     1      1     1                1       1         1   \n",
       "11-2021.92          1     1      1     1                1       1         1   \n",
       "11-2022.00          5     5      5     5                5       5         5   \n",
       "11-3011.91          4     4      4     4                4       4         4   \n",
       "11-3031.00          1     1      1     1                1       1         1   \n",
       "11-3031.92          1     1      1     1                1       1         1   \n",
       "11-9013.02          1     1      1     1                1       1         1   \n",
       "11-9021.00          1     1      1     1                1       1         1   \n",
       "11-9111.00          2     2      2     2                2       2         2   \n",
       "11-9111.94          1     1      1     1                1       1         1   \n",
       "11-9199.96          2     2      2     2                2       2         2   \n",
       "13-1021.00          1     1      1     1                1       1         1   \n",
       "13-1032.00        539   539    539   539              539     539       539   \n",
       "13-1051.00        175   175    175   175              175     175       175   \n",
       "13-1071.91         18    18     18    18               18      18        18   \n",
       "13-1071.92          6     6      6     6                6       6         6   \n",
       "13-1081.00          1     1      1     1                1       1         1   \n",
       "13-1111.00          1     1      1     1                1       1         1   \n",
       "13-1121.00          1     1      1     1                1       1         1   \n",
       "13-1141.00          1     1      1     1                1       1         1   \n",
       "13-1151.00          1     1      1     1                1       1         1   \n",
       "13-1161.91         10    10     10    10               10      10        10   \n",
       "13-1199.02          1     1      1     1                1       1         1   \n",
       "13-2011.02          1     1      1     1                1       1         1   \n",
       "13-2011.93          2     2      2     2                2       2         2   \n",
       "13-2011.94          4     4      4     4                4       4         4   \n",
       "13-2021.00         15    15     15    15               15      15        15   \n",
       "\n",
       "                                   BLS Job Title_y  \n",
       "LONG_OCC_CODE                                       \n",
       "11-1011.00                 Chief Executive Officer  \n",
       "11-1021.91                  Director of Operations  \n",
       "11-1021.92                         General Manager  \n",
       "11-2021.91             Vice President of Marketing  \n",
       "11-2021.92                Software Product Manager  \n",
       "11-2022.00                           Sales Manager  \n",
       "11-3011.91                      Facilities Manager  \n",
       "11-3031.00                      Accounting Manager  \n",
       "11-3031.92             Financial Reporting Manager  \n",
       "11-9013.02                    Farm / Ranch Manager  \n",
       "11-9021.00                    Construction Manager  \n",
       "11-9111.00                Healthcare Administrator  \n",
       "11-9111.94              Medical Director (General)  \n",
       "11-9199.96          Procurement / Sourcing Manager  \n",
       "13-1021.00       Procurement / Sourcing Specialist  \n",
       "13-1032.00                   Auto Damage Appraiser  \n",
       "13-1051.00                               Estimator  \n",
       "13-1071.91                     Recruiter (General)  \n",
       "13-1071.92              Human Resources Specialist  \n",
       "13-1081.00                             Logistician  \n",
       "13-1111.00                         Program Analyst  \n",
       "13-1121.00                           Event Planner  \n",
       "13-1141.00         Compensation / Benefits Analyst  \n",
       "13-1151.00     Training and Development Specialist  \n",
       "13-1161.91              Marketing Campaign Analyst  \n",
       "13-1199.02                  Cyber Security Analyst  \n",
       "13-2011.02                      Compliance Auditor  \n",
       "13-2011.93                       Senior Accountant  \n",
       "13-2011.94                  Account Representative  \n",
       "13-2021.00           Property Appraiser / Assessor  "
      ]
     },
     "execution_count": 59,
     "metadata": {},
     "output_type": "execute_result"
    }
   ],
   "source": [
    "#Create DF to analyze postings per position\n",
    "posting_position_freq = posting_df_LONG_OCC.merge(LONG_OCC_TITLE, on='LONG_OCC_CODE', how='inner', left_index=False, right_index=True)\n",
    "posting_position_freq.head(30)"
   ]
  },
  {
   "cell_type": "code",
   "execution_count": 60,
   "metadata": {},
   "outputs": [
    {
     "data": {
      "text/html": [
       "<div>\n",
       "<style scoped>\n",
       "    .dataframe tbody tr th:only-of-type {\n",
       "        vertical-align: middle;\n",
       "    }\n",
       "\n",
       "    .dataframe tbody tr th {\n",
       "        vertical-align: top;\n",
       "    }\n",
       "\n",
       "    .dataframe thead th {\n",
       "        text-align: right;\n",
       "    }\n",
       "</style>\n",
       "<table border=\"1\" class=\"dataframe\">\n",
       "  <thead>\n",
       "    <tr style=\"text-align: right;\">\n",
       "      <th></th>\n",
       "      <th>MSA_ID</th>\n",
       "      <th>CITY</th>\n",
       "      <th>STATE</th>\n",
       "      <th>YEAR</th>\n",
       "      <th>BLS Job Title_x</th>\n",
       "      <th>JOB_ID</th>\n",
       "      <th>OCC_CODE</th>\n",
       "      <th>BLS Job Title_y</th>\n",
       "      <th>Job Title</th>\n",
       "      <th>Job Count</th>\n",
       "    </tr>\n",
       "    <tr>\n",
       "      <th>LONG_OCC_CODE</th>\n",
       "      <th></th>\n",
       "      <th></th>\n",
       "      <th></th>\n",
       "      <th></th>\n",
       "      <th></th>\n",
       "      <th></th>\n",
       "      <th></th>\n",
       "      <th></th>\n",
       "      <th></th>\n",
       "      <th></th>\n",
       "    </tr>\n",
       "  </thead>\n",
       "  <tbody>\n",
       "    <tr>\n",
       "      <th>11-1011.00</th>\n",
       "      <td>1</td>\n",
       "      <td>1</td>\n",
       "      <td>1</td>\n",
       "      <td>1</td>\n",
       "      <td>1</td>\n",
       "      <td>1</td>\n",
       "      <td>1</td>\n",
       "      <td>Chief Executive Officer</td>\n",
       "      <td>Chief Executive Officer</td>\n",
       "      <td>1</td>\n",
       "    </tr>\n",
       "    <tr>\n",
       "      <th>11-1021.91</th>\n",
       "      <td>4</td>\n",
       "      <td>4</td>\n",
       "      <td>4</td>\n",
       "      <td>4</td>\n",
       "      <td>4</td>\n",
       "      <td>4</td>\n",
       "      <td>4</td>\n",
       "      <td>Director of Operations</td>\n",
       "      <td>Director of Operations</td>\n",
       "      <td>4</td>\n",
       "    </tr>\n",
       "    <tr>\n",
       "      <th>11-1021.92</th>\n",
       "      <td>293</td>\n",
       "      <td>293</td>\n",
       "      <td>294</td>\n",
       "      <td>294</td>\n",
       "      <td>294</td>\n",
       "      <td>294</td>\n",
       "      <td>294</td>\n",
       "      <td>General Manager</td>\n",
       "      <td>General Manager</td>\n",
       "      <td>294</td>\n",
       "    </tr>\n",
       "    <tr>\n",
       "      <th>11-2021.91</th>\n",
       "      <td>1</td>\n",
       "      <td>1</td>\n",
       "      <td>1</td>\n",
       "      <td>1</td>\n",
       "      <td>1</td>\n",
       "      <td>1</td>\n",
       "      <td>1</td>\n",
       "      <td>Vice President of Marketing</td>\n",
       "      <td>Vice President of Marketing</td>\n",
       "      <td>1</td>\n",
       "    </tr>\n",
       "    <tr>\n",
       "      <th>11-2021.92</th>\n",
       "      <td>1</td>\n",
       "      <td>1</td>\n",
       "      <td>1</td>\n",
       "      <td>1</td>\n",
       "      <td>1</td>\n",
       "      <td>1</td>\n",
       "      <td>1</td>\n",
       "      <td>Software Product Manager</td>\n",
       "      <td>Software Product Manager</td>\n",
       "      <td>1</td>\n",
       "    </tr>\n",
       "  </tbody>\n",
       "</table>\n",
       "</div>"
      ],
      "text/plain": [
       "               MSA_ID  CITY  STATE  YEAR  BLS Job Title_x  JOB_ID  OCC_CODE  \\\n",
       "LONG_OCC_CODE                                                                 \n",
       "11-1011.00          1     1      1     1                1       1         1   \n",
       "11-1021.91          4     4      4     4                4       4         4   \n",
       "11-1021.92        293   293    294   294              294     294       294   \n",
       "11-2021.91          1     1      1     1                1       1         1   \n",
       "11-2021.92          1     1      1     1                1       1         1   \n",
       "\n",
       "                           BLS Job Title_y                    Job Title  \\\n",
       "LONG_OCC_CODE                                                             \n",
       "11-1011.00         Chief Executive Officer      Chief Executive Officer   \n",
       "11-1021.91          Director of Operations       Director of Operations   \n",
       "11-1021.92                 General Manager              General Manager   \n",
       "11-2021.91     Vice President of Marketing  Vice President of Marketing   \n",
       "11-2021.92        Software Product Manager     Software Product Manager   \n",
       "\n",
       "               Job Count  \n",
       "LONG_OCC_CODE             \n",
       "11-1011.00             1  \n",
       "11-1021.91             4  \n",
       "11-1021.92           294  \n",
       "11-2021.91             1  \n",
       "11-2021.92             1  "
      ]
     },
     "execution_count": 60,
     "metadata": {},
     "output_type": "execute_result"
    }
   ],
   "source": [
    "posting_position_freq[['Job Title','Job Count']] = posting_position_freq[['BLS Job Title_y','JOB_ID']]\n",
    "posting_position_freq.head()"
   ]
  },
  {
   "cell_type": "code",
   "execution_count": 61,
   "metadata": {},
   "outputs": [
    {
     "data": {
      "text/html": [
       "<div>\n",
       "<style scoped>\n",
       "    .dataframe tbody tr th:only-of-type {\n",
       "        vertical-align: middle;\n",
       "    }\n",
       "\n",
       "    .dataframe tbody tr th {\n",
       "        vertical-align: top;\n",
       "    }\n",
       "\n",
       "    .dataframe thead th {\n",
       "        text-align: right;\n",
       "    }\n",
       "</style>\n",
       "<table border=\"1\" class=\"dataframe\">\n",
       "  <thead>\n",
       "    <tr style=\"text-align: right;\">\n",
       "      <th></th>\n",
       "      <th>YEAR</th>\n",
       "      <th>Job Title</th>\n",
       "      <th>Job Count</th>\n",
       "    </tr>\n",
       "    <tr>\n",
       "      <th>LONG_OCC_CODE</th>\n",
       "      <th></th>\n",
       "      <th></th>\n",
       "      <th></th>\n",
       "    </tr>\n",
       "  </thead>\n",
       "  <tbody>\n",
       "    <tr>\n",
       "      <th>11-1011.00</th>\n",
       "      <td>1</td>\n",
       "      <td>Chief Executive Officer</td>\n",
       "      <td>1</td>\n",
       "    </tr>\n",
       "    <tr>\n",
       "      <th>11-1021.91</th>\n",
       "      <td>4</td>\n",
       "      <td>Director of Operations</td>\n",
       "      <td>4</td>\n",
       "    </tr>\n",
       "    <tr>\n",
       "      <th>11-1021.92</th>\n",
       "      <td>294</td>\n",
       "      <td>General Manager</td>\n",
       "      <td>294</td>\n",
       "    </tr>\n",
       "    <tr>\n",
       "      <th>11-2021.91</th>\n",
       "      <td>1</td>\n",
       "      <td>Vice President of Marketing</td>\n",
       "      <td>1</td>\n",
       "    </tr>\n",
       "    <tr>\n",
       "      <th>11-2021.92</th>\n",
       "      <td>1</td>\n",
       "      <td>Software Product Manager</td>\n",
       "      <td>1</td>\n",
       "    </tr>\n",
       "  </tbody>\n",
       "</table>\n",
       "</div>"
      ],
      "text/plain": [
       "               YEAR                    Job Title  Job Count\n",
       "LONG_OCC_CODE                                              \n",
       "11-1011.00        1      Chief Executive Officer          1\n",
       "11-1021.91        4       Director of Operations          4\n",
       "11-1021.92      294              General Manager        294\n",
       "11-2021.91        1  Vice President of Marketing          1\n",
       "11-2021.92        1     Software Product Manager          1"
      ]
     },
     "execution_count": 61,
     "metadata": {},
     "output_type": "execute_result"
    }
   ],
   "source": [
    "posting_position_freq = posting_position_freq.drop(columns = ['MSA_ID','STATE','CITY','BLS Job Title_x','OCC_CODE','BLS Job Title_y','JOB_ID'])\n",
    "posting_position_freq.head()"
   ]
  },
  {
   "cell_type": "code",
   "execution_count": 62,
   "metadata": {},
   "outputs": [
    {
     "data": {
      "text/html": [
       "<div>\n",
       "<style scoped>\n",
       "    .dataframe tbody tr th:only-of-type {\n",
       "        vertical-align: middle;\n",
       "    }\n",
       "\n",
       "    .dataframe tbody tr th {\n",
       "        vertical-align: top;\n",
       "    }\n",
       "\n",
       "    .dataframe thead th {\n",
       "        text-align: right;\n",
       "    }\n",
       "</style>\n",
       "<table border=\"1\" class=\"dataframe\">\n",
       "  <thead>\n",
       "    <tr style=\"text-align: right;\">\n",
       "      <th></th>\n",
       "      <th>LONG_OCC_CODE</th>\n",
       "      <th>YEAR</th>\n",
       "      <th>Job Title</th>\n",
       "      <th>Job Count</th>\n",
       "    </tr>\n",
       "  </thead>\n",
       "  <tbody>\n",
       "    <tr>\n",
       "      <th>0</th>\n",
       "      <td>11-1011.00</td>\n",
       "      <td>1</td>\n",
       "      <td>Chief Executive Officer</td>\n",
       "      <td>1</td>\n",
       "    </tr>\n",
       "    <tr>\n",
       "      <th>1</th>\n",
       "      <td>11-1021.91</td>\n",
       "      <td>4</td>\n",
       "      <td>Director of Operations</td>\n",
       "      <td>4</td>\n",
       "    </tr>\n",
       "    <tr>\n",
       "      <th>2</th>\n",
       "      <td>11-1021.92</td>\n",
       "      <td>294</td>\n",
       "      <td>General Manager</td>\n",
       "      <td>294</td>\n",
       "    </tr>\n",
       "    <tr>\n",
       "      <th>3</th>\n",
       "      <td>11-2021.91</td>\n",
       "      <td>1</td>\n",
       "      <td>Vice President of Marketing</td>\n",
       "      <td>1</td>\n",
       "    </tr>\n",
       "    <tr>\n",
       "      <th>4</th>\n",
       "      <td>11-2021.92</td>\n",
       "      <td>1</td>\n",
       "      <td>Software Product Manager</td>\n",
       "      <td>1</td>\n",
       "    </tr>\n",
       "  </tbody>\n",
       "</table>\n",
       "</div>"
      ],
      "text/plain": [
       "  LONG_OCC_CODE  YEAR                    Job Title  Job Count\n",
       "0    11-1011.00     1      Chief Executive Officer          1\n",
       "1    11-1021.91     4       Director of Operations          4\n",
       "2    11-1021.92   294              General Manager        294\n",
       "3    11-2021.91     1  Vice President of Marketing          1\n",
       "4    11-2021.92     1     Software Product Manager          1"
      ]
     },
     "execution_count": 62,
     "metadata": {},
     "output_type": "execute_result"
    }
   ],
   "source": [
    "posting_position_freq = posting_position_freq.reset_index()\n",
    "posting_position_freq.head()"
   ]
  },
  {
   "cell_type": "code",
   "execution_count": 63,
   "metadata": {},
   "outputs": [
    {
     "data": {
      "text/html": [
       "<div>\n",
       "<style scoped>\n",
       "    .dataframe tbody tr th:only-of-type {\n",
       "        vertical-align: middle;\n",
       "    }\n",
       "\n",
       "    .dataframe tbody tr th {\n",
       "        vertical-align: top;\n",
       "    }\n",
       "\n",
       "    .dataframe thead th {\n",
       "        text-align: right;\n",
       "    }\n",
       "</style>\n",
       "<table border=\"1\" class=\"dataframe\">\n",
       "  <thead>\n",
       "    <tr style=\"text-align: right;\">\n",
       "      <th></th>\n",
       "      <th>CITY</th>\n",
       "      <th>STATE</th>\n",
       "      <th>YEAR</th>\n",
       "      <th>LONG_OCC_CODE</th>\n",
       "      <th>BLS Job Title</th>\n",
       "      <th>JOB_ID</th>\n",
       "      <th>OCC_CODE</th>\n",
       "      <th>Total Employment</th>\n",
       "      <th>Jobs per 1000</th>\n",
       "      <th>Location Quotient</th>\n",
       "      <th>Mean Annual Wage</th>\n",
       "      <th>Annual Wage 10th Pct</th>\n",
       "      <th>Annual Wage 25th Pct</th>\n",
       "      <th>Median Annual Wage</th>\n",
       "      <th>Annual Wage 75th Pct</th>\n",
       "      <th>Annual Wage 90th Pct</th>\n",
       "    </tr>\n",
       "    <tr>\n",
       "      <th>MSA_ID</th>\n",
       "      <th></th>\n",
       "      <th></th>\n",
       "      <th></th>\n",
       "      <th></th>\n",
       "      <th></th>\n",
       "      <th></th>\n",
       "      <th></th>\n",
       "      <th></th>\n",
       "      <th></th>\n",
       "      <th></th>\n",
       "      <th></th>\n",
       "      <th></th>\n",
       "      <th></th>\n",
       "      <th></th>\n",
       "      <th></th>\n",
       "      <th></th>\n",
       "    </tr>\n",
       "  </thead>\n",
       "  <tbody>\n",
       "    <tr>\n",
       "      <th>10420</th>\n",
       "      <td>15</td>\n",
       "      <td>15</td>\n",
       "      <td>15</td>\n",
       "      <td>15</td>\n",
       "      <td>15</td>\n",
       "      <td>15</td>\n",
       "      <td>15</td>\n",
       "      <td>746.925000</td>\n",
       "      <td>2.266470</td>\n",
       "      <td>1.190975</td>\n",
       "      <td>52309.375000</td>\n",
       "      <td>33143.050000</td>\n",
       "      <td>40158.475000</td>\n",
       "      <td>50064.025000</td>\n",
       "      <td>62337.450000</td>\n",
       "      <td>75381.650000</td>\n",
       "    </tr>\n",
       "    <tr>\n",
       "      <th>10900</th>\n",
       "      <td>12</td>\n",
       "      <td>12</td>\n",
       "      <td>12</td>\n",
       "      <td>12</td>\n",
       "      <td>12</td>\n",
       "      <td>12</td>\n",
       "      <td>12</td>\n",
       "      <td>790.160920</td>\n",
       "      <td>2.160506</td>\n",
       "      <td>1.034046</td>\n",
       "      <td>55231.195402</td>\n",
       "      <td>34564.735632</td>\n",
       "      <td>41953.379310</td>\n",
       "      <td>52518.597701</td>\n",
       "      <td>65800.022989</td>\n",
       "      <td>80668.275862</td>\n",
       "    </tr>\n",
       "    <tr>\n",
       "      <th>12060</th>\n",
       "      <td>126</td>\n",
       "      <td>126</td>\n",
       "      <td>126</td>\n",
       "      <td>126</td>\n",
       "      <td>126</td>\n",
       "      <td>126</td>\n",
       "      <td>126</td>\n",
       "      <td>4333.420139</td>\n",
       "      <td>1.579517</td>\n",
       "      <td>0.958003</td>\n",
       "      <td>53734.340278</td>\n",
       "      <td>32003.090278</td>\n",
       "      <td>40037.552083</td>\n",
       "      <td>50711.562500</td>\n",
       "      <td>64414.253472</td>\n",
       "      <td>80277.135417</td>\n",
       "    </tr>\n",
       "    <tr>\n",
       "      <th>12420</th>\n",
       "      <td>90</td>\n",
       "      <td>90</td>\n",
       "      <td>90</td>\n",
       "      <td>90</td>\n",
       "      <td>90</td>\n",
       "      <td>90</td>\n",
       "      <td>90</td>\n",
       "      <td>1990.000000</td>\n",
       "      <td>1.853884</td>\n",
       "      <td>1.133870</td>\n",
       "      <td>56116.109980</td>\n",
       "      <td>34547.393075</td>\n",
       "      <td>42184.704684</td>\n",
       "      <td>53026.517312</td>\n",
       "      <td>67040.957230</td>\n",
       "      <td>82413.136456</td>\n",
       "    </tr>\n",
       "    <tr>\n",
       "      <th>12580</th>\n",
       "      <td>20</td>\n",
       "      <td>20</td>\n",
       "      <td>20</td>\n",
       "      <td>20</td>\n",
       "      <td>20</td>\n",
       "      <td>20</td>\n",
       "      <td>20</td>\n",
       "      <td>2271.857143</td>\n",
       "      <td>1.651025</td>\n",
       "      <td>1.108429</td>\n",
       "      <td>59450.392857</td>\n",
       "      <td>36648.375000</td>\n",
       "      <td>44898.625000</td>\n",
       "      <td>56726.017857</td>\n",
       "      <td>71147.839286</td>\n",
       "      <td>86812.571429</td>\n",
       "    </tr>\n",
       "  </tbody>\n",
       "</table>\n",
       "</div>"
      ],
      "text/plain": [
       "        CITY  STATE  YEAR  LONG_OCC_CODE  BLS Job Title  JOB_ID  OCC_CODE  \\\n",
       "MSA_ID                                                                      \n",
       "10420     15     15    15             15             15      15        15   \n",
       "10900     12     12    12             12             12      12        12   \n",
       "12060    126    126   126            126            126     126       126   \n",
       "12420     90     90    90             90             90      90        90   \n",
       "12580     20     20    20             20             20      20        20   \n",
       "\n",
       "        Total Employment  Jobs per 1000  Location Quotient  Mean Annual Wage  \\\n",
       "MSA_ID                                                                         \n",
       "10420         746.925000       2.266470           1.190975      52309.375000   \n",
       "10900         790.160920       2.160506           1.034046      55231.195402   \n",
       "12060        4333.420139       1.579517           0.958003      53734.340278   \n",
       "12420        1990.000000       1.853884           1.133870      56116.109980   \n",
       "12580        2271.857143       1.651025           1.108429      59450.392857   \n",
       "\n",
       "        Annual Wage 10th Pct  Annual Wage 25th Pct  Median Annual Wage  \\\n",
       "MSA_ID                                                                   \n",
       "10420           33143.050000          40158.475000        50064.025000   \n",
       "10900           34564.735632          41953.379310        52518.597701   \n",
       "12060           32003.090278          40037.552083        50711.562500   \n",
       "12420           34547.393075          42184.704684        53026.517312   \n",
       "12580           36648.375000          44898.625000        56726.017857   \n",
       "\n",
       "        Annual Wage 75th Pct  Annual Wage 90th Pct  \n",
       "MSA_ID                                              \n",
       "10420           62337.450000          75381.650000  \n",
       "10900           65800.022989          80668.275862  \n",
       "12060           64414.253472          80277.135417  \n",
       "12420           67040.957230          82413.136456  \n",
       "12580           71147.839286          86812.571429  "
      ]
     },
     "execution_count": 63,
     "metadata": {},
     "output_type": "execute_result"
    }
   ],
   "source": [
    "#Create DF to analyze postings per area\n",
    "posting_location_msa = posting_df_MSA.merge(msa_df_MSA, how='inner', left_index=True, right_index=True)\n",
    "posting_location_msa.head()"
   ]
  },
  {
   "cell_type": "code",
   "execution_count": 64,
   "metadata": {},
   "outputs": [
    {
     "data": {
      "text/html": [
       "<div>\n",
       "<style scoped>\n",
       "    .dataframe tbody tr th:only-of-type {\n",
       "        vertical-align: middle;\n",
       "    }\n",
       "\n",
       "    .dataframe tbody tr th {\n",
       "        vertical-align: top;\n",
       "    }\n",
       "\n",
       "    .dataframe thead th {\n",
       "        text-align: right;\n",
       "    }\n",
       "</style>\n",
       "<table border=\"1\" class=\"dataframe\">\n",
       "  <thead>\n",
       "    <tr style=\"text-align: right;\">\n",
       "      <th></th>\n",
       "      <th>JOB_ID</th>\n",
       "      <th>Total Employment</th>\n",
       "      <th>Jobs per 1000</th>\n",
       "      <th>Location Quotient</th>\n",
       "      <th>Mean Annual Wage</th>\n",
       "      <th>Annual Wage 10th Pct</th>\n",
       "      <th>Annual Wage 25th Pct</th>\n",
       "      <th>Median Annual Wage</th>\n",
       "      <th>Annual Wage 75th Pct</th>\n",
       "      <th>Annual Wage 90th Pct</th>\n",
       "    </tr>\n",
       "    <tr>\n",
       "      <th>MSA_ID</th>\n",
       "      <th></th>\n",
       "      <th></th>\n",
       "      <th></th>\n",
       "      <th></th>\n",
       "      <th></th>\n",
       "      <th></th>\n",
       "      <th></th>\n",
       "      <th></th>\n",
       "      <th></th>\n",
       "      <th></th>\n",
       "    </tr>\n",
       "  </thead>\n",
       "  <tbody>\n",
       "    <tr>\n",
       "      <th>10420</th>\n",
       "      <td>15</td>\n",
       "      <td>746.925000</td>\n",
       "      <td>2.266470</td>\n",
       "      <td>1.190975</td>\n",
       "      <td>52309.375000</td>\n",
       "      <td>33143.050000</td>\n",
       "      <td>40158.475000</td>\n",
       "      <td>50064.025000</td>\n",
       "      <td>62337.450000</td>\n",
       "      <td>75381.650000</td>\n",
       "    </tr>\n",
       "    <tr>\n",
       "      <th>10900</th>\n",
       "      <td>12</td>\n",
       "      <td>790.160920</td>\n",
       "      <td>2.160506</td>\n",
       "      <td>1.034046</td>\n",
       "      <td>55231.195402</td>\n",
       "      <td>34564.735632</td>\n",
       "      <td>41953.379310</td>\n",
       "      <td>52518.597701</td>\n",
       "      <td>65800.022989</td>\n",
       "      <td>80668.275862</td>\n",
       "    </tr>\n",
       "    <tr>\n",
       "      <th>12060</th>\n",
       "      <td>126</td>\n",
       "      <td>4333.420139</td>\n",
       "      <td>1.579517</td>\n",
       "      <td>0.958003</td>\n",
       "      <td>53734.340278</td>\n",
       "      <td>32003.090278</td>\n",
       "      <td>40037.552083</td>\n",
       "      <td>50711.562500</td>\n",
       "      <td>64414.253472</td>\n",
       "      <td>80277.135417</td>\n",
       "    </tr>\n",
       "    <tr>\n",
       "      <th>12420</th>\n",
       "      <td>90</td>\n",
       "      <td>1990.000000</td>\n",
       "      <td>1.853884</td>\n",
       "      <td>1.133870</td>\n",
       "      <td>56116.109980</td>\n",
       "      <td>34547.393075</td>\n",
       "      <td>42184.704684</td>\n",
       "      <td>53026.517312</td>\n",
       "      <td>67040.957230</td>\n",
       "      <td>82413.136456</td>\n",
       "    </tr>\n",
       "    <tr>\n",
       "      <th>12580</th>\n",
       "      <td>20</td>\n",
       "      <td>2271.857143</td>\n",
       "      <td>1.651025</td>\n",
       "      <td>1.108429</td>\n",
       "      <td>59450.392857</td>\n",
       "      <td>36648.375000</td>\n",
       "      <td>44898.625000</td>\n",
       "      <td>56726.017857</td>\n",
       "      <td>71147.839286</td>\n",
       "      <td>86812.571429</td>\n",
       "    </tr>\n",
       "  </tbody>\n",
       "</table>\n",
       "</div>"
      ],
      "text/plain": [
       "        JOB_ID  Total Employment  Jobs per 1000  Location Quotient  \\\n",
       "MSA_ID                                                               \n",
       "10420       15        746.925000       2.266470           1.190975   \n",
       "10900       12        790.160920       2.160506           1.034046   \n",
       "12060      126       4333.420139       1.579517           0.958003   \n",
       "12420       90       1990.000000       1.853884           1.133870   \n",
       "12580       20       2271.857143       1.651025           1.108429   \n",
       "\n",
       "        Mean Annual Wage  Annual Wage 10th Pct  Annual Wage 25th Pct  \\\n",
       "MSA_ID                                                                 \n",
       "10420       52309.375000          33143.050000          40158.475000   \n",
       "10900       55231.195402          34564.735632          41953.379310   \n",
       "12060       53734.340278          32003.090278          40037.552083   \n",
       "12420       56116.109980          34547.393075          42184.704684   \n",
       "12580       59450.392857          36648.375000          44898.625000   \n",
       "\n",
       "        Median Annual Wage  Annual Wage 75th Pct  Annual Wage 90th Pct  \n",
       "MSA_ID                                                                  \n",
       "10420         50064.025000          62337.450000          75381.650000  \n",
       "10900         52518.597701          65800.022989          80668.275862  \n",
       "12060         50711.562500          64414.253472          80277.135417  \n",
       "12420         53026.517312          67040.957230          82413.136456  \n",
       "12580         56726.017857          71147.839286          86812.571429  "
      ]
     },
     "execution_count": 64,
     "metadata": {},
     "output_type": "execute_result"
    }
   ],
   "source": [
    "#Drop unnecessary fields\n",
    "posting_location_msa = posting_location_msa.drop(columns = ['CITY','STATE','YEAR','LONG_OCC_CODE','BLS Job Title','OCC_CODE'])\n",
    "posting_location_msa.head()"
   ]
  },
  {
   "cell_type": "code",
   "execution_count": 65,
   "metadata": {
    "scrolled": false
   },
   "outputs": [
    {
     "data": {
      "text/html": [
       "<div>\n",
       "<style scoped>\n",
       "    .dataframe tbody tr th:only-of-type {\n",
       "        vertical-align: middle;\n",
       "    }\n",
       "\n",
       "    .dataframe tbody tr th {\n",
       "        vertical-align: top;\n",
       "    }\n",
       "\n",
       "    .dataframe thead th {\n",
       "        text-align: right;\n",
       "    }\n",
       "</style>\n",
       "<table border=\"1\" class=\"dataframe\">\n",
       "  <thead>\n",
       "    <tr style=\"text-align: right;\">\n",
       "      <th></th>\n",
       "      <th>MSA_ID</th>\n",
       "      <th>Metro Area</th>\n",
       "      <th>JOB_ID</th>\n",
       "      <th>Total Employment</th>\n",
       "      <th>Jobs per 1000</th>\n",
       "      <th>Location Quotient</th>\n",
       "      <th>Mean Annual Wage</th>\n",
       "      <th>Annual Wage 10th Pct</th>\n",
       "      <th>Annual Wage 25th Pct</th>\n",
       "      <th>Median Annual Wage</th>\n",
       "      <th>Annual Wage 75th Pct</th>\n",
       "      <th>Annual Wage 90th Pct</th>\n",
       "    </tr>\n",
       "  </thead>\n",
       "  <tbody>\n",
       "    <tr>\n",
       "      <th>2</th>\n",
       "      <td>10420</td>\n",
       "      <td>Akron, OH</td>\n",
       "      <td>15</td>\n",
       "      <td>746.925000</td>\n",
       "      <td>2.266470</td>\n",
       "      <td>1.190975</td>\n",
       "      <td>52309.375000</td>\n",
       "      <td>33143.050000</td>\n",
       "      <td>40158.475000</td>\n",
       "      <td>50064.025000</td>\n",
       "      <td>62337.450000</td>\n",
       "      <td>75381.650000</td>\n",
       "    </tr>\n",
       "    <tr>\n",
       "      <th>8</th>\n",
       "      <td>10900</td>\n",
       "      <td>Allentown-Bethlehem-Easton, PA-NJ</td>\n",
       "      <td>12</td>\n",
       "      <td>790.160920</td>\n",
       "      <td>2.160506</td>\n",
       "      <td>1.034046</td>\n",
       "      <td>55231.195402</td>\n",
       "      <td>34564.735632</td>\n",
       "      <td>41953.379310</td>\n",
       "      <td>52518.597701</td>\n",
       "      <td>65800.022989</td>\n",
       "      <td>80668.275862</td>\n",
       "    </tr>\n",
       "    <tr>\n",
       "      <th>19</th>\n",
       "      <td>12060</td>\n",
       "      <td>Atlanta-Sandy Springs-Roswell, GA</td>\n",
       "      <td>126</td>\n",
       "      <td>4333.420139</td>\n",
       "      <td>1.579517</td>\n",
       "      <td>0.958003</td>\n",
       "      <td>53734.340278</td>\n",
       "      <td>32003.090278</td>\n",
       "      <td>40037.552083</td>\n",
       "      <td>50711.562500</td>\n",
       "      <td>64414.253472</td>\n",
       "      <td>80277.135417</td>\n",
       "    </tr>\n",
       "    <tr>\n",
       "      <th>23</th>\n",
       "      <td>12420</td>\n",
       "      <td>Austin-Round Rock, TX</td>\n",
       "      <td>90</td>\n",
       "      <td>1990.000000</td>\n",
       "      <td>1.853884</td>\n",
       "      <td>1.133870</td>\n",
       "      <td>56116.109980</td>\n",
       "      <td>34547.393075</td>\n",
       "      <td>42184.704684</td>\n",
       "      <td>53026.517312</td>\n",
       "      <td>67040.957230</td>\n",
       "      <td>82413.136456</td>\n",
       "    </tr>\n",
       "    <tr>\n",
       "      <th>25</th>\n",
       "      <td>12580</td>\n",
       "      <td>Baltimore-Columbia-Towson, MD</td>\n",
       "      <td>20</td>\n",
       "      <td>2271.857143</td>\n",
       "      <td>1.651025</td>\n",
       "      <td>1.108429</td>\n",
       "      <td>59450.392857</td>\n",
       "      <td>36648.375000</td>\n",
       "      <td>44898.625000</td>\n",
       "      <td>56726.017857</td>\n",
       "      <td>71147.839286</td>\n",
       "      <td>86812.571429</td>\n",
       "    </tr>\n",
       "  </tbody>\n",
       "</table>\n",
       "</div>"
      ],
      "text/plain": [
       "    MSA_ID                         Metro Area  JOB_ID  Total Employment  \\\n",
       "2    10420                          Akron, OH      15        746.925000   \n",
       "8    10900  Allentown-Bethlehem-Easton, PA-NJ      12        790.160920   \n",
       "19   12060  Atlanta-Sandy Springs-Roswell, GA     126       4333.420139   \n",
       "23   12420              Austin-Round Rock, TX      90       1990.000000   \n",
       "25   12580      Baltimore-Columbia-Towson, MD      20       2271.857143   \n",
       "\n",
       "    Jobs per 1000  Location Quotient  Mean Annual Wage  Annual Wage 10th Pct  \\\n",
       "2        2.266470           1.190975      52309.375000          33143.050000   \n",
       "8        2.160506           1.034046      55231.195402          34564.735632   \n",
       "19       1.579517           0.958003      53734.340278          32003.090278   \n",
       "23       1.853884           1.133870      56116.109980          34547.393075   \n",
       "25       1.651025           1.108429      59450.392857          36648.375000   \n",
       "\n",
       "    Annual Wage 25th Pct  Median Annual Wage  Annual Wage 75th Pct  \\\n",
       "2           40158.475000        50064.025000          62337.450000   \n",
       "8           41953.379310        52518.597701          65800.022989   \n",
       "19          40037.552083        50711.562500          64414.253472   \n",
       "23          42184.704684        53026.517312          67040.957230   \n",
       "25          44898.625000        56726.017857          71147.839286   \n",
       "\n",
       "    Annual Wage 90th Pct  \n",
       "2           75381.650000  \n",
       "8           80668.275862  \n",
       "19          80277.135417  \n",
       "23          82413.136456  \n",
       "25          86812.571429  "
      ]
     },
     "execution_count": 65,
     "metadata": {},
     "output_type": "execute_result"
    }
   ],
   "source": [
    "posting_location_ID = msa_Only_DF.merge(posting_location_msa, on='MSA_ID', how='inner', left_index=False, right_index=True)\n",
    "posting_location_ID.head()"
   ]
  },
  {
   "cell_type": "code",
   "execution_count": 66,
   "metadata": {},
   "outputs": [
    {
     "name": "stdout",
     "output_type": "stream",
     "text": [
      "56\n",
      "56\n"
     ]
    }
   ],
   "source": [
    "print(posting_location_ID['MSA_ID'].count())\n",
    "print(posting_location_msa['JOB_ID'].count())"
   ]
  },
  {
   "cell_type": "code",
   "execution_count": 67,
   "metadata": {},
   "outputs": [],
   "source": [
    "#Rename JOB_ID to avoid confusion\n",
    "posting_location_ID.rename(columns = {'JOB_ID':'Job Count'}, inplace = True)"
   ]
  },
  {
   "cell_type": "code",
   "execution_count": 68,
   "metadata": {},
   "outputs": [
    {
     "name": "stdout",
     "output_type": "stream",
     "text": [
      "Posting Frequency count: 5079. Location Frequency count: 5027\n"
     ]
    }
   ],
   "source": [
    "#Verify Numbers after merge 8.735913143234185\n",
    "check0 = posting_position_freq['Job Count'].sum()  \n",
    "check1 = posting_location_ID['Job Count'].sum()  \n",
    "print(f'Posting Frequency count: {check0}. Location Frequency count: {check1}')"
   ]
  },
  {
   "cell_type": "code",
   "execution_count": 69,
   "metadata": {},
   "outputs": [
    {
     "data": {
      "text/html": [
       "<div>\n",
       "<style scoped>\n",
       "    .dataframe tbody tr th:only-of-type {\n",
       "        vertical-align: middle;\n",
       "    }\n",
       "\n",
       "    .dataframe tbody tr th {\n",
       "        vertical-align: top;\n",
       "    }\n",
       "\n",
       "    .dataframe thead th {\n",
       "        text-align: right;\n",
       "    }\n",
       "</style>\n",
       "<table border=\"1\" class=\"dataframe\">\n",
       "  <thead>\n",
       "    <tr style=\"text-align: right;\">\n",
       "      <th></th>\n",
       "      <th>LONG_OCC_CODE</th>\n",
       "      <th>BLS Job Title_x</th>\n",
       "      <th>Artistic_oi</th>\n",
       "      <th>Conventional_oi</th>\n",
       "      <th>Enterprising_oi</th>\n",
       "      <th>Investigative_oi</th>\n",
       "      <th>Realistic_oi</th>\n",
       "      <th>Social_oi</th>\n",
       "      <th>Arm-Hand Steadiness_im</th>\n",
       "      <th>Auditory Attention_im</th>\n",
       "      <th>...</th>\n",
       "      <th>Social Orientation_im</th>\n",
       "      <th>Stress Tolerance_im</th>\n",
       "      <th>Achievement_ex</th>\n",
       "      <th>Independence_ex</th>\n",
       "      <th>Recognition_ex</th>\n",
       "      <th>Relationships_ex</th>\n",
       "      <th>Support_ex</th>\n",
       "      <th>Working Conditions_ex</th>\n",
       "      <th>OCC_CODE</th>\n",
       "      <th>BLS Job Title_y</th>\n",
       "    </tr>\n",
       "  </thead>\n",
       "  <tbody>\n",
       "    <tr>\n",
       "      <th>0</th>\n",
       "      <td>11-1011.00</td>\n",
       "      <td>Chief Executives</td>\n",
       "      <td>2.67</td>\n",
       "      <td>5.33</td>\n",
       "      <td>7.00</td>\n",
       "      <td>2.00</td>\n",
       "      <td>1.33</td>\n",
       "      <td>3.67</td>\n",
       "      <td>1.00</td>\n",
       "      <td>2.12</td>\n",
       "      <td>...</td>\n",
       "      <td>3.67</td>\n",
       "      <td>4.75</td>\n",
       "      <td>6.33</td>\n",
       "      <td>7.00</td>\n",
       "      <td>7.00</td>\n",
       "      <td>5.00</td>\n",
       "      <td>5.33</td>\n",
       "      <td>6.33</td>\n",
       "      <td>11-1011</td>\n",
       "      <td>Chief Executive Officer</td>\n",
       "    </tr>\n",
       "    <tr>\n",
       "      <th>7</th>\n",
       "      <td>11-2022.00</td>\n",
       "      <td>Sales Managers</td>\n",
       "      <td>2.00</td>\n",
       "      <td>4.67</td>\n",
       "      <td>7.00</td>\n",
       "      <td>2.00</td>\n",
       "      <td>3.00</td>\n",
       "      <td>3.67</td>\n",
       "      <td>1.38</td>\n",
       "      <td>2.00</td>\n",
       "      <td>...</td>\n",
       "      <td>3.83</td>\n",
       "      <td>4.52</td>\n",
       "      <td>5.33</td>\n",
       "      <td>5.67</td>\n",
       "      <td>4.67</td>\n",
       "      <td>4.00</td>\n",
       "      <td>5.33</td>\n",
       "      <td>5.50</td>\n",
       "      <td>11-2022</td>\n",
       "      <td>Sales Manager</td>\n",
       "    </tr>\n",
       "    <tr>\n",
       "      <th>28</th>\n",
       "      <td>11-9013.02</td>\n",
       "      <td>Farm and Ranch Managers</td>\n",
       "      <td>1.33</td>\n",
       "      <td>5.00</td>\n",
       "      <td>7.00</td>\n",
       "      <td>2.67</td>\n",
       "      <td>6.67</td>\n",
       "      <td>1.67</td>\n",
       "      <td>2.62</td>\n",
       "      <td>2.25</td>\n",
       "      <td>...</td>\n",
       "      <td>2.70</td>\n",
       "      <td>3.36</td>\n",
       "      <td>5.33</td>\n",
       "      <td>5.00</td>\n",
       "      <td>4.67</td>\n",
       "      <td>4.33</td>\n",
       "      <td>2.00</td>\n",
       "      <td>4.50</td>\n",
       "      <td>11-9013</td>\n",
       "      <td>Farm / Ranch Manager</td>\n",
       "    </tr>\n",
       "    <tr>\n",
       "      <th>30</th>\n",
       "      <td>11-9021.00</td>\n",
       "      <td>Construction Managers</td>\n",
       "      <td>1.33</td>\n",
       "      <td>4.67</td>\n",
       "      <td>7.00</td>\n",
       "      <td>2.00</td>\n",
       "      <td>5.67</td>\n",
       "      <td>2.00</td>\n",
       "      <td>1.38</td>\n",
       "      <td>2.75</td>\n",
       "      <td>...</td>\n",
       "      <td>3.48</td>\n",
       "      <td>4.16</td>\n",
       "      <td>5.33</td>\n",
       "      <td>5.67</td>\n",
       "      <td>4.67</td>\n",
       "      <td>5.00</td>\n",
       "      <td>5.33</td>\n",
       "      <td>5.83</td>\n",
       "      <td>11-9021</td>\n",
       "      <td>Construction Manager</td>\n",
       "    </tr>\n",
       "    <tr>\n",
       "      <th>42</th>\n",
       "      <td>11-9111.00</td>\n",
       "      <td>Medical and Health Services Managers</td>\n",
       "      <td>1.67</td>\n",
       "      <td>5.00</td>\n",
       "      <td>7.00</td>\n",
       "      <td>3.33</td>\n",
       "      <td>1.67</td>\n",
       "      <td>5.00</td>\n",
       "      <td>1.62</td>\n",
       "      <td>2.25</td>\n",
       "      <td>...</td>\n",
       "      <td>3.38</td>\n",
       "      <td>4.27</td>\n",
       "      <td>5.00</td>\n",
       "      <td>6.00</td>\n",
       "      <td>4.67</td>\n",
       "      <td>6.00</td>\n",
       "      <td>5.67</td>\n",
       "      <td>6.00</td>\n",
       "      <td>11-9111</td>\n",
       "      <td>Healthcare Administrator</td>\n",
       "    </tr>\n",
       "    <tr>\n",
       "      <th>60</th>\n",
       "      <td>13-1021.00</td>\n",
       "      <td>Buyers and Purchasing Agents, Farm Products</td>\n",
       "      <td>1.67</td>\n",
       "      <td>6.00</td>\n",
       "      <td>6.33</td>\n",
       "      <td>1.33</td>\n",
       "      <td>4.00</td>\n",
       "      <td>2.67</td>\n",
       "      <td>1.88</td>\n",
       "      <td>2.00</td>\n",
       "      <td>...</td>\n",
       "      <td>3.59</td>\n",
       "      <td>4.69</td>\n",
       "      <td>4.00</td>\n",
       "      <td>5.33</td>\n",
       "      <td>3.67</td>\n",
       "      <td>4.00</td>\n",
       "      <td>3.67</td>\n",
       "      <td>4.17</td>\n",
       "      <td>13-1021</td>\n",
       "      <td>Procurement / Sourcing Specialist</td>\n",
       "    </tr>\n",
       "    <tr>\n",
       "      <th>65</th>\n",
       "      <td>13-1032.00</td>\n",
       "      <td>Insurance Appraisers, Auto Damage</td>\n",
       "      <td>1.00</td>\n",
       "      <td>6.67</td>\n",
       "      <td>4.33</td>\n",
       "      <td>2.00</td>\n",
       "      <td>5.67</td>\n",
       "      <td>2.33</td>\n",
       "      <td>2.50</td>\n",
       "      <td>2.12</td>\n",
       "      <td>...</td>\n",
       "      <td>3.13</td>\n",
       "      <td>3.85</td>\n",
       "      <td>4.00</td>\n",
       "      <td>5.00</td>\n",
       "      <td>3.67</td>\n",
       "      <td>4.33</td>\n",
       "      <td>5.00</td>\n",
       "      <td>4.67</td>\n",
       "      <td>13-1032</td>\n",
       "      <td>Auto Damage Appraiser</td>\n",
       "    </tr>\n",
       "    <tr>\n",
       "      <th>72</th>\n",
       "      <td>13-1051.00</td>\n",
       "      <td>Cost Estimators</td>\n",
       "      <td>1.00</td>\n",
       "      <td>6.00</td>\n",
       "      <td>6.00</td>\n",
       "      <td>2.67</td>\n",
       "      <td>3.00</td>\n",
       "      <td>1.33</td>\n",
       "      <td>1.12</td>\n",
       "      <td>1.88</td>\n",
       "      <td>...</td>\n",
       "      <td>3.05</td>\n",
       "      <td>4.23</td>\n",
       "      <td>4.00</td>\n",
       "      <td>4.67</td>\n",
       "      <td>4.00</td>\n",
       "      <td>4.67</td>\n",
       "      <td>3.67</td>\n",
       "      <td>4.50</td>\n",
       "      <td>13-1051</td>\n",
       "      <td>Estimator</td>\n",
       "    </tr>\n",
       "    <tr>\n",
       "      <th>76</th>\n",
       "      <td>13-1081.00</td>\n",
       "      <td>Logisticians</td>\n",
       "      <td>1.33</td>\n",
       "      <td>5.67</td>\n",
       "      <td>7.00</td>\n",
       "      <td>2.33</td>\n",
       "      <td>2.33</td>\n",
       "      <td>3.33</td>\n",
       "      <td>1.00</td>\n",
       "      <td>2.00</td>\n",
       "      <td>...</td>\n",
       "      <td>3.46</td>\n",
       "      <td>4.21</td>\n",
       "      <td>5.33</td>\n",
       "      <td>5.67</td>\n",
       "      <td>5.00</td>\n",
       "      <td>5.00</td>\n",
       "      <td>4.33</td>\n",
       "      <td>4.83</td>\n",
       "      <td>13-1081</td>\n",
       "      <td>Logistician</td>\n",
       "    </tr>\n",
       "    <tr>\n",
       "      <th>79</th>\n",
       "      <td>13-1111.00</td>\n",
       "      <td>Management Analysts</td>\n",
       "      <td>1.67</td>\n",
       "      <td>4.33</td>\n",
       "      <td>6.00</td>\n",
       "      <td>6.33</td>\n",
       "      <td>1.33</td>\n",
       "      <td>2.33</td>\n",
       "      <td>1.00</td>\n",
       "      <td>1.88</td>\n",
       "      <td>...</td>\n",
       "      <td>3.73</td>\n",
       "      <td>4.46</td>\n",
       "      <td>5.33</td>\n",
       "      <td>5.33</td>\n",
       "      <td>5.00</td>\n",
       "      <td>6.00</td>\n",
       "      <td>3.67</td>\n",
       "      <td>5.17</td>\n",
       "      <td>13-1111</td>\n",
       "      <td>Program Analyst</td>\n",
       "    </tr>\n",
       "    <tr>\n",
       "      <th>80</th>\n",
       "      <td>13-1121.00</td>\n",
       "      <td>Meeting, Convention, and Event Planners</td>\n",
       "      <td>2.33</td>\n",
       "      <td>5.00</td>\n",
       "      <td>7.00</td>\n",
       "      <td>1.33</td>\n",
       "      <td>1.67</td>\n",
       "      <td>4.33</td>\n",
       "      <td>2.38</td>\n",
       "      <td>2.38</td>\n",
       "      <td>...</td>\n",
       "      <td>4.37</td>\n",
       "      <td>4.79</td>\n",
       "      <td>5.00</td>\n",
       "      <td>5.33</td>\n",
       "      <td>5.00</td>\n",
       "      <td>6.33</td>\n",
       "      <td>3.33</td>\n",
       "      <td>4.83</td>\n",
       "      <td>13-1121</td>\n",
       "      <td>Event Planner</td>\n",
       "    </tr>\n",
       "    <tr>\n",
       "      <th>82</th>\n",
       "      <td>13-1141.00</td>\n",
       "      <td>Compensation, Benefits, and Job Analysis Speci...</td>\n",
       "      <td>1.67</td>\n",
       "      <td>6.33</td>\n",
       "      <td>6.33</td>\n",
       "      <td>2.67</td>\n",
       "      <td>2.33</td>\n",
       "      <td>2.67</td>\n",
       "      <td>1.38</td>\n",
       "      <td>2.00</td>\n",
       "      <td>...</td>\n",
       "      <td>3.29</td>\n",
       "      <td>4.00</td>\n",
       "      <td>4.67</td>\n",
       "      <td>4.33</td>\n",
       "      <td>4.67</td>\n",
       "      <td>5.33</td>\n",
       "      <td>5.00</td>\n",
       "      <td>4.17</td>\n",
       "      <td>13-1141</td>\n",
       "      <td>Compensation / Benefits Analyst</td>\n",
       "    </tr>\n",
       "    <tr>\n",
       "      <th>83</th>\n",
       "      <td>13-1151.00</td>\n",
       "      <td>Training and Development Specialists</td>\n",
       "      <td>4.67</td>\n",
       "      <td>4.67</td>\n",
       "      <td>4.00</td>\n",
       "      <td>2.33</td>\n",
       "      <td>1.33</td>\n",
       "      <td>6.67</td>\n",
       "      <td>1.12</td>\n",
       "      <td>1.88</td>\n",
       "      <td>...</td>\n",
       "      <td>4.00</td>\n",
       "      <td>4.00</td>\n",
       "      <td>5.33</td>\n",
       "      <td>5.33</td>\n",
       "      <td>4.67</td>\n",
       "      <td>6.33</td>\n",
       "      <td>4.67</td>\n",
       "      <td>4.83</td>\n",
       "      <td>13-1151</td>\n",
       "      <td>Training and Development Specialist</td>\n",
       "    </tr>\n",
       "    <tr>\n",
       "      <th>86</th>\n",
       "      <td>13-1199.02</td>\n",
       "      <td>Security Management Specialists</td>\n",
       "      <td>2.33</td>\n",
       "      <td>4.67</td>\n",
       "      <td>2.67</td>\n",
       "      <td>5.00</td>\n",
       "      <td>5.33</td>\n",
       "      <td>1.33</td>\n",
       "      <td>1.12</td>\n",
       "      <td>2.38</td>\n",
       "      <td>...</td>\n",
       "      <td>3.23</td>\n",
       "      <td>4.19</td>\n",
       "      <td>4.33</td>\n",
       "      <td>4.67</td>\n",
       "      <td>4.67</td>\n",
       "      <td>5.33</td>\n",
       "      <td>5.33</td>\n",
       "      <td>4.50</td>\n",
       "      <td>13-1199</td>\n",
       "      <td>Cyber Security Analyst</td>\n",
       "    </tr>\n",
       "    <tr>\n",
       "      <th>92</th>\n",
       "      <td>13-2011.02</td>\n",
       "      <td>Auditors</td>\n",
       "      <td>1.00</td>\n",
       "      <td>7.00</td>\n",
       "      <td>5.67</td>\n",
       "      <td>3.67</td>\n",
       "      <td>1.67</td>\n",
       "      <td>2.00</td>\n",
       "      <td>1.12</td>\n",
       "      <td>2.00</td>\n",
       "      <td>...</td>\n",
       "      <td>3.67</td>\n",
       "      <td>4.43</td>\n",
       "      <td>4.67</td>\n",
       "      <td>5.00</td>\n",
       "      <td>4.67</td>\n",
       "      <td>4.33</td>\n",
       "      <td>4.33</td>\n",
       "      <td>4.17</td>\n",
       "      <td>13-2011</td>\n",
       "      <td>Compliance Auditor</td>\n",
       "    </tr>\n",
       "    <tr>\n",
       "      <th>97</th>\n",
       "      <td>13-2051.00</td>\n",
       "      <td>Financial Analysts</td>\n",
       "      <td>2.33</td>\n",
       "      <td>6.67</td>\n",
       "      <td>5.00</td>\n",
       "      <td>5.67</td>\n",
       "      <td>2.67</td>\n",
       "      <td>1.00</td>\n",
       "      <td>1.00</td>\n",
       "      <td>1.75</td>\n",
       "      <td>...</td>\n",
       "      <td>2.92</td>\n",
       "      <td>4.52</td>\n",
       "      <td>5.67</td>\n",
       "      <td>5.00</td>\n",
       "      <td>5.33</td>\n",
       "      <td>4.33</td>\n",
       "      <td>3.67</td>\n",
       "      <td>4.50</td>\n",
       "      <td>13-2051</td>\n",
       "      <td>Financial Analyst (General)</td>\n",
       "    </tr>\n",
       "    <tr>\n",
       "      <th>99</th>\n",
       "      <td>13-2053.00</td>\n",
       "      <td>Insurance Underwriters</td>\n",
       "      <td>1.00</td>\n",
       "      <td>6.33</td>\n",
       "      <td>4.67</td>\n",
       "      <td>3.33</td>\n",
       "      <td>1.33</td>\n",
       "      <td>2.33</td>\n",
       "      <td>1.75</td>\n",
       "      <td>1.75</td>\n",
       "      <td>...</td>\n",
       "      <td>2.80</td>\n",
       "      <td>4.03</td>\n",
       "      <td>4.33</td>\n",
       "      <td>5.00</td>\n",
       "      <td>4.00</td>\n",
       "      <td>5.00</td>\n",
       "      <td>4.67</td>\n",
       "      <td>4.00</td>\n",
       "      <td>13-2053</td>\n",
       "      <td>Senior Insurance Underwriter</td>\n",
       "    </tr>\n",
       "    <tr>\n",
       "      <th>113</th>\n",
       "      <td>15-1122.00</td>\n",
       "      <td>Information Security Analysts</td>\n",
       "      <td>1.67</td>\n",
       "      <td>6.33</td>\n",
       "      <td>2.33</td>\n",
       "      <td>5.33</td>\n",
       "      <td>4.67</td>\n",
       "      <td>2.33</td>\n",
       "      <td>2.00</td>\n",
       "      <td>1.75</td>\n",
       "      <td>...</td>\n",
       "      <td>3.37</td>\n",
       "      <td>3.92</td>\n",
       "      <td>4.67</td>\n",
       "      <td>5.33</td>\n",
       "      <td>4.33</td>\n",
       "      <td>4.33</td>\n",
       "      <td>5.33</td>\n",
       "      <td>5.67</td>\n",
       "      <td>15-1122</td>\n",
       "      <td>Cyber Security Analyst</td>\n",
       "    </tr>\n",
       "    <tr>\n",
       "      <th>114</th>\n",
       "      <td>15-1131.00</td>\n",
       "      <td>Computer Programmers</td>\n",
       "      <td>3.00</td>\n",
       "      <td>5.67</td>\n",
       "      <td>2.00</td>\n",
       "      <td>7.00</td>\n",
       "      <td>3.33</td>\n",
       "      <td>2.00</td>\n",
       "      <td>2.00</td>\n",
       "      <td>2.00</td>\n",
       "      <td>...</td>\n",
       "      <td>3.21</td>\n",
       "      <td>3.90</td>\n",
       "      <td>5.67</td>\n",
       "      <td>5.00</td>\n",
       "      <td>4.33</td>\n",
       "      <td>2.33</td>\n",
       "      <td>5.00</td>\n",
       "      <td>5.50</td>\n",
       "      <td>15-1131</td>\n",
       "      <td>Senior Software Developer / Engineer</td>\n",
       "    </tr>\n",
       "    <tr>\n",
       "      <th>119</th>\n",
       "      <td>15-1142.00</td>\n",
       "      <td>Network and Computer Systems Administrators</td>\n",
       "      <td>1.67</td>\n",
       "      <td>4.67</td>\n",
       "      <td>4.00</td>\n",
       "      <td>6.00</td>\n",
       "      <td>5.67</td>\n",
       "      <td>2.00</td>\n",
       "      <td>2.62</td>\n",
       "      <td>2.25</td>\n",
       "      <td>...</td>\n",
       "      <td>3.20</td>\n",
       "      <td>4.18</td>\n",
       "      <td>4.67</td>\n",
       "      <td>4.33</td>\n",
       "      <td>4.67</td>\n",
       "      <td>4.00</td>\n",
       "      <td>5.33</td>\n",
       "      <td>5.50</td>\n",
       "      <td>15-1142</td>\n",
       "      <td>Network Administrator</td>\n",
       "    </tr>\n",
       "    <tr>\n",
       "      <th>122</th>\n",
       "      <td>15-1151.00</td>\n",
       "      <td>Computer User Support Specialists</td>\n",
       "      <td>1.67</td>\n",
       "      <td>5.33</td>\n",
       "      <td>2.67</td>\n",
       "      <td>5.33</td>\n",
       "      <td>5.67</td>\n",
       "      <td>4.33</td>\n",
       "      <td>2.75</td>\n",
       "      <td>2.00</td>\n",
       "      <td>...</td>\n",
       "      <td>3.30</td>\n",
       "      <td>4.25</td>\n",
       "      <td>5.00</td>\n",
       "      <td>5.00</td>\n",
       "      <td>4.33</td>\n",
       "      <td>5.33</td>\n",
       "      <td>5.00</td>\n",
       "      <td>5.17</td>\n",
       "      <td>15-1151</td>\n",
       "      <td>Help Desk Technician / Analyst</td>\n",
       "    </tr>\n",
       "    <tr>\n",
       "      <th>123</th>\n",
       "      <td>15-1152.00</td>\n",
       "      <td>Computer Network Support Specialists</td>\n",
       "      <td>1.33</td>\n",
       "      <td>3.67</td>\n",
       "      <td>4.00</td>\n",
       "      <td>2.67</td>\n",
       "      <td>6.00</td>\n",
       "      <td>1.33</td>\n",
       "      <td>2.62</td>\n",
       "      <td>2.25</td>\n",
       "      <td>...</td>\n",
       "      <td>3.59</td>\n",
       "      <td>4.25</td>\n",
       "      <td>5.33</td>\n",
       "      <td>4.00</td>\n",
       "      <td>4.00</td>\n",
       "      <td>3.00</td>\n",
       "      <td>5.00</td>\n",
       "      <td>4.67</td>\n",
       "      <td>15-1152</td>\n",
       "      <td>Systems Analyst</td>\n",
       "    </tr>\n",
       "    <tr>\n",
       "      <th>189</th>\n",
       "      <td>17-3013.00</td>\n",
       "      <td>Mechanical Drafters</td>\n",
       "      <td>3.33</td>\n",
       "      <td>4.00</td>\n",
       "      <td>2.33</td>\n",
       "      <td>4.00</td>\n",
       "      <td>6.67</td>\n",
       "      <td>1.00</td>\n",
       "      <td>2.50</td>\n",
       "      <td>2.12</td>\n",
       "      <td>...</td>\n",
       "      <td>3.27</td>\n",
       "      <td>3.91</td>\n",
       "      <td>4.33</td>\n",
       "      <td>4.33</td>\n",
       "      <td>3.67</td>\n",
       "      <td>4.33</td>\n",
       "      <td>5.33</td>\n",
       "      <td>4.50</td>\n",
       "      <td>17-3013</td>\n",
       "      <td>Mechanical / Electrical Drafter</td>\n",
       "    </tr>\n",
       "    <tr>\n",
       "      <th>288</th>\n",
       "      <td>23-1011.00</td>\n",
       "      <td>Lawyers</td>\n",
       "      <td>4.00</td>\n",
       "      <td>3.67</td>\n",
       "      <td>7.00</td>\n",
       "      <td>4.67</td>\n",
       "      <td>1.33</td>\n",
       "      <td>3.33</td>\n",
       "      <td>1.38</td>\n",
       "      <td>2.12</td>\n",
       "      <td>...</td>\n",
       "      <td>3.75</td>\n",
       "      <td>4.46</td>\n",
       "      <td>6.00</td>\n",
       "      <td>6.00</td>\n",
       "      <td>6.33</td>\n",
       "      <td>4.00</td>\n",
       "      <td>4.33</td>\n",
       "      <td>6.00</td>\n",
       "      <td>23-1011</td>\n",
       "      <td>Attorney</td>\n",
       "    </tr>\n",
       "    <tr>\n",
       "      <th>331</th>\n",
       "      <td>25-1194.00</td>\n",
       "      <td>Vocational Education Teachers, Postsecondary</td>\n",
       "      <td>2.67</td>\n",
       "      <td>2.33</td>\n",
       "      <td>3.33</td>\n",
       "      <td>2.67</td>\n",
       "      <td>5.33</td>\n",
       "      <td>7.00</td>\n",
       "      <td>2.75</td>\n",
       "      <td>2.25</td>\n",
       "      <td>...</td>\n",
       "      <td>4.01</td>\n",
       "      <td>4.14</td>\n",
       "      <td>5.00</td>\n",
       "      <td>5.00</td>\n",
       "      <td>4.33</td>\n",
       "      <td>5.00</td>\n",
       "      <td>3.00</td>\n",
       "      <td>4.33</td>\n",
       "      <td>25-1194</td>\n",
       "      <td>Vocational Education Instructor</td>\n",
       "    </tr>\n",
       "    <tr>\n",
       "      <th>354</th>\n",
       "      <td>25-9031.00</td>\n",
       "      <td>Instructional Coordinators</td>\n",
       "      <td>4.33</td>\n",
       "      <td>3.00</td>\n",
       "      <td>4.33</td>\n",
       "      <td>5.00</td>\n",
       "      <td>2.00</td>\n",
       "      <td>6.67</td>\n",
       "      <td>1.12</td>\n",
       "      <td>2.25</td>\n",
       "      <td>...</td>\n",
       "      <td>3.80</td>\n",
       "      <td>4.23</td>\n",
       "      <td>5.67</td>\n",
       "      <td>6.00</td>\n",
       "      <td>4.67</td>\n",
       "      <td>6.00</td>\n",
       "      <td>3.00</td>\n",
       "      <td>4.83</td>\n",
       "      <td>25-9031</td>\n",
       "      <td>Curriculum and Instructional Designer / Developer</td>\n",
       "    </tr>\n",
       "    <tr>\n",
       "      <th>390</th>\n",
       "      <td>27-3043.04</td>\n",
       "      <td>Copy Writers</td>\n",
       "      <td>6.33</td>\n",
       "      <td>3.00</td>\n",
       "      <td>6.67</td>\n",
       "      <td>3.00</td>\n",
       "      <td>1.67</td>\n",
       "      <td>2.33</td>\n",
       "      <td>1.00</td>\n",
       "      <td>1.75</td>\n",
       "      <td>...</td>\n",
       "      <td>3.46</td>\n",
       "      <td>3.99</td>\n",
       "      <td>5.00</td>\n",
       "      <td>3.67</td>\n",
       "      <td>3.67</td>\n",
       "      <td>4.00</td>\n",
       "      <td>4.33</td>\n",
       "      <td>4.17</td>\n",
       "      <td>27-3043</td>\n",
       "      <td>Copywriter</td>\n",
       "    </tr>\n",
       "    <tr>\n",
       "      <th>453</th>\n",
       "      <td>29-2011.00</td>\n",
       "      <td>Medical and Clinical Laboratory Technologists</td>\n",
       "      <td>1.67</td>\n",
       "      <td>4.67</td>\n",
       "      <td>2.67</td>\n",
       "      <td>7.00</td>\n",
       "      <td>5.67</td>\n",
       "      <td>2.00</td>\n",
       "      <td>3.25</td>\n",
       "      <td>2.25</td>\n",
       "      <td>...</td>\n",
       "      <td>3.61</td>\n",
       "      <td>4.33</td>\n",
       "      <td>4.33</td>\n",
       "      <td>4.67</td>\n",
       "      <td>3.67</td>\n",
       "      <td>4.33</td>\n",
       "      <td>5.67</td>\n",
       "      <td>3.83</td>\n",
       "      <td>29-2011</td>\n",
       "      <td>Medical Technologist</td>\n",
       "    </tr>\n",
       "    <tr>\n",
       "      <th>481</th>\n",
       "      <td>29-9011.00</td>\n",
       "      <td>Occupational Health and Safety Specialists</td>\n",
       "      <td>1.33</td>\n",
       "      <td>5.33</td>\n",
       "      <td>2.67</td>\n",
       "      <td>6.67</td>\n",
       "      <td>4.00</td>\n",
       "      <td>4.00</td>\n",
       "      <td>2.00</td>\n",
       "      <td>2.75</td>\n",
       "      <td>...</td>\n",
       "      <td>3.50</td>\n",
       "      <td>3.91</td>\n",
       "      <td>5.00</td>\n",
       "      <td>5.00</td>\n",
       "      <td>4.67</td>\n",
       "      <td>4.67</td>\n",
       "      <td>5.67</td>\n",
       "      <td>5.17</td>\n",
       "      <td>29-9011</td>\n",
       "      <td>Occupational Health and Safety (OHS) Manager</td>\n",
       "    </tr>\n",
       "    <tr>\n",
       "      <th>482</th>\n",
       "      <td>29-9012.00</td>\n",
       "      <td>Occupational Health and Safety Technicians</td>\n",
       "      <td>1.33</td>\n",
       "      <td>7.00</td>\n",
       "      <td>3.00</td>\n",
       "      <td>4.00</td>\n",
       "      <td>5.00</td>\n",
       "      <td>3.33</td>\n",
       "      <td>2.00</td>\n",
       "      <td>2.50</td>\n",
       "      <td>...</td>\n",
       "      <td>3.30</td>\n",
       "      <td>3.85</td>\n",
       "      <td>4.33</td>\n",
       "      <td>4.33</td>\n",
       "      <td>3.67</td>\n",
       "      <td>5.67</td>\n",
       "      <td>5.33</td>\n",
       "      <td>4.00</td>\n",
       "      <td>29-9012</td>\n",
       "      <td>Occupational Health and Safety (OHS) Specialist</td>\n",
       "    </tr>\n",
       "  </tbody>\n",
       "</table>\n",
       "<p>30 rows × 354 columns</p>\n",
       "</div>"
      ],
      "text/plain": [
       "    LONG_OCC_CODE                                    BLS Job Title_x  \\\n",
       "0      11-1011.00                                   Chief Executives   \n",
       "7      11-2022.00                                     Sales Managers   \n",
       "28     11-9013.02                            Farm and Ranch Managers   \n",
       "30     11-9021.00                              Construction Managers   \n",
       "42     11-9111.00               Medical and Health Services Managers   \n",
       "60     13-1021.00        Buyers and Purchasing Agents, Farm Products   \n",
       "65     13-1032.00                  Insurance Appraisers, Auto Damage   \n",
       "72     13-1051.00                                    Cost Estimators   \n",
       "76     13-1081.00                                       Logisticians   \n",
       "79     13-1111.00                                Management Analysts   \n",
       "80     13-1121.00            Meeting, Convention, and Event Planners   \n",
       "82     13-1141.00  Compensation, Benefits, and Job Analysis Speci...   \n",
       "83     13-1151.00               Training and Development Specialists   \n",
       "86     13-1199.02                    Security Management Specialists   \n",
       "92     13-2011.02                                           Auditors   \n",
       "97     13-2051.00                                 Financial Analysts   \n",
       "99     13-2053.00                             Insurance Underwriters   \n",
       "113    15-1122.00                      Information Security Analysts   \n",
       "114    15-1131.00                               Computer Programmers   \n",
       "119    15-1142.00        Network and Computer Systems Administrators   \n",
       "122    15-1151.00                  Computer User Support Specialists   \n",
       "123    15-1152.00               Computer Network Support Specialists   \n",
       "189    17-3013.00                                Mechanical Drafters   \n",
       "288    23-1011.00                                            Lawyers   \n",
       "331    25-1194.00       Vocational Education Teachers, Postsecondary   \n",
       "354    25-9031.00                         Instructional Coordinators   \n",
       "390    27-3043.04                                       Copy Writers   \n",
       "453    29-2011.00      Medical and Clinical Laboratory Technologists   \n",
       "481    29-9011.00         Occupational Health and Safety Specialists   \n",
       "482    29-9012.00         Occupational Health and Safety Technicians   \n",
       "\n",
       "     Artistic_oi  Conventional_oi  Enterprising_oi  Investigative_oi  \\\n",
       "0           2.67             5.33             7.00              2.00   \n",
       "7           2.00             4.67             7.00              2.00   \n",
       "28          1.33             5.00             7.00              2.67   \n",
       "30          1.33             4.67             7.00              2.00   \n",
       "42          1.67             5.00             7.00              3.33   \n",
       "60          1.67             6.00             6.33              1.33   \n",
       "65          1.00             6.67             4.33              2.00   \n",
       "72          1.00             6.00             6.00              2.67   \n",
       "76          1.33             5.67             7.00              2.33   \n",
       "79          1.67             4.33             6.00              6.33   \n",
       "80          2.33             5.00             7.00              1.33   \n",
       "82          1.67             6.33             6.33              2.67   \n",
       "83          4.67             4.67             4.00              2.33   \n",
       "86          2.33             4.67             2.67              5.00   \n",
       "92          1.00             7.00             5.67              3.67   \n",
       "97          2.33             6.67             5.00              5.67   \n",
       "99          1.00             6.33             4.67              3.33   \n",
       "113         1.67             6.33             2.33              5.33   \n",
       "114         3.00             5.67             2.00              7.00   \n",
       "119         1.67             4.67             4.00              6.00   \n",
       "122         1.67             5.33             2.67              5.33   \n",
       "123         1.33             3.67             4.00              2.67   \n",
       "189         3.33             4.00             2.33              4.00   \n",
       "288         4.00             3.67             7.00              4.67   \n",
       "331         2.67             2.33             3.33              2.67   \n",
       "354         4.33             3.00             4.33              5.00   \n",
       "390         6.33             3.00             6.67              3.00   \n",
       "453         1.67             4.67             2.67              7.00   \n",
       "481         1.33             5.33             2.67              6.67   \n",
       "482         1.33             7.00             3.00              4.00   \n",
       "\n",
       "     Realistic_oi  Social_oi  Arm-Hand Steadiness_im  Auditory Attention_im  \\\n",
       "0            1.33       3.67                    1.00                   2.12   \n",
       "7            3.00       3.67                    1.38                   2.00   \n",
       "28           6.67       1.67                    2.62                   2.25   \n",
       "30           5.67       2.00                    1.38                   2.75   \n",
       "42           1.67       5.00                    1.62                   2.25   \n",
       "60           4.00       2.67                    1.88                   2.00   \n",
       "65           5.67       2.33                    2.50                   2.12   \n",
       "72           3.00       1.33                    1.12                   1.88   \n",
       "76           2.33       3.33                    1.00                   2.00   \n",
       "79           1.33       2.33                    1.00                   1.88   \n",
       "80           1.67       4.33                    2.38                   2.38   \n",
       "82           2.33       2.67                    1.38                   2.00   \n",
       "83           1.33       6.67                    1.12                   1.88   \n",
       "86           5.33       1.33                    1.12                   2.38   \n",
       "92           1.67       2.00                    1.12                   2.00   \n",
       "97           2.67       1.00                    1.00                   1.75   \n",
       "99           1.33       2.33                    1.75                   1.75   \n",
       "113          4.67       2.33                    2.00                   1.75   \n",
       "114          3.33       2.00                    2.00                   2.00   \n",
       "119          5.67       2.00                    2.62                   2.25   \n",
       "122          5.67       4.33                    2.75                   2.00   \n",
       "123          6.00       1.33                    2.62                   2.25   \n",
       "189          6.67       1.00                    2.50                   2.12   \n",
       "288          1.33       3.33                    1.38                   2.12   \n",
       "331          5.33       7.00                    2.75                   2.25   \n",
       "354          2.00       6.67                    1.12                   2.25   \n",
       "390          1.67       2.33                    1.00                   1.75   \n",
       "453          5.67       2.00                    3.25                   2.25   \n",
       "481          4.00       4.00                    2.00                   2.75   \n",
       "482          5.00       3.33                    2.00                   2.50   \n",
       "\n",
       "     ...  Social Orientation_im  Stress Tolerance_im  Achievement_ex  \\\n",
       "0    ...                   3.67                 4.75            6.33   \n",
       "7    ...                   3.83                 4.52            5.33   \n",
       "28   ...                   2.70                 3.36            5.33   \n",
       "30   ...                   3.48                 4.16            5.33   \n",
       "42   ...                   3.38                 4.27            5.00   \n",
       "60   ...                   3.59                 4.69            4.00   \n",
       "65   ...                   3.13                 3.85            4.00   \n",
       "72   ...                   3.05                 4.23            4.00   \n",
       "76   ...                   3.46                 4.21            5.33   \n",
       "79   ...                   3.73                 4.46            5.33   \n",
       "80   ...                   4.37                 4.79            5.00   \n",
       "82   ...                   3.29                 4.00            4.67   \n",
       "83   ...                   4.00                 4.00            5.33   \n",
       "86   ...                   3.23                 4.19            4.33   \n",
       "92   ...                   3.67                 4.43            4.67   \n",
       "97   ...                   2.92                 4.52            5.67   \n",
       "99   ...                   2.80                 4.03            4.33   \n",
       "113  ...                   3.37                 3.92            4.67   \n",
       "114  ...                   3.21                 3.90            5.67   \n",
       "119  ...                   3.20                 4.18            4.67   \n",
       "122  ...                   3.30                 4.25            5.00   \n",
       "123  ...                   3.59                 4.25            5.33   \n",
       "189  ...                   3.27                 3.91            4.33   \n",
       "288  ...                   3.75                 4.46            6.00   \n",
       "331  ...                   4.01                 4.14            5.00   \n",
       "354  ...                   3.80                 4.23            5.67   \n",
       "390  ...                   3.46                 3.99            5.00   \n",
       "453  ...                   3.61                 4.33            4.33   \n",
       "481  ...                   3.50                 3.91            5.00   \n",
       "482  ...                   3.30                 3.85            4.33   \n",
       "\n",
       "     Independence_ex  Recognition_ex  Relationships_ex  Support_ex  \\\n",
       "0               7.00            7.00              5.00        5.33   \n",
       "7               5.67            4.67              4.00        5.33   \n",
       "28              5.00            4.67              4.33        2.00   \n",
       "30              5.67            4.67              5.00        5.33   \n",
       "42              6.00            4.67              6.00        5.67   \n",
       "60              5.33            3.67              4.00        3.67   \n",
       "65              5.00            3.67              4.33        5.00   \n",
       "72              4.67            4.00              4.67        3.67   \n",
       "76              5.67            5.00              5.00        4.33   \n",
       "79              5.33            5.00              6.00        3.67   \n",
       "80              5.33            5.00              6.33        3.33   \n",
       "82              4.33            4.67              5.33        5.00   \n",
       "83              5.33            4.67              6.33        4.67   \n",
       "86              4.67            4.67              5.33        5.33   \n",
       "92              5.00            4.67              4.33        4.33   \n",
       "97              5.00            5.33              4.33        3.67   \n",
       "99              5.00            4.00              5.00        4.67   \n",
       "113             5.33            4.33              4.33        5.33   \n",
       "114             5.00            4.33              2.33        5.00   \n",
       "119             4.33            4.67              4.00        5.33   \n",
       "122             5.00            4.33              5.33        5.00   \n",
       "123             4.00            4.00              3.00        5.00   \n",
       "189             4.33            3.67              4.33        5.33   \n",
       "288             6.00            6.33              4.00        4.33   \n",
       "331             5.00            4.33              5.00        3.00   \n",
       "354             6.00            4.67              6.00        3.00   \n",
       "390             3.67            3.67              4.00        4.33   \n",
       "453             4.67            3.67              4.33        5.67   \n",
       "481             5.00            4.67              4.67        5.67   \n",
       "482             4.33            3.67              5.67        5.33   \n",
       "\n",
       "     Working Conditions_ex  OCC_CODE  \\\n",
       "0                     6.33   11-1011   \n",
       "7                     5.50   11-2022   \n",
       "28                    4.50   11-9013   \n",
       "30                    5.83   11-9021   \n",
       "42                    6.00   11-9111   \n",
       "60                    4.17   13-1021   \n",
       "65                    4.67   13-1032   \n",
       "72                    4.50   13-1051   \n",
       "76                    4.83   13-1081   \n",
       "79                    5.17   13-1111   \n",
       "80                    4.83   13-1121   \n",
       "82                    4.17   13-1141   \n",
       "83                    4.83   13-1151   \n",
       "86                    4.50   13-1199   \n",
       "92                    4.17   13-2011   \n",
       "97                    4.50   13-2051   \n",
       "99                    4.00   13-2053   \n",
       "113                   5.67   15-1122   \n",
       "114                   5.50   15-1131   \n",
       "119                   5.50   15-1142   \n",
       "122                   5.17   15-1151   \n",
       "123                   4.67   15-1152   \n",
       "189                   4.50   17-3013   \n",
       "288                   6.00   23-1011   \n",
       "331                   4.33   25-1194   \n",
       "354                   4.83   25-9031   \n",
       "390                   4.17   27-3043   \n",
       "453                   3.83   29-2011   \n",
       "481                   5.17   29-9011   \n",
       "482                   4.00   29-9012   \n",
       "\n",
       "                                       BLS Job Title_y  \n",
       "0                              Chief Executive Officer  \n",
       "7                                        Sales Manager  \n",
       "28                                Farm / Ranch Manager  \n",
       "30                                Construction Manager  \n",
       "42                            Healthcare Administrator  \n",
       "60                   Procurement / Sourcing Specialist  \n",
       "65                               Auto Damage Appraiser  \n",
       "72                                           Estimator  \n",
       "76                                         Logistician  \n",
       "79                                     Program Analyst  \n",
       "80                                       Event Planner  \n",
       "82                     Compensation / Benefits Analyst  \n",
       "83                 Training and Development Specialist  \n",
       "86                              Cyber Security Analyst  \n",
       "92                                  Compliance Auditor  \n",
       "97                         Financial Analyst (General)  \n",
       "99                        Senior Insurance Underwriter  \n",
       "113                             Cyber Security Analyst  \n",
       "114               Senior Software Developer / Engineer  \n",
       "119                              Network Administrator  \n",
       "122                     Help Desk Technician / Analyst  \n",
       "123                                    Systems Analyst  \n",
       "189                    Mechanical / Electrical Drafter  \n",
       "288                                           Attorney  \n",
       "331                    Vocational Education Instructor  \n",
       "354  Curriculum and Instructional Designer / Developer  \n",
       "390                                         Copywriter  \n",
       "453                               Medical Technologist  \n",
       "481       Occupational Health and Safety (OHS) Manager  \n",
       "482    Occupational Health and Safety (OHS) Specialist  \n",
       "\n",
       "[30 rows x 354 columns]"
      ]
     },
     "execution_count": 69,
     "metadata": {},
     "output_type": "execute_result"
    }
   ],
   "source": [
    "#Merge skill_df and postings_df_long_occ for kmeans\n",
    "advance_opp = skill_df.merge(LONG_OCC_TITLE, on='LONG_OCC_CODE', how='inner', left_index=False, right_index=True)\n",
    "advance_opp.head(30)"
   ]
  },
  {
   "cell_type": "code",
   "execution_count": 70,
   "metadata": {},
   "outputs": [
    {
     "data": {
      "text/html": [
       "<div>\n",
       "<style scoped>\n",
       "    .dataframe tbody tr th:only-of-type {\n",
       "        vertical-align: middle;\n",
       "    }\n",
       "\n",
       "    .dataframe tbody tr th {\n",
       "        vertical-align: top;\n",
       "    }\n",
       "\n",
       "    .dataframe thead th {\n",
       "        text-align: right;\n",
       "    }\n",
       "</style>\n",
       "<table border=\"1\" class=\"dataframe\">\n",
       "  <thead>\n",
       "    <tr style=\"text-align: right;\">\n",
       "      <th></th>\n",
       "      <th>LONG_OCC_CODE</th>\n",
       "      <th>Artistic_oi</th>\n",
       "      <th>Conventional_oi</th>\n",
       "      <th>Enterprising_oi</th>\n",
       "      <th>Investigative_oi</th>\n",
       "      <th>Realistic_oi</th>\n",
       "      <th>Social_oi</th>\n",
       "      <th>Arm-Hand Steadiness_im</th>\n",
       "      <th>Auditory Attention_im</th>\n",
       "      <th>Category Flexibility_im</th>\n",
       "      <th>...</th>\n",
       "      <th>Social Orientation_im</th>\n",
       "      <th>Stress Tolerance_im</th>\n",
       "      <th>Achievement_ex</th>\n",
       "      <th>Independence_ex</th>\n",
       "      <th>Recognition_ex</th>\n",
       "      <th>Relationships_ex</th>\n",
       "      <th>Support_ex</th>\n",
       "      <th>Working Conditions_ex</th>\n",
       "      <th>OCC_CODE</th>\n",
       "      <th>BLS Job Title_y</th>\n",
       "    </tr>\n",
       "  </thead>\n",
       "  <tbody>\n",
       "    <tr>\n",
       "      <th>0</th>\n",
       "      <td>11-1011.00</td>\n",
       "      <td>2.67</td>\n",
       "      <td>5.33</td>\n",
       "      <td>7.0</td>\n",
       "      <td>2.00</td>\n",
       "      <td>1.33</td>\n",
       "      <td>3.67</td>\n",
       "      <td>1.00</td>\n",
       "      <td>2.12</td>\n",
       "      <td>3.50</td>\n",
       "      <td>...</td>\n",
       "      <td>3.67</td>\n",
       "      <td>4.75</td>\n",
       "      <td>6.33</td>\n",
       "      <td>7.00</td>\n",
       "      <td>7.00</td>\n",
       "      <td>5.00</td>\n",
       "      <td>5.33</td>\n",
       "      <td>6.33</td>\n",
       "      <td>11-1011</td>\n",
       "      <td>Chief Executive Officer</td>\n",
       "    </tr>\n",
       "    <tr>\n",
       "      <th>7</th>\n",
       "      <td>11-2022.00</td>\n",
       "      <td>2.00</td>\n",
       "      <td>4.67</td>\n",
       "      <td>7.0</td>\n",
       "      <td>2.00</td>\n",
       "      <td>3.00</td>\n",
       "      <td>3.67</td>\n",
       "      <td>1.38</td>\n",
       "      <td>2.00</td>\n",
       "      <td>3.25</td>\n",
       "      <td>...</td>\n",
       "      <td>3.83</td>\n",
       "      <td>4.52</td>\n",
       "      <td>5.33</td>\n",
       "      <td>5.67</td>\n",
       "      <td>4.67</td>\n",
       "      <td>4.00</td>\n",
       "      <td>5.33</td>\n",
       "      <td>5.50</td>\n",
       "      <td>11-2022</td>\n",
       "      <td>Sales Manager</td>\n",
       "    </tr>\n",
       "    <tr>\n",
       "      <th>28</th>\n",
       "      <td>11-9013.02</td>\n",
       "      <td>1.33</td>\n",
       "      <td>5.00</td>\n",
       "      <td>7.0</td>\n",
       "      <td>2.67</td>\n",
       "      <td>6.67</td>\n",
       "      <td>1.67</td>\n",
       "      <td>2.62</td>\n",
       "      <td>2.25</td>\n",
       "      <td>3.12</td>\n",
       "      <td>...</td>\n",
       "      <td>2.70</td>\n",
       "      <td>3.36</td>\n",
       "      <td>5.33</td>\n",
       "      <td>5.00</td>\n",
       "      <td>4.67</td>\n",
       "      <td>4.33</td>\n",
       "      <td>2.00</td>\n",
       "      <td>4.50</td>\n",
       "      <td>11-9013</td>\n",
       "      <td>Farm / Ranch Manager</td>\n",
       "    </tr>\n",
       "    <tr>\n",
       "      <th>30</th>\n",
       "      <td>11-9021.00</td>\n",
       "      <td>1.33</td>\n",
       "      <td>4.67</td>\n",
       "      <td>7.0</td>\n",
       "      <td>2.00</td>\n",
       "      <td>5.67</td>\n",
       "      <td>2.00</td>\n",
       "      <td>1.38</td>\n",
       "      <td>2.75</td>\n",
       "      <td>3.25</td>\n",
       "      <td>...</td>\n",
       "      <td>3.48</td>\n",
       "      <td>4.16</td>\n",
       "      <td>5.33</td>\n",
       "      <td>5.67</td>\n",
       "      <td>4.67</td>\n",
       "      <td>5.00</td>\n",
       "      <td>5.33</td>\n",
       "      <td>5.83</td>\n",
       "      <td>11-9021</td>\n",
       "      <td>Construction Manager</td>\n",
       "    </tr>\n",
       "    <tr>\n",
       "      <th>42</th>\n",
       "      <td>11-9111.00</td>\n",
       "      <td>1.67</td>\n",
       "      <td>5.00</td>\n",
       "      <td>7.0</td>\n",
       "      <td>3.33</td>\n",
       "      <td>1.67</td>\n",
       "      <td>5.00</td>\n",
       "      <td>1.62</td>\n",
       "      <td>2.25</td>\n",
       "      <td>3.50</td>\n",
       "      <td>...</td>\n",
       "      <td>3.38</td>\n",
       "      <td>4.27</td>\n",
       "      <td>5.00</td>\n",
       "      <td>6.00</td>\n",
       "      <td>4.67</td>\n",
       "      <td>6.00</td>\n",
       "      <td>5.67</td>\n",
       "      <td>6.00</td>\n",
       "      <td>11-9111</td>\n",
       "      <td>Healthcare Administrator</td>\n",
       "    </tr>\n",
       "  </tbody>\n",
       "</table>\n",
       "<p>5 rows × 353 columns</p>\n",
       "</div>"
      ],
      "text/plain": [
       "   LONG_OCC_CODE  Artistic_oi  Conventional_oi  Enterprising_oi  \\\n",
       "0     11-1011.00         2.67             5.33              7.0   \n",
       "7     11-2022.00         2.00             4.67              7.0   \n",
       "28    11-9013.02         1.33             5.00              7.0   \n",
       "30    11-9021.00         1.33             4.67              7.0   \n",
       "42    11-9111.00         1.67             5.00              7.0   \n",
       "\n",
       "    Investigative_oi  Realistic_oi  Social_oi  Arm-Hand Steadiness_im  \\\n",
       "0               2.00          1.33       3.67                    1.00   \n",
       "7               2.00          3.00       3.67                    1.38   \n",
       "28              2.67          6.67       1.67                    2.62   \n",
       "30              2.00          5.67       2.00                    1.38   \n",
       "42              3.33          1.67       5.00                    1.62   \n",
       "\n",
       "    Auditory Attention_im  Category Flexibility_im  ...  \\\n",
       "0                    2.12                     3.50  ...   \n",
       "7                    2.00                     3.25  ...   \n",
       "28                   2.25                     3.12  ...   \n",
       "30                   2.75                     3.25  ...   \n",
       "42                   2.25                     3.50  ...   \n",
       "\n",
       "    Social Orientation_im  Stress Tolerance_im  Achievement_ex  \\\n",
       "0                    3.67                 4.75            6.33   \n",
       "7                    3.83                 4.52            5.33   \n",
       "28                   2.70                 3.36            5.33   \n",
       "30                   3.48                 4.16            5.33   \n",
       "42                   3.38                 4.27            5.00   \n",
       "\n",
       "    Independence_ex  Recognition_ex  Relationships_ex  Support_ex  \\\n",
       "0              7.00            7.00              5.00        5.33   \n",
       "7              5.67            4.67              4.00        5.33   \n",
       "28             5.00            4.67              4.33        2.00   \n",
       "30             5.67            4.67              5.00        5.33   \n",
       "42             6.00            4.67              6.00        5.67   \n",
       "\n",
       "    Working Conditions_ex  OCC_CODE           BLS Job Title_y  \n",
       "0                    6.33   11-1011   Chief Executive Officer  \n",
       "7                    5.50   11-2022             Sales Manager  \n",
       "28                   4.50   11-9013      Farm / Ranch Manager  \n",
       "30                   5.83   11-9021      Construction Manager  \n",
       "42                   6.00   11-9111  Healthcare Administrator  \n",
       "\n",
       "[5 rows x 353 columns]"
      ]
     },
     "execution_count": 70,
     "metadata": {},
     "output_type": "execute_result"
    }
   ],
   "source": [
    "#Clean advance_opp\n",
    "advance_opp = advance_opp.drop(columns=['BLS Job Title_x'])\n",
    "#advance_opp = advance_opp.reset_index(drop = True)\n",
    "advance_opp.head()"
   ]
  },
  {
   "cell_type": "code",
   "execution_count": 71,
   "metadata": {},
   "outputs": [
    {
     "data": {
      "text/html": [
       "<div>\n",
       "<style scoped>\n",
       "    .dataframe tbody tr th:only-of-type {\n",
       "        vertical-align: middle;\n",
       "    }\n",
       "\n",
       "    .dataframe tbody tr th {\n",
       "        vertical-align: top;\n",
       "    }\n",
       "\n",
       "    .dataframe thead th {\n",
       "        text-align: right;\n",
       "    }\n",
       "</style>\n",
       "<table border=\"1\" class=\"dataframe\">\n",
       "  <thead>\n",
       "    <tr style=\"text-align: right;\">\n",
       "      <th></th>\n",
       "      <th>LONG_OCC_CODE</th>\n",
       "      <th>Artistic_oi</th>\n",
       "      <th>Conventional_oi</th>\n",
       "      <th>Enterprising_oi</th>\n",
       "      <th>Investigative_oi</th>\n",
       "      <th>Realistic_oi</th>\n",
       "      <th>Social_oi</th>\n",
       "      <th>Arm-Hand Steadiness_im</th>\n",
       "      <th>Auditory Attention_im</th>\n",
       "      <th>Category Flexibility_im</th>\n",
       "      <th>...</th>\n",
       "      <th>Stress Tolerance_im</th>\n",
       "      <th>Achievement_ex</th>\n",
       "      <th>Independence_ex</th>\n",
       "      <th>Recognition_ex</th>\n",
       "      <th>Relationships_ex</th>\n",
       "      <th>Support_ex</th>\n",
       "      <th>Working Conditions_ex</th>\n",
       "      <th>OCC_CODE</th>\n",
       "      <th>BLS Job Title_y</th>\n",
       "      <th>Job Title</th>\n",
       "    </tr>\n",
       "  </thead>\n",
       "  <tbody>\n",
       "    <tr>\n",
       "      <th>0</th>\n",
       "      <td>11-1011.00</td>\n",
       "      <td>2.67</td>\n",
       "      <td>5.33</td>\n",
       "      <td>7.0</td>\n",
       "      <td>2.00</td>\n",
       "      <td>1.33</td>\n",
       "      <td>3.67</td>\n",
       "      <td>1.00</td>\n",
       "      <td>2.12</td>\n",
       "      <td>3.50</td>\n",
       "      <td>...</td>\n",
       "      <td>4.75</td>\n",
       "      <td>6.33</td>\n",
       "      <td>7.00</td>\n",
       "      <td>7.00</td>\n",
       "      <td>5.00</td>\n",
       "      <td>5.33</td>\n",
       "      <td>6.33</td>\n",
       "      <td>11-1011</td>\n",
       "      <td>Chief Executive Officer</td>\n",
       "      <td>Chief Executive Officer</td>\n",
       "    </tr>\n",
       "    <tr>\n",
       "      <th>7</th>\n",
       "      <td>11-2022.00</td>\n",
       "      <td>2.00</td>\n",
       "      <td>4.67</td>\n",
       "      <td>7.0</td>\n",
       "      <td>2.00</td>\n",
       "      <td>3.00</td>\n",
       "      <td>3.67</td>\n",
       "      <td>1.38</td>\n",
       "      <td>2.00</td>\n",
       "      <td>3.25</td>\n",
       "      <td>...</td>\n",
       "      <td>4.52</td>\n",
       "      <td>5.33</td>\n",
       "      <td>5.67</td>\n",
       "      <td>4.67</td>\n",
       "      <td>4.00</td>\n",
       "      <td>5.33</td>\n",
       "      <td>5.50</td>\n",
       "      <td>11-2022</td>\n",
       "      <td>Sales Manager</td>\n",
       "      <td>Sales Manager</td>\n",
       "    </tr>\n",
       "    <tr>\n",
       "      <th>28</th>\n",
       "      <td>11-9013.02</td>\n",
       "      <td>1.33</td>\n",
       "      <td>5.00</td>\n",
       "      <td>7.0</td>\n",
       "      <td>2.67</td>\n",
       "      <td>6.67</td>\n",
       "      <td>1.67</td>\n",
       "      <td>2.62</td>\n",
       "      <td>2.25</td>\n",
       "      <td>3.12</td>\n",
       "      <td>...</td>\n",
       "      <td>3.36</td>\n",
       "      <td>5.33</td>\n",
       "      <td>5.00</td>\n",
       "      <td>4.67</td>\n",
       "      <td>4.33</td>\n",
       "      <td>2.00</td>\n",
       "      <td>4.50</td>\n",
       "      <td>11-9013</td>\n",
       "      <td>Farm / Ranch Manager</td>\n",
       "      <td>Farm / Ranch Manager</td>\n",
       "    </tr>\n",
       "    <tr>\n",
       "      <th>30</th>\n",
       "      <td>11-9021.00</td>\n",
       "      <td>1.33</td>\n",
       "      <td>4.67</td>\n",
       "      <td>7.0</td>\n",
       "      <td>2.00</td>\n",
       "      <td>5.67</td>\n",
       "      <td>2.00</td>\n",
       "      <td>1.38</td>\n",
       "      <td>2.75</td>\n",
       "      <td>3.25</td>\n",
       "      <td>...</td>\n",
       "      <td>4.16</td>\n",
       "      <td>5.33</td>\n",
       "      <td>5.67</td>\n",
       "      <td>4.67</td>\n",
       "      <td>5.00</td>\n",
       "      <td>5.33</td>\n",
       "      <td>5.83</td>\n",
       "      <td>11-9021</td>\n",
       "      <td>Construction Manager</td>\n",
       "      <td>Construction Manager</td>\n",
       "    </tr>\n",
       "    <tr>\n",
       "      <th>42</th>\n",
       "      <td>11-9111.00</td>\n",
       "      <td>1.67</td>\n",
       "      <td>5.00</td>\n",
       "      <td>7.0</td>\n",
       "      <td>3.33</td>\n",
       "      <td>1.67</td>\n",
       "      <td>5.00</td>\n",
       "      <td>1.62</td>\n",
       "      <td>2.25</td>\n",
       "      <td>3.50</td>\n",
       "      <td>...</td>\n",
       "      <td>4.27</td>\n",
       "      <td>5.00</td>\n",
       "      <td>6.00</td>\n",
       "      <td>4.67</td>\n",
       "      <td>6.00</td>\n",
       "      <td>5.67</td>\n",
       "      <td>6.00</td>\n",
       "      <td>11-9111</td>\n",
       "      <td>Healthcare Administrator</td>\n",
       "      <td>Healthcare Administrator</td>\n",
       "    </tr>\n",
       "  </tbody>\n",
       "</table>\n",
       "<p>5 rows × 354 columns</p>\n",
       "</div>"
      ],
      "text/plain": [
       "   LONG_OCC_CODE  Artistic_oi  Conventional_oi  Enterprising_oi  \\\n",
       "0     11-1011.00         2.67             5.33              7.0   \n",
       "7     11-2022.00         2.00             4.67              7.0   \n",
       "28    11-9013.02         1.33             5.00              7.0   \n",
       "30    11-9021.00         1.33             4.67              7.0   \n",
       "42    11-9111.00         1.67             5.00              7.0   \n",
       "\n",
       "    Investigative_oi  Realistic_oi  Social_oi  Arm-Hand Steadiness_im  \\\n",
       "0               2.00          1.33       3.67                    1.00   \n",
       "7               2.00          3.00       3.67                    1.38   \n",
       "28              2.67          6.67       1.67                    2.62   \n",
       "30              2.00          5.67       2.00                    1.38   \n",
       "42              3.33          1.67       5.00                    1.62   \n",
       "\n",
       "    Auditory Attention_im  Category Flexibility_im  ...  Stress Tolerance_im  \\\n",
       "0                    2.12                     3.50  ...                 4.75   \n",
       "7                    2.00                     3.25  ...                 4.52   \n",
       "28                   2.25                     3.12  ...                 3.36   \n",
       "30                   2.75                     3.25  ...                 4.16   \n",
       "42                   2.25                     3.50  ...                 4.27   \n",
       "\n",
       "    Achievement_ex  Independence_ex  Recognition_ex  Relationships_ex  \\\n",
       "0             6.33             7.00            7.00              5.00   \n",
       "7             5.33             5.67            4.67              4.00   \n",
       "28            5.33             5.00            4.67              4.33   \n",
       "30            5.33             5.67            4.67              5.00   \n",
       "42            5.00             6.00            4.67              6.00   \n",
       "\n",
       "    Support_ex  Working Conditions_ex  OCC_CODE           BLS Job Title_y  \\\n",
       "0         5.33                   6.33   11-1011   Chief Executive Officer   \n",
       "7         5.33                   5.50   11-2022             Sales Manager   \n",
       "28        2.00                   4.50   11-9013      Farm / Ranch Manager   \n",
       "30        5.33                   5.83   11-9021      Construction Manager   \n",
       "42        5.67                   6.00   11-9111  Healthcare Administrator   \n",
       "\n",
       "                   Job Title  \n",
       "0    Chief Executive Officer  \n",
       "7              Sales Manager  \n",
       "28      Farm / Ranch Manager  \n",
       "30      Construction Manager  \n",
       "42  Healthcare Administrator  \n",
       "\n",
       "[5 rows x 354 columns]"
      ]
     },
     "execution_count": 71,
     "metadata": {},
     "output_type": "execute_result"
    }
   ],
   "source": [
    "#Rename BLS Job Title_y\n",
    "advance_opp['Job Title'] = advance_opp['BLS Job Title_y']\n",
    "advance_opp.head()"
   ]
  },
  {
   "cell_type": "code",
   "execution_count": 72,
   "metadata": {},
   "outputs": [
    {
     "data": {
      "text/html": [
       "<div>\n",
       "<style scoped>\n",
       "    .dataframe tbody tr th:only-of-type {\n",
       "        vertical-align: middle;\n",
       "    }\n",
       "\n",
       "    .dataframe tbody tr th {\n",
       "        vertical-align: top;\n",
       "    }\n",
       "\n",
       "    .dataframe thead th {\n",
       "        text-align: right;\n",
       "    }\n",
       "</style>\n",
       "<table border=\"1\" class=\"dataframe\">\n",
       "  <thead>\n",
       "    <tr style=\"text-align: right;\">\n",
       "      <th></th>\n",
       "      <th>LONG_OCC_CODE</th>\n",
       "      <th>Artistic_oi</th>\n",
       "      <th>Conventional_oi</th>\n",
       "      <th>Enterprising_oi</th>\n",
       "      <th>Investigative_oi</th>\n",
       "      <th>Realistic_oi</th>\n",
       "      <th>Social_oi</th>\n",
       "      <th>Arm-Hand Steadiness_im</th>\n",
       "      <th>Auditory Attention_im</th>\n",
       "      <th>Category Flexibility_im</th>\n",
       "      <th>...</th>\n",
       "      <th>Social Orientation_im</th>\n",
       "      <th>Stress Tolerance_im</th>\n",
       "      <th>Achievement_ex</th>\n",
       "      <th>Independence_ex</th>\n",
       "      <th>Recognition_ex</th>\n",
       "      <th>Relationships_ex</th>\n",
       "      <th>Support_ex</th>\n",
       "      <th>Working Conditions_ex</th>\n",
       "      <th>OCC_CODE</th>\n",
       "      <th>Job Title</th>\n",
       "    </tr>\n",
       "  </thead>\n",
       "  <tbody>\n",
       "    <tr>\n",
       "      <th>0</th>\n",
       "      <td>11-1011.00</td>\n",
       "      <td>2.67</td>\n",
       "      <td>5.33</td>\n",
       "      <td>7.0</td>\n",
       "      <td>2.00</td>\n",
       "      <td>1.33</td>\n",
       "      <td>3.67</td>\n",
       "      <td>1.00</td>\n",
       "      <td>2.12</td>\n",
       "      <td>3.50</td>\n",
       "      <td>...</td>\n",
       "      <td>3.67</td>\n",
       "      <td>4.75</td>\n",
       "      <td>6.33</td>\n",
       "      <td>7.00</td>\n",
       "      <td>7.00</td>\n",
       "      <td>5.00</td>\n",
       "      <td>5.33</td>\n",
       "      <td>6.33</td>\n",
       "      <td>11-1011</td>\n",
       "      <td>Chief Executive Officer</td>\n",
       "    </tr>\n",
       "    <tr>\n",
       "      <th>7</th>\n",
       "      <td>11-2022.00</td>\n",
       "      <td>2.00</td>\n",
       "      <td>4.67</td>\n",
       "      <td>7.0</td>\n",
       "      <td>2.00</td>\n",
       "      <td>3.00</td>\n",
       "      <td>3.67</td>\n",
       "      <td>1.38</td>\n",
       "      <td>2.00</td>\n",
       "      <td>3.25</td>\n",
       "      <td>...</td>\n",
       "      <td>3.83</td>\n",
       "      <td>4.52</td>\n",
       "      <td>5.33</td>\n",
       "      <td>5.67</td>\n",
       "      <td>4.67</td>\n",
       "      <td>4.00</td>\n",
       "      <td>5.33</td>\n",
       "      <td>5.50</td>\n",
       "      <td>11-2022</td>\n",
       "      <td>Sales Manager</td>\n",
       "    </tr>\n",
       "    <tr>\n",
       "      <th>28</th>\n",
       "      <td>11-9013.02</td>\n",
       "      <td>1.33</td>\n",
       "      <td>5.00</td>\n",
       "      <td>7.0</td>\n",
       "      <td>2.67</td>\n",
       "      <td>6.67</td>\n",
       "      <td>1.67</td>\n",
       "      <td>2.62</td>\n",
       "      <td>2.25</td>\n",
       "      <td>3.12</td>\n",
       "      <td>...</td>\n",
       "      <td>2.70</td>\n",
       "      <td>3.36</td>\n",
       "      <td>5.33</td>\n",
       "      <td>5.00</td>\n",
       "      <td>4.67</td>\n",
       "      <td>4.33</td>\n",
       "      <td>2.00</td>\n",
       "      <td>4.50</td>\n",
       "      <td>11-9013</td>\n",
       "      <td>Farm / Ranch Manager</td>\n",
       "    </tr>\n",
       "    <tr>\n",
       "      <th>30</th>\n",
       "      <td>11-9021.00</td>\n",
       "      <td>1.33</td>\n",
       "      <td>4.67</td>\n",
       "      <td>7.0</td>\n",
       "      <td>2.00</td>\n",
       "      <td>5.67</td>\n",
       "      <td>2.00</td>\n",
       "      <td>1.38</td>\n",
       "      <td>2.75</td>\n",
       "      <td>3.25</td>\n",
       "      <td>...</td>\n",
       "      <td>3.48</td>\n",
       "      <td>4.16</td>\n",
       "      <td>5.33</td>\n",
       "      <td>5.67</td>\n",
       "      <td>4.67</td>\n",
       "      <td>5.00</td>\n",
       "      <td>5.33</td>\n",
       "      <td>5.83</td>\n",
       "      <td>11-9021</td>\n",
       "      <td>Construction Manager</td>\n",
       "    </tr>\n",
       "    <tr>\n",
       "      <th>42</th>\n",
       "      <td>11-9111.00</td>\n",
       "      <td>1.67</td>\n",
       "      <td>5.00</td>\n",
       "      <td>7.0</td>\n",
       "      <td>3.33</td>\n",
       "      <td>1.67</td>\n",
       "      <td>5.00</td>\n",
       "      <td>1.62</td>\n",
       "      <td>2.25</td>\n",
       "      <td>3.50</td>\n",
       "      <td>...</td>\n",
       "      <td>3.38</td>\n",
       "      <td>4.27</td>\n",
       "      <td>5.00</td>\n",
       "      <td>6.00</td>\n",
       "      <td>4.67</td>\n",
       "      <td>6.00</td>\n",
       "      <td>5.67</td>\n",
       "      <td>6.00</td>\n",
       "      <td>11-9111</td>\n",
       "      <td>Healthcare Administrator</td>\n",
       "    </tr>\n",
       "  </tbody>\n",
       "</table>\n",
       "<p>5 rows × 353 columns</p>\n",
       "</div>"
      ],
      "text/plain": [
       "   LONG_OCC_CODE  Artistic_oi  Conventional_oi  Enterprising_oi  \\\n",
       "0     11-1011.00         2.67             5.33              7.0   \n",
       "7     11-2022.00         2.00             4.67              7.0   \n",
       "28    11-9013.02         1.33             5.00              7.0   \n",
       "30    11-9021.00         1.33             4.67              7.0   \n",
       "42    11-9111.00         1.67             5.00              7.0   \n",
       "\n",
       "    Investigative_oi  Realistic_oi  Social_oi  Arm-Hand Steadiness_im  \\\n",
       "0               2.00          1.33       3.67                    1.00   \n",
       "7               2.00          3.00       3.67                    1.38   \n",
       "28              2.67          6.67       1.67                    2.62   \n",
       "30              2.00          5.67       2.00                    1.38   \n",
       "42              3.33          1.67       5.00                    1.62   \n",
       "\n",
       "    Auditory Attention_im  Category Flexibility_im  ...  \\\n",
       "0                    2.12                     3.50  ...   \n",
       "7                    2.00                     3.25  ...   \n",
       "28                   2.25                     3.12  ...   \n",
       "30                   2.75                     3.25  ...   \n",
       "42                   2.25                     3.50  ...   \n",
       "\n",
       "    Social Orientation_im  Stress Tolerance_im  Achievement_ex  \\\n",
       "0                    3.67                 4.75            6.33   \n",
       "7                    3.83                 4.52            5.33   \n",
       "28                   2.70                 3.36            5.33   \n",
       "30                   3.48                 4.16            5.33   \n",
       "42                   3.38                 4.27            5.00   \n",
       "\n",
       "    Independence_ex  Recognition_ex  Relationships_ex  Support_ex  \\\n",
       "0              7.00            7.00              5.00        5.33   \n",
       "7              5.67            4.67              4.00        5.33   \n",
       "28             5.00            4.67              4.33        2.00   \n",
       "30             5.67            4.67              5.00        5.33   \n",
       "42             6.00            4.67              6.00        5.67   \n",
       "\n",
       "    Working Conditions_ex  OCC_CODE                 Job Title  \n",
       "0                    6.33   11-1011   Chief Executive Officer  \n",
       "7                    5.50   11-2022             Sales Manager  \n",
       "28                   4.50   11-9013      Farm / Ranch Manager  \n",
       "30                   5.83   11-9021      Construction Manager  \n",
       "42                   6.00   11-9111  Healthcare Administrator  \n",
       "\n",
       "[5 rows x 353 columns]"
      ]
     },
     "execution_count": 72,
     "metadata": {},
     "output_type": "execute_result"
    }
   ],
   "source": [
    "#Drop BLS Job Title_y\n",
    "advance_opp = advance_opp.drop(columns=['BLS Job Title_y'])\n",
    "advance_opp.head()"
   ]
  },
  {
   "cell_type": "code",
   "execution_count": 73,
   "metadata": {
    "scrolled": true
   },
   "outputs": [
    {
     "data": {
      "text/html": [
       "<div>\n",
       "<style scoped>\n",
       "    .dataframe tbody tr th:only-of-type {\n",
       "        vertical-align: middle;\n",
       "    }\n",
       "\n",
       "    .dataframe tbody tr th {\n",
       "        vertical-align: top;\n",
       "    }\n",
       "\n",
       "    .dataframe thead th {\n",
       "        text-align: right;\n",
       "    }\n",
       "</style>\n",
       "<table border=\"1\" class=\"dataframe\">\n",
       "  <thead>\n",
       "    <tr style=\"text-align: right;\">\n",
       "      <th></th>\n",
       "      <th>LONG_OCC_CODE</th>\n",
       "      <th>Artistic_oi</th>\n",
       "      <th>Conventional_oi</th>\n",
       "      <th>Enterprising_oi</th>\n",
       "      <th>Investigative_oi</th>\n",
       "      <th>Realistic_oi</th>\n",
       "      <th>Social_oi</th>\n",
       "      <th>Arm-Hand Steadiness_im</th>\n",
       "      <th>Auditory Attention_im</th>\n",
       "      <th>Category Flexibility_im</th>\n",
       "      <th>...</th>\n",
       "      <th>Social Orientation_im</th>\n",
       "      <th>Stress Tolerance_im</th>\n",
       "      <th>Achievement_ex</th>\n",
       "      <th>Independence_ex</th>\n",
       "      <th>Recognition_ex</th>\n",
       "      <th>Relationships_ex</th>\n",
       "      <th>Support_ex</th>\n",
       "      <th>Working Conditions_ex</th>\n",
       "      <th>OCC_CODE</th>\n",
       "      <th>Job Title</th>\n",
       "    </tr>\n",
       "  </thead>\n",
       "  <tbody>\n",
       "    <tr>\n",
       "      <th>0</th>\n",
       "      <td>11-1011.00</td>\n",
       "      <td>2.67</td>\n",
       "      <td>5.33</td>\n",
       "      <td>7.0</td>\n",
       "      <td>2.00</td>\n",
       "      <td>1.33</td>\n",
       "      <td>3.67</td>\n",
       "      <td>1.00</td>\n",
       "      <td>2.12</td>\n",
       "      <td>3.50</td>\n",
       "      <td>...</td>\n",
       "      <td>3.67</td>\n",
       "      <td>4.75</td>\n",
       "      <td>6.33</td>\n",
       "      <td>7.00</td>\n",
       "      <td>7.00</td>\n",
       "      <td>5.00</td>\n",
       "      <td>5.33</td>\n",
       "      <td>6.33</td>\n",
       "      <td>11-1011</td>\n",
       "      <td>Chief Executive Officer</td>\n",
       "    </tr>\n",
       "    <tr>\n",
       "      <th>1</th>\n",
       "      <td>11-2022.00</td>\n",
       "      <td>2.00</td>\n",
       "      <td>4.67</td>\n",
       "      <td>7.0</td>\n",
       "      <td>2.00</td>\n",
       "      <td>3.00</td>\n",
       "      <td>3.67</td>\n",
       "      <td>1.38</td>\n",
       "      <td>2.00</td>\n",
       "      <td>3.25</td>\n",
       "      <td>...</td>\n",
       "      <td>3.83</td>\n",
       "      <td>4.52</td>\n",
       "      <td>5.33</td>\n",
       "      <td>5.67</td>\n",
       "      <td>4.67</td>\n",
       "      <td>4.00</td>\n",
       "      <td>5.33</td>\n",
       "      <td>5.50</td>\n",
       "      <td>11-2022</td>\n",
       "      <td>Sales Manager</td>\n",
       "    </tr>\n",
       "    <tr>\n",
       "      <th>2</th>\n",
       "      <td>11-9013.02</td>\n",
       "      <td>1.33</td>\n",
       "      <td>5.00</td>\n",
       "      <td>7.0</td>\n",
       "      <td>2.67</td>\n",
       "      <td>6.67</td>\n",
       "      <td>1.67</td>\n",
       "      <td>2.62</td>\n",
       "      <td>2.25</td>\n",
       "      <td>3.12</td>\n",
       "      <td>...</td>\n",
       "      <td>2.70</td>\n",
       "      <td>3.36</td>\n",
       "      <td>5.33</td>\n",
       "      <td>5.00</td>\n",
       "      <td>4.67</td>\n",
       "      <td>4.33</td>\n",
       "      <td>2.00</td>\n",
       "      <td>4.50</td>\n",
       "      <td>11-9013</td>\n",
       "      <td>Farm / Ranch Manager</td>\n",
       "    </tr>\n",
       "    <tr>\n",
       "      <th>3</th>\n",
       "      <td>11-9021.00</td>\n",
       "      <td>1.33</td>\n",
       "      <td>4.67</td>\n",
       "      <td>7.0</td>\n",
       "      <td>2.00</td>\n",
       "      <td>5.67</td>\n",
       "      <td>2.00</td>\n",
       "      <td>1.38</td>\n",
       "      <td>2.75</td>\n",
       "      <td>3.25</td>\n",
       "      <td>...</td>\n",
       "      <td>3.48</td>\n",
       "      <td>4.16</td>\n",
       "      <td>5.33</td>\n",
       "      <td>5.67</td>\n",
       "      <td>4.67</td>\n",
       "      <td>5.00</td>\n",
       "      <td>5.33</td>\n",
       "      <td>5.83</td>\n",
       "      <td>11-9021</td>\n",
       "      <td>Construction Manager</td>\n",
       "    </tr>\n",
       "    <tr>\n",
       "      <th>4</th>\n",
       "      <td>11-9111.00</td>\n",
       "      <td>1.67</td>\n",
       "      <td>5.00</td>\n",
       "      <td>7.0</td>\n",
       "      <td>3.33</td>\n",
       "      <td>1.67</td>\n",
       "      <td>5.00</td>\n",
       "      <td>1.62</td>\n",
       "      <td>2.25</td>\n",
       "      <td>3.50</td>\n",
       "      <td>...</td>\n",
       "      <td>3.38</td>\n",
       "      <td>4.27</td>\n",
       "      <td>5.00</td>\n",
       "      <td>6.00</td>\n",
       "      <td>4.67</td>\n",
       "      <td>6.00</td>\n",
       "      <td>5.67</td>\n",
       "      <td>6.00</td>\n",
       "      <td>11-9111</td>\n",
       "      <td>Healthcare Administrator</td>\n",
       "    </tr>\n",
       "  </tbody>\n",
       "</table>\n",
       "<p>5 rows × 353 columns</p>\n",
       "</div>"
      ],
      "text/plain": [
       "  LONG_OCC_CODE  Artistic_oi  Conventional_oi  Enterprising_oi  \\\n",
       "0    11-1011.00         2.67             5.33              7.0   \n",
       "1    11-2022.00         2.00             4.67              7.0   \n",
       "2    11-9013.02         1.33             5.00              7.0   \n",
       "3    11-9021.00         1.33             4.67              7.0   \n",
       "4    11-9111.00         1.67             5.00              7.0   \n",
       "\n",
       "   Investigative_oi  Realistic_oi  Social_oi  Arm-Hand Steadiness_im  \\\n",
       "0              2.00          1.33       3.67                    1.00   \n",
       "1              2.00          3.00       3.67                    1.38   \n",
       "2              2.67          6.67       1.67                    2.62   \n",
       "3              2.00          5.67       2.00                    1.38   \n",
       "4              3.33          1.67       5.00                    1.62   \n",
       "\n",
       "   Auditory Attention_im  Category Flexibility_im  ...  Social Orientation_im  \\\n",
       "0                   2.12                     3.50  ...                   3.67   \n",
       "1                   2.00                     3.25  ...                   3.83   \n",
       "2                   2.25                     3.12  ...                   2.70   \n",
       "3                   2.75                     3.25  ...                   3.48   \n",
       "4                   2.25                     3.50  ...                   3.38   \n",
       "\n",
       "   Stress Tolerance_im  Achievement_ex  Independence_ex  Recognition_ex  \\\n",
       "0                 4.75            6.33             7.00            7.00   \n",
       "1                 4.52            5.33             5.67            4.67   \n",
       "2                 3.36            5.33             5.00            4.67   \n",
       "3                 4.16            5.33             5.67            4.67   \n",
       "4                 4.27            5.00             6.00            4.67   \n",
       "\n",
       "   Relationships_ex  Support_ex  Working Conditions_ex  OCC_CODE  \\\n",
       "0              5.00        5.33                   6.33   11-1011   \n",
       "1              4.00        5.33                   5.50   11-2022   \n",
       "2              4.33        2.00                   4.50   11-9013   \n",
       "3              5.00        5.33                   5.83   11-9021   \n",
       "4              6.00        5.67                   6.00   11-9111   \n",
       "\n",
       "                  Job Title  \n",
       "0   Chief Executive Officer  \n",
       "1             Sales Manager  \n",
       "2      Farm / Ranch Manager  \n",
       "3      Construction Manager  \n",
       "4  Healthcare Administrator  \n",
       "\n",
       "[5 rows x 353 columns]"
      ]
     },
     "execution_count": 73,
     "metadata": {},
     "output_type": "execute_result"
    }
   ],
   "source": [
    "#Reset Index\n",
    "advance_opp = advance_opp.reset_index(drop = True)\n",
    "advance_opp.head()"
   ]
  },
  {
   "cell_type": "code",
   "execution_count": 74,
   "metadata": {},
   "outputs": [
    {
     "data": {
      "text/html": [
       "<div>\n",
       "<style scoped>\n",
       "    .dataframe tbody tr th:only-of-type {\n",
       "        vertical-align: middle;\n",
       "    }\n",
       "\n",
       "    .dataframe tbody tr th {\n",
       "        vertical-align: top;\n",
       "    }\n",
       "\n",
       "    .dataframe thead th {\n",
       "        text-align: right;\n",
       "    }\n",
       "</style>\n",
       "<table border=\"1\" class=\"dataframe\">\n",
       "  <thead>\n",
       "    <tr style=\"text-align: right;\">\n",
       "      <th></th>\n",
       "      <th>Total Employment</th>\n",
       "      <th>Jobs per 1000</th>\n",
       "      <th>Location Quotient</th>\n",
       "      <th>Mean Annual Wage</th>\n",
       "      <th>Annual Wage 10th Pct</th>\n",
       "      <th>Annual Wage 25th Pct</th>\n",
       "      <th>Median Annual Wage</th>\n",
       "      <th>Annual Wage 75th Pct</th>\n",
       "      <th>Annual Wage 90th Pct</th>\n",
       "    </tr>\n",
       "    <tr>\n",
       "      <th>MSA_ID</th>\n",
       "      <th></th>\n",
       "      <th></th>\n",
       "      <th></th>\n",
       "      <th></th>\n",
       "      <th></th>\n",
       "      <th></th>\n",
       "      <th></th>\n",
       "      <th></th>\n",
       "      <th></th>\n",
       "    </tr>\n",
       "  </thead>\n",
       "  <tbody>\n",
       "    <tr>\n",
       "      <th>10180</th>\n",
       "      <td>256.517857</td>\n",
       "      <td>3.851402</td>\n",
       "      <td>1.314375</td>\n",
       "      <td>46104.776786</td>\n",
       "      <td>29557.455357</td>\n",
       "      <td>35431.428571</td>\n",
       "      <td>43662.142857</td>\n",
       "      <td>54407.678571</td>\n",
       "      <td>67049.017857</td>\n",
       "    </tr>\n",
       "    <tr>\n",
       "      <th>10380</th>\n",
       "      <td>257.872340</td>\n",
       "      <td>5.659014</td>\n",
       "      <td>1.862553</td>\n",
       "      <td>30245.390071</td>\n",
       "      <td>20116.170213</td>\n",
       "      <td>23464.468085</td>\n",
       "      <td>28356.808511</td>\n",
       "      <td>35213.404255</td>\n",
       "      <td>43742.269504</td>\n",
       "    </tr>\n",
       "    <tr>\n",
       "      <th>10420</th>\n",
       "      <td>746.925000</td>\n",
       "      <td>2.266470</td>\n",
       "      <td>1.190975</td>\n",
       "      <td>52309.375000</td>\n",
       "      <td>33143.050000</td>\n",
       "      <td>40158.475000</td>\n",
       "      <td>50064.025000</td>\n",
       "      <td>62337.450000</td>\n",
       "      <td>75381.650000</td>\n",
       "    </tr>\n",
       "    <tr>\n",
       "      <th>10500</th>\n",
       "      <td>255.611111</td>\n",
       "      <td>4.335828</td>\n",
       "      <td>1.305111</td>\n",
       "      <td>46614.722222</td>\n",
       "      <td>28690.277778</td>\n",
       "      <td>35762.333333</td>\n",
       "      <td>44932.277778</td>\n",
       "      <td>55331.833333</td>\n",
       "      <td>67193.888889</td>\n",
       "    </tr>\n",
       "    <tr>\n",
       "      <th>10540</th>\n",
       "      <td>177.570093</td>\n",
       "      <td>3.939005</td>\n",
       "      <td>2.234813</td>\n",
       "      <td>51859.719626</td>\n",
       "      <td>35119.158879</td>\n",
       "      <td>41025.654206</td>\n",
       "      <td>50036.775701</td>\n",
       "      <td>60816.962617</td>\n",
       "      <td>72574.532710</td>\n",
       "    </tr>\n",
       "  </tbody>\n",
       "</table>\n",
       "</div>"
      ],
      "text/plain": [
       "        Total Employment  Jobs per 1000  Location Quotient  Mean Annual Wage  \\\n",
       "MSA_ID                                                                         \n",
       "10180         256.517857       3.851402           1.314375      46104.776786   \n",
       "10380         257.872340       5.659014           1.862553      30245.390071   \n",
       "10420         746.925000       2.266470           1.190975      52309.375000   \n",
       "10500         255.611111       4.335828           1.305111      46614.722222   \n",
       "10540         177.570093       3.939005           2.234813      51859.719626   \n",
       "\n",
       "        Annual Wage 10th Pct  Annual Wage 25th Pct  Median Annual Wage  \\\n",
       "MSA_ID                                                                   \n",
       "10180           29557.455357          35431.428571        43662.142857   \n",
       "10380           20116.170213          23464.468085        28356.808511   \n",
       "10420           33143.050000          40158.475000        50064.025000   \n",
       "10500           28690.277778          35762.333333        44932.277778   \n",
       "10540           35119.158879          41025.654206        50036.775701   \n",
       "\n",
       "        Annual Wage 75th Pct  Annual Wage 90th Pct  \n",
       "MSA_ID                                              \n",
       "10180           54407.678571          67049.017857  \n",
       "10380           35213.404255          43742.269504  \n",
       "10420           62337.450000          75381.650000  \n",
       "10500           55331.833333          67193.888889  \n",
       "10540           60816.962617          72574.532710  "
      ]
     },
     "execution_count": 74,
     "metadata": {},
     "output_type": "execute_result"
    }
   ],
   "source": [
    "#Check DF\n",
    "msa_df_MSA.head()"
   ]
  },
  {
   "cell_type": "code",
   "execution_count": 75,
   "metadata": {},
   "outputs": [
    {
     "data": {
      "text/html": [
       "<div>\n",
       "<style scoped>\n",
       "    .dataframe tbody tr th:only-of-type {\n",
       "        vertical-align: middle;\n",
       "    }\n",
       "\n",
       "    .dataframe tbody tr th {\n",
       "        vertical-align: top;\n",
       "    }\n",
       "\n",
       "    .dataframe thead th {\n",
       "        text-align: right;\n",
       "    }\n",
       "</style>\n",
       "<table border=\"1\" class=\"dataframe\">\n",
       "  <thead>\n",
       "    <tr style=\"text-align: right;\">\n",
       "      <th></th>\n",
       "      <th>MSA_ID</th>\n",
       "      <th>CITY</th>\n",
       "      <th>STATE</th>\n",
       "      <th>YEAR</th>\n",
       "      <th>LONG_OCC_CODE</th>\n",
       "      <th>BLS Job Title</th>\n",
       "      <th>JOB_ID</th>\n",
       "      <th>OCC_CODE</th>\n",
       "    </tr>\n",
       "  </thead>\n",
       "  <tbody>\n",
       "    <tr>\n",
       "      <th>0</th>\n",
       "      <td>42660.0</td>\n",
       "      <td>Seattle</td>\n",
       "      <td>WA</td>\n",
       "      <td>2019</td>\n",
       "      <td>13-1071.91</td>\n",
       "      <td>Recruiter (General)</td>\n",
       "      <td>38472841335</td>\n",
       "      <td>13-1071</td>\n",
       "    </tr>\n",
       "    <tr>\n",
       "      <th>1</th>\n",
       "      <td>38060.0</td>\n",
       "      <td>Chandler</td>\n",
       "      <td>AZ</td>\n",
       "      <td>2019</td>\n",
       "      <td>13-1051.00</td>\n",
       "      <td>Estimator</td>\n",
       "      <td>38474073426</td>\n",
       "      <td>13-1051</td>\n",
       "    </tr>\n",
       "    <tr>\n",
       "      <th>2</th>\n",
       "      <td>38060.0</td>\n",
       "      <td>Chandler</td>\n",
       "      <td>AZ</td>\n",
       "      <td>2019</td>\n",
       "      <td>49-3021.00</td>\n",
       "      <td>Auto Body Technician</td>\n",
       "      <td>38474083740</td>\n",
       "      <td>49-3021</td>\n",
       "    </tr>\n",
       "    <tr>\n",
       "      <th>3</th>\n",
       "      <td>45300.0</td>\n",
       "      <td>Tampa</td>\n",
       "      <td>FL</td>\n",
       "      <td>2020</td>\n",
       "      <td>11-1021.92</td>\n",
       "      <td>General Manager</td>\n",
       "      <td>38709992297</td>\n",
       "      <td>11-1021</td>\n",
       "    </tr>\n",
       "    <tr>\n",
       "      <th>4</th>\n",
       "      <td>41700.0</td>\n",
       "      <td>San Antonio</td>\n",
       "      <td>TX</td>\n",
       "      <td>2020</td>\n",
       "      <td>49-9098.00</td>\n",
       "      <td>Maintenance Helper / Assistant</td>\n",
       "      <td>38709918452</td>\n",
       "      <td>49-9098</td>\n",
       "    </tr>\n",
       "  </tbody>\n",
       "</table>\n",
       "</div>"
      ],
      "text/plain": [
       "    MSA_ID         CITY STATE  YEAR LONG_OCC_CODE  \\\n",
       "0  42660.0      Seattle    WA  2019    13-1071.91   \n",
       "1  38060.0     Chandler    AZ  2019    13-1051.00   \n",
       "2  38060.0     Chandler    AZ  2019    49-3021.00   \n",
       "3  45300.0        Tampa    FL  2020    11-1021.92   \n",
       "4  41700.0  San Antonio    TX  2020    49-9098.00   \n",
       "\n",
       "                    BLS Job Title       JOB_ID OCC_CODE  \n",
       "0             Recruiter (General)  38472841335  13-1071  \n",
       "1                       Estimator  38474073426  13-1051  \n",
       "2            Auto Body Technician  38474083740  49-3021  \n",
       "3                 General Manager  38709992297  11-1021  \n",
       "4  Maintenance Helper / Assistant  38709918452  49-9098  "
      ]
     },
     "execution_count": 75,
     "metadata": {},
     "output_type": "execute_result"
    }
   ],
   "source": [
    "#Check DF\n",
    "posting_df.head()"
   ]
  },
  {
   "cell_type": "code",
   "execution_count": 76,
   "metadata": {},
   "outputs": [
    {
     "name": "stdout",
     "output_type": "stream",
     "text": [
      "advance_opp has 58, posting_location_msa has 56\n"
     ]
    }
   ],
   "source": [
    "#Verify lengths\n",
    "advance_opp_len = advance_opp[\"LONG_OCC_CODE\"].count()\n",
    "posting_location_msa_len = posting_location_msa[\"JOB_ID\"].count()\n",
    "print(f'advance_opp has {advance_opp_len}, posting_location_msa has {posting_location_msa_len}')"
   ]
  },
  {
   "cell_type": "code",
   "execution_count": 119,
   "metadata": {},
   "outputs": [
    {
     "data": {
      "text/html": [
       "<div>\n",
       "<style scoped>\n",
       "    .dataframe tbody tr th:only-of-type {\n",
       "        vertical-align: middle;\n",
       "    }\n",
       "\n",
       "    .dataframe tbody tr th {\n",
       "        vertical-align: top;\n",
       "    }\n",
       "\n",
       "    .dataframe thead th {\n",
       "        text-align: right;\n",
       "    }\n",
       "</style>\n",
       "<table border=\"1\" class=\"dataframe\">\n",
       "  <thead>\n",
       "    <tr style=\"text-align: right;\">\n",
       "      <th></th>\n",
       "      <th>BLS Job Title</th>\n",
       "      <th>LONG_OCC_CODE</th>\n",
       "      <th>Percentage with AA Degree or Less</th>\n",
       "      <th>Percentage with BA Degree or More</th>\n",
       "      <th>Typical education needed for entry</th>\n",
       "      <th>Work experience in a related occupation</th>\n",
       "      <th>Non-Entry Level</th>\n",
       "      <th>BA Entry Level</th>\n",
       "      <th>Middle Skilled</th>\n",
       "      <th>Low Wage</th>\n",
       "      <th>...</th>\n",
       "      <th>Social Orientation_im</th>\n",
       "      <th>Stress Tolerance_im</th>\n",
       "      <th>Achievement_ex</th>\n",
       "      <th>Independence_ex</th>\n",
       "      <th>Recognition_ex</th>\n",
       "      <th>Relationships_ex</th>\n",
       "      <th>Support_ex</th>\n",
       "      <th>Working Conditions_ex</th>\n",
       "      <th>OCC_CODE_y</th>\n",
       "      <th>Job Title</th>\n",
       "    </tr>\n",
       "  </thead>\n",
       "  <tbody>\n",
       "    <tr>\n",
       "      <th>8</th>\n",
       "      <td>Software Developer / Engineer</td>\n",
       "      <td>15-1131.00</td>\n",
       "      <td>25.7</td>\n",
       "      <td>74.3</td>\n",
       "      <td>Bachelor's degree</td>\n",
       "      <td>None</td>\n",
       "      <td>False</td>\n",
       "      <td>True</td>\n",
       "      <td>False</td>\n",
       "      <td>False</td>\n",
       "      <td>...</td>\n",
       "      <td>3.21</td>\n",
       "      <td>3.9</td>\n",
       "      <td>5.67</td>\n",
       "      <td>5.0</td>\n",
       "      <td>4.33</td>\n",
       "      <td>2.33</td>\n",
       "      <td>5.0</td>\n",
       "      <td>5.5</td>\n",
       "      <td>15-1131</td>\n",
       "      <td>Senior Software Developer / Engineer</td>\n",
       "    </tr>\n",
       "    <tr>\n",
       "      <th>9</th>\n",
       "      <td>Java Developer / Engineer</td>\n",
       "      <td>15-1131.00</td>\n",
       "      <td>25.7</td>\n",
       "      <td>74.3</td>\n",
       "      <td>Bachelor's degree</td>\n",
       "      <td>None</td>\n",
       "      <td>False</td>\n",
       "      <td>True</td>\n",
       "      <td>False</td>\n",
       "      <td>False</td>\n",
       "      <td>...</td>\n",
       "      <td>3.21</td>\n",
       "      <td>3.9</td>\n",
       "      <td>5.67</td>\n",
       "      <td>5.0</td>\n",
       "      <td>4.33</td>\n",
       "      <td>2.33</td>\n",
       "      <td>5.0</td>\n",
       "      <td>5.5</td>\n",
       "      <td>15-1131</td>\n",
       "      <td>Senior Software Developer / Engineer</td>\n",
       "    </tr>\n",
       "    <tr>\n",
       "      <th>11</th>\n",
       "      <td>.NET Developer / Engineer</td>\n",
       "      <td>15-1131.00</td>\n",
       "      <td>25.7</td>\n",
       "      <td>74.3</td>\n",
       "      <td>Bachelor's degree</td>\n",
       "      <td>None</td>\n",
       "      <td>False</td>\n",
       "      <td>True</td>\n",
       "      <td>False</td>\n",
       "      <td>False</td>\n",
       "      <td>...</td>\n",
       "      <td>3.21</td>\n",
       "      <td>3.9</td>\n",
       "      <td>5.67</td>\n",
       "      <td>5.0</td>\n",
       "      <td>4.33</td>\n",
       "      <td>2.33</td>\n",
       "      <td>5.0</td>\n",
       "      <td>5.5</td>\n",
       "      <td>15-1131</td>\n",
       "      <td>Senior Software Developer / Engineer</td>\n",
       "    </tr>\n",
       "    <tr>\n",
       "      <th>14</th>\n",
       "      <td>Application Developer / Engineer</td>\n",
       "      <td>15-1131.00</td>\n",
       "      <td>25.7</td>\n",
       "      <td>74.3</td>\n",
       "      <td>Bachelor's degree</td>\n",
       "      <td>None</td>\n",
       "      <td>False</td>\n",
       "      <td>True</td>\n",
       "      <td>False</td>\n",
       "      <td>False</td>\n",
       "      <td>...</td>\n",
       "      <td>3.21</td>\n",
       "      <td>3.9</td>\n",
       "      <td>5.67</td>\n",
       "      <td>5.0</td>\n",
       "      <td>4.33</td>\n",
       "      <td>2.33</td>\n",
       "      <td>5.0</td>\n",
       "      <td>5.5</td>\n",
       "      <td>15-1131</td>\n",
       "      <td>Senior Software Developer / Engineer</td>\n",
       "    </tr>\n",
       "    <tr>\n",
       "      <th>16</th>\n",
       "      <td>Solutions Engineer</td>\n",
       "      <td>15-1131.00</td>\n",
       "      <td>25.7</td>\n",
       "      <td>74.3</td>\n",
       "      <td>Bachelor's degree</td>\n",
       "      <td>None</td>\n",
       "      <td>False</td>\n",
       "      <td>True</td>\n",
       "      <td>False</td>\n",
       "      <td>False</td>\n",
       "      <td>...</td>\n",
       "      <td>3.21</td>\n",
       "      <td>3.9</td>\n",
       "      <td>5.67</td>\n",
       "      <td>5.0</td>\n",
       "      <td>4.33</td>\n",
       "      <td>2.33</td>\n",
       "      <td>5.0</td>\n",
       "      <td>5.5</td>\n",
       "      <td>15-1131</td>\n",
       "      <td>Senior Software Developer / Engineer</td>\n",
       "    </tr>\n",
       "  </tbody>\n",
       "</table>\n",
       "<p>5 rows × 363 columns</p>\n",
       "</div>"
      ],
      "text/plain": [
       "                       BLS Job Title LONG_OCC_CODE  \\\n",
       "8      Software Developer / Engineer    15-1131.00   \n",
       "9          Java Developer / Engineer    15-1131.00   \n",
       "11         .NET Developer / Engineer    15-1131.00   \n",
       "14  Application Developer / Engineer    15-1131.00   \n",
       "16                Solutions Engineer    15-1131.00   \n",
       "\n",
       "    Percentage with AA Degree or Less  Percentage with BA Degree or More  \\\n",
       "8                                25.7                               74.3   \n",
       "9                                25.7                               74.3   \n",
       "11                               25.7                               74.3   \n",
       "14                               25.7                               74.3   \n",
       "16                               25.7                               74.3   \n",
       "\n",
       "   Typical education needed for entry Work experience in a related occupation  \\\n",
       "8                   Bachelor's degree                                    None   \n",
       "9                   Bachelor's degree                                    None   \n",
       "11                  Bachelor's degree                                    None   \n",
       "14                  Bachelor's degree                                    None   \n",
       "16                  Bachelor's degree                                    None   \n",
       "\n",
       "    Non-Entry Level  BA Entry Level  Middle Skilled  Low Wage  ...  \\\n",
       "8             False            True           False     False  ...   \n",
       "9             False            True           False     False  ...   \n",
       "11            False            True           False     False  ...   \n",
       "14            False            True           False     False  ...   \n",
       "16            False            True           False     False  ...   \n",
       "\n",
       "   Social Orientation_im  Stress Tolerance_im  Achievement_ex  \\\n",
       "8                   3.21                  3.9            5.67   \n",
       "9                   3.21                  3.9            5.67   \n",
       "11                  3.21                  3.9            5.67   \n",
       "14                  3.21                  3.9            5.67   \n",
       "16                  3.21                  3.9            5.67   \n",
       "\n",
       "    Independence_ex  Recognition_ex  Relationships_ex  Support_ex  \\\n",
       "8               5.0            4.33              2.33         5.0   \n",
       "9               5.0            4.33              2.33         5.0   \n",
       "11              5.0            4.33              2.33         5.0   \n",
       "14              5.0            4.33              2.33         5.0   \n",
       "16              5.0            4.33              2.33         5.0   \n",
       "\n",
       "    Working Conditions_ex  OCC_CODE_y                             Job Title  \n",
       "8                     5.5     15-1131  Senior Software Developer / Engineer  \n",
       "9                     5.5     15-1131  Senior Software Developer / Engineer  \n",
       "11                    5.5     15-1131  Senior Software Developer / Engineer  \n",
       "14                    5.5     15-1131  Senior Software Developer / Engineer  \n",
       "16                    5.5     15-1131  Senior Software Developer / Engineer  \n",
       "\n",
       "[5 rows x 363 columns]"
      ]
     },
     "execution_count": 119,
     "metadata": {},
     "output_type": "execute_result"
    }
   ],
   "source": [
    "#Merge national_df and advance_opp for kmeans\n",
    "advance_opp_ML = national_df.merge(advance_opp, on='LONG_OCC_CODE', how='inner', left_index=False, right_index=True)\n",
    "advance_opp_ML.head()"
   ]
  },
  {
   "cell_type": "code",
   "execution_count": 120,
   "metadata": {},
   "outputs": [
    {
     "data": {
      "text/html": [
       "<div>\n",
       "<style scoped>\n",
       "    .dataframe tbody tr th:only-of-type {\n",
       "        vertical-align: middle;\n",
       "    }\n",
       "\n",
       "    .dataframe tbody tr th {\n",
       "        vertical-align: top;\n",
       "    }\n",
       "\n",
       "    .dataframe thead th {\n",
       "        text-align: right;\n",
       "    }\n",
       "</style>\n",
       "<table border=\"1\" class=\"dataframe\">\n",
       "  <thead>\n",
       "    <tr style=\"text-align: right;\">\n",
       "      <th></th>\n",
       "      <th>BLS Job Title</th>\n",
       "      <th>LONG_OCC_CODE</th>\n",
       "      <th>Percentage with AA Degree or Less</th>\n",
       "      <th>Percentage with BA Degree or More</th>\n",
       "      <th>Typical education needed for entry</th>\n",
       "      <th>Work experience in a related occupation</th>\n",
       "      <th>Non-Entry Level</th>\n",
       "      <th>BA Entry Level</th>\n",
       "      <th>Middle Skilled</th>\n",
       "      <th>Low Wage</th>\n",
       "      <th>...</th>\n",
       "      <th>Social Orientation_im</th>\n",
       "      <th>Stress Tolerance_im</th>\n",
       "      <th>Achievement_ex</th>\n",
       "      <th>Independence_ex</th>\n",
       "      <th>Recognition_ex</th>\n",
       "      <th>Relationships_ex</th>\n",
       "      <th>Support_ex</th>\n",
       "      <th>Working Conditions_ex</th>\n",
       "      <th>OCC_CODE_y</th>\n",
       "      <th>Job Title</th>\n",
       "    </tr>\n",
       "  </thead>\n",
       "  <tbody>\n",
       "    <tr>\n",
       "      <th>0</th>\n",
       "      <td>Software Developer / Engineer</td>\n",
       "      <td>15-1131.00</td>\n",
       "      <td>25.7</td>\n",
       "      <td>74.3</td>\n",
       "      <td>Bachelor's degree</td>\n",
       "      <td>None</td>\n",
       "      <td>False</td>\n",
       "      <td>True</td>\n",
       "      <td>False</td>\n",
       "      <td>False</td>\n",
       "      <td>...</td>\n",
       "      <td>3.21</td>\n",
       "      <td>3.9</td>\n",
       "      <td>5.67</td>\n",
       "      <td>5.0</td>\n",
       "      <td>4.33</td>\n",
       "      <td>2.33</td>\n",
       "      <td>5.0</td>\n",
       "      <td>5.5</td>\n",
       "      <td>15-1131</td>\n",
       "      <td>Senior Software Developer / Engineer</td>\n",
       "    </tr>\n",
       "    <tr>\n",
       "      <th>1</th>\n",
       "      <td>Java Developer / Engineer</td>\n",
       "      <td>15-1131.00</td>\n",
       "      <td>25.7</td>\n",
       "      <td>74.3</td>\n",
       "      <td>Bachelor's degree</td>\n",
       "      <td>None</td>\n",
       "      <td>False</td>\n",
       "      <td>True</td>\n",
       "      <td>False</td>\n",
       "      <td>False</td>\n",
       "      <td>...</td>\n",
       "      <td>3.21</td>\n",
       "      <td>3.9</td>\n",
       "      <td>5.67</td>\n",
       "      <td>5.0</td>\n",
       "      <td>4.33</td>\n",
       "      <td>2.33</td>\n",
       "      <td>5.0</td>\n",
       "      <td>5.5</td>\n",
       "      <td>15-1131</td>\n",
       "      <td>Senior Software Developer / Engineer</td>\n",
       "    </tr>\n",
       "    <tr>\n",
       "      <th>2</th>\n",
       "      <td>.NET Developer / Engineer</td>\n",
       "      <td>15-1131.00</td>\n",
       "      <td>25.7</td>\n",
       "      <td>74.3</td>\n",
       "      <td>Bachelor's degree</td>\n",
       "      <td>None</td>\n",
       "      <td>False</td>\n",
       "      <td>True</td>\n",
       "      <td>False</td>\n",
       "      <td>False</td>\n",
       "      <td>...</td>\n",
       "      <td>3.21</td>\n",
       "      <td>3.9</td>\n",
       "      <td>5.67</td>\n",
       "      <td>5.0</td>\n",
       "      <td>4.33</td>\n",
       "      <td>2.33</td>\n",
       "      <td>5.0</td>\n",
       "      <td>5.5</td>\n",
       "      <td>15-1131</td>\n",
       "      <td>Senior Software Developer / Engineer</td>\n",
       "    </tr>\n",
       "    <tr>\n",
       "      <th>3</th>\n",
       "      <td>Application Developer / Engineer</td>\n",
       "      <td>15-1131.00</td>\n",
       "      <td>25.7</td>\n",
       "      <td>74.3</td>\n",
       "      <td>Bachelor's degree</td>\n",
       "      <td>None</td>\n",
       "      <td>False</td>\n",
       "      <td>True</td>\n",
       "      <td>False</td>\n",
       "      <td>False</td>\n",
       "      <td>...</td>\n",
       "      <td>3.21</td>\n",
       "      <td>3.9</td>\n",
       "      <td>5.67</td>\n",
       "      <td>5.0</td>\n",
       "      <td>4.33</td>\n",
       "      <td>2.33</td>\n",
       "      <td>5.0</td>\n",
       "      <td>5.5</td>\n",
       "      <td>15-1131</td>\n",
       "      <td>Senior Software Developer / Engineer</td>\n",
       "    </tr>\n",
       "    <tr>\n",
       "      <th>4</th>\n",
       "      <td>Solutions Engineer</td>\n",
       "      <td>15-1131.00</td>\n",
       "      <td>25.7</td>\n",
       "      <td>74.3</td>\n",
       "      <td>Bachelor's degree</td>\n",
       "      <td>None</td>\n",
       "      <td>False</td>\n",
       "      <td>True</td>\n",
       "      <td>False</td>\n",
       "      <td>False</td>\n",
       "      <td>...</td>\n",
       "      <td>3.21</td>\n",
       "      <td>3.9</td>\n",
       "      <td>5.67</td>\n",
       "      <td>5.0</td>\n",
       "      <td>4.33</td>\n",
       "      <td>2.33</td>\n",
       "      <td>5.0</td>\n",
       "      <td>5.5</td>\n",
       "      <td>15-1131</td>\n",
       "      <td>Senior Software Developer / Engineer</td>\n",
       "    </tr>\n",
       "  </tbody>\n",
       "</table>\n",
       "<p>5 rows × 363 columns</p>\n",
       "</div>"
      ],
      "text/plain": [
       "                      BLS Job Title LONG_OCC_CODE  \\\n",
       "0     Software Developer / Engineer    15-1131.00   \n",
       "1         Java Developer / Engineer    15-1131.00   \n",
       "2         .NET Developer / Engineer    15-1131.00   \n",
       "3  Application Developer / Engineer    15-1131.00   \n",
       "4                Solutions Engineer    15-1131.00   \n",
       "\n",
       "   Percentage with AA Degree or Less  Percentage with BA Degree or More  \\\n",
       "0                               25.7                               74.3   \n",
       "1                               25.7                               74.3   \n",
       "2                               25.7                               74.3   \n",
       "3                               25.7                               74.3   \n",
       "4                               25.7                               74.3   \n",
       "\n",
       "  Typical education needed for entry Work experience in a related occupation  \\\n",
       "0                  Bachelor's degree                                    None   \n",
       "1                  Bachelor's degree                                    None   \n",
       "2                  Bachelor's degree                                    None   \n",
       "3                  Bachelor's degree                                    None   \n",
       "4                  Bachelor's degree                                    None   \n",
       "\n",
       "   Non-Entry Level  BA Entry Level  Middle Skilled  Low Wage  ...  \\\n",
       "0            False            True           False     False  ...   \n",
       "1            False            True           False     False  ...   \n",
       "2            False            True           False     False  ...   \n",
       "3            False            True           False     False  ...   \n",
       "4            False            True           False     False  ...   \n",
       "\n",
       "  Social Orientation_im  Stress Tolerance_im  Achievement_ex  Independence_ex  \\\n",
       "0                  3.21                  3.9            5.67              5.0   \n",
       "1                  3.21                  3.9            5.67              5.0   \n",
       "2                  3.21                  3.9            5.67              5.0   \n",
       "3                  3.21                  3.9            5.67              5.0   \n",
       "4                  3.21                  3.9            5.67              5.0   \n",
       "\n",
       "   Recognition_ex  Relationships_ex  Support_ex  Working Conditions_ex  \\\n",
       "0            4.33              2.33         5.0                    5.5   \n",
       "1            4.33              2.33         5.0                    5.5   \n",
       "2            4.33              2.33         5.0                    5.5   \n",
       "3            4.33              2.33         5.0                    5.5   \n",
       "4            4.33              2.33         5.0                    5.5   \n",
       "\n",
       "   OCC_CODE_y                             Job Title  \n",
       "0     15-1131  Senior Software Developer / Engineer  \n",
       "1     15-1131  Senior Software Developer / Engineer  \n",
       "2     15-1131  Senior Software Developer / Engineer  \n",
       "3     15-1131  Senior Software Developer / Engineer  \n",
       "4     15-1131  Senior Software Developer / Engineer  \n",
       "\n",
       "[5 rows x 363 columns]"
      ]
     },
     "execution_count": 120,
     "metadata": {},
     "output_type": "execute_result"
    }
   ],
   "source": [
    "#Reset Index\n",
    "advance_opp_ML = advance_opp_ML.reset_index(drop=True)\n",
    "advance_opp_ML.head()"
   ]
  },
  {
   "cell_type": "code",
   "execution_count": 109,
   "metadata": {},
   "outputs": [
    {
     "data": {
      "text/html": [
       "<div>\n",
       "<style scoped>\n",
       "    .dataframe tbody tr th:only-of-type {\n",
       "        vertical-align: middle;\n",
       "    }\n",
       "\n",
       "    .dataframe tbody tr th {\n",
       "        vertical-align: top;\n",
       "    }\n",
       "\n",
       "    .dataframe thead th {\n",
       "        text-align: right;\n",
       "    }\n",
       "</style>\n",
       "<table border=\"1\" class=\"dataframe\">\n",
       "  <thead>\n",
       "    <tr style=\"text-align: right;\">\n",
       "      <th></th>\n",
       "      <th>BLS Job Title</th>\n",
       "      <th>LONG_OCC_CODE</th>\n",
       "      <th>Percentage with AA Degree or Less</th>\n",
       "      <th>Percentage with BA Degree or More</th>\n",
       "      <th>Typical education needed for entry</th>\n",
       "      <th>Work experience in a related occupation</th>\n",
       "      <th>Non-Entry Level</th>\n",
       "      <th>BA Entry Level</th>\n",
       "      <th>Middle Skilled</th>\n",
       "      <th>Low Wage</th>\n",
       "      <th>OCC_CODE</th>\n",
       "    </tr>\n",
       "  </thead>\n",
       "  <tbody>\n",
       "    <tr>\n",
       "      <th>0</th>\n",
       "      <td>Computer Operator</td>\n",
       "      <td>43-9011.00</td>\n",
       "      <td>64.9</td>\n",
       "      <td>35.1</td>\n",
       "      <td>High school diploma or equivalent</td>\n",
       "      <td>None</td>\n",
       "      <td>False</td>\n",
       "      <td>False</td>\n",
       "      <td>True</td>\n",
       "      <td>False</td>\n",
       "      <td>43-9011</td>\n",
       "    </tr>\n",
       "    <tr>\n",
       "      <th>1</th>\n",
       "      <td>Business Intelligence Analyst</td>\n",
       "      <td>15-1199.93</td>\n",
       "      <td>43.8</td>\n",
       "      <td>56.4</td>\n",
       "      <td>Bachelor's degree</td>\n",
       "      <td>None</td>\n",
       "      <td>False</td>\n",
       "      <td>True</td>\n",
       "      <td>False</td>\n",
       "      <td>False</td>\n",
       "      <td>15-1199</td>\n",
       "    </tr>\n",
       "    <tr>\n",
       "      <th>2</th>\n",
       "      <td>IT Project Manager</td>\n",
       "      <td>15-1199.95</td>\n",
       "      <td>43.8</td>\n",
       "      <td>56.4</td>\n",
       "      <td>Bachelor's degree</td>\n",
       "      <td>None</td>\n",
       "      <td>False</td>\n",
       "      <td>True</td>\n",
       "      <td>False</td>\n",
       "      <td>False</td>\n",
       "      <td>15-1199</td>\n",
       "    </tr>\n",
       "    <tr>\n",
       "      <th>3</th>\n",
       "      <td>Network Engineer / Architect</td>\n",
       "      <td>15-1199.02</td>\n",
       "      <td>43.8</td>\n",
       "      <td>56.4</td>\n",
       "      <td>Bachelor's degree</td>\n",
       "      <td>None</td>\n",
       "      <td>False</td>\n",
       "      <td>True</td>\n",
       "      <td>False</td>\n",
       "      <td>False</td>\n",
       "      <td>15-1199</td>\n",
       "    </tr>\n",
       "    <tr>\n",
       "      <th>4</th>\n",
       "      <td>Network Engineer / Architect</td>\n",
       "      <td>15-1133.00</td>\n",
       "      <td>14.7</td>\n",
       "      <td>85.2</td>\n",
       "      <td>Bachelor's degree</td>\n",
       "      <td>None</td>\n",
       "      <td>False</td>\n",
       "      <td>True</td>\n",
       "      <td>False</td>\n",
       "      <td>False</td>\n",
       "      <td>15-1133</td>\n",
       "    </tr>\n",
       "  </tbody>\n",
       "</table>\n",
       "</div>"
      ],
      "text/plain": [
       "                   BLS Job Title LONG_OCC_CODE  \\\n",
       "0              Computer Operator    43-9011.00   \n",
       "1  Business Intelligence Analyst    15-1199.93   \n",
       "2             IT Project Manager    15-1199.95   \n",
       "3   Network Engineer / Architect    15-1199.02   \n",
       "4   Network Engineer / Architect    15-1133.00   \n",
       "\n",
       "   Percentage with AA Degree or Less  Percentage with BA Degree or More  \\\n",
       "0                               64.9                               35.1   \n",
       "1                               43.8                               56.4   \n",
       "2                               43.8                               56.4   \n",
       "3                               43.8                               56.4   \n",
       "4                               14.7                               85.2   \n",
       "\n",
       "  Typical education needed for entry Work experience in a related occupation  \\\n",
       "0  High school diploma or equivalent                                    None   \n",
       "1                  Bachelor's degree                                    None   \n",
       "2                  Bachelor's degree                                    None   \n",
       "3                  Bachelor's degree                                    None   \n",
       "4                  Bachelor's degree                                    None   \n",
       "\n",
       "   Non-Entry Level  BA Entry Level  Middle Skilled  Low Wage OCC_CODE  \n",
       "0            False           False            True     False  43-9011  \n",
       "1            False            True           False     False  15-1199  \n",
       "2            False            True           False     False  15-1199  \n",
       "3            False            True           False     False  15-1199  \n",
       "4            False            True           False     False  15-1133  "
      ]
     },
     "execution_count": 109,
     "metadata": {},
     "output_type": "execute_result"
    }
   ],
   "source": [
    "national_df.head()"
   ]
  },
  {
   "cell_type": "code",
   "execution_count": 77,
   "metadata": {},
   "outputs": [],
   "source": [
    "#########\n",
    "#Analyze#\n",
    "#########"
   ]
  },
  {
   "cell_type": "code",
   "execution_count": 78,
   "metadata": {},
   "outputs": [
    {
     "name": "stdout",
     "output_type": "stream",
     "text": [
      "1.0238235873203387\n"
     ]
    }
   ],
   "source": [
    "diff=check0-check1\n",
    "per_change=diff/check0*100\n",
    "print(per_change)"
   ]
  },
  {
   "cell_type": "code",
   "execution_count": 79,
   "metadata": {},
   "outputs": [
    {
     "data": {
      "text/html": [
       "<div>\n",
       "<style scoped>\n",
       "    .dataframe tbody tr th:only-of-type {\n",
       "        vertical-align: middle;\n",
       "    }\n",
       "\n",
       "    .dataframe tbody tr th {\n",
       "        vertical-align: top;\n",
       "    }\n",
       "\n",
       "    .dataframe thead th {\n",
       "        text-align: right;\n",
       "    }\n",
       "</style>\n",
       "<table border=\"1\" class=\"dataframe\">\n",
       "  <thead>\n",
       "    <tr style=\"text-align: right;\">\n",
       "      <th></th>\n",
       "      <th>LONG_OCC_CODE</th>\n",
       "      <th>YEAR</th>\n",
       "      <th>Job Title</th>\n",
       "      <th>Job Count</th>\n",
       "    </tr>\n",
       "  </thead>\n",
       "  <tbody>\n",
       "    <tr>\n",
       "      <th>72</th>\n",
       "      <td>49-3021.00</td>\n",
       "      <td>2068</td>\n",
       "      <td>Auto Body Technician</td>\n",
       "      <td>2068</td>\n",
       "    </tr>\n",
       "    <tr>\n",
       "      <th>84</th>\n",
       "      <td>53-7061.00</td>\n",
       "      <td>549</td>\n",
       "      <td>Detailer</td>\n",
       "      <td>549</td>\n",
       "    </tr>\n",
       "    <tr>\n",
       "      <th>15</th>\n",
       "      <td>13-1032.00</td>\n",
       "      <td>539</td>\n",
       "      <td>Auto Damage Appraiser</td>\n",
       "      <td>539</td>\n",
       "    </tr>\n",
       "    <tr>\n",
       "      <th>2</th>\n",
       "      <td>11-1021.92</td>\n",
       "      <td>294</td>\n",
       "      <td>General Manager</td>\n",
       "      <td>294</td>\n",
       "    </tr>\n",
       "    <tr>\n",
       "      <th>68</th>\n",
       "      <td>43-6014.00</td>\n",
       "      <td>255</td>\n",
       "      <td>Administrative Clerk / Coordinator</td>\n",
       "      <td>255</td>\n",
       "    </tr>\n",
       "    <tr>\n",
       "      <th>52</th>\n",
       "      <td>37-2011.00</td>\n",
       "      <td>203</td>\n",
       "      <td>Janitor / Cleaner</td>\n",
       "      <td>203</td>\n",
       "    </tr>\n",
       "    <tr>\n",
       "      <th>16</th>\n",
       "      <td>13-1051.00</td>\n",
       "      <td>175</td>\n",
       "      <td>Estimator</td>\n",
       "      <td>175</td>\n",
       "    </tr>\n",
       "    <tr>\n",
       "      <th>62</th>\n",
       "      <td>43-4051.00</td>\n",
       "      <td>171</td>\n",
       "      <td>Customer Service Representative (General)</td>\n",
       "      <td>171</td>\n",
       "    </tr>\n",
       "    <tr>\n",
       "      <th>56</th>\n",
       "      <td>41-2031.00</td>\n",
       "      <td>162</td>\n",
       "      <td>Retail Sales Associate (General)</td>\n",
       "      <td>162</td>\n",
       "    </tr>\n",
       "    <tr>\n",
       "      <th>77</th>\n",
       "      <td>49-9098.00</td>\n",
       "      <td>110</td>\n",
       "      <td>Maintenance Helper / Assistant</td>\n",
       "      <td>110</td>\n",
       "    </tr>\n",
       "    <tr>\n",
       "      <th>69</th>\n",
       "      <td>47-2141.00</td>\n",
       "      <td>104</td>\n",
       "      <td>Painter</td>\n",
       "      <td>104</td>\n",
       "    </tr>\n",
       "    <tr>\n",
       "      <th>73</th>\n",
       "      <td>49-3023.00</td>\n",
       "      <td>101</td>\n",
       "      <td>Automotive Service Technician / Mechanic</td>\n",
       "      <td>101</td>\n",
       "    </tr>\n",
       "    <tr>\n",
       "      <th>78</th>\n",
       "      <td>51-1011.92</td>\n",
       "      <td>40</td>\n",
       "      <td>Production Plant Manager</td>\n",
       "      <td>40</td>\n",
       "    </tr>\n",
       "    <tr>\n",
       "      <th>71</th>\n",
       "      <td>49-1011.00</td>\n",
       "      <td>36</td>\n",
       "      <td>Maintenance Manager</td>\n",
       "      <td>36</td>\n",
       "    </tr>\n",
       "    <tr>\n",
       "      <th>53</th>\n",
       "      <td>41-1011.00</td>\n",
       "      <td>31</td>\n",
       "      <td>Assistant Retail Store Manager</td>\n",
       "      <td>31</td>\n",
       "    </tr>\n",
       "    <tr>\n",
       "      <th>67</th>\n",
       "      <td>43-6013.00</td>\n",
       "      <td>20</td>\n",
       "      <td>Medical Secretary</td>\n",
       "      <td>20</td>\n",
       "    </tr>\n",
       "    <tr>\n",
       "      <th>17</th>\n",
       "      <td>13-1071.91</td>\n",
       "      <td>18</td>\n",
       "      <td>Recruiter (General)</td>\n",
       "      <td>18</td>\n",
       "    </tr>\n",
       "    <tr>\n",
       "      <th>29</th>\n",
       "      <td>13-2021.00</td>\n",
       "      <td>15</td>\n",
       "      <td>Property Appraiser / Assessor</td>\n",
       "      <td>15</td>\n",
       "    </tr>\n",
       "    <tr>\n",
       "      <th>80</th>\n",
       "      <td>51-9012.92</td>\n",
       "      <td>13</td>\n",
       "      <td>Manufacturing Machine Operator</td>\n",
       "      <td>13</td>\n",
       "    </tr>\n",
       "    <tr>\n",
       "      <th>24</th>\n",
       "      <td>13-1161.91</td>\n",
       "      <td>10</td>\n",
       "      <td>Marketing Campaign Analyst</td>\n",
       "      <td>10</td>\n",
       "    </tr>\n",
       "  </tbody>\n",
       "</table>\n",
       "</div>"
      ],
      "text/plain": [
       "   LONG_OCC_CODE  YEAR                                  Job Title  Job Count\n",
       "72    49-3021.00  2068                       Auto Body Technician       2068\n",
       "84    53-7061.00   549                                   Detailer        549\n",
       "15    13-1032.00   539                      Auto Damage Appraiser        539\n",
       "2     11-1021.92   294                            General Manager        294\n",
       "68    43-6014.00   255         Administrative Clerk / Coordinator        255\n",
       "52    37-2011.00   203                          Janitor / Cleaner        203\n",
       "16    13-1051.00   175                                  Estimator        175\n",
       "62    43-4051.00   171  Customer Service Representative (General)        171\n",
       "56    41-2031.00   162           Retail Sales Associate (General)        162\n",
       "77    49-9098.00   110             Maintenance Helper / Assistant        110\n",
       "69    47-2141.00   104                                    Painter        104\n",
       "73    49-3023.00   101   Automotive Service Technician / Mechanic        101\n",
       "78    51-1011.92    40                   Production Plant Manager         40\n",
       "71    49-1011.00    36                        Maintenance Manager         36\n",
       "53    41-1011.00    31             Assistant Retail Store Manager         31\n",
       "67    43-6013.00    20                          Medical Secretary         20\n",
       "17    13-1071.91    18                        Recruiter (General)         18\n",
       "29    13-2021.00    15              Property Appraiser / Assessor         15\n",
       "80    51-9012.92    13             Manufacturing Machine Operator         13\n",
       "24    13-1161.91    10                 Marketing Campaign Analyst         10"
      ]
     },
     "execution_count": 79,
     "metadata": {},
     "output_type": "execute_result"
    }
   ],
   "source": [
    "#Sort DF to show titles with most postings\n",
    "posting_position_freq = posting_position_freq.sort_values(by='Job Count', ascending=False)\n",
    "posting_position_freq.head(20)"
   ]
  },
  {
   "cell_type": "code",
   "execution_count": 80,
   "metadata": {},
   "outputs": [
    {
     "name": "stdout",
     "output_type": "stream",
     "text": [
      "Total positions posted: 85\n"
     ]
    }
   ],
   "source": [
    "#Print the total amount of positions posted\n",
    "print(f'Total positions posted: {posting_position_freq[\"Job Title\"].count()}')"
   ]
  },
  {
   "cell_type": "code",
   "execution_count": 81,
   "metadata": {},
   "outputs": [
    {
     "data": {
      "text/html": [
       "<div>\n",
       "<style scoped>\n",
       "    .dataframe tbody tr th:only-of-type {\n",
       "        vertical-align: middle;\n",
       "    }\n",
       "\n",
       "    .dataframe tbody tr th {\n",
       "        vertical-align: top;\n",
       "    }\n",
       "\n",
       "    .dataframe thead th {\n",
       "        text-align: right;\n",
       "    }\n",
       "</style>\n",
       "<table border=\"1\" class=\"dataframe\">\n",
       "  <thead>\n",
       "    <tr style=\"text-align: right;\">\n",
       "      <th></th>\n",
       "      <th>LONG_OCC_CODE</th>\n",
       "      <th>YEAR</th>\n",
       "      <th>Job Title</th>\n",
       "      <th>Job Count</th>\n",
       "    </tr>\n",
       "  </thead>\n",
       "  <tbody>\n",
       "    <tr>\n",
       "      <th>0</th>\n",
       "      <td>11-1011.00</td>\n",
       "      <td>1</td>\n",
       "      <td>Chief Executive Officer</td>\n",
       "      <td>1</td>\n",
       "    </tr>\n",
       "    <tr>\n",
       "      <th>10</th>\n",
       "      <td>11-9021.00</td>\n",
       "      <td>1</td>\n",
       "      <td>Construction Manager</td>\n",
       "      <td>1</td>\n",
       "    </tr>\n",
       "    <tr>\n",
       "      <th>14</th>\n",
       "      <td>13-1021.00</td>\n",
       "      <td>1</td>\n",
       "      <td>Procurement / Sourcing Specialist</td>\n",
       "      <td>1</td>\n",
       "    </tr>\n",
       "    <tr>\n",
       "      <th>12</th>\n",
       "      <td>11-9111.94</td>\n",
       "      <td>1</td>\n",
       "      <td>Medical Director (General)</td>\n",
       "      <td>1</td>\n",
       "    </tr>\n",
       "    <tr>\n",
       "      <th>31</th>\n",
       "      <td>13-2053.00</td>\n",
       "      <td>1</td>\n",
       "      <td>Senior Insurance Underwriter</td>\n",
       "      <td>1</td>\n",
       "    </tr>\n",
       "  </tbody>\n",
       "</table>\n",
       "</div>"
      ],
      "text/plain": [
       "   LONG_OCC_CODE  YEAR                          Job Title  Job Count\n",
       "0     11-1011.00     1            Chief Executive Officer          1\n",
       "10    11-9021.00     1               Construction Manager          1\n",
       "14    13-1021.00     1  Procurement / Sourcing Specialist          1\n",
       "12    11-9111.94     1         Medical Director (General)          1\n",
       "31    13-2053.00     1       Senior Insurance Underwriter          1"
      ]
     },
     "execution_count": 81,
     "metadata": {},
     "output_type": "execute_result"
    }
   ],
   "source": [
    "#Re-Sort DF to chart titles with most postings\n",
    "posting_position_freq = posting_position_freq.sort_values(by='Job Count', ascending=True)\n",
    "posting_position_freq.head()"
   ]
  },
  {
   "cell_type": "code",
   "execution_count": 102,
   "metadata": {},
   "outputs": [
    {
     "data": {
      "application/vnd.plotly.v1+json": {
       "config": {
        "plotlyServerURL": "https://plot.ly"
       },
       "data": [
        {
         "alignmentgroup": "True",
         "customdata": [
          [
           "11-1011.00"
          ],
          [
           "11-9021.00"
          ],
          [
           "13-1021.00"
          ],
          [
           "11-9111.94"
          ],
          [
           "13-2053.00"
          ],
          [
           "11-9013.02"
          ],
          [
           "11-3031.92"
          ],
          [
           "49-9031.00"
          ],
          [
           "11-3031.00"
          ],
          [
           "13-1081.00"
          ],
          [
           "11-2021.92"
          ],
          [
           "11-2021.91"
          ],
          [
           "43-1011.93"
          ],
          [
           "43-4161.00"
          ],
          [
           "43-4081.00"
          ],
          [
           "15-1131.91"
          ],
          [
           "43-5081.01"
          ],
          [
           "15-1199.95"
          ],
          [
           "43-3051.00"
          ],
          [
           "15-1111.91"
          ],
          [
           "15-1152.00"
          ],
          [
           "13-1121.00"
          ],
          [
           "41-2022.00"
          ],
          [
           "41-2011.00"
          ],
          [
           "13-1141.00"
          ],
          [
           "41-4011.00"
          ],
          [
           "33-3051.01"
          ],
          [
           "33-1099.00"
          ],
          [
           "29-2011.00"
          ],
          [
           "13-1199.02"
          ],
          [
           "13-2011.02"
          ],
          [
           "13-1151.00"
          ],
          [
           "13-1111.00"
          ],
          [
           "27-3043.04"
          ],
          [
           "11-9111.00"
          ],
          [
           "49-3031.00"
          ],
          [
           "15-1122.00"
          ],
          [
           "43-1011.98"
          ],
          [
           "15-1142.00"
          ],
          [
           "29-9012.00"
          ],
          [
           "13-2011.93"
          ],
          [
           "51-4033.00"
          ],
          [
           "11-9199.96"
          ],
          [
           "23-1011.00"
          ],
          [
           "25-9031.00"
          ],
          [
           "29-9011.00"
          ],
          [
           "51-9061.00"
          ],
          [
           "43-3031.00"
          ],
          [
           "11-3011.91"
          ],
          [
           "53-6021.00"
          ],
          [
           "13-2011.94"
          ],
          [
           "35-3031.00"
          ],
          [
           "11-1021.91"
          ],
          [
           "47-4041.91"
          ],
          [
           "29-1071.91"
          ],
          [
           "15-1131.00"
          ],
          [
           "11-2022.00"
          ],
          [
           "25-1194.00"
          ],
          [
           "17-3013.00"
          ],
          [
           "49-9071.91"
          ],
          [
           "13-1071.92"
          ],
          [
           "13-2051.00"
          ],
          [
           "15-1151.00"
          ],
          [
           "43-4171.00"
          ],
          [
           "51-9121.00"
          ],
          [
           "13-1161.91"
          ],
          [
           "51-9012.92"
          ],
          [
           "13-2021.00"
          ],
          [
           "13-1071.91"
          ],
          [
           "43-6013.00"
          ],
          [
           "41-1011.00"
          ],
          [
           "49-1011.00"
          ],
          [
           "51-1011.92"
          ],
          [
           "49-3023.00"
          ],
          [
           "47-2141.00"
          ],
          [
           "49-9098.00"
          ],
          [
           "41-2031.00"
          ],
          [
           "43-4051.00"
          ],
          [
           "13-1051.00"
          ],
          [
           "37-2011.00"
          ],
          [
           "43-6014.00"
          ],
          [
           "11-1021.92"
          ],
          [
           "13-1032.00"
          ],
          [
           "53-7061.00"
          ],
          [
           "49-3021.00"
          ]
         ],
         "hovertemplate": "Job Title=%{x}<br>Job Count=%{marker.color}<br>Long OCC Code=%{customdata[0]}<extra></extra>",
         "legendgroup": "",
         "marker": {
          "color": [
           1,
           1,
           1,
           1,
           1,
           1,
           1,
           1,
           1,
           1,
           1,
           1,
           1,
           1,
           1,
           1,
           1,
           1,
           1,
           1,
           1,
           1,
           1,
           1,
           1,
           1,
           1,
           1,
           1,
           1,
           1,
           1,
           1,
           2,
           2,
           2,
           2,
           2,
           2,
           2,
           2,
           2,
           2,
           2,
           3,
           3,
           4,
           4,
           4,
           4,
           4,
           4,
           4,
           5,
           5,
           5,
           5,
           5,
           6,
           6,
           6,
           7,
           8,
           8,
           10,
           10,
           13,
           15,
           18,
           20,
           31,
           36,
           40,
           101,
           104,
           110,
           162,
           171,
           175,
           203,
           255,
           294,
           539,
           549,
           2068
          ],
          "coloraxis": "coloraxis"
         },
         "name": "",
         "offsetgroup": "",
         "orientation": "v",
         "showlegend": false,
         "textposition": "auto",
         "type": "bar",
         "x": [
          "Chief Executive Officer",
          "Construction Manager",
          "Procurement / Sourcing Specialist",
          "Medical Director (General)",
          "Senior Insurance Underwriter",
          "Farm / Ranch Manager",
          "Financial Reporting Manager",
          "Home Appliance Repairer",
          "Accounting Manager",
          "Logistician",
          "Software Product Manager",
          "Vice President of Marketing",
          "Call Center Manager",
          "Human Resources Assistant",
          "Hotel Desk Clerk",
          "Computer Programmer",
          "Stocker",
          "IT Director",
          "Payroll Specialist (General)",
          "Senior Data Scientist",
          "Systems Analyst",
          "Event Planner",
          "Parts Specialist",
          "Cashier",
          "Compensation / Benefits Analyst",
          "Sales Representative",
          "Police Officer",
          "Loss Prevention / Asset Protection Specialist",
          "Medical Technologist",
          "Cyber Security Analyst",
          "Compliance Auditor",
          "Training and Development Specialist",
          "Program Analyst",
          "Copywriter",
          "Healthcare Administrator",
          "Diesel Mechanic",
          "Cyber Security Analyst",
          "Accounts Payable / Receivable Manager",
          "Network Administrator",
          "Occupational Health and Safety (OHS) Specialist",
          "Senior Accountant",
          "Grinder / Sharpener",
          "Procurement / Sourcing Manager",
          "Attorney",
          "Curriculum and Instructional Designer / Developer",
          "Occupational Health and Safety (OHS) Manager",
          "Quality Inspector",
          "Accounts Receivable / Payable Specialist",
          "Facilities Manager",
          "Valet / Parking Lot Attendant",
          "Account Representative",
          "Waiter / Waitress",
          "Director of Operations",
          "Hazardous Materials Worker",
          "Physician Assistant",
          "Senior Software Developer / Engineer",
          "Sales Manager",
          "Vocational Education Instructor",
          "Mechanical / Electrical Drafter",
          "Building and General Maintenance Technician",
          "Human Resources Specialist",
          "Financial Analyst (General)",
          "Help Desk Technician / Analyst",
          "Receptionist",
          "Coating / Industrial Painter",
          "Marketing Campaign Analyst",
          "Manufacturing Machine Operator",
          "Property Appraiser / Assessor",
          "Recruiter (General)",
          "Medical Secretary",
          "Assistant Retail Store Manager",
          "Maintenance Manager",
          "Production Plant Manager",
          "Automotive Service Technician / Mechanic",
          "Painter",
          "Maintenance Helper / Assistant",
          "Retail Sales Associate (General)",
          "Customer Service Representative (General)",
          "Estimator",
          "Janitor / Cleaner",
          "Administrative Clerk / Coordinator",
          "General Manager",
          "Auto Damage Appraiser",
          "Detailer",
          "Auto Body Technician"
         ],
         "xaxis": "x",
         "y": [
          1,
          1,
          1,
          1,
          1,
          1,
          1,
          1,
          1,
          1,
          1,
          1,
          1,
          1,
          1,
          1,
          1,
          1,
          1,
          1,
          1,
          1,
          1,
          1,
          1,
          1,
          1,
          1,
          1,
          1,
          1,
          1,
          1,
          2,
          2,
          2,
          2,
          2,
          2,
          2,
          2,
          2,
          2,
          2,
          3,
          3,
          4,
          4,
          4,
          4,
          4,
          4,
          4,
          5,
          5,
          5,
          5,
          5,
          6,
          6,
          6,
          7,
          8,
          8,
          10,
          10,
          13,
          15,
          18,
          20,
          31,
          36,
          40,
          101,
          104,
          110,
          162,
          171,
          175,
          203,
          255,
          294,
          539,
          549,
          2068
         ],
         "yaxis": "y"
        }
       ],
       "layout": {
        "barmode": "relative",
        "coloraxis": {
         "colorbar": {
          "title": {
           "text": "Job Count"
          }
         },
         "colorscale": [
          [
           0,
           "#0d0887"
          ],
          [
           0.1111111111111111,
           "#46039f"
          ],
          [
           0.2222222222222222,
           "#7201a8"
          ],
          [
           0.3333333333333333,
           "#9c179e"
          ],
          [
           0.4444444444444444,
           "#bd3786"
          ],
          [
           0.5555555555555556,
           "#d8576b"
          ],
          [
           0.6666666666666666,
           "#ed7953"
          ],
          [
           0.7777777777777778,
           "#fb9f3a"
          ],
          [
           0.8888888888888888,
           "#fdca26"
          ],
          [
           1,
           "#f0f921"
          ]
         ]
        },
        "height": 700,
        "legend": {
         "tracegroupgap": 0
        },
        "template": {
         "data": {
          "bar": [
           {
            "error_x": {
             "color": "#2a3f5f"
            },
            "error_y": {
             "color": "#2a3f5f"
            },
            "marker": {
             "line": {
              "color": "#E5ECF6",
              "width": 0.5
             }
            },
            "type": "bar"
           }
          ],
          "barpolar": [
           {
            "marker": {
             "line": {
              "color": "#E5ECF6",
              "width": 0.5
             }
            },
            "type": "barpolar"
           }
          ],
          "carpet": [
           {
            "aaxis": {
             "endlinecolor": "#2a3f5f",
             "gridcolor": "white",
             "linecolor": "white",
             "minorgridcolor": "white",
             "startlinecolor": "#2a3f5f"
            },
            "baxis": {
             "endlinecolor": "#2a3f5f",
             "gridcolor": "white",
             "linecolor": "white",
             "minorgridcolor": "white",
             "startlinecolor": "#2a3f5f"
            },
            "type": "carpet"
           }
          ],
          "choropleth": [
           {
            "colorbar": {
             "outlinewidth": 0,
             "ticks": ""
            },
            "type": "choropleth"
           }
          ],
          "contour": [
           {
            "colorbar": {
             "outlinewidth": 0,
             "ticks": ""
            },
            "colorscale": [
             [
              0,
              "#0d0887"
             ],
             [
              0.1111111111111111,
              "#46039f"
             ],
             [
              0.2222222222222222,
              "#7201a8"
             ],
             [
              0.3333333333333333,
              "#9c179e"
             ],
             [
              0.4444444444444444,
              "#bd3786"
             ],
             [
              0.5555555555555556,
              "#d8576b"
             ],
             [
              0.6666666666666666,
              "#ed7953"
             ],
             [
              0.7777777777777778,
              "#fb9f3a"
             ],
             [
              0.8888888888888888,
              "#fdca26"
             ],
             [
              1,
              "#f0f921"
             ]
            ],
            "type": "contour"
           }
          ],
          "contourcarpet": [
           {
            "colorbar": {
             "outlinewidth": 0,
             "ticks": ""
            },
            "type": "contourcarpet"
           }
          ],
          "heatmap": [
           {
            "colorbar": {
             "outlinewidth": 0,
             "ticks": ""
            },
            "colorscale": [
             [
              0,
              "#0d0887"
             ],
             [
              0.1111111111111111,
              "#46039f"
             ],
             [
              0.2222222222222222,
              "#7201a8"
             ],
             [
              0.3333333333333333,
              "#9c179e"
             ],
             [
              0.4444444444444444,
              "#bd3786"
             ],
             [
              0.5555555555555556,
              "#d8576b"
             ],
             [
              0.6666666666666666,
              "#ed7953"
             ],
             [
              0.7777777777777778,
              "#fb9f3a"
             ],
             [
              0.8888888888888888,
              "#fdca26"
             ],
             [
              1,
              "#f0f921"
             ]
            ],
            "type": "heatmap"
           }
          ],
          "heatmapgl": [
           {
            "colorbar": {
             "outlinewidth": 0,
             "ticks": ""
            },
            "colorscale": [
             [
              0,
              "#0d0887"
             ],
             [
              0.1111111111111111,
              "#46039f"
             ],
             [
              0.2222222222222222,
              "#7201a8"
             ],
             [
              0.3333333333333333,
              "#9c179e"
             ],
             [
              0.4444444444444444,
              "#bd3786"
             ],
             [
              0.5555555555555556,
              "#d8576b"
             ],
             [
              0.6666666666666666,
              "#ed7953"
             ],
             [
              0.7777777777777778,
              "#fb9f3a"
             ],
             [
              0.8888888888888888,
              "#fdca26"
             ],
             [
              1,
              "#f0f921"
             ]
            ],
            "type": "heatmapgl"
           }
          ],
          "histogram": [
           {
            "marker": {
             "colorbar": {
              "outlinewidth": 0,
              "ticks": ""
             }
            },
            "type": "histogram"
           }
          ],
          "histogram2d": [
           {
            "colorbar": {
             "outlinewidth": 0,
             "ticks": ""
            },
            "colorscale": [
             [
              0,
              "#0d0887"
             ],
             [
              0.1111111111111111,
              "#46039f"
             ],
             [
              0.2222222222222222,
              "#7201a8"
             ],
             [
              0.3333333333333333,
              "#9c179e"
             ],
             [
              0.4444444444444444,
              "#bd3786"
             ],
             [
              0.5555555555555556,
              "#d8576b"
             ],
             [
              0.6666666666666666,
              "#ed7953"
             ],
             [
              0.7777777777777778,
              "#fb9f3a"
             ],
             [
              0.8888888888888888,
              "#fdca26"
             ],
             [
              1,
              "#f0f921"
             ]
            ],
            "type": "histogram2d"
           }
          ],
          "histogram2dcontour": [
           {
            "colorbar": {
             "outlinewidth": 0,
             "ticks": ""
            },
            "colorscale": [
             [
              0,
              "#0d0887"
             ],
             [
              0.1111111111111111,
              "#46039f"
             ],
             [
              0.2222222222222222,
              "#7201a8"
             ],
             [
              0.3333333333333333,
              "#9c179e"
             ],
             [
              0.4444444444444444,
              "#bd3786"
             ],
             [
              0.5555555555555556,
              "#d8576b"
             ],
             [
              0.6666666666666666,
              "#ed7953"
             ],
             [
              0.7777777777777778,
              "#fb9f3a"
             ],
             [
              0.8888888888888888,
              "#fdca26"
             ],
             [
              1,
              "#f0f921"
             ]
            ],
            "type": "histogram2dcontour"
           }
          ],
          "mesh3d": [
           {
            "colorbar": {
             "outlinewidth": 0,
             "ticks": ""
            },
            "type": "mesh3d"
           }
          ],
          "parcoords": [
           {
            "line": {
             "colorbar": {
              "outlinewidth": 0,
              "ticks": ""
             }
            },
            "type": "parcoords"
           }
          ],
          "pie": [
           {
            "automargin": true,
            "type": "pie"
           }
          ],
          "scatter": [
           {
            "marker": {
             "colorbar": {
              "outlinewidth": 0,
              "ticks": ""
             }
            },
            "type": "scatter"
           }
          ],
          "scatter3d": [
           {
            "line": {
             "colorbar": {
              "outlinewidth": 0,
              "ticks": ""
             }
            },
            "marker": {
             "colorbar": {
              "outlinewidth": 0,
              "ticks": ""
             }
            },
            "type": "scatter3d"
           }
          ],
          "scattercarpet": [
           {
            "marker": {
             "colorbar": {
              "outlinewidth": 0,
              "ticks": ""
             }
            },
            "type": "scattercarpet"
           }
          ],
          "scattergeo": [
           {
            "marker": {
             "colorbar": {
              "outlinewidth": 0,
              "ticks": ""
             }
            },
            "type": "scattergeo"
           }
          ],
          "scattergl": [
           {
            "marker": {
             "colorbar": {
              "outlinewidth": 0,
              "ticks": ""
             }
            },
            "type": "scattergl"
           }
          ],
          "scattermapbox": [
           {
            "marker": {
             "colorbar": {
              "outlinewidth": 0,
              "ticks": ""
             }
            },
            "type": "scattermapbox"
           }
          ],
          "scatterpolar": [
           {
            "marker": {
             "colorbar": {
              "outlinewidth": 0,
              "ticks": ""
             }
            },
            "type": "scatterpolar"
           }
          ],
          "scatterpolargl": [
           {
            "marker": {
             "colorbar": {
              "outlinewidth": 0,
              "ticks": ""
             }
            },
            "type": "scatterpolargl"
           }
          ],
          "scatterternary": [
           {
            "marker": {
             "colorbar": {
              "outlinewidth": 0,
              "ticks": ""
             }
            },
            "type": "scatterternary"
           }
          ],
          "surface": [
           {
            "colorbar": {
             "outlinewidth": 0,
             "ticks": ""
            },
            "colorscale": [
             [
              0,
              "#0d0887"
             ],
             [
              0.1111111111111111,
              "#46039f"
             ],
             [
              0.2222222222222222,
              "#7201a8"
             ],
             [
              0.3333333333333333,
              "#9c179e"
             ],
             [
              0.4444444444444444,
              "#bd3786"
             ],
             [
              0.5555555555555556,
              "#d8576b"
             ],
             [
              0.6666666666666666,
              "#ed7953"
             ],
             [
              0.7777777777777778,
              "#fb9f3a"
             ],
             [
              0.8888888888888888,
              "#fdca26"
             ],
             [
              1,
              "#f0f921"
             ]
            ],
            "type": "surface"
           }
          ],
          "table": [
           {
            "cells": {
             "fill": {
              "color": "#EBF0F8"
             },
             "line": {
              "color": "white"
             }
            },
            "header": {
             "fill": {
              "color": "#C8D4E3"
             },
             "line": {
              "color": "white"
             }
            },
            "type": "table"
           }
          ]
         },
         "layout": {
          "annotationdefaults": {
           "arrowcolor": "#2a3f5f",
           "arrowhead": 0,
           "arrowwidth": 1
          },
          "autotypenumbers": "strict",
          "coloraxis": {
           "colorbar": {
            "outlinewidth": 0,
            "ticks": ""
           }
          },
          "colorscale": {
           "diverging": [
            [
             0,
             "#8e0152"
            ],
            [
             0.1,
             "#c51b7d"
            ],
            [
             0.2,
             "#de77ae"
            ],
            [
             0.3,
             "#f1b6da"
            ],
            [
             0.4,
             "#fde0ef"
            ],
            [
             0.5,
             "#f7f7f7"
            ],
            [
             0.6,
             "#e6f5d0"
            ],
            [
             0.7,
             "#b8e186"
            ],
            [
             0.8,
             "#7fbc41"
            ],
            [
             0.9,
             "#4d9221"
            ],
            [
             1,
             "#276419"
            ]
           ],
           "sequential": [
            [
             0,
             "#0d0887"
            ],
            [
             0.1111111111111111,
             "#46039f"
            ],
            [
             0.2222222222222222,
             "#7201a8"
            ],
            [
             0.3333333333333333,
             "#9c179e"
            ],
            [
             0.4444444444444444,
             "#bd3786"
            ],
            [
             0.5555555555555556,
             "#d8576b"
            ],
            [
             0.6666666666666666,
             "#ed7953"
            ],
            [
             0.7777777777777778,
             "#fb9f3a"
            ],
            [
             0.8888888888888888,
             "#fdca26"
            ],
            [
             1,
             "#f0f921"
            ]
           ],
           "sequentialminus": [
            [
             0,
             "#0d0887"
            ],
            [
             0.1111111111111111,
             "#46039f"
            ],
            [
             0.2222222222222222,
             "#7201a8"
            ],
            [
             0.3333333333333333,
             "#9c179e"
            ],
            [
             0.4444444444444444,
             "#bd3786"
            ],
            [
             0.5555555555555556,
             "#d8576b"
            ],
            [
             0.6666666666666666,
             "#ed7953"
            ],
            [
             0.7777777777777778,
             "#fb9f3a"
            ],
            [
             0.8888888888888888,
             "#fdca26"
            ],
            [
             1,
             "#f0f921"
            ]
           ]
          },
          "colorway": [
           "#636efa",
           "#EF553B",
           "#00cc96",
           "#ab63fa",
           "#FFA15A",
           "#19d3f3",
           "#FF6692",
           "#B6E880",
           "#FF97FF",
           "#FECB52"
          ],
          "font": {
           "color": "#2a3f5f"
          },
          "geo": {
           "bgcolor": "white",
           "lakecolor": "white",
           "landcolor": "#E5ECF6",
           "showlakes": true,
           "showland": true,
           "subunitcolor": "white"
          },
          "hoverlabel": {
           "align": "left"
          },
          "hovermode": "closest",
          "mapbox": {
           "style": "light"
          },
          "paper_bgcolor": "white",
          "plot_bgcolor": "#E5ECF6",
          "polar": {
           "angularaxis": {
            "gridcolor": "white",
            "linecolor": "white",
            "ticks": ""
           },
           "bgcolor": "#E5ECF6",
           "radialaxis": {
            "gridcolor": "white",
            "linecolor": "white",
            "ticks": ""
           }
          },
          "scene": {
           "xaxis": {
            "backgroundcolor": "#E5ECF6",
            "gridcolor": "white",
            "gridwidth": 2,
            "linecolor": "white",
            "showbackground": true,
            "ticks": "",
            "zerolinecolor": "white"
           },
           "yaxis": {
            "backgroundcolor": "#E5ECF6",
            "gridcolor": "white",
            "gridwidth": 2,
            "linecolor": "white",
            "showbackground": true,
            "ticks": "",
            "zerolinecolor": "white"
           },
           "zaxis": {
            "backgroundcolor": "#E5ECF6",
            "gridcolor": "white",
            "gridwidth": 2,
            "linecolor": "white",
            "showbackground": true,
            "ticks": "",
            "zerolinecolor": "white"
           }
          },
          "shapedefaults": {
           "line": {
            "color": "#2a3f5f"
           }
          },
          "ternary": {
           "aaxis": {
            "gridcolor": "white",
            "linecolor": "white",
            "ticks": ""
           },
           "baxis": {
            "gridcolor": "white",
            "linecolor": "white",
            "ticks": ""
           },
           "bgcolor": "#E5ECF6",
           "caxis": {
            "gridcolor": "white",
            "linecolor": "white",
            "ticks": ""
           }
          },
          "title": {
           "x": 0.05
          },
          "xaxis": {
           "automargin": true,
           "gridcolor": "white",
           "linecolor": "white",
           "ticks": "",
           "title": {
            "standoff": 15
           },
           "zerolinecolor": "white",
           "zerolinewidth": 2
          },
          "yaxis": {
           "automargin": true,
           "gridcolor": "white",
           "linecolor": "white",
           "ticks": "",
           "title": {
            "standoff": 15
           },
           "zerolinecolor": "white",
           "zerolinewidth": 2
          }
         }
        },
        "title": {
         "text": "Postings per position"
        },
        "xaxis": {
         "anchor": "y",
         "domain": [
          0,
          1
         ],
         "title": {
          "text": "Job Title"
         }
        },
        "yaxis": {
         "anchor": "x",
         "domain": [
          0,
          1
         ],
         "title": {
          "text": "Job Count"
         }
        }
       }
      },
      "text/html": [
       "<div>                            <div id=\"2fa1a6a4-c0d2-4ae9-bf3a-deb0d907e7b2\" class=\"plotly-graph-div\" style=\"height:700px; width:100%;\"></div>            <script type=\"text/javascript\">                require([\"plotly\"], function(Plotly) {                    window.PLOTLYENV=window.PLOTLYENV || {};                                    if (document.getElementById(\"2fa1a6a4-c0d2-4ae9-bf3a-deb0d907e7b2\")) {                    Plotly.newPlot(                        \"2fa1a6a4-c0d2-4ae9-bf3a-deb0d907e7b2\",                        [{\"alignmentgroup\": \"True\", \"customdata\": [[\"11-1011.00\"], [\"11-9021.00\"], [\"13-1021.00\"], [\"11-9111.94\"], [\"13-2053.00\"], [\"11-9013.02\"], [\"11-3031.92\"], [\"49-9031.00\"], [\"11-3031.00\"], [\"13-1081.00\"], [\"11-2021.92\"], [\"11-2021.91\"], [\"43-1011.93\"], [\"43-4161.00\"], [\"43-4081.00\"], [\"15-1131.91\"], [\"43-5081.01\"], [\"15-1199.95\"], [\"43-3051.00\"], [\"15-1111.91\"], [\"15-1152.00\"], [\"13-1121.00\"], [\"41-2022.00\"], [\"41-2011.00\"], [\"13-1141.00\"], [\"41-4011.00\"], [\"33-3051.01\"], [\"33-1099.00\"], [\"29-2011.00\"], [\"13-1199.02\"], [\"13-2011.02\"], [\"13-1151.00\"], [\"13-1111.00\"], [\"27-3043.04\"], [\"11-9111.00\"], [\"49-3031.00\"], [\"15-1122.00\"], [\"43-1011.98\"], [\"15-1142.00\"], [\"29-9012.00\"], [\"13-2011.93\"], [\"51-4033.00\"], [\"11-9199.96\"], [\"23-1011.00\"], [\"25-9031.00\"], [\"29-9011.00\"], [\"51-9061.00\"], [\"43-3031.00\"], [\"11-3011.91\"], [\"53-6021.00\"], [\"13-2011.94\"], [\"35-3031.00\"], [\"11-1021.91\"], [\"47-4041.91\"], [\"29-1071.91\"], [\"15-1131.00\"], [\"11-2022.00\"], [\"25-1194.00\"], [\"17-3013.00\"], [\"49-9071.91\"], [\"13-1071.92\"], [\"13-2051.00\"], [\"15-1151.00\"], [\"43-4171.00\"], [\"51-9121.00\"], [\"13-1161.91\"], [\"51-9012.92\"], [\"13-2021.00\"], [\"13-1071.91\"], [\"43-6013.00\"], [\"41-1011.00\"], [\"49-1011.00\"], [\"51-1011.92\"], [\"49-3023.00\"], [\"47-2141.00\"], [\"49-9098.00\"], [\"41-2031.00\"], [\"43-4051.00\"], [\"13-1051.00\"], [\"37-2011.00\"], [\"43-6014.00\"], [\"11-1021.92\"], [\"13-1032.00\"], [\"53-7061.00\"], [\"49-3021.00\"]], \"hovertemplate\": \"Job Title=%{x}<br>Job Count=%{marker.color}<br>Long OCC Code=%{customdata[0]}<extra></extra>\", \"legendgroup\": \"\", \"marker\": {\"color\": [1, 1, 1, 1, 1, 1, 1, 1, 1, 1, 1, 1, 1, 1, 1, 1, 1, 1, 1, 1, 1, 1, 1, 1, 1, 1, 1, 1, 1, 1, 1, 1, 1, 2, 2, 2, 2, 2, 2, 2, 2, 2, 2, 2, 3, 3, 4, 4, 4, 4, 4, 4, 4, 5, 5, 5, 5, 5, 6, 6, 6, 7, 8, 8, 10, 10, 13, 15, 18, 20, 31, 36, 40, 101, 104, 110, 162, 171, 175, 203, 255, 294, 539, 549, 2068], \"coloraxis\": \"coloraxis\"}, \"name\": \"\", \"offsetgroup\": \"\", \"orientation\": \"v\", \"showlegend\": false, \"textposition\": \"auto\", \"type\": \"bar\", \"x\": [\"Chief Executive Officer\", \"Construction Manager\", \"Procurement / Sourcing Specialist\", \"Medical Director (General)\", \"Senior Insurance Underwriter\", \"Farm / Ranch Manager\", \"Financial Reporting Manager\", \"Home Appliance Repairer\", \"Accounting Manager\", \"Logistician\", \"Software Product Manager\", \"Vice President of Marketing\", \"Call Center Manager\", \"Human Resources Assistant\", \"Hotel Desk Clerk\", \"Computer Programmer\", \"Stocker\", \"IT Director\", \"Payroll Specialist (General)\", \"Senior Data Scientist\", \"Systems Analyst\", \"Event Planner\", \"Parts Specialist\", \"Cashier\", \"Compensation / Benefits Analyst\", \"Sales Representative\", \"Police Officer\", \"Loss Prevention / Asset Protection Specialist\", \"Medical Technologist\", \"Cyber Security Analyst\", \"Compliance Auditor\", \"Training and Development Specialist\", \"Program Analyst\", \"Copywriter\", \"Healthcare Administrator\", \"Diesel Mechanic\", \"Cyber Security Analyst\", \"Accounts Payable / Receivable Manager\", \"Network Administrator\", \"Occupational Health and Safety (OHS) Specialist\", \"Senior Accountant\", \"Grinder / Sharpener\", \"Procurement / Sourcing Manager\", \"Attorney\", \"Curriculum and Instructional Designer / Developer\", \"Occupational Health and Safety (OHS) Manager\", \"Quality Inspector\", \"Accounts Receivable / Payable Specialist\", \"Facilities Manager\", \"Valet / Parking Lot Attendant\", \"Account Representative\", \"Waiter / Waitress\", \"Director of Operations\", \"Hazardous Materials Worker\", \"Physician Assistant\", \"Senior Software Developer / Engineer\", \"Sales Manager\", \"Vocational Education Instructor\", \"Mechanical / Electrical Drafter\", \"Building and General Maintenance Technician\", \"Human Resources Specialist\", \"Financial Analyst (General)\", \"Help Desk Technician / Analyst\", \"Receptionist\", \"Coating / Industrial Painter\", \"Marketing Campaign Analyst\", \"Manufacturing Machine Operator\", \"Property Appraiser / Assessor\", \"Recruiter (General)\", \"Medical Secretary\", \"Assistant Retail Store Manager\", \"Maintenance Manager\", \"Production Plant Manager\", \"Automotive Service Technician / Mechanic\", \"Painter\", \"Maintenance Helper / Assistant\", \"Retail Sales Associate (General)\", \"Customer Service Representative (General)\", \"Estimator\", \"Janitor / Cleaner\", \"Administrative Clerk / Coordinator\", \"General Manager\", \"Auto Damage Appraiser\", \"Detailer\", \"Auto Body Technician\"], \"xaxis\": \"x\", \"y\": [1, 1, 1, 1, 1, 1, 1, 1, 1, 1, 1, 1, 1, 1, 1, 1, 1, 1, 1, 1, 1, 1, 1, 1, 1, 1, 1, 1, 1, 1, 1, 1, 1, 2, 2, 2, 2, 2, 2, 2, 2, 2, 2, 2, 3, 3, 4, 4, 4, 4, 4, 4, 4, 5, 5, 5, 5, 5, 6, 6, 6, 7, 8, 8, 10, 10, 13, 15, 18, 20, 31, 36, 40, 101, 104, 110, 162, 171, 175, 203, 255, 294, 539, 549, 2068], \"yaxis\": \"y\"}],                        {\"barmode\": \"relative\", \"coloraxis\": {\"colorbar\": {\"title\": {\"text\": \"Job Count\"}}, \"colorscale\": [[0.0, \"#0d0887\"], [0.1111111111111111, \"#46039f\"], [0.2222222222222222, \"#7201a8\"], [0.3333333333333333, \"#9c179e\"], [0.4444444444444444, \"#bd3786\"], [0.5555555555555556, \"#d8576b\"], [0.6666666666666666, \"#ed7953\"], [0.7777777777777778, \"#fb9f3a\"], [0.8888888888888888, \"#fdca26\"], [1.0, \"#f0f921\"]]}, \"height\": 700, \"legend\": {\"tracegroupgap\": 0}, \"template\": {\"data\": {\"bar\": [{\"error_x\": {\"color\": \"#2a3f5f\"}, \"error_y\": {\"color\": \"#2a3f5f\"}, \"marker\": {\"line\": {\"color\": \"#E5ECF6\", \"width\": 0.5}}, \"type\": \"bar\"}], \"barpolar\": [{\"marker\": {\"line\": {\"color\": \"#E5ECF6\", \"width\": 0.5}}, \"type\": \"barpolar\"}], \"carpet\": [{\"aaxis\": {\"endlinecolor\": \"#2a3f5f\", \"gridcolor\": \"white\", \"linecolor\": \"white\", \"minorgridcolor\": \"white\", \"startlinecolor\": \"#2a3f5f\"}, \"baxis\": {\"endlinecolor\": \"#2a3f5f\", \"gridcolor\": \"white\", \"linecolor\": \"white\", \"minorgridcolor\": \"white\", \"startlinecolor\": \"#2a3f5f\"}, \"type\": \"carpet\"}], \"choropleth\": [{\"colorbar\": {\"outlinewidth\": 0, \"ticks\": \"\"}, \"type\": \"choropleth\"}], \"contour\": [{\"colorbar\": {\"outlinewidth\": 0, \"ticks\": \"\"}, \"colorscale\": [[0.0, \"#0d0887\"], [0.1111111111111111, \"#46039f\"], [0.2222222222222222, \"#7201a8\"], [0.3333333333333333, \"#9c179e\"], [0.4444444444444444, \"#bd3786\"], [0.5555555555555556, \"#d8576b\"], [0.6666666666666666, \"#ed7953\"], [0.7777777777777778, \"#fb9f3a\"], [0.8888888888888888, \"#fdca26\"], [1.0, \"#f0f921\"]], \"type\": \"contour\"}], \"contourcarpet\": [{\"colorbar\": {\"outlinewidth\": 0, \"ticks\": \"\"}, \"type\": \"contourcarpet\"}], \"heatmap\": [{\"colorbar\": {\"outlinewidth\": 0, \"ticks\": \"\"}, \"colorscale\": [[0.0, \"#0d0887\"], [0.1111111111111111, \"#46039f\"], [0.2222222222222222, \"#7201a8\"], [0.3333333333333333, \"#9c179e\"], [0.4444444444444444, \"#bd3786\"], [0.5555555555555556, \"#d8576b\"], [0.6666666666666666, \"#ed7953\"], [0.7777777777777778, \"#fb9f3a\"], [0.8888888888888888, \"#fdca26\"], [1.0, \"#f0f921\"]], \"type\": \"heatmap\"}], \"heatmapgl\": [{\"colorbar\": {\"outlinewidth\": 0, \"ticks\": \"\"}, \"colorscale\": [[0.0, \"#0d0887\"], [0.1111111111111111, \"#46039f\"], [0.2222222222222222, \"#7201a8\"], [0.3333333333333333, \"#9c179e\"], [0.4444444444444444, \"#bd3786\"], [0.5555555555555556, \"#d8576b\"], [0.6666666666666666, \"#ed7953\"], [0.7777777777777778, \"#fb9f3a\"], [0.8888888888888888, \"#fdca26\"], [1.0, \"#f0f921\"]], \"type\": \"heatmapgl\"}], \"histogram\": [{\"marker\": {\"colorbar\": {\"outlinewidth\": 0, \"ticks\": \"\"}}, \"type\": \"histogram\"}], \"histogram2d\": [{\"colorbar\": {\"outlinewidth\": 0, \"ticks\": \"\"}, \"colorscale\": [[0.0, \"#0d0887\"], [0.1111111111111111, \"#46039f\"], [0.2222222222222222, \"#7201a8\"], [0.3333333333333333, \"#9c179e\"], [0.4444444444444444, \"#bd3786\"], [0.5555555555555556, \"#d8576b\"], [0.6666666666666666, \"#ed7953\"], [0.7777777777777778, \"#fb9f3a\"], [0.8888888888888888, \"#fdca26\"], [1.0, \"#f0f921\"]], \"type\": \"histogram2d\"}], \"histogram2dcontour\": [{\"colorbar\": {\"outlinewidth\": 0, \"ticks\": \"\"}, \"colorscale\": [[0.0, \"#0d0887\"], [0.1111111111111111, \"#46039f\"], [0.2222222222222222, \"#7201a8\"], [0.3333333333333333, \"#9c179e\"], [0.4444444444444444, \"#bd3786\"], [0.5555555555555556, \"#d8576b\"], [0.6666666666666666, \"#ed7953\"], [0.7777777777777778, \"#fb9f3a\"], [0.8888888888888888, \"#fdca26\"], [1.0, \"#f0f921\"]], \"type\": \"histogram2dcontour\"}], \"mesh3d\": [{\"colorbar\": {\"outlinewidth\": 0, \"ticks\": \"\"}, \"type\": \"mesh3d\"}], \"parcoords\": [{\"line\": {\"colorbar\": {\"outlinewidth\": 0, \"ticks\": \"\"}}, \"type\": \"parcoords\"}], \"pie\": [{\"automargin\": true, \"type\": \"pie\"}], \"scatter\": [{\"marker\": {\"colorbar\": {\"outlinewidth\": 0, \"ticks\": \"\"}}, \"type\": \"scatter\"}], \"scatter3d\": [{\"line\": {\"colorbar\": {\"outlinewidth\": 0, \"ticks\": \"\"}}, \"marker\": {\"colorbar\": {\"outlinewidth\": 0, \"ticks\": \"\"}}, \"type\": \"scatter3d\"}], \"scattercarpet\": [{\"marker\": {\"colorbar\": {\"outlinewidth\": 0, \"ticks\": \"\"}}, \"type\": \"scattercarpet\"}], \"scattergeo\": [{\"marker\": {\"colorbar\": {\"outlinewidth\": 0, \"ticks\": \"\"}}, \"type\": \"scattergeo\"}], \"scattergl\": [{\"marker\": {\"colorbar\": {\"outlinewidth\": 0, \"ticks\": \"\"}}, \"type\": \"scattergl\"}], \"scattermapbox\": [{\"marker\": {\"colorbar\": {\"outlinewidth\": 0, \"ticks\": \"\"}}, \"type\": \"scattermapbox\"}], \"scatterpolar\": [{\"marker\": {\"colorbar\": {\"outlinewidth\": 0, \"ticks\": \"\"}}, \"type\": \"scatterpolar\"}], \"scatterpolargl\": [{\"marker\": {\"colorbar\": {\"outlinewidth\": 0, \"ticks\": \"\"}}, \"type\": \"scatterpolargl\"}], \"scatterternary\": [{\"marker\": {\"colorbar\": {\"outlinewidth\": 0, \"ticks\": \"\"}}, \"type\": \"scatterternary\"}], \"surface\": [{\"colorbar\": {\"outlinewidth\": 0, \"ticks\": \"\"}, \"colorscale\": [[0.0, \"#0d0887\"], [0.1111111111111111, \"#46039f\"], [0.2222222222222222, \"#7201a8\"], [0.3333333333333333, \"#9c179e\"], [0.4444444444444444, \"#bd3786\"], [0.5555555555555556, \"#d8576b\"], [0.6666666666666666, \"#ed7953\"], [0.7777777777777778, \"#fb9f3a\"], [0.8888888888888888, \"#fdca26\"], [1.0, \"#f0f921\"]], \"type\": \"surface\"}], \"table\": [{\"cells\": {\"fill\": {\"color\": \"#EBF0F8\"}, \"line\": {\"color\": \"white\"}}, \"header\": {\"fill\": {\"color\": \"#C8D4E3\"}, \"line\": {\"color\": \"white\"}}, \"type\": \"table\"}]}, \"layout\": {\"annotationdefaults\": {\"arrowcolor\": \"#2a3f5f\", \"arrowhead\": 0, \"arrowwidth\": 1}, \"autotypenumbers\": \"strict\", \"coloraxis\": {\"colorbar\": {\"outlinewidth\": 0, \"ticks\": \"\"}}, \"colorscale\": {\"diverging\": [[0, \"#8e0152\"], [0.1, \"#c51b7d\"], [0.2, \"#de77ae\"], [0.3, \"#f1b6da\"], [0.4, \"#fde0ef\"], [0.5, \"#f7f7f7\"], [0.6, \"#e6f5d0\"], [0.7, \"#b8e186\"], [0.8, \"#7fbc41\"], [0.9, \"#4d9221\"], [1, \"#276419\"]], \"sequential\": [[0.0, \"#0d0887\"], [0.1111111111111111, \"#46039f\"], [0.2222222222222222, \"#7201a8\"], [0.3333333333333333, \"#9c179e\"], [0.4444444444444444, \"#bd3786\"], [0.5555555555555556, \"#d8576b\"], [0.6666666666666666, \"#ed7953\"], [0.7777777777777778, \"#fb9f3a\"], [0.8888888888888888, \"#fdca26\"], [1.0, \"#f0f921\"]], \"sequentialminus\": [[0.0, \"#0d0887\"], [0.1111111111111111, \"#46039f\"], [0.2222222222222222, \"#7201a8\"], [0.3333333333333333, \"#9c179e\"], [0.4444444444444444, \"#bd3786\"], [0.5555555555555556, \"#d8576b\"], [0.6666666666666666, \"#ed7953\"], [0.7777777777777778, \"#fb9f3a\"], [0.8888888888888888, \"#fdca26\"], [1.0, \"#f0f921\"]]}, \"colorway\": [\"#636efa\", \"#EF553B\", \"#00cc96\", \"#ab63fa\", \"#FFA15A\", \"#19d3f3\", \"#FF6692\", \"#B6E880\", \"#FF97FF\", \"#FECB52\"], \"font\": {\"color\": \"#2a3f5f\"}, \"geo\": {\"bgcolor\": \"white\", \"lakecolor\": \"white\", \"landcolor\": \"#E5ECF6\", \"showlakes\": true, \"showland\": true, \"subunitcolor\": \"white\"}, \"hoverlabel\": {\"align\": \"left\"}, \"hovermode\": \"closest\", \"mapbox\": {\"style\": \"light\"}, \"paper_bgcolor\": \"white\", \"plot_bgcolor\": \"#E5ECF6\", \"polar\": {\"angularaxis\": {\"gridcolor\": \"white\", \"linecolor\": \"white\", \"ticks\": \"\"}, \"bgcolor\": \"#E5ECF6\", \"radialaxis\": {\"gridcolor\": \"white\", \"linecolor\": \"white\", \"ticks\": \"\"}}, \"scene\": {\"xaxis\": {\"backgroundcolor\": \"#E5ECF6\", \"gridcolor\": \"white\", \"gridwidth\": 2, \"linecolor\": \"white\", \"showbackground\": true, \"ticks\": \"\", \"zerolinecolor\": \"white\"}, \"yaxis\": {\"backgroundcolor\": \"#E5ECF6\", \"gridcolor\": \"white\", \"gridwidth\": 2, \"linecolor\": \"white\", \"showbackground\": true, \"ticks\": \"\", \"zerolinecolor\": \"white\"}, \"zaxis\": {\"backgroundcolor\": \"#E5ECF6\", \"gridcolor\": \"white\", \"gridwidth\": 2, \"linecolor\": \"white\", \"showbackground\": true, \"ticks\": \"\", \"zerolinecolor\": \"white\"}}, \"shapedefaults\": {\"line\": {\"color\": \"#2a3f5f\"}}, \"ternary\": {\"aaxis\": {\"gridcolor\": \"white\", \"linecolor\": \"white\", \"ticks\": \"\"}, \"baxis\": {\"gridcolor\": \"white\", \"linecolor\": \"white\", \"ticks\": \"\"}, \"bgcolor\": \"#E5ECF6\", \"caxis\": {\"gridcolor\": \"white\", \"linecolor\": \"white\", \"ticks\": \"\"}}, \"title\": {\"x\": 0.05}, \"xaxis\": {\"automargin\": true, \"gridcolor\": \"white\", \"linecolor\": \"white\", \"ticks\": \"\", \"title\": {\"standoff\": 15}, \"zerolinecolor\": \"white\", \"zerolinewidth\": 2}, \"yaxis\": {\"automargin\": true, \"gridcolor\": \"white\", \"linecolor\": \"white\", \"ticks\": \"\", \"title\": {\"standoff\": 15}, \"zerolinecolor\": \"white\", \"zerolinewidth\": 2}}}, \"title\": {\"text\": \"Postings per position\"}, \"xaxis\": {\"anchor\": \"y\", \"domain\": [0.0, 1.0], \"title\": {\"text\": \"Job Title\"}}, \"yaxis\": {\"anchor\": \"x\", \"domain\": [0.0, 1.0], \"title\": {\"text\": \"Job Count\"}}},                        {\"responsive\": true}                    ).then(function(){\n",
       "                            \n",
       "var gd = document.getElementById('2fa1a6a4-c0d2-4ae9-bf3a-deb0d907e7b2');\n",
       "var x = new MutationObserver(function (mutations, observer) {{\n",
       "        var display = window.getComputedStyle(gd).display;\n",
       "        if (!display || display === 'none') {{\n",
       "            console.log([gd, 'removed!']);\n",
       "            Plotly.purge(gd);\n",
       "            observer.disconnect();\n",
       "        }}\n",
       "}});\n",
       "\n",
       "// Listen for the removal of the full notebook cells\n",
       "var notebookContainer = gd.closest('#notebook-container');\n",
       "if (notebookContainer) {{\n",
       "    x.observe(notebookContainer, {childList: true});\n",
       "}}\n",
       "\n",
       "// Listen for the clearing of the current output cell\n",
       "var outputEl = gd.closest('.output');\n",
       "if (outputEl) {{\n",
       "    x.observe(outputEl, {childList: true});\n",
       "}}\n",
       "\n",
       "                        })                };                });            </script>        </div>"
      ]
     },
     "metadata": {},
     "output_type": "display_data"
    },
    {
     "name": "stdout",
     "output_type": "stream",
     "text": [
      "Total positions posted: 85\n"
     ]
    }
   ],
   "source": [
    "#Plot bar chart to show distrobution of job postings\n",
    "data = px.data.gapminder()\n",
    "\n",
    "fig = px.bar(posting_position_freq, x='Job Title', y='Job Count',\n",
    "             hover_data=['LONG_OCC_CODE','Job Title', 'Job Count'],\n",
    "             title=\"Postings per position\",\n",
    "             labels={'LONG_OCC_CODE':'Long OCC Code'},\n",
    "             color='Job Count',\n",
    "             height=700)\n",
    "fig.show()\n",
    "print(f'Total positions posted: {posting_position_freq[\"Job Title\"].count()}')"
   ]
  },
  {
   "cell_type": "code",
   "execution_count": 83,
   "metadata": {},
   "outputs": [
    {
     "data": {
      "text/html": [
       "<div>\n",
       "<style scoped>\n",
       "    .dataframe tbody tr th:only-of-type {\n",
       "        vertical-align: middle;\n",
       "    }\n",
       "\n",
       "    .dataframe tbody tr th {\n",
       "        vertical-align: top;\n",
       "    }\n",
       "\n",
       "    .dataframe thead th {\n",
       "        text-align: right;\n",
       "    }\n",
       "</style>\n",
       "<table border=\"1\" class=\"dataframe\">\n",
       "  <thead>\n",
       "    <tr style=\"text-align: right;\">\n",
       "      <th></th>\n",
       "      <th>LONG_OCC_CODE</th>\n",
       "      <th>YEAR</th>\n",
       "      <th>Job Title</th>\n",
       "      <th>Job Count</th>\n",
       "    </tr>\n",
       "  </thead>\n",
       "  <tbody>\n",
       "    <tr>\n",
       "      <th>72</th>\n",
       "      <td>49-3021.00</td>\n",
       "      <td>2068</td>\n",
       "      <td>Auto Body Technician</td>\n",
       "      <td>2068</td>\n",
       "    </tr>\n",
       "    <tr>\n",
       "      <th>84</th>\n",
       "      <td>53-7061.00</td>\n",
       "      <td>549</td>\n",
       "      <td>Detailer</td>\n",
       "      <td>549</td>\n",
       "    </tr>\n",
       "    <tr>\n",
       "      <th>15</th>\n",
       "      <td>13-1032.00</td>\n",
       "      <td>539</td>\n",
       "      <td>Auto Damage Appraiser</td>\n",
       "      <td>539</td>\n",
       "    </tr>\n",
       "    <tr>\n",
       "      <th>2</th>\n",
       "      <td>11-1021.92</td>\n",
       "      <td>294</td>\n",
       "      <td>General Manager</td>\n",
       "      <td>294</td>\n",
       "    </tr>\n",
       "    <tr>\n",
       "      <th>68</th>\n",
       "      <td>43-6014.00</td>\n",
       "      <td>255</td>\n",
       "      <td>Administrative Clerk / Coordinator</td>\n",
       "      <td>255</td>\n",
       "    </tr>\n",
       "    <tr>\n",
       "      <th>52</th>\n",
       "      <td>37-2011.00</td>\n",
       "      <td>203</td>\n",
       "      <td>Janitor / Cleaner</td>\n",
       "      <td>203</td>\n",
       "    </tr>\n",
       "    <tr>\n",
       "      <th>16</th>\n",
       "      <td>13-1051.00</td>\n",
       "      <td>175</td>\n",
       "      <td>Estimator</td>\n",
       "      <td>175</td>\n",
       "    </tr>\n",
       "    <tr>\n",
       "      <th>62</th>\n",
       "      <td>43-4051.00</td>\n",
       "      <td>171</td>\n",
       "      <td>Customer Service Representative (General)</td>\n",
       "      <td>171</td>\n",
       "    </tr>\n",
       "    <tr>\n",
       "      <th>56</th>\n",
       "      <td>41-2031.00</td>\n",
       "      <td>162</td>\n",
       "      <td>Retail Sales Associate (General)</td>\n",
       "      <td>162</td>\n",
       "    </tr>\n",
       "    <tr>\n",
       "      <th>77</th>\n",
       "      <td>49-9098.00</td>\n",
       "      <td>110</td>\n",
       "      <td>Maintenance Helper / Assistant</td>\n",
       "      <td>110</td>\n",
       "    </tr>\n",
       "    <tr>\n",
       "      <th>69</th>\n",
       "      <td>47-2141.00</td>\n",
       "      <td>104</td>\n",
       "      <td>Painter</td>\n",
       "      <td>104</td>\n",
       "    </tr>\n",
       "    <tr>\n",
       "      <th>73</th>\n",
       "      <td>49-3023.00</td>\n",
       "      <td>101</td>\n",
       "      <td>Automotive Service Technician / Mechanic</td>\n",
       "      <td>101</td>\n",
       "    </tr>\n",
       "  </tbody>\n",
       "</table>\n",
       "</div>"
      ],
      "text/plain": [
       "   LONG_OCC_CODE  YEAR                                  Job Title  Job Count\n",
       "72    49-3021.00  2068                       Auto Body Technician       2068\n",
       "84    53-7061.00   549                                   Detailer        549\n",
       "15    13-1032.00   539                      Auto Damage Appraiser        539\n",
       "2     11-1021.92   294                            General Manager        294\n",
       "68    43-6014.00   255         Administrative Clerk / Coordinator        255\n",
       "52    37-2011.00   203                          Janitor / Cleaner        203\n",
       "16    13-1051.00   175                                  Estimator        175\n",
       "62    43-4051.00   171  Customer Service Representative (General)        171\n",
       "56    41-2031.00   162           Retail Sales Associate (General)        162\n",
       "77    49-9098.00   110             Maintenance Helper / Assistant        110\n",
       "69    47-2141.00   104                                    Painter        104\n",
       "73    49-3023.00   101   Automotive Service Technician / Mechanic        101"
      ]
     },
     "execution_count": 83,
     "metadata": {},
     "output_type": "execute_result"
    }
   ],
   "source": [
    "#Show positions with 100 or more postings\n",
    "posting_position_100 = posting_position_freq.loc[posting_position_freq['Job Count'] >= 100]\n",
    "posting_position_100 = posting_position_100.sort_values(by='Job Count', ascending=False)\n",
    "posting_position_100.head(20)"
   ]
  },
  {
   "cell_type": "code",
   "execution_count": 101,
   "metadata": {},
   "outputs": [
    {
     "data": {
      "application/vnd.plotly.v1+json": {
       "config": {
        "plotlyServerURL": "https://plot.ly"
       },
       "data": [
        {
         "alignmentgroup": "True",
         "customdata": [
          [
           "49-3023.00"
          ],
          [
           "47-2141.00"
          ],
          [
           "49-9098.00"
          ],
          [
           "41-2031.00"
          ],
          [
           "43-4051.00"
          ],
          [
           "13-1051.00"
          ],
          [
           "37-2011.00"
          ],
          [
           "43-6014.00"
          ],
          [
           "11-1021.92"
          ],
          [
           "13-1032.00"
          ],
          [
           "53-7061.00"
          ],
          [
           "49-3021.00"
          ]
         ],
         "hovertemplate": "Job Title=%{x}<br>Job Count=%{marker.color}<br>Long OCC Code=%{customdata[0]}<extra></extra>",
         "legendgroup": "",
         "marker": {
          "color": [
           101,
           104,
           110,
           162,
           171,
           175,
           203,
           255,
           294,
           539,
           549,
           2068
          ],
          "coloraxis": "coloraxis"
         },
         "name": "",
         "offsetgroup": "",
         "orientation": "v",
         "showlegend": false,
         "textposition": "auto",
         "type": "bar",
         "x": [
          "Automotive Service Technician / Mechanic",
          "Painter",
          "Maintenance Helper / Assistant",
          "Retail Sales Associate (General)",
          "Customer Service Representative (General)",
          "Estimator",
          "Janitor / Cleaner",
          "Administrative Clerk / Coordinator",
          "General Manager",
          "Auto Damage Appraiser",
          "Detailer",
          "Auto Body Technician"
         ],
         "xaxis": "x",
         "y": [
          101,
          104,
          110,
          162,
          171,
          175,
          203,
          255,
          294,
          539,
          549,
          2068
         ],
         "yaxis": "y"
        }
       ],
       "layout": {
        "barmode": "relative",
        "coloraxis": {
         "colorbar": {
          "title": {
           "text": "Job Count"
          }
         },
         "colorscale": [
          [
           0,
           "#0d0887"
          ],
          [
           0.1111111111111111,
           "#46039f"
          ],
          [
           0.2222222222222222,
           "#7201a8"
          ],
          [
           0.3333333333333333,
           "#9c179e"
          ],
          [
           0.4444444444444444,
           "#bd3786"
          ],
          [
           0.5555555555555556,
           "#d8576b"
          ],
          [
           0.6666666666666666,
           "#ed7953"
          ],
          [
           0.7777777777777778,
           "#fb9f3a"
          ],
          [
           0.8888888888888888,
           "#fdca26"
          ],
          [
           1,
           "#f0f921"
          ]
         ]
        },
        "height": 700,
        "legend": {
         "tracegroupgap": 0
        },
        "template": {
         "data": {
          "bar": [
           {
            "error_x": {
             "color": "#2a3f5f"
            },
            "error_y": {
             "color": "#2a3f5f"
            },
            "marker": {
             "line": {
              "color": "#E5ECF6",
              "width": 0.5
             }
            },
            "type": "bar"
           }
          ],
          "barpolar": [
           {
            "marker": {
             "line": {
              "color": "#E5ECF6",
              "width": 0.5
             }
            },
            "type": "barpolar"
           }
          ],
          "carpet": [
           {
            "aaxis": {
             "endlinecolor": "#2a3f5f",
             "gridcolor": "white",
             "linecolor": "white",
             "minorgridcolor": "white",
             "startlinecolor": "#2a3f5f"
            },
            "baxis": {
             "endlinecolor": "#2a3f5f",
             "gridcolor": "white",
             "linecolor": "white",
             "minorgridcolor": "white",
             "startlinecolor": "#2a3f5f"
            },
            "type": "carpet"
           }
          ],
          "choropleth": [
           {
            "colorbar": {
             "outlinewidth": 0,
             "ticks": ""
            },
            "type": "choropleth"
           }
          ],
          "contour": [
           {
            "colorbar": {
             "outlinewidth": 0,
             "ticks": ""
            },
            "colorscale": [
             [
              0,
              "#0d0887"
             ],
             [
              0.1111111111111111,
              "#46039f"
             ],
             [
              0.2222222222222222,
              "#7201a8"
             ],
             [
              0.3333333333333333,
              "#9c179e"
             ],
             [
              0.4444444444444444,
              "#bd3786"
             ],
             [
              0.5555555555555556,
              "#d8576b"
             ],
             [
              0.6666666666666666,
              "#ed7953"
             ],
             [
              0.7777777777777778,
              "#fb9f3a"
             ],
             [
              0.8888888888888888,
              "#fdca26"
             ],
             [
              1,
              "#f0f921"
             ]
            ],
            "type": "contour"
           }
          ],
          "contourcarpet": [
           {
            "colorbar": {
             "outlinewidth": 0,
             "ticks": ""
            },
            "type": "contourcarpet"
           }
          ],
          "heatmap": [
           {
            "colorbar": {
             "outlinewidth": 0,
             "ticks": ""
            },
            "colorscale": [
             [
              0,
              "#0d0887"
             ],
             [
              0.1111111111111111,
              "#46039f"
             ],
             [
              0.2222222222222222,
              "#7201a8"
             ],
             [
              0.3333333333333333,
              "#9c179e"
             ],
             [
              0.4444444444444444,
              "#bd3786"
             ],
             [
              0.5555555555555556,
              "#d8576b"
             ],
             [
              0.6666666666666666,
              "#ed7953"
             ],
             [
              0.7777777777777778,
              "#fb9f3a"
             ],
             [
              0.8888888888888888,
              "#fdca26"
             ],
             [
              1,
              "#f0f921"
             ]
            ],
            "type": "heatmap"
           }
          ],
          "heatmapgl": [
           {
            "colorbar": {
             "outlinewidth": 0,
             "ticks": ""
            },
            "colorscale": [
             [
              0,
              "#0d0887"
             ],
             [
              0.1111111111111111,
              "#46039f"
             ],
             [
              0.2222222222222222,
              "#7201a8"
             ],
             [
              0.3333333333333333,
              "#9c179e"
             ],
             [
              0.4444444444444444,
              "#bd3786"
             ],
             [
              0.5555555555555556,
              "#d8576b"
             ],
             [
              0.6666666666666666,
              "#ed7953"
             ],
             [
              0.7777777777777778,
              "#fb9f3a"
             ],
             [
              0.8888888888888888,
              "#fdca26"
             ],
             [
              1,
              "#f0f921"
             ]
            ],
            "type": "heatmapgl"
           }
          ],
          "histogram": [
           {
            "marker": {
             "colorbar": {
              "outlinewidth": 0,
              "ticks": ""
             }
            },
            "type": "histogram"
           }
          ],
          "histogram2d": [
           {
            "colorbar": {
             "outlinewidth": 0,
             "ticks": ""
            },
            "colorscale": [
             [
              0,
              "#0d0887"
             ],
             [
              0.1111111111111111,
              "#46039f"
             ],
             [
              0.2222222222222222,
              "#7201a8"
             ],
             [
              0.3333333333333333,
              "#9c179e"
             ],
             [
              0.4444444444444444,
              "#bd3786"
             ],
             [
              0.5555555555555556,
              "#d8576b"
             ],
             [
              0.6666666666666666,
              "#ed7953"
             ],
             [
              0.7777777777777778,
              "#fb9f3a"
             ],
             [
              0.8888888888888888,
              "#fdca26"
             ],
             [
              1,
              "#f0f921"
             ]
            ],
            "type": "histogram2d"
           }
          ],
          "histogram2dcontour": [
           {
            "colorbar": {
             "outlinewidth": 0,
             "ticks": ""
            },
            "colorscale": [
             [
              0,
              "#0d0887"
             ],
             [
              0.1111111111111111,
              "#46039f"
             ],
             [
              0.2222222222222222,
              "#7201a8"
             ],
             [
              0.3333333333333333,
              "#9c179e"
             ],
             [
              0.4444444444444444,
              "#bd3786"
             ],
             [
              0.5555555555555556,
              "#d8576b"
             ],
             [
              0.6666666666666666,
              "#ed7953"
             ],
             [
              0.7777777777777778,
              "#fb9f3a"
             ],
             [
              0.8888888888888888,
              "#fdca26"
             ],
             [
              1,
              "#f0f921"
             ]
            ],
            "type": "histogram2dcontour"
           }
          ],
          "mesh3d": [
           {
            "colorbar": {
             "outlinewidth": 0,
             "ticks": ""
            },
            "type": "mesh3d"
           }
          ],
          "parcoords": [
           {
            "line": {
             "colorbar": {
              "outlinewidth": 0,
              "ticks": ""
             }
            },
            "type": "parcoords"
           }
          ],
          "pie": [
           {
            "automargin": true,
            "type": "pie"
           }
          ],
          "scatter": [
           {
            "marker": {
             "colorbar": {
              "outlinewidth": 0,
              "ticks": ""
             }
            },
            "type": "scatter"
           }
          ],
          "scatter3d": [
           {
            "line": {
             "colorbar": {
              "outlinewidth": 0,
              "ticks": ""
             }
            },
            "marker": {
             "colorbar": {
              "outlinewidth": 0,
              "ticks": ""
             }
            },
            "type": "scatter3d"
           }
          ],
          "scattercarpet": [
           {
            "marker": {
             "colorbar": {
              "outlinewidth": 0,
              "ticks": ""
             }
            },
            "type": "scattercarpet"
           }
          ],
          "scattergeo": [
           {
            "marker": {
             "colorbar": {
              "outlinewidth": 0,
              "ticks": ""
             }
            },
            "type": "scattergeo"
           }
          ],
          "scattergl": [
           {
            "marker": {
             "colorbar": {
              "outlinewidth": 0,
              "ticks": ""
             }
            },
            "type": "scattergl"
           }
          ],
          "scattermapbox": [
           {
            "marker": {
             "colorbar": {
              "outlinewidth": 0,
              "ticks": ""
             }
            },
            "type": "scattermapbox"
           }
          ],
          "scatterpolar": [
           {
            "marker": {
             "colorbar": {
              "outlinewidth": 0,
              "ticks": ""
             }
            },
            "type": "scatterpolar"
           }
          ],
          "scatterpolargl": [
           {
            "marker": {
             "colorbar": {
              "outlinewidth": 0,
              "ticks": ""
             }
            },
            "type": "scatterpolargl"
           }
          ],
          "scatterternary": [
           {
            "marker": {
             "colorbar": {
              "outlinewidth": 0,
              "ticks": ""
             }
            },
            "type": "scatterternary"
           }
          ],
          "surface": [
           {
            "colorbar": {
             "outlinewidth": 0,
             "ticks": ""
            },
            "colorscale": [
             [
              0,
              "#0d0887"
             ],
             [
              0.1111111111111111,
              "#46039f"
             ],
             [
              0.2222222222222222,
              "#7201a8"
             ],
             [
              0.3333333333333333,
              "#9c179e"
             ],
             [
              0.4444444444444444,
              "#bd3786"
             ],
             [
              0.5555555555555556,
              "#d8576b"
             ],
             [
              0.6666666666666666,
              "#ed7953"
             ],
             [
              0.7777777777777778,
              "#fb9f3a"
             ],
             [
              0.8888888888888888,
              "#fdca26"
             ],
             [
              1,
              "#f0f921"
             ]
            ],
            "type": "surface"
           }
          ],
          "table": [
           {
            "cells": {
             "fill": {
              "color": "#EBF0F8"
             },
             "line": {
              "color": "white"
             }
            },
            "header": {
             "fill": {
              "color": "#C8D4E3"
             },
             "line": {
              "color": "white"
             }
            },
            "type": "table"
           }
          ]
         },
         "layout": {
          "annotationdefaults": {
           "arrowcolor": "#2a3f5f",
           "arrowhead": 0,
           "arrowwidth": 1
          },
          "autotypenumbers": "strict",
          "coloraxis": {
           "colorbar": {
            "outlinewidth": 0,
            "ticks": ""
           }
          },
          "colorscale": {
           "diverging": [
            [
             0,
             "#8e0152"
            ],
            [
             0.1,
             "#c51b7d"
            ],
            [
             0.2,
             "#de77ae"
            ],
            [
             0.3,
             "#f1b6da"
            ],
            [
             0.4,
             "#fde0ef"
            ],
            [
             0.5,
             "#f7f7f7"
            ],
            [
             0.6,
             "#e6f5d0"
            ],
            [
             0.7,
             "#b8e186"
            ],
            [
             0.8,
             "#7fbc41"
            ],
            [
             0.9,
             "#4d9221"
            ],
            [
             1,
             "#276419"
            ]
           ],
           "sequential": [
            [
             0,
             "#0d0887"
            ],
            [
             0.1111111111111111,
             "#46039f"
            ],
            [
             0.2222222222222222,
             "#7201a8"
            ],
            [
             0.3333333333333333,
             "#9c179e"
            ],
            [
             0.4444444444444444,
             "#bd3786"
            ],
            [
             0.5555555555555556,
             "#d8576b"
            ],
            [
             0.6666666666666666,
             "#ed7953"
            ],
            [
             0.7777777777777778,
             "#fb9f3a"
            ],
            [
             0.8888888888888888,
             "#fdca26"
            ],
            [
             1,
             "#f0f921"
            ]
           ],
           "sequentialminus": [
            [
             0,
             "#0d0887"
            ],
            [
             0.1111111111111111,
             "#46039f"
            ],
            [
             0.2222222222222222,
             "#7201a8"
            ],
            [
             0.3333333333333333,
             "#9c179e"
            ],
            [
             0.4444444444444444,
             "#bd3786"
            ],
            [
             0.5555555555555556,
             "#d8576b"
            ],
            [
             0.6666666666666666,
             "#ed7953"
            ],
            [
             0.7777777777777778,
             "#fb9f3a"
            ],
            [
             0.8888888888888888,
             "#fdca26"
            ],
            [
             1,
             "#f0f921"
            ]
           ]
          },
          "colorway": [
           "#636efa",
           "#EF553B",
           "#00cc96",
           "#ab63fa",
           "#FFA15A",
           "#19d3f3",
           "#FF6692",
           "#B6E880",
           "#FF97FF",
           "#FECB52"
          ],
          "font": {
           "color": "#2a3f5f"
          },
          "geo": {
           "bgcolor": "white",
           "lakecolor": "white",
           "landcolor": "#E5ECF6",
           "showlakes": true,
           "showland": true,
           "subunitcolor": "white"
          },
          "hoverlabel": {
           "align": "left"
          },
          "hovermode": "closest",
          "mapbox": {
           "style": "light"
          },
          "paper_bgcolor": "white",
          "plot_bgcolor": "#E5ECF6",
          "polar": {
           "angularaxis": {
            "gridcolor": "white",
            "linecolor": "white",
            "ticks": ""
           },
           "bgcolor": "#E5ECF6",
           "radialaxis": {
            "gridcolor": "white",
            "linecolor": "white",
            "ticks": ""
           }
          },
          "scene": {
           "xaxis": {
            "backgroundcolor": "#E5ECF6",
            "gridcolor": "white",
            "gridwidth": 2,
            "linecolor": "white",
            "showbackground": true,
            "ticks": "",
            "zerolinecolor": "white"
           },
           "yaxis": {
            "backgroundcolor": "#E5ECF6",
            "gridcolor": "white",
            "gridwidth": 2,
            "linecolor": "white",
            "showbackground": true,
            "ticks": "",
            "zerolinecolor": "white"
           },
           "zaxis": {
            "backgroundcolor": "#E5ECF6",
            "gridcolor": "white",
            "gridwidth": 2,
            "linecolor": "white",
            "showbackground": true,
            "ticks": "",
            "zerolinecolor": "white"
           }
          },
          "shapedefaults": {
           "line": {
            "color": "#2a3f5f"
           }
          },
          "ternary": {
           "aaxis": {
            "gridcolor": "white",
            "linecolor": "white",
            "ticks": ""
           },
           "baxis": {
            "gridcolor": "white",
            "linecolor": "white",
            "ticks": ""
           },
           "bgcolor": "#E5ECF6",
           "caxis": {
            "gridcolor": "white",
            "linecolor": "white",
            "ticks": ""
           }
          },
          "title": {
           "x": 0.05
          },
          "xaxis": {
           "automargin": true,
           "gridcolor": "white",
           "linecolor": "white",
           "ticks": "",
           "title": {
            "standoff": 15
           },
           "zerolinecolor": "white",
           "zerolinewidth": 2
          },
          "yaxis": {
           "automargin": true,
           "gridcolor": "white",
           "linecolor": "white",
           "ticks": "",
           "title": {
            "standoff": 15
           },
           "zerolinecolor": "white",
           "zerolinewidth": 2
          }
         }
        },
        "title": {
         "text": "Positions with Over 100 Postings"
        },
        "xaxis": {
         "anchor": "y",
         "domain": [
          0,
          1
         ],
         "title": {
          "text": "Job Title"
         }
        },
        "yaxis": {
         "anchor": "x",
         "domain": [
          0,
          1
         ],
         "title": {
          "text": "Job Count"
         }
        }
       }
      },
      "text/html": [
       "<div>                            <div id=\"0898a6b1-dcde-44a9-a108-4a81c34f2390\" class=\"plotly-graph-div\" style=\"height:700px; width:100%;\"></div>            <script type=\"text/javascript\">                require([\"plotly\"], function(Plotly) {                    window.PLOTLYENV=window.PLOTLYENV || {};                                    if (document.getElementById(\"0898a6b1-dcde-44a9-a108-4a81c34f2390\")) {                    Plotly.newPlot(                        \"0898a6b1-dcde-44a9-a108-4a81c34f2390\",                        [{\"alignmentgroup\": \"True\", \"customdata\": [[\"49-3023.00\"], [\"47-2141.00\"], [\"49-9098.00\"], [\"41-2031.00\"], [\"43-4051.00\"], [\"13-1051.00\"], [\"37-2011.00\"], [\"43-6014.00\"], [\"11-1021.92\"], [\"13-1032.00\"], [\"53-7061.00\"], [\"49-3021.00\"]], \"hovertemplate\": \"Job Title=%{x}<br>Job Count=%{marker.color}<br>Long OCC Code=%{customdata[0]}<extra></extra>\", \"legendgroup\": \"\", \"marker\": {\"color\": [101, 104, 110, 162, 171, 175, 203, 255, 294, 539, 549, 2068], \"coloraxis\": \"coloraxis\"}, \"name\": \"\", \"offsetgroup\": \"\", \"orientation\": \"v\", \"showlegend\": false, \"textposition\": \"auto\", \"type\": \"bar\", \"x\": [\"Automotive Service Technician / Mechanic\", \"Painter\", \"Maintenance Helper / Assistant\", \"Retail Sales Associate (General)\", \"Customer Service Representative (General)\", \"Estimator\", \"Janitor / Cleaner\", \"Administrative Clerk / Coordinator\", \"General Manager\", \"Auto Damage Appraiser\", \"Detailer\", \"Auto Body Technician\"], \"xaxis\": \"x\", \"y\": [101, 104, 110, 162, 171, 175, 203, 255, 294, 539, 549, 2068], \"yaxis\": \"y\"}],                        {\"barmode\": \"relative\", \"coloraxis\": {\"colorbar\": {\"title\": {\"text\": \"Job Count\"}}, \"colorscale\": [[0.0, \"#0d0887\"], [0.1111111111111111, \"#46039f\"], [0.2222222222222222, \"#7201a8\"], [0.3333333333333333, \"#9c179e\"], [0.4444444444444444, \"#bd3786\"], [0.5555555555555556, \"#d8576b\"], [0.6666666666666666, \"#ed7953\"], [0.7777777777777778, \"#fb9f3a\"], [0.8888888888888888, \"#fdca26\"], [1.0, \"#f0f921\"]]}, \"height\": 700, \"legend\": {\"tracegroupgap\": 0}, \"template\": {\"data\": {\"bar\": [{\"error_x\": {\"color\": \"#2a3f5f\"}, \"error_y\": {\"color\": \"#2a3f5f\"}, \"marker\": {\"line\": {\"color\": \"#E5ECF6\", \"width\": 0.5}}, \"type\": \"bar\"}], \"barpolar\": [{\"marker\": {\"line\": {\"color\": \"#E5ECF6\", \"width\": 0.5}}, \"type\": \"barpolar\"}], \"carpet\": [{\"aaxis\": {\"endlinecolor\": \"#2a3f5f\", \"gridcolor\": \"white\", \"linecolor\": \"white\", \"minorgridcolor\": \"white\", \"startlinecolor\": \"#2a3f5f\"}, \"baxis\": {\"endlinecolor\": \"#2a3f5f\", \"gridcolor\": \"white\", \"linecolor\": \"white\", \"minorgridcolor\": \"white\", \"startlinecolor\": \"#2a3f5f\"}, \"type\": \"carpet\"}], \"choropleth\": [{\"colorbar\": {\"outlinewidth\": 0, \"ticks\": \"\"}, \"type\": \"choropleth\"}], \"contour\": [{\"colorbar\": {\"outlinewidth\": 0, \"ticks\": \"\"}, \"colorscale\": [[0.0, \"#0d0887\"], [0.1111111111111111, \"#46039f\"], [0.2222222222222222, \"#7201a8\"], [0.3333333333333333, \"#9c179e\"], [0.4444444444444444, \"#bd3786\"], [0.5555555555555556, \"#d8576b\"], [0.6666666666666666, \"#ed7953\"], [0.7777777777777778, \"#fb9f3a\"], [0.8888888888888888, \"#fdca26\"], [1.0, \"#f0f921\"]], \"type\": \"contour\"}], \"contourcarpet\": [{\"colorbar\": {\"outlinewidth\": 0, \"ticks\": \"\"}, \"type\": \"contourcarpet\"}], \"heatmap\": [{\"colorbar\": {\"outlinewidth\": 0, \"ticks\": \"\"}, \"colorscale\": [[0.0, \"#0d0887\"], [0.1111111111111111, \"#46039f\"], [0.2222222222222222, \"#7201a8\"], [0.3333333333333333, \"#9c179e\"], [0.4444444444444444, \"#bd3786\"], [0.5555555555555556, \"#d8576b\"], [0.6666666666666666, \"#ed7953\"], [0.7777777777777778, \"#fb9f3a\"], [0.8888888888888888, \"#fdca26\"], [1.0, \"#f0f921\"]], \"type\": \"heatmap\"}], \"heatmapgl\": [{\"colorbar\": {\"outlinewidth\": 0, \"ticks\": \"\"}, \"colorscale\": [[0.0, \"#0d0887\"], [0.1111111111111111, \"#46039f\"], [0.2222222222222222, \"#7201a8\"], [0.3333333333333333, \"#9c179e\"], [0.4444444444444444, \"#bd3786\"], [0.5555555555555556, \"#d8576b\"], [0.6666666666666666, \"#ed7953\"], [0.7777777777777778, \"#fb9f3a\"], [0.8888888888888888, \"#fdca26\"], [1.0, \"#f0f921\"]], \"type\": \"heatmapgl\"}], \"histogram\": [{\"marker\": {\"colorbar\": {\"outlinewidth\": 0, \"ticks\": \"\"}}, \"type\": \"histogram\"}], \"histogram2d\": [{\"colorbar\": {\"outlinewidth\": 0, \"ticks\": \"\"}, \"colorscale\": [[0.0, \"#0d0887\"], [0.1111111111111111, \"#46039f\"], [0.2222222222222222, \"#7201a8\"], [0.3333333333333333, \"#9c179e\"], [0.4444444444444444, \"#bd3786\"], [0.5555555555555556, \"#d8576b\"], [0.6666666666666666, \"#ed7953\"], [0.7777777777777778, \"#fb9f3a\"], [0.8888888888888888, \"#fdca26\"], [1.0, \"#f0f921\"]], \"type\": \"histogram2d\"}], \"histogram2dcontour\": [{\"colorbar\": {\"outlinewidth\": 0, \"ticks\": \"\"}, \"colorscale\": [[0.0, \"#0d0887\"], [0.1111111111111111, \"#46039f\"], [0.2222222222222222, \"#7201a8\"], [0.3333333333333333, \"#9c179e\"], [0.4444444444444444, \"#bd3786\"], [0.5555555555555556, \"#d8576b\"], [0.6666666666666666, \"#ed7953\"], [0.7777777777777778, \"#fb9f3a\"], [0.8888888888888888, \"#fdca26\"], [1.0, \"#f0f921\"]], \"type\": \"histogram2dcontour\"}], \"mesh3d\": [{\"colorbar\": {\"outlinewidth\": 0, \"ticks\": \"\"}, \"type\": \"mesh3d\"}], \"parcoords\": [{\"line\": {\"colorbar\": {\"outlinewidth\": 0, \"ticks\": \"\"}}, \"type\": \"parcoords\"}], \"pie\": [{\"automargin\": true, \"type\": \"pie\"}], \"scatter\": [{\"marker\": {\"colorbar\": {\"outlinewidth\": 0, \"ticks\": \"\"}}, \"type\": \"scatter\"}], \"scatter3d\": [{\"line\": {\"colorbar\": {\"outlinewidth\": 0, \"ticks\": \"\"}}, \"marker\": {\"colorbar\": {\"outlinewidth\": 0, \"ticks\": \"\"}}, \"type\": \"scatter3d\"}], \"scattercarpet\": [{\"marker\": {\"colorbar\": {\"outlinewidth\": 0, \"ticks\": \"\"}}, \"type\": \"scattercarpet\"}], \"scattergeo\": [{\"marker\": {\"colorbar\": {\"outlinewidth\": 0, \"ticks\": \"\"}}, \"type\": \"scattergeo\"}], \"scattergl\": [{\"marker\": {\"colorbar\": {\"outlinewidth\": 0, \"ticks\": \"\"}}, \"type\": \"scattergl\"}], \"scattermapbox\": [{\"marker\": {\"colorbar\": {\"outlinewidth\": 0, \"ticks\": \"\"}}, \"type\": \"scattermapbox\"}], \"scatterpolar\": [{\"marker\": {\"colorbar\": {\"outlinewidth\": 0, \"ticks\": \"\"}}, \"type\": \"scatterpolar\"}], \"scatterpolargl\": [{\"marker\": {\"colorbar\": {\"outlinewidth\": 0, \"ticks\": \"\"}}, \"type\": \"scatterpolargl\"}], \"scatterternary\": [{\"marker\": {\"colorbar\": {\"outlinewidth\": 0, \"ticks\": \"\"}}, \"type\": \"scatterternary\"}], \"surface\": [{\"colorbar\": {\"outlinewidth\": 0, \"ticks\": \"\"}, \"colorscale\": [[0.0, \"#0d0887\"], [0.1111111111111111, \"#46039f\"], [0.2222222222222222, \"#7201a8\"], [0.3333333333333333, \"#9c179e\"], [0.4444444444444444, \"#bd3786\"], [0.5555555555555556, \"#d8576b\"], [0.6666666666666666, \"#ed7953\"], [0.7777777777777778, \"#fb9f3a\"], [0.8888888888888888, \"#fdca26\"], [1.0, \"#f0f921\"]], \"type\": \"surface\"}], \"table\": [{\"cells\": {\"fill\": {\"color\": \"#EBF0F8\"}, \"line\": {\"color\": \"white\"}}, \"header\": {\"fill\": {\"color\": \"#C8D4E3\"}, \"line\": {\"color\": \"white\"}}, \"type\": \"table\"}]}, \"layout\": {\"annotationdefaults\": {\"arrowcolor\": \"#2a3f5f\", \"arrowhead\": 0, \"arrowwidth\": 1}, \"autotypenumbers\": \"strict\", \"coloraxis\": {\"colorbar\": {\"outlinewidth\": 0, \"ticks\": \"\"}}, \"colorscale\": {\"diverging\": [[0, \"#8e0152\"], [0.1, \"#c51b7d\"], [0.2, \"#de77ae\"], [0.3, \"#f1b6da\"], [0.4, \"#fde0ef\"], [0.5, \"#f7f7f7\"], [0.6, \"#e6f5d0\"], [0.7, \"#b8e186\"], [0.8, \"#7fbc41\"], [0.9, \"#4d9221\"], [1, \"#276419\"]], \"sequential\": [[0.0, \"#0d0887\"], [0.1111111111111111, \"#46039f\"], [0.2222222222222222, \"#7201a8\"], [0.3333333333333333, \"#9c179e\"], [0.4444444444444444, \"#bd3786\"], [0.5555555555555556, \"#d8576b\"], [0.6666666666666666, \"#ed7953\"], [0.7777777777777778, \"#fb9f3a\"], [0.8888888888888888, \"#fdca26\"], [1.0, \"#f0f921\"]], \"sequentialminus\": [[0.0, \"#0d0887\"], [0.1111111111111111, \"#46039f\"], [0.2222222222222222, \"#7201a8\"], [0.3333333333333333, \"#9c179e\"], [0.4444444444444444, \"#bd3786\"], [0.5555555555555556, \"#d8576b\"], [0.6666666666666666, \"#ed7953\"], [0.7777777777777778, \"#fb9f3a\"], [0.8888888888888888, \"#fdca26\"], [1.0, \"#f0f921\"]]}, \"colorway\": [\"#636efa\", \"#EF553B\", \"#00cc96\", \"#ab63fa\", \"#FFA15A\", \"#19d3f3\", \"#FF6692\", \"#B6E880\", \"#FF97FF\", \"#FECB52\"], \"font\": {\"color\": \"#2a3f5f\"}, \"geo\": {\"bgcolor\": \"white\", \"lakecolor\": \"white\", \"landcolor\": \"#E5ECF6\", \"showlakes\": true, \"showland\": true, \"subunitcolor\": \"white\"}, \"hoverlabel\": {\"align\": \"left\"}, \"hovermode\": \"closest\", \"mapbox\": {\"style\": \"light\"}, \"paper_bgcolor\": \"white\", \"plot_bgcolor\": \"#E5ECF6\", \"polar\": {\"angularaxis\": {\"gridcolor\": \"white\", \"linecolor\": \"white\", \"ticks\": \"\"}, \"bgcolor\": \"#E5ECF6\", \"radialaxis\": {\"gridcolor\": \"white\", \"linecolor\": \"white\", \"ticks\": \"\"}}, \"scene\": {\"xaxis\": {\"backgroundcolor\": \"#E5ECF6\", \"gridcolor\": \"white\", \"gridwidth\": 2, \"linecolor\": \"white\", \"showbackground\": true, \"ticks\": \"\", \"zerolinecolor\": \"white\"}, \"yaxis\": {\"backgroundcolor\": \"#E5ECF6\", \"gridcolor\": \"white\", \"gridwidth\": 2, \"linecolor\": \"white\", \"showbackground\": true, \"ticks\": \"\", \"zerolinecolor\": \"white\"}, \"zaxis\": {\"backgroundcolor\": \"#E5ECF6\", \"gridcolor\": \"white\", \"gridwidth\": 2, \"linecolor\": \"white\", \"showbackground\": true, \"ticks\": \"\", \"zerolinecolor\": \"white\"}}, \"shapedefaults\": {\"line\": {\"color\": \"#2a3f5f\"}}, \"ternary\": {\"aaxis\": {\"gridcolor\": \"white\", \"linecolor\": \"white\", \"ticks\": \"\"}, \"baxis\": {\"gridcolor\": \"white\", \"linecolor\": \"white\", \"ticks\": \"\"}, \"bgcolor\": \"#E5ECF6\", \"caxis\": {\"gridcolor\": \"white\", \"linecolor\": \"white\", \"ticks\": \"\"}}, \"title\": {\"x\": 0.05}, \"xaxis\": {\"automargin\": true, \"gridcolor\": \"white\", \"linecolor\": \"white\", \"ticks\": \"\", \"title\": {\"standoff\": 15}, \"zerolinecolor\": \"white\", \"zerolinewidth\": 2}, \"yaxis\": {\"automargin\": true, \"gridcolor\": \"white\", \"linecolor\": \"white\", \"ticks\": \"\", \"title\": {\"standoff\": 15}, \"zerolinecolor\": \"white\", \"zerolinewidth\": 2}}}, \"title\": {\"text\": \"Positions with Over 100 Postings\"}, \"xaxis\": {\"anchor\": \"y\", \"domain\": [0.0, 1.0], \"title\": {\"text\": \"Job Title\"}}, \"yaxis\": {\"anchor\": \"x\", \"domain\": [0.0, 1.0], \"title\": {\"text\": \"Job Count\"}}},                        {\"responsive\": true}                    ).then(function(){\n",
       "                            \n",
       "var gd = document.getElementById('0898a6b1-dcde-44a9-a108-4a81c34f2390');\n",
       "var x = new MutationObserver(function (mutations, observer) {{\n",
       "        var display = window.getComputedStyle(gd).display;\n",
       "        if (!display || display === 'none') {{\n",
       "            console.log([gd, 'removed!']);\n",
       "            Plotly.purge(gd);\n",
       "            observer.disconnect();\n",
       "        }}\n",
       "}});\n",
       "\n",
       "// Listen for the removal of the full notebook cells\n",
       "var notebookContainer = gd.closest('#notebook-container');\n",
       "if (notebookContainer) {{\n",
       "    x.observe(notebookContainer, {childList: true});\n",
       "}}\n",
       "\n",
       "// Listen for the clearing of the current output cell\n",
       "var outputEl = gd.closest('.output');\n",
       "if (outputEl) {{\n",
       "    x.observe(outputEl, {childList: true});\n",
       "}}\n",
       "\n",
       "                        })                };                });            </script>        </div>"
      ]
     },
     "metadata": {},
     "output_type": "display_data"
    }
   ],
   "source": [
    "#Plot positions with over 100 postings\n",
    "posting_position_100 = posting_position_100.sort_values(by='Job Count', ascending=True)\n",
    "data = px.data.gapminder()\n",
    "\n",
    "fig = px.bar(posting_position_100, x='Job Title', y='Job Count',\n",
    "             hover_data=['LONG_OCC_CODE','Job Title', 'Job Count'],\n",
    "             title=\"Positions with Over 100 Postings\",\n",
    "             labels={'LONG_OCC_CODE':'Long OCC Code'},\n",
    "             color='Job Count', height=700)\n",
    "fig.show()"
   ]
  },
  {
   "cell_type": "code",
   "execution_count": 85,
   "metadata": {
    "scrolled": true
   },
   "outputs": [
    {
     "data": {
      "text/html": [
       "<div>\n",
       "<style scoped>\n",
       "    .dataframe tbody tr th:only-of-type {\n",
       "        vertical-align: middle;\n",
       "    }\n",
       "\n",
       "    .dataframe tbody tr th {\n",
       "        vertical-align: top;\n",
       "    }\n",
       "\n",
       "    .dataframe thead th {\n",
       "        text-align: right;\n",
       "    }\n",
       "</style>\n",
       "<table border=\"1\" class=\"dataframe\">\n",
       "  <thead>\n",
       "    <tr style=\"text-align: right;\">\n",
       "      <th></th>\n",
       "      <th>MSA_ID</th>\n",
       "      <th>Metro Area</th>\n",
       "      <th>Job Count</th>\n",
       "    </tr>\n",
       "  </thead>\n",
       "  <tbody>\n",
       "    <tr>\n",
       "      <th>0</th>\n",
       "      <td>19100</td>\n",
       "      <td>Dallas-Fort Worth-Arlington, TX</td>\n",
       "      <td>859</td>\n",
       "    </tr>\n",
       "    <tr>\n",
       "      <th>1</th>\n",
       "      <td>16980</td>\n",
       "      <td>Chicago-Naperville-Elgin, IL-IN-WI</td>\n",
       "      <td>352</td>\n",
       "    </tr>\n",
       "    <tr>\n",
       "      <th>2</th>\n",
       "      <td>38060</td>\n",
       "      <td>Phoenix-Mesa-Scottsdale, AZ</td>\n",
       "      <td>288</td>\n",
       "    </tr>\n",
       "    <tr>\n",
       "      <th>3</th>\n",
       "      <td>34980</td>\n",
       "      <td>Nashville-Davidson--Murfreesboro--Franklin, TN</td>\n",
       "      <td>264</td>\n",
       "    </tr>\n",
       "    <tr>\n",
       "      <th>4</th>\n",
       "      <td>41700</td>\n",
       "      <td>San Antonio-New Braunfels, TX</td>\n",
       "      <td>238</td>\n",
       "    </tr>\n",
       "    <tr>\n",
       "      <th>5</th>\n",
       "      <td>26420</td>\n",
       "      <td>Houston-The Woodlands-Sugar Land, TX</td>\n",
       "      <td>216</td>\n",
       "    </tr>\n",
       "    <tr>\n",
       "      <th>6</th>\n",
       "      <td>31080</td>\n",
       "      <td>Los Angeles-Long Beach-Anaheim, CA</td>\n",
       "      <td>192</td>\n",
       "    </tr>\n",
       "    <tr>\n",
       "      <th>7</th>\n",
       "      <td>42660</td>\n",
       "      <td>Seattle-Tacoma-Bellevue, WA</td>\n",
       "      <td>192</td>\n",
       "    </tr>\n",
       "    <tr>\n",
       "      <th>8</th>\n",
       "      <td>19820</td>\n",
       "      <td>Detroit-Warren-Dearborn, MI</td>\n",
       "      <td>168</td>\n",
       "    </tr>\n",
       "    <tr>\n",
       "      <th>9</th>\n",
       "      <td>19740</td>\n",
       "      <td>Denver-Aurora-Lakewood, CO</td>\n",
       "      <td>143</td>\n",
       "    </tr>\n",
       "  </tbody>\n",
       "</table>\n",
       "</div>"
      ],
      "text/plain": [
       "   MSA_ID                                      Metro Area  Job Count\n",
       "0   19100                 Dallas-Fort Worth-Arlington, TX        859\n",
       "1   16980              Chicago-Naperville-Elgin, IL-IN-WI        352\n",
       "2   38060                     Phoenix-Mesa-Scottsdale, AZ        288\n",
       "3   34980  Nashville-Davidson--Murfreesboro--Franklin, TN        264\n",
       "4   41700                   San Antonio-New Braunfels, TX        238\n",
       "5   26420            Houston-The Woodlands-Sugar Land, TX        216\n",
       "6   31080              Los Angeles-Long Beach-Anaheim, CA        192\n",
       "7   42660                     Seattle-Tacoma-Bellevue, WA        192\n",
       "8   19820                     Detroit-Warren-Dearborn, MI        168\n",
       "9   19740                      Denver-Aurora-Lakewood, CO        143"
      ]
     },
     "execution_count": 85,
     "metadata": {},
     "output_type": "execute_result"
    }
   ],
   "source": [
    "#Sort DF to show metropolitan areas with most postings\n",
    "posting_location_ID = posting_location_ID.sort_values(by='Job Count', ascending=False)\n",
    "posting_location_ID = posting_location_ID[['MSA_ID','Metro Area', 'Job Count']]\n",
    "posting_location_ID = posting_location_ID.reset_index(drop=True)\n",
    "posting_location_ID.head(10)"
   ]
  },
  {
   "cell_type": "code",
   "execution_count": 86,
   "metadata": {},
   "outputs": [
    {
     "name": "stdout",
     "output_type": "stream",
     "text": [
      "Total locations with postings: 56\n"
     ]
    }
   ],
   "source": [
    "print(f'Total locations with postings: {posting_location_ID[\"Metro Area\"].count()}')"
   ]
  },
  {
   "cell_type": "code",
   "execution_count": 99,
   "metadata": {},
   "outputs": [
    {
     "data": {
      "application/vnd.plotly.v1+json": {
       "config": {
        "plotlyServerURL": "https://plot.ly"
       },
       "data": [
        {
         "alignmentgroup": "True",
         "customdata": [
          [
           71650
          ],
          [
           41180
          ],
          [
           26900
          ],
          [
           19500
          ],
          [
           22220
          ],
          [
           23420
          ],
          [
           30700
          ],
          [
           27180
          ],
          [
           40420
          ],
          [
           35840
          ],
          [
           15680
          ],
          [
           49700
          ],
          [
           17460
          ],
          [
           10900
          ],
          [
           16580
          ],
          [
           16860
          ],
          [
           10420
          ],
          [
           28940
          ],
          [
           15980
          ],
          [
           12580
          ],
          [
           27140
          ],
          [
           47380
          ],
          [
           30780
          ],
          [
           17300
          ],
          [
           33100
          ],
          [
           40380
          ],
          [
           41620
          ],
          [
           36740
          ],
          [
           45300
          ],
          [
           40140
          ],
          [
           17820
          ],
          [
           27260
          ],
          [
           16740
          ],
          [
           18140
          ],
          [
           41740
          ],
          [
           40900
          ],
          [
           47900
          ],
          [
           12420
          ],
          [
           41860
          ],
          [
           36420
          ],
          [
           29820
          ],
          [
           38300
          ],
          [
           41940
          ],
          [
           32820
          ],
          [
           12060
          ],
          [
           37980
          ],
          [
           19740
          ],
          [
           19820
          ],
          [
           42660
          ],
          [
           31080
          ],
          [
           26420
          ],
          [
           41700
          ],
          [
           34980
          ],
          [
           38060
          ],
          [
           16980
          ],
          [
           19100
          ]
         ],
         "hovertemplate": "Metro Area=%{x}<br>Job Count=%{marker.color}<br>MSA ID=%{customdata[0]}<extra></extra>",
         "legendgroup": "",
         "marker": {
          "color": [
           1,
           1,
           1,
           1,
           1,
           1,
           2,
           3,
           4,
           8,
           9,
           9,
           10,
           12,
           13,
           14,
           15,
           15,
           19,
           20,
           22,
           23,
           26,
           34,
           37,
           42,
           49,
           50,
           56,
           64,
           75,
           76,
           78,
           78,
           82,
           83,
           85,
           90,
           90,
           92,
           105,
           110,
           121,
           122,
           126,
           140,
           143,
           168,
           192,
           192,
           216,
           238,
           264,
           288,
           352,
           859
          ],
          "coloraxis": "coloraxis"
         },
         "name": "",
         "offsetgroup": "",
         "orientation": "v",
         "showlegend": false,
         "textposition": "auto",
         "type": "bar",
         "x": [
          "Boston-Cambridge-Nashua, MA-NH",
          "St. Louis, MO-IL",
          "Indianapolis-Carmel-Anderson, IN",
          "Decatur, IL",
          "Fayetteville-Springdale-Rogers, AR-MO",
          "Fresno, CA",
          "Lincoln, NE",
          "Jackson, TN",
          "Rockford, IL",
          "North Port-Sarasota-Bradenton, FL",
          "California-Lexington Park, MD",
          "Yuba City, CA",
          "Cleveland-Elyria, OH",
          "Allentown-Bethlehem-Easton, PA-NJ",
          "Champaign-Urbana, IL",
          "Chattanooga, TN-GA",
          "Akron, OH",
          "Knoxville, TN",
          "Cape Coral-Fort Myers, FL",
          "Baltimore-Columbia-Towson, MD",
          "Jackson, MS",
          "Waco, TX",
          "Little Rock-North Little Rock-Conway, AR",
          "Clarksville, TN-KY",
          "Miami-Fort Lauderdale-West Palm Beach, FL",
          "Rochester, NY",
          "Salt Lake City, UT",
          "Orlando-Kissimmee-Sanford, FL",
          "Tampa-St. Petersburg-Clearwater, FL",
          "Riverside-San Bernardino-Ontario, CA",
          "Colorado Springs, CO",
          "Jacksonville, FL",
          "Charlotte-Concord-Gastonia, NC-SC",
          "Columbus, OH",
          "San Diego-Carlsbad, CA",
          "Sacramento--Roseville--Arden-Arcade, CA",
          "Washington-Arlington-Alexandria, DC-VA-MD-WV",
          "Austin-Round Rock, TX",
          "San Francisco-Oakland-Hayward, CA",
          "Oklahoma City, OK",
          "Las Vegas-Henderson-Paradise, NV",
          "Pittsburgh, PA",
          "San Jose-Sunnyvale-Santa Clara, CA",
          "Memphis, TN-MS-AR",
          "Atlanta-Sandy Springs-Roswell, GA",
          "Philadelphia-Camden-Wilmington, PA-NJ-DE-MD",
          "Denver-Aurora-Lakewood, CO",
          "Detroit-Warren-Dearborn, MI",
          "Seattle-Tacoma-Bellevue, WA",
          "Los Angeles-Long Beach-Anaheim, CA",
          "Houston-The Woodlands-Sugar Land, TX",
          "San Antonio-New Braunfels, TX",
          "Nashville-Davidson--Murfreesboro--Franklin, TN",
          "Phoenix-Mesa-Scottsdale, AZ",
          "Chicago-Naperville-Elgin, IL-IN-WI",
          "Dallas-Fort Worth-Arlington, TX"
         ],
         "xaxis": "x",
         "y": [
          1,
          1,
          1,
          1,
          1,
          1,
          2,
          3,
          4,
          8,
          9,
          9,
          10,
          12,
          13,
          14,
          15,
          15,
          19,
          20,
          22,
          23,
          26,
          34,
          37,
          42,
          49,
          50,
          56,
          64,
          75,
          76,
          78,
          78,
          82,
          83,
          85,
          90,
          90,
          92,
          105,
          110,
          121,
          122,
          126,
          140,
          143,
          168,
          192,
          192,
          216,
          238,
          264,
          288,
          352,
          859
         ],
         "yaxis": "y"
        }
       ],
       "layout": {
        "barmode": "relative",
        "coloraxis": {
         "colorbar": {
          "title": {
           "text": "Job Count"
          }
         },
         "colorscale": [
          [
           0,
           "#0d0887"
          ],
          [
           0.1111111111111111,
           "#46039f"
          ],
          [
           0.2222222222222222,
           "#7201a8"
          ],
          [
           0.3333333333333333,
           "#9c179e"
          ],
          [
           0.4444444444444444,
           "#bd3786"
          ],
          [
           0.5555555555555556,
           "#d8576b"
          ],
          [
           0.6666666666666666,
           "#ed7953"
          ],
          [
           0.7777777777777778,
           "#fb9f3a"
          ],
          [
           0.8888888888888888,
           "#fdca26"
          ],
          [
           1,
           "#f0f921"
          ]
         ]
        },
        "height": 700,
        "legend": {
         "tracegroupgap": 0
        },
        "template": {
         "data": {
          "bar": [
           {
            "error_x": {
             "color": "#2a3f5f"
            },
            "error_y": {
             "color": "#2a3f5f"
            },
            "marker": {
             "line": {
              "color": "#E5ECF6",
              "width": 0.5
             }
            },
            "type": "bar"
           }
          ],
          "barpolar": [
           {
            "marker": {
             "line": {
              "color": "#E5ECF6",
              "width": 0.5
             }
            },
            "type": "barpolar"
           }
          ],
          "carpet": [
           {
            "aaxis": {
             "endlinecolor": "#2a3f5f",
             "gridcolor": "white",
             "linecolor": "white",
             "minorgridcolor": "white",
             "startlinecolor": "#2a3f5f"
            },
            "baxis": {
             "endlinecolor": "#2a3f5f",
             "gridcolor": "white",
             "linecolor": "white",
             "minorgridcolor": "white",
             "startlinecolor": "#2a3f5f"
            },
            "type": "carpet"
           }
          ],
          "choropleth": [
           {
            "colorbar": {
             "outlinewidth": 0,
             "ticks": ""
            },
            "type": "choropleth"
           }
          ],
          "contour": [
           {
            "colorbar": {
             "outlinewidth": 0,
             "ticks": ""
            },
            "colorscale": [
             [
              0,
              "#0d0887"
             ],
             [
              0.1111111111111111,
              "#46039f"
             ],
             [
              0.2222222222222222,
              "#7201a8"
             ],
             [
              0.3333333333333333,
              "#9c179e"
             ],
             [
              0.4444444444444444,
              "#bd3786"
             ],
             [
              0.5555555555555556,
              "#d8576b"
             ],
             [
              0.6666666666666666,
              "#ed7953"
             ],
             [
              0.7777777777777778,
              "#fb9f3a"
             ],
             [
              0.8888888888888888,
              "#fdca26"
             ],
             [
              1,
              "#f0f921"
             ]
            ],
            "type": "contour"
           }
          ],
          "contourcarpet": [
           {
            "colorbar": {
             "outlinewidth": 0,
             "ticks": ""
            },
            "type": "contourcarpet"
           }
          ],
          "heatmap": [
           {
            "colorbar": {
             "outlinewidth": 0,
             "ticks": ""
            },
            "colorscale": [
             [
              0,
              "#0d0887"
             ],
             [
              0.1111111111111111,
              "#46039f"
             ],
             [
              0.2222222222222222,
              "#7201a8"
             ],
             [
              0.3333333333333333,
              "#9c179e"
             ],
             [
              0.4444444444444444,
              "#bd3786"
             ],
             [
              0.5555555555555556,
              "#d8576b"
             ],
             [
              0.6666666666666666,
              "#ed7953"
             ],
             [
              0.7777777777777778,
              "#fb9f3a"
             ],
             [
              0.8888888888888888,
              "#fdca26"
             ],
             [
              1,
              "#f0f921"
             ]
            ],
            "type": "heatmap"
           }
          ],
          "heatmapgl": [
           {
            "colorbar": {
             "outlinewidth": 0,
             "ticks": ""
            },
            "colorscale": [
             [
              0,
              "#0d0887"
             ],
             [
              0.1111111111111111,
              "#46039f"
             ],
             [
              0.2222222222222222,
              "#7201a8"
             ],
             [
              0.3333333333333333,
              "#9c179e"
             ],
             [
              0.4444444444444444,
              "#bd3786"
             ],
             [
              0.5555555555555556,
              "#d8576b"
             ],
             [
              0.6666666666666666,
              "#ed7953"
             ],
             [
              0.7777777777777778,
              "#fb9f3a"
             ],
             [
              0.8888888888888888,
              "#fdca26"
             ],
             [
              1,
              "#f0f921"
             ]
            ],
            "type": "heatmapgl"
           }
          ],
          "histogram": [
           {
            "marker": {
             "colorbar": {
              "outlinewidth": 0,
              "ticks": ""
             }
            },
            "type": "histogram"
           }
          ],
          "histogram2d": [
           {
            "colorbar": {
             "outlinewidth": 0,
             "ticks": ""
            },
            "colorscale": [
             [
              0,
              "#0d0887"
             ],
             [
              0.1111111111111111,
              "#46039f"
             ],
             [
              0.2222222222222222,
              "#7201a8"
             ],
             [
              0.3333333333333333,
              "#9c179e"
             ],
             [
              0.4444444444444444,
              "#bd3786"
             ],
             [
              0.5555555555555556,
              "#d8576b"
             ],
             [
              0.6666666666666666,
              "#ed7953"
             ],
             [
              0.7777777777777778,
              "#fb9f3a"
             ],
             [
              0.8888888888888888,
              "#fdca26"
             ],
             [
              1,
              "#f0f921"
             ]
            ],
            "type": "histogram2d"
           }
          ],
          "histogram2dcontour": [
           {
            "colorbar": {
             "outlinewidth": 0,
             "ticks": ""
            },
            "colorscale": [
             [
              0,
              "#0d0887"
             ],
             [
              0.1111111111111111,
              "#46039f"
             ],
             [
              0.2222222222222222,
              "#7201a8"
             ],
             [
              0.3333333333333333,
              "#9c179e"
             ],
             [
              0.4444444444444444,
              "#bd3786"
             ],
             [
              0.5555555555555556,
              "#d8576b"
             ],
             [
              0.6666666666666666,
              "#ed7953"
             ],
             [
              0.7777777777777778,
              "#fb9f3a"
             ],
             [
              0.8888888888888888,
              "#fdca26"
             ],
             [
              1,
              "#f0f921"
             ]
            ],
            "type": "histogram2dcontour"
           }
          ],
          "mesh3d": [
           {
            "colorbar": {
             "outlinewidth": 0,
             "ticks": ""
            },
            "type": "mesh3d"
           }
          ],
          "parcoords": [
           {
            "line": {
             "colorbar": {
              "outlinewidth": 0,
              "ticks": ""
             }
            },
            "type": "parcoords"
           }
          ],
          "pie": [
           {
            "automargin": true,
            "type": "pie"
           }
          ],
          "scatter": [
           {
            "marker": {
             "colorbar": {
              "outlinewidth": 0,
              "ticks": ""
             }
            },
            "type": "scatter"
           }
          ],
          "scatter3d": [
           {
            "line": {
             "colorbar": {
              "outlinewidth": 0,
              "ticks": ""
             }
            },
            "marker": {
             "colorbar": {
              "outlinewidth": 0,
              "ticks": ""
             }
            },
            "type": "scatter3d"
           }
          ],
          "scattercarpet": [
           {
            "marker": {
             "colorbar": {
              "outlinewidth": 0,
              "ticks": ""
             }
            },
            "type": "scattercarpet"
           }
          ],
          "scattergeo": [
           {
            "marker": {
             "colorbar": {
              "outlinewidth": 0,
              "ticks": ""
             }
            },
            "type": "scattergeo"
           }
          ],
          "scattergl": [
           {
            "marker": {
             "colorbar": {
              "outlinewidth": 0,
              "ticks": ""
             }
            },
            "type": "scattergl"
           }
          ],
          "scattermapbox": [
           {
            "marker": {
             "colorbar": {
              "outlinewidth": 0,
              "ticks": ""
             }
            },
            "type": "scattermapbox"
           }
          ],
          "scatterpolar": [
           {
            "marker": {
             "colorbar": {
              "outlinewidth": 0,
              "ticks": ""
             }
            },
            "type": "scatterpolar"
           }
          ],
          "scatterpolargl": [
           {
            "marker": {
             "colorbar": {
              "outlinewidth": 0,
              "ticks": ""
             }
            },
            "type": "scatterpolargl"
           }
          ],
          "scatterternary": [
           {
            "marker": {
             "colorbar": {
              "outlinewidth": 0,
              "ticks": ""
             }
            },
            "type": "scatterternary"
           }
          ],
          "surface": [
           {
            "colorbar": {
             "outlinewidth": 0,
             "ticks": ""
            },
            "colorscale": [
             [
              0,
              "#0d0887"
             ],
             [
              0.1111111111111111,
              "#46039f"
             ],
             [
              0.2222222222222222,
              "#7201a8"
             ],
             [
              0.3333333333333333,
              "#9c179e"
             ],
             [
              0.4444444444444444,
              "#bd3786"
             ],
             [
              0.5555555555555556,
              "#d8576b"
             ],
             [
              0.6666666666666666,
              "#ed7953"
             ],
             [
              0.7777777777777778,
              "#fb9f3a"
             ],
             [
              0.8888888888888888,
              "#fdca26"
             ],
             [
              1,
              "#f0f921"
             ]
            ],
            "type": "surface"
           }
          ],
          "table": [
           {
            "cells": {
             "fill": {
              "color": "#EBF0F8"
             },
             "line": {
              "color": "white"
             }
            },
            "header": {
             "fill": {
              "color": "#C8D4E3"
             },
             "line": {
              "color": "white"
             }
            },
            "type": "table"
           }
          ]
         },
         "layout": {
          "annotationdefaults": {
           "arrowcolor": "#2a3f5f",
           "arrowhead": 0,
           "arrowwidth": 1
          },
          "autotypenumbers": "strict",
          "coloraxis": {
           "colorbar": {
            "outlinewidth": 0,
            "ticks": ""
           }
          },
          "colorscale": {
           "diverging": [
            [
             0,
             "#8e0152"
            ],
            [
             0.1,
             "#c51b7d"
            ],
            [
             0.2,
             "#de77ae"
            ],
            [
             0.3,
             "#f1b6da"
            ],
            [
             0.4,
             "#fde0ef"
            ],
            [
             0.5,
             "#f7f7f7"
            ],
            [
             0.6,
             "#e6f5d0"
            ],
            [
             0.7,
             "#b8e186"
            ],
            [
             0.8,
             "#7fbc41"
            ],
            [
             0.9,
             "#4d9221"
            ],
            [
             1,
             "#276419"
            ]
           ],
           "sequential": [
            [
             0,
             "#0d0887"
            ],
            [
             0.1111111111111111,
             "#46039f"
            ],
            [
             0.2222222222222222,
             "#7201a8"
            ],
            [
             0.3333333333333333,
             "#9c179e"
            ],
            [
             0.4444444444444444,
             "#bd3786"
            ],
            [
             0.5555555555555556,
             "#d8576b"
            ],
            [
             0.6666666666666666,
             "#ed7953"
            ],
            [
             0.7777777777777778,
             "#fb9f3a"
            ],
            [
             0.8888888888888888,
             "#fdca26"
            ],
            [
             1,
             "#f0f921"
            ]
           ],
           "sequentialminus": [
            [
             0,
             "#0d0887"
            ],
            [
             0.1111111111111111,
             "#46039f"
            ],
            [
             0.2222222222222222,
             "#7201a8"
            ],
            [
             0.3333333333333333,
             "#9c179e"
            ],
            [
             0.4444444444444444,
             "#bd3786"
            ],
            [
             0.5555555555555556,
             "#d8576b"
            ],
            [
             0.6666666666666666,
             "#ed7953"
            ],
            [
             0.7777777777777778,
             "#fb9f3a"
            ],
            [
             0.8888888888888888,
             "#fdca26"
            ],
            [
             1,
             "#f0f921"
            ]
           ]
          },
          "colorway": [
           "#636efa",
           "#EF553B",
           "#00cc96",
           "#ab63fa",
           "#FFA15A",
           "#19d3f3",
           "#FF6692",
           "#B6E880",
           "#FF97FF",
           "#FECB52"
          ],
          "font": {
           "color": "#2a3f5f"
          },
          "geo": {
           "bgcolor": "white",
           "lakecolor": "white",
           "landcolor": "#E5ECF6",
           "showlakes": true,
           "showland": true,
           "subunitcolor": "white"
          },
          "hoverlabel": {
           "align": "left"
          },
          "hovermode": "closest",
          "mapbox": {
           "style": "light"
          },
          "paper_bgcolor": "white",
          "plot_bgcolor": "#E5ECF6",
          "polar": {
           "angularaxis": {
            "gridcolor": "white",
            "linecolor": "white",
            "ticks": ""
           },
           "bgcolor": "#E5ECF6",
           "radialaxis": {
            "gridcolor": "white",
            "linecolor": "white",
            "ticks": ""
           }
          },
          "scene": {
           "xaxis": {
            "backgroundcolor": "#E5ECF6",
            "gridcolor": "white",
            "gridwidth": 2,
            "linecolor": "white",
            "showbackground": true,
            "ticks": "",
            "zerolinecolor": "white"
           },
           "yaxis": {
            "backgroundcolor": "#E5ECF6",
            "gridcolor": "white",
            "gridwidth": 2,
            "linecolor": "white",
            "showbackground": true,
            "ticks": "",
            "zerolinecolor": "white"
           },
           "zaxis": {
            "backgroundcolor": "#E5ECF6",
            "gridcolor": "white",
            "gridwidth": 2,
            "linecolor": "white",
            "showbackground": true,
            "ticks": "",
            "zerolinecolor": "white"
           }
          },
          "shapedefaults": {
           "line": {
            "color": "#2a3f5f"
           }
          },
          "ternary": {
           "aaxis": {
            "gridcolor": "white",
            "linecolor": "white",
            "ticks": ""
           },
           "baxis": {
            "gridcolor": "white",
            "linecolor": "white",
            "ticks": ""
           },
           "bgcolor": "#E5ECF6",
           "caxis": {
            "gridcolor": "white",
            "linecolor": "white",
            "ticks": ""
           }
          },
          "title": {
           "x": 0.05
          },
          "xaxis": {
           "automargin": true,
           "gridcolor": "white",
           "linecolor": "white",
           "ticks": "",
           "title": {
            "standoff": 15
           },
           "zerolinecolor": "white",
           "zerolinewidth": 2
          },
          "yaxis": {
           "automargin": true,
           "gridcolor": "white",
           "linecolor": "white",
           "ticks": "",
           "title": {
            "standoff": 15
           },
           "zerolinecolor": "white",
           "zerolinewidth": 2
          }
         }
        },
        "title": {
         "text": "Postings per Location"
        },
        "xaxis": {
         "anchor": "y",
         "domain": [
          0,
          1
         ],
         "title": {
          "text": "Metro Area"
         }
        },
        "yaxis": {
         "anchor": "x",
         "domain": [
          0,
          1
         ],
         "title": {
          "text": "Job Count"
         }
        }
       }
      },
      "text/html": [
       "<div>                            <div id=\"45bdbf38-0763-4c81-b401-a97ac52d521f\" class=\"plotly-graph-div\" style=\"height:700px; width:100%;\"></div>            <script type=\"text/javascript\">                require([\"plotly\"], function(Plotly) {                    window.PLOTLYENV=window.PLOTLYENV || {};                                    if (document.getElementById(\"45bdbf38-0763-4c81-b401-a97ac52d521f\")) {                    Plotly.newPlot(                        \"45bdbf38-0763-4c81-b401-a97ac52d521f\",                        [{\"alignmentgroup\": \"True\", \"customdata\": [[71650], [41180], [26900], [19500], [22220], [23420], [30700], [27180], [40420], [35840], [15680], [49700], [17460], [10900], [16580], [16860], [10420], [28940], [15980], [12580], [27140], [47380], [30780], [17300], [33100], [40380], [41620], [36740], [45300], [40140], [17820], [27260], [16740], [18140], [41740], [40900], [47900], [12420], [41860], [36420], [29820], [38300], [41940], [32820], [12060], [37980], [19740], [19820], [42660], [31080], [26420], [41700], [34980], [38060], [16980], [19100]], \"hovertemplate\": \"Metro Area=%{x}<br>Job Count=%{marker.color}<br>MSA ID=%{customdata[0]}<extra></extra>\", \"legendgroup\": \"\", \"marker\": {\"color\": [1, 1, 1, 1, 1, 1, 2, 3, 4, 8, 9, 9, 10, 12, 13, 14, 15, 15, 19, 20, 22, 23, 26, 34, 37, 42, 49, 50, 56, 64, 75, 76, 78, 78, 82, 83, 85, 90, 90, 92, 105, 110, 121, 122, 126, 140, 143, 168, 192, 192, 216, 238, 264, 288, 352, 859], \"coloraxis\": \"coloraxis\"}, \"name\": \"\", \"offsetgroup\": \"\", \"orientation\": \"v\", \"showlegend\": false, \"textposition\": \"auto\", \"type\": \"bar\", \"x\": [\"Boston-Cambridge-Nashua, MA-NH\", \"St. Louis, MO-IL\", \"Indianapolis-Carmel-Anderson, IN\", \"Decatur, IL\", \"Fayetteville-Springdale-Rogers, AR-MO\", \"Fresno, CA\", \"Lincoln, NE\", \"Jackson, TN\", \"Rockford, IL\", \"North Port-Sarasota-Bradenton, FL\", \"California-Lexington Park, MD\", \"Yuba City, CA\", \"Cleveland-Elyria, OH\", \"Allentown-Bethlehem-Easton, PA-NJ\", \"Champaign-Urbana, IL\", \"Chattanooga, TN-GA\", \"Akron, OH\", \"Knoxville, TN\", \"Cape Coral-Fort Myers, FL\", \"Baltimore-Columbia-Towson, MD\", \"Jackson, MS\", \"Waco, TX\", \"Little Rock-North Little Rock-Conway, AR\", \"Clarksville, TN-KY\", \"Miami-Fort Lauderdale-West Palm Beach, FL\", \"Rochester, NY\", \"Salt Lake City, UT\", \"Orlando-Kissimmee-Sanford, FL\", \"Tampa-St. Petersburg-Clearwater, FL\", \"Riverside-San Bernardino-Ontario, CA\", \"Colorado Springs, CO\", \"Jacksonville, FL\", \"Charlotte-Concord-Gastonia, NC-SC\", \"Columbus, OH\", \"San Diego-Carlsbad, CA\", \"Sacramento--Roseville--Arden-Arcade, CA\", \"Washington-Arlington-Alexandria, DC-VA-MD-WV\", \"Austin-Round Rock, TX\", \"San Francisco-Oakland-Hayward, CA\", \"Oklahoma City, OK\", \"Las Vegas-Henderson-Paradise, NV\", \"Pittsburgh, PA\", \"San Jose-Sunnyvale-Santa Clara, CA\", \"Memphis, TN-MS-AR\", \"Atlanta-Sandy Springs-Roswell, GA\", \"Philadelphia-Camden-Wilmington, PA-NJ-DE-MD\", \"Denver-Aurora-Lakewood, CO\", \"Detroit-Warren-Dearborn, MI\", \"Seattle-Tacoma-Bellevue, WA\", \"Los Angeles-Long Beach-Anaheim, CA\", \"Houston-The Woodlands-Sugar Land, TX\", \"San Antonio-New Braunfels, TX\", \"Nashville-Davidson--Murfreesboro--Franklin, TN\", \"Phoenix-Mesa-Scottsdale, AZ\", \"Chicago-Naperville-Elgin, IL-IN-WI\", \"Dallas-Fort Worth-Arlington, TX\"], \"xaxis\": \"x\", \"y\": [1, 1, 1, 1, 1, 1, 2, 3, 4, 8, 9, 9, 10, 12, 13, 14, 15, 15, 19, 20, 22, 23, 26, 34, 37, 42, 49, 50, 56, 64, 75, 76, 78, 78, 82, 83, 85, 90, 90, 92, 105, 110, 121, 122, 126, 140, 143, 168, 192, 192, 216, 238, 264, 288, 352, 859], \"yaxis\": \"y\"}],                        {\"barmode\": \"relative\", \"coloraxis\": {\"colorbar\": {\"title\": {\"text\": \"Job Count\"}}, \"colorscale\": [[0.0, \"#0d0887\"], [0.1111111111111111, \"#46039f\"], [0.2222222222222222, \"#7201a8\"], [0.3333333333333333, \"#9c179e\"], [0.4444444444444444, \"#bd3786\"], [0.5555555555555556, \"#d8576b\"], [0.6666666666666666, \"#ed7953\"], [0.7777777777777778, \"#fb9f3a\"], [0.8888888888888888, \"#fdca26\"], [1.0, \"#f0f921\"]]}, \"height\": 700, \"legend\": {\"tracegroupgap\": 0}, \"template\": {\"data\": {\"bar\": [{\"error_x\": {\"color\": \"#2a3f5f\"}, \"error_y\": {\"color\": \"#2a3f5f\"}, \"marker\": {\"line\": {\"color\": \"#E5ECF6\", \"width\": 0.5}}, \"type\": \"bar\"}], \"barpolar\": [{\"marker\": {\"line\": {\"color\": \"#E5ECF6\", \"width\": 0.5}}, \"type\": \"barpolar\"}], \"carpet\": [{\"aaxis\": {\"endlinecolor\": \"#2a3f5f\", \"gridcolor\": \"white\", \"linecolor\": \"white\", \"minorgridcolor\": \"white\", \"startlinecolor\": \"#2a3f5f\"}, \"baxis\": {\"endlinecolor\": \"#2a3f5f\", \"gridcolor\": \"white\", \"linecolor\": \"white\", \"minorgridcolor\": \"white\", \"startlinecolor\": \"#2a3f5f\"}, \"type\": \"carpet\"}], \"choropleth\": [{\"colorbar\": {\"outlinewidth\": 0, \"ticks\": \"\"}, \"type\": \"choropleth\"}], \"contour\": [{\"colorbar\": {\"outlinewidth\": 0, \"ticks\": \"\"}, \"colorscale\": [[0.0, \"#0d0887\"], [0.1111111111111111, \"#46039f\"], [0.2222222222222222, \"#7201a8\"], [0.3333333333333333, \"#9c179e\"], [0.4444444444444444, \"#bd3786\"], [0.5555555555555556, \"#d8576b\"], [0.6666666666666666, \"#ed7953\"], [0.7777777777777778, \"#fb9f3a\"], [0.8888888888888888, \"#fdca26\"], [1.0, \"#f0f921\"]], \"type\": \"contour\"}], \"contourcarpet\": [{\"colorbar\": {\"outlinewidth\": 0, \"ticks\": \"\"}, \"type\": \"contourcarpet\"}], \"heatmap\": [{\"colorbar\": {\"outlinewidth\": 0, \"ticks\": \"\"}, \"colorscale\": [[0.0, \"#0d0887\"], [0.1111111111111111, \"#46039f\"], [0.2222222222222222, \"#7201a8\"], [0.3333333333333333, \"#9c179e\"], [0.4444444444444444, \"#bd3786\"], [0.5555555555555556, \"#d8576b\"], [0.6666666666666666, \"#ed7953\"], [0.7777777777777778, \"#fb9f3a\"], [0.8888888888888888, \"#fdca26\"], [1.0, \"#f0f921\"]], \"type\": \"heatmap\"}], \"heatmapgl\": [{\"colorbar\": {\"outlinewidth\": 0, \"ticks\": \"\"}, \"colorscale\": [[0.0, \"#0d0887\"], [0.1111111111111111, \"#46039f\"], [0.2222222222222222, \"#7201a8\"], [0.3333333333333333, \"#9c179e\"], [0.4444444444444444, \"#bd3786\"], [0.5555555555555556, \"#d8576b\"], [0.6666666666666666, \"#ed7953\"], [0.7777777777777778, \"#fb9f3a\"], [0.8888888888888888, \"#fdca26\"], [1.0, \"#f0f921\"]], \"type\": \"heatmapgl\"}], \"histogram\": [{\"marker\": {\"colorbar\": {\"outlinewidth\": 0, \"ticks\": \"\"}}, \"type\": \"histogram\"}], \"histogram2d\": [{\"colorbar\": {\"outlinewidth\": 0, \"ticks\": \"\"}, \"colorscale\": [[0.0, \"#0d0887\"], [0.1111111111111111, \"#46039f\"], [0.2222222222222222, \"#7201a8\"], [0.3333333333333333, \"#9c179e\"], [0.4444444444444444, \"#bd3786\"], [0.5555555555555556, \"#d8576b\"], [0.6666666666666666, \"#ed7953\"], [0.7777777777777778, \"#fb9f3a\"], [0.8888888888888888, \"#fdca26\"], [1.0, \"#f0f921\"]], \"type\": \"histogram2d\"}], \"histogram2dcontour\": [{\"colorbar\": {\"outlinewidth\": 0, \"ticks\": \"\"}, \"colorscale\": [[0.0, \"#0d0887\"], [0.1111111111111111, \"#46039f\"], [0.2222222222222222, \"#7201a8\"], [0.3333333333333333, \"#9c179e\"], [0.4444444444444444, \"#bd3786\"], [0.5555555555555556, \"#d8576b\"], [0.6666666666666666, \"#ed7953\"], [0.7777777777777778, \"#fb9f3a\"], [0.8888888888888888, \"#fdca26\"], [1.0, \"#f0f921\"]], \"type\": \"histogram2dcontour\"}], \"mesh3d\": [{\"colorbar\": {\"outlinewidth\": 0, \"ticks\": \"\"}, \"type\": \"mesh3d\"}], \"parcoords\": [{\"line\": {\"colorbar\": {\"outlinewidth\": 0, \"ticks\": \"\"}}, \"type\": \"parcoords\"}], \"pie\": [{\"automargin\": true, \"type\": \"pie\"}], \"scatter\": [{\"marker\": {\"colorbar\": {\"outlinewidth\": 0, \"ticks\": \"\"}}, \"type\": \"scatter\"}], \"scatter3d\": [{\"line\": {\"colorbar\": {\"outlinewidth\": 0, \"ticks\": \"\"}}, \"marker\": {\"colorbar\": {\"outlinewidth\": 0, \"ticks\": \"\"}}, \"type\": \"scatter3d\"}], \"scattercarpet\": [{\"marker\": {\"colorbar\": {\"outlinewidth\": 0, \"ticks\": \"\"}}, \"type\": \"scattercarpet\"}], \"scattergeo\": [{\"marker\": {\"colorbar\": {\"outlinewidth\": 0, \"ticks\": \"\"}}, \"type\": \"scattergeo\"}], \"scattergl\": [{\"marker\": {\"colorbar\": {\"outlinewidth\": 0, \"ticks\": \"\"}}, \"type\": \"scattergl\"}], \"scattermapbox\": [{\"marker\": {\"colorbar\": {\"outlinewidth\": 0, \"ticks\": \"\"}}, \"type\": \"scattermapbox\"}], \"scatterpolar\": [{\"marker\": {\"colorbar\": {\"outlinewidth\": 0, \"ticks\": \"\"}}, \"type\": \"scatterpolar\"}], \"scatterpolargl\": [{\"marker\": {\"colorbar\": {\"outlinewidth\": 0, \"ticks\": \"\"}}, \"type\": \"scatterpolargl\"}], \"scatterternary\": [{\"marker\": {\"colorbar\": {\"outlinewidth\": 0, \"ticks\": \"\"}}, \"type\": \"scatterternary\"}], \"surface\": [{\"colorbar\": {\"outlinewidth\": 0, \"ticks\": \"\"}, \"colorscale\": [[0.0, \"#0d0887\"], [0.1111111111111111, \"#46039f\"], [0.2222222222222222, \"#7201a8\"], [0.3333333333333333, \"#9c179e\"], [0.4444444444444444, \"#bd3786\"], [0.5555555555555556, \"#d8576b\"], [0.6666666666666666, \"#ed7953\"], [0.7777777777777778, \"#fb9f3a\"], [0.8888888888888888, \"#fdca26\"], [1.0, \"#f0f921\"]], \"type\": \"surface\"}], \"table\": [{\"cells\": {\"fill\": {\"color\": \"#EBF0F8\"}, \"line\": {\"color\": \"white\"}}, \"header\": {\"fill\": {\"color\": \"#C8D4E3\"}, \"line\": {\"color\": \"white\"}}, \"type\": \"table\"}]}, \"layout\": {\"annotationdefaults\": {\"arrowcolor\": \"#2a3f5f\", \"arrowhead\": 0, \"arrowwidth\": 1}, \"autotypenumbers\": \"strict\", \"coloraxis\": {\"colorbar\": {\"outlinewidth\": 0, \"ticks\": \"\"}}, \"colorscale\": {\"diverging\": [[0, \"#8e0152\"], [0.1, \"#c51b7d\"], [0.2, \"#de77ae\"], [0.3, \"#f1b6da\"], [0.4, \"#fde0ef\"], [0.5, \"#f7f7f7\"], [0.6, \"#e6f5d0\"], [0.7, \"#b8e186\"], [0.8, \"#7fbc41\"], [0.9, \"#4d9221\"], [1, \"#276419\"]], \"sequential\": [[0.0, \"#0d0887\"], [0.1111111111111111, \"#46039f\"], [0.2222222222222222, \"#7201a8\"], [0.3333333333333333, \"#9c179e\"], [0.4444444444444444, \"#bd3786\"], [0.5555555555555556, \"#d8576b\"], [0.6666666666666666, \"#ed7953\"], [0.7777777777777778, \"#fb9f3a\"], [0.8888888888888888, \"#fdca26\"], [1.0, \"#f0f921\"]], \"sequentialminus\": [[0.0, \"#0d0887\"], [0.1111111111111111, \"#46039f\"], [0.2222222222222222, \"#7201a8\"], [0.3333333333333333, \"#9c179e\"], [0.4444444444444444, \"#bd3786\"], [0.5555555555555556, \"#d8576b\"], [0.6666666666666666, \"#ed7953\"], [0.7777777777777778, \"#fb9f3a\"], [0.8888888888888888, \"#fdca26\"], [1.0, \"#f0f921\"]]}, \"colorway\": [\"#636efa\", \"#EF553B\", \"#00cc96\", \"#ab63fa\", \"#FFA15A\", \"#19d3f3\", \"#FF6692\", \"#B6E880\", \"#FF97FF\", \"#FECB52\"], \"font\": {\"color\": \"#2a3f5f\"}, \"geo\": {\"bgcolor\": \"white\", \"lakecolor\": \"white\", \"landcolor\": \"#E5ECF6\", \"showlakes\": true, \"showland\": true, \"subunitcolor\": \"white\"}, \"hoverlabel\": {\"align\": \"left\"}, \"hovermode\": \"closest\", \"mapbox\": {\"style\": \"light\"}, \"paper_bgcolor\": \"white\", \"plot_bgcolor\": \"#E5ECF6\", \"polar\": {\"angularaxis\": {\"gridcolor\": \"white\", \"linecolor\": \"white\", \"ticks\": \"\"}, \"bgcolor\": \"#E5ECF6\", \"radialaxis\": {\"gridcolor\": \"white\", \"linecolor\": \"white\", \"ticks\": \"\"}}, \"scene\": {\"xaxis\": {\"backgroundcolor\": \"#E5ECF6\", \"gridcolor\": \"white\", \"gridwidth\": 2, \"linecolor\": \"white\", \"showbackground\": true, \"ticks\": \"\", \"zerolinecolor\": \"white\"}, \"yaxis\": {\"backgroundcolor\": \"#E5ECF6\", \"gridcolor\": \"white\", \"gridwidth\": 2, \"linecolor\": \"white\", \"showbackground\": true, \"ticks\": \"\", \"zerolinecolor\": \"white\"}, \"zaxis\": {\"backgroundcolor\": \"#E5ECF6\", \"gridcolor\": \"white\", \"gridwidth\": 2, \"linecolor\": \"white\", \"showbackground\": true, \"ticks\": \"\", \"zerolinecolor\": \"white\"}}, \"shapedefaults\": {\"line\": {\"color\": \"#2a3f5f\"}}, \"ternary\": {\"aaxis\": {\"gridcolor\": \"white\", \"linecolor\": \"white\", \"ticks\": \"\"}, \"baxis\": {\"gridcolor\": \"white\", \"linecolor\": \"white\", \"ticks\": \"\"}, \"bgcolor\": \"#E5ECF6\", \"caxis\": {\"gridcolor\": \"white\", \"linecolor\": \"white\", \"ticks\": \"\"}}, \"title\": {\"x\": 0.05}, \"xaxis\": {\"automargin\": true, \"gridcolor\": \"white\", \"linecolor\": \"white\", \"ticks\": \"\", \"title\": {\"standoff\": 15}, \"zerolinecolor\": \"white\", \"zerolinewidth\": 2}, \"yaxis\": {\"automargin\": true, \"gridcolor\": \"white\", \"linecolor\": \"white\", \"ticks\": \"\", \"title\": {\"standoff\": 15}, \"zerolinecolor\": \"white\", \"zerolinewidth\": 2}}}, \"title\": {\"text\": \"Postings per Location\"}, \"xaxis\": {\"anchor\": \"y\", \"domain\": [0.0, 1.0], \"title\": {\"text\": \"Metro Area\"}}, \"yaxis\": {\"anchor\": \"x\", \"domain\": [0.0, 1.0], \"title\": {\"text\": \"Job Count\"}}},                        {\"responsive\": true}                    ).then(function(){\n",
       "                            \n",
       "var gd = document.getElementById('45bdbf38-0763-4c81-b401-a97ac52d521f');\n",
       "var x = new MutationObserver(function (mutations, observer) {{\n",
       "        var display = window.getComputedStyle(gd).display;\n",
       "        if (!display || display === 'none') {{\n",
       "            console.log([gd, 'removed!']);\n",
       "            Plotly.purge(gd);\n",
       "            observer.disconnect();\n",
       "        }}\n",
       "}});\n",
       "\n",
       "// Listen for the removal of the full notebook cells\n",
       "var notebookContainer = gd.closest('#notebook-container');\n",
       "if (notebookContainer) {{\n",
       "    x.observe(notebookContainer, {childList: true});\n",
       "}}\n",
       "\n",
       "// Listen for the clearing of the current output cell\n",
       "var outputEl = gd.closest('.output');\n",
       "if (outputEl) {{\n",
       "    x.observe(outputEl, {childList: true});\n",
       "}}\n",
       "\n",
       "                        })                };                });            </script>        </div>"
      ]
     },
     "metadata": {},
     "output_type": "display_data"
    },
    {
     "name": "stdout",
     "output_type": "stream",
     "text": [
      "Total locations with postings: 56\n"
     ]
    }
   ],
   "source": [
    "#Plot bar chart to show distrobution of job postings per metro area\n",
    "posting_location_ID = posting_location_ID.sort_values(by='Job Count', ascending=True)\n",
    "data = px.data.gapminder()\n",
    "\n",
    "fig = px.bar(posting_location_ID, x='Metro Area', y='Job Count',\n",
    "             hover_data=['MSA_ID','Metro Area', 'Job Count'],\n",
    "             title=\"Postings per Location\",\n",
    "             labels={'MSA_ID':'MSA ID'},\n",
    "             color='Job Count', height=700)\n",
    "fig.show()\n",
    "print(f'Total locations with postings: {posting_location_ID[\"Metro Area\"].count()}')"
   ]
  },
  {
   "cell_type": "code",
   "execution_count": 88,
   "metadata": {
    "scrolled": true
   },
   "outputs": [
    {
     "data": {
      "text/html": [
       "<div>\n",
       "<style scoped>\n",
       "    .dataframe tbody tr th:only-of-type {\n",
       "        vertical-align: middle;\n",
       "    }\n",
       "\n",
       "    .dataframe tbody tr th {\n",
       "        vertical-align: top;\n",
       "    }\n",
       "\n",
       "    .dataframe thead th {\n",
       "        text-align: right;\n",
       "    }\n",
       "</style>\n",
       "<table border=\"1\" class=\"dataframe\">\n",
       "  <thead>\n",
       "    <tr style=\"text-align: right;\">\n",
       "      <th></th>\n",
       "      <th>MSA_ID</th>\n",
       "      <th>Metro Area</th>\n",
       "      <th>Job Count</th>\n",
       "    </tr>\n",
       "  </thead>\n",
       "  <tbody>\n",
       "    <tr>\n",
       "      <th>0</th>\n",
       "      <td>19100</td>\n",
       "      <td>Dallas-Fort Worth-Arlington, TX</td>\n",
       "      <td>859</td>\n",
       "    </tr>\n",
       "    <tr>\n",
       "      <th>1</th>\n",
       "      <td>16980</td>\n",
       "      <td>Chicago-Naperville-Elgin, IL-IN-WI</td>\n",
       "      <td>352</td>\n",
       "    </tr>\n",
       "    <tr>\n",
       "      <th>2</th>\n",
       "      <td>38060</td>\n",
       "      <td>Phoenix-Mesa-Scottsdale, AZ</td>\n",
       "      <td>288</td>\n",
       "    </tr>\n",
       "    <tr>\n",
       "      <th>3</th>\n",
       "      <td>34980</td>\n",
       "      <td>Nashville-Davidson--Murfreesboro--Franklin, TN</td>\n",
       "      <td>264</td>\n",
       "    </tr>\n",
       "    <tr>\n",
       "      <th>4</th>\n",
       "      <td>41700</td>\n",
       "      <td>San Antonio-New Braunfels, TX</td>\n",
       "      <td>238</td>\n",
       "    </tr>\n",
       "    <tr>\n",
       "      <th>5</th>\n",
       "      <td>26420</td>\n",
       "      <td>Houston-The Woodlands-Sugar Land, TX</td>\n",
       "      <td>216</td>\n",
       "    </tr>\n",
       "    <tr>\n",
       "      <th>7</th>\n",
       "      <td>42660</td>\n",
       "      <td>Seattle-Tacoma-Bellevue, WA</td>\n",
       "      <td>192</td>\n",
       "    </tr>\n",
       "    <tr>\n",
       "      <th>6</th>\n",
       "      <td>31080</td>\n",
       "      <td>Los Angeles-Long Beach-Anaheim, CA</td>\n",
       "      <td>192</td>\n",
       "    </tr>\n",
       "    <tr>\n",
       "      <th>8</th>\n",
       "      <td>19820</td>\n",
       "      <td>Detroit-Warren-Dearborn, MI</td>\n",
       "      <td>168</td>\n",
       "    </tr>\n",
       "    <tr>\n",
       "      <th>9</th>\n",
       "      <td>19740</td>\n",
       "      <td>Denver-Aurora-Lakewood, CO</td>\n",
       "      <td>143</td>\n",
       "    </tr>\n",
       "    <tr>\n",
       "      <th>10</th>\n",
       "      <td>37980</td>\n",
       "      <td>Philadelphia-Camden-Wilmington, PA-NJ-DE-MD</td>\n",
       "      <td>140</td>\n",
       "    </tr>\n",
       "    <tr>\n",
       "      <th>11</th>\n",
       "      <td>12060</td>\n",
       "      <td>Atlanta-Sandy Springs-Roswell, GA</td>\n",
       "      <td>126</td>\n",
       "    </tr>\n",
       "    <tr>\n",
       "      <th>12</th>\n",
       "      <td>32820</td>\n",
       "      <td>Memphis, TN-MS-AR</td>\n",
       "      <td>122</td>\n",
       "    </tr>\n",
       "    <tr>\n",
       "      <th>13</th>\n",
       "      <td>41940</td>\n",
       "      <td>San Jose-Sunnyvale-Santa Clara, CA</td>\n",
       "      <td>121</td>\n",
       "    </tr>\n",
       "    <tr>\n",
       "      <th>14</th>\n",
       "      <td>38300</td>\n",
       "      <td>Pittsburgh, PA</td>\n",
       "      <td>110</td>\n",
       "    </tr>\n",
       "    <tr>\n",
       "      <th>15</th>\n",
       "      <td>29820</td>\n",
       "      <td>Las Vegas-Henderson-Paradise, NV</td>\n",
       "      <td>105</td>\n",
       "    </tr>\n",
       "  </tbody>\n",
       "</table>\n",
       "</div>"
      ],
      "text/plain": [
       "    MSA_ID                                      Metro Area  Job Count\n",
       "0    19100                 Dallas-Fort Worth-Arlington, TX        859\n",
       "1    16980              Chicago-Naperville-Elgin, IL-IN-WI        352\n",
       "2    38060                     Phoenix-Mesa-Scottsdale, AZ        288\n",
       "3    34980  Nashville-Davidson--Murfreesboro--Franklin, TN        264\n",
       "4    41700                   San Antonio-New Braunfels, TX        238\n",
       "5    26420            Houston-The Woodlands-Sugar Land, TX        216\n",
       "7    42660                     Seattle-Tacoma-Bellevue, WA        192\n",
       "6    31080              Los Angeles-Long Beach-Anaheim, CA        192\n",
       "8    19820                     Detroit-Warren-Dearborn, MI        168\n",
       "9    19740                      Denver-Aurora-Lakewood, CO        143\n",
       "10   37980     Philadelphia-Camden-Wilmington, PA-NJ-DE-MD        140\n",
       "11   12060               Atlanta-Sandy Springs-Roswell, GA        126\n",
       "12   32820                               Memphis, TN-MS-AR        122\n",
       "13   41940              San Jose-Sunnyvale-Santa Clara, CA        121\n",
       "14   38300                                  Pittsburgh, PA        110\n",
       "15   29820                Las Vegas-Henderson-Paradise, NV        105"
      ]
     },
     "execution_count": 88,
     "metadata": {},
     "output_type": "execute_result"
    }
   ],
   "source": [
    "posting_location_100 = posting_location_ID.loc[posting_location_ID['Job Count'] >= 100]\n",
    "posting_location_100 = posting_location_100.sort_values(by='Job Count', ascending=False)\n",
    "posting_location_100.head(100)"
   ]
  },
  {
   "cell_type": "code",
   "execution_count": 98,
   "metadata": {},
   "outputs": [
    {
     "data": {
      "application/vnd.plotly.v1+json": {
       "config": {
        "plotlyServerURL": "https://plot.ly"
       },
       "data": [
        {
         "alignmentgroup": "True",
         "customdata": [
          [
           29820
          ],
          [
           38300
          ],
          [
           41940
          ],
          [
           32820
          ],
          [
           12060
          ],
          [
           37980
          ],
          [
           19740
          ],
          [
           19820
          ],
          [
           42660
          ],
          [
           31080
          ],
          [
           26420
          ],
          [
           41700
          ],
          [
           34980
          ],
          [
           38060
          ],
          [
           16980
          ],
          [
           19100
          ]
         ],
         "hovertemplate": "Metro Area=%{x}<br>Job Count=%{marker.color}<br>MSA ID=%{customdata[0]}<extra></extra>",
         "legendgroup": "",
         "marker": {
          "color": [
           105,
           110,
           121,
           122,
           126,
           140,
           143,
           168,
           192,
           192,
           216,
           238,
           264,
           288,
           352,
           859
          ],
          "coloraxis": "coloraxis"
         },
         "name": "",
         "offsetgroup": "",
         "orientation": "v",
         "showlegend": false,
         "textposition": "auto",
         "type": "bar",
         "x": [
          "Las Vegas-Henderson-Paradise, NV",
          "Pittsburgh, PA",
          "San Jose-Sunnyvale-Santa Clara, CA",
          "Memphis, TN-MS-AR",
          "Atlanta-Sandy Springs-Roswell, GA",
          "Philadelphia-Camden-Wilmington, PA-NJ-DE-MD",
          "Denver-Aurora-Lakewood, CO",
          "Detroit-Warren-Dearborn, MI",
          "Seattle-Tacoma-Bellevue, WA",
          "Los Angeles-Long Beach-Anaheim, CA",
          "Houston-The Woodlands-Sugar Land, TX",
          "San Antonio-New Braunfels, TX",
          "Nashville-Davidson--Murfreesboro--Franklin, TN",
          "Phoenix-Mesa-Scottsdale, AZ",
          "Chicago-Naperville-Elgin, IL-IN-WI",
          "Dallas-Fort Worth-Arlington, TX"
         ],
         "xaxis": "x",
         "y": [
          105,
          110,
          121,
          122,
          126,
          140,
          143,
          168,
          192,
          192,
          216,
          238,
          264,
          288,
          352,
          859
         ],
         "yaxis": "y"
        }
       ],
       "layout": {
        "barmode": "relative",
        "coloraxis": {
         "colorbar": {
          "title": {
           "text": "Job Count"
          }
         },
         "colorscale": [
          [
           0,
           "#0d0887"
          ],
          [
           0.1111111111111111,
           "#46039f"
          ],
          [
           0.2222222222222222,
           "#7201a8"
          ],
          [
           0.3333333333333333,
           "#9c179e"
          ],
          [
           0.4444444444444444,
           "#bd3786"
          ],
          [
           0.5555555555555556,
           "#d8576b"
          ],
          [
           0.6666666666666666,
           "#ed7953"
          ],
          [
           0.7777777777777778,
           "#fb9f3a"
          ],
          [
           0.8888888888888888,
           "#fdca26"
          ],
          [
           1,
           "#f0f921"
          ]
         ]
        },
        "height": 700,
        "legend": {
         "tracegroupgap": 0
        },
        "template": {
         "data": {
          "bar": [
           {
            "error_x": {
             "color": "#2a3f5f"
            },
            "error_y": {
             "color": "#2a3f5f"
            },
            "marker": {
             "line": {
              "color": "#E5ECF6",
              "width": 0.5
             }
            },
            "type": "bar"
           }
          ],
          "barpolar": [
           {
            "marker": {
             "line": {
              "color": "#E5ECF6",
              "width": 0.5
             }
            },
            "type": "barpolar"
           }
          ],
          "carpet": [
           {
            "aaxis": {
             "endlinecolor": "#2a3f5f",
             "gridcolor": "white",
             "linecolor": "white",
             "minorgridcolor": "white",
             "startlinecolor": "#2a3f5f"
            },
            "baxis": {
             "endlinecolor": "#2a3f5f",
             "gridcolor": "white",
             "linecolor": "white",
             "minorgridcolor": "white",
             "startlinecolor": "#2a3f5f"
            },
            "type": "carpet"
           }
          ],
          "choropleth": [
           {
            "colorbar": {
             "outlinewidth": 0,
             "ticks": ""
            },
            "type": "choropleth"
           }
          ],
          "contour": [
           {
            "colorbar": {
             "outlinewidth": 0,
             "ticks": ""
            },
            "colorscale": [
             [
              0,
              "#0d0887"
             ],
             [
              0.1111111111111111,
              "#46039f"
             ],
             [
              0.2222222222222222,
              "#7201a8"
             ],
             [
              0.3333333333333333,
              "#9c179e"
             ],
             [
              0.4444444444444444,
              "#bd3786"
             ],
             [
              0.5555555555555556,
              "#d8576b"
             ],
             [
              0.6666666666666666,
              "#ed7953"
             ],
             [
              0.7777777777777778,
              "#fb9f3a"
             ],
             [
              0.8888888888888888,
              "#fdca26"
             ],
             [
              1,
              "#f0f921"
             ]
            ],
            "type": "contour"
           }
          ],
          "contourcarpet": [
           {
            "colorbar": {
             "outlinewidth": 0,
             "ticks": ""
            },
            "type": "contourcarpet"
           }
          ],
          "heatmap": [
           {
            "colorbar": {
             "outlinewidth": 0,
             "ticks": ""
            },
            "colorscale": [
             [
              0,
              "#0d0887"
             ],
             [
              0.1111111111111111,
              "#46039f"
             ],
             [
              0.2222222222222222,
              "#7201a8"
             ],
             [
              0.3333333333333333,
              "#9c179e"
             ],
             [
              0.4444444444444444,
              "#bd3786"
             ],
             [
              0.5555555555555556,
              "#d8576b"
             ],
             [
              0.6666666666666666,
              "#ed7953"
             ],
             [
              0.7777777777777778,
              "#fb9f3a"
             ],
             [
              0.8888888888888888,
              "#fdca26"
             ],
             [
              1,
              "#f0f921"
             ]
            ],
            "type": "heatmap"
           }
          ],
          "heatmapgl": [
           {
            "colorbar": {
             "outlinewidth": 0,
             "ticks": ""
            },
            "colorscale": [
             [
              0,
              "#0d0887"
             ],
             [
              0.1111111111111111,
              "#46039f"
             ],
             [
              0.2222222222222222,
              "#7201a8"
             ],
             [
              0.3333333333333333,
              "#9c179e"
             ],
             [
              0.4444444444444444,
              "#bd3786"
             ],
             [
              0.5555555555555556,
              "#d8576b"
             ],
             [
              0.6666666666666666,
              "#ed7953"
             ],
             [
              0.7777777777777778,
              "#fb9f3a"
             ],
             [
              0.8888888888888888,
              "#fdca26"
             ],
             [
              1,
              "#f0f921"
             ]
            ],
            "type": "heatmapgl"
           }
          ],
          "histogram": [
           {
            "marker": {
             "colorbar": {
              "outlinewidth": 0,
              "ticks": ""
             }
            },
            "type": "histogram"
           }
          ],
          "histogram2d": [
           {
            "colorbar": {
             "outlinewidth": 0,
             "ticks": ""
            },
            "colorscale": [
             [
              0,
              "#0d0887"
             ],
             [
              0.1111111111111111,
              "#46039f"
             ],
             [
              0.2222222222222222,
              "#7201a8"
             ],
             [
              0.3333333333333333,
              "#9c179e"
             ],
             [
              0.4444444444444444,
              "#bd3786"
             ],
             [
              0.5555555555555556,
              "#d8576b"
             ],
             [
              0.6666666666666666,
              "#ed7953"
             ],
             [
              0.7777777777777778,
              "#fb9f3a"
             ],
             [
              0.8888888888888888,
              "#fdca26"
             ],
             [
              1,
              "#f0f921"
             ]
            ],
            "type": "histogram2d"
           }
          ],
          "histogram2dcontour": [
           {
            "colorbar": {
             "outlinewidth": 0,
             "ticks": ""
            },
            "colorscale": [
             [
              0,
              "#0d0887"
             ],
             [
              0.1111111111111111,
              "#46039f"
             ],
             [
              0.2222222222222222,
              "#7201a8"
             ],
             [
              0.3333333333333333,
              "#9c179e"
             ],
             [
              0.4444444444444444,
              "#bd3786"
             ],
             [
              0.5555555555555556,
              "#d8576b"
             ],
             [
              0.6666666666666666,
              "#ed7953"
             ],
             [
              0.7777777777777778,
              "#fb9f3a"
             ],
             [
              0.8888888888888888,
              "#fdca26"
             ],
             [
              1,
              "#f0f921"
             ]
            ],
            "type": "histogram2dcontour"
           }
          ],
          "mesh3d": [
           {
            "colorbar": {
             "outlinewidth": 0,
             "ticks": ""
            },
            "type": "mesh3d"
           }
          ],
          "parcoords": [
           {
            "line": {
             "colorbar": {
              "outlinewidth": 0,
              "ticks": ""
             }
            },
            "type": "parcoords"
           }
          ],
          "pie": [
           {
            "automargin": true,
            "type": "pie"
           }
          ],
          "scatter": [
           {
            "marker": {
             "colorbar": {
              "outlinewidth": 0,
              "ticks": ""
             }
            },
            "type": "scatter"
           }
          ],
          "scatter3d": [
           {
            "line": {
             "colorbar": {
              "outlinewidth": 0,
              "ticks": ""
             }
            },
            "marker": {
             "colorbar": {
              "outlinewidth": 0,
              "ticks": ""
             }
            },
            "type": "scatter3d"
           }
          ],
          "scattercarpet": [
           {
            "marker": {
             "colorbar": {
              "outlinewidth": 0,
              "ticks": ""
             }
            },
            "type": "scattercarpet"
           }
          ],
          "scattergeo": [
           {
            "marker": {
             "colorbar": {
              "outlinewidth": 0,
              "ticks": ""
             }
            },
            "type": "scattergeo"
           }
          ],
          "scattergl": [
           {
            "marker": {
             "colorbar": {
              "outlinewidth": 0,
              "ticks": ""
             }
            },
            "type": "scattergl"
           }
          ],
          "scattermapbox": [
           {
            "marker": {
             "colorbar": {
              "outlinewidth": 0,
              "ticks": ""
             }
            },
            "type": "scattermapbox"
           }
          ],
          "scatterpolar": [
           {
            "marker": {
             "colorbar": {
              "outlinewidth": 0,
              "ticks": ""
             }
            },
            "type": "scatterpolar"
           }
          ],
          "scatterpolargl": [
           {
            "marker": {
             "colorbar": {
              "outlinewidth": 0,
              "ticks": ""
             }
            },
            "type": "scatterpolargl"
           }
          ],
          "scatterternary": [
           {
            "marker": {
             "colorbar": {
              "outlinewidth": 0,
              "ticks": ""
             }
            },
            "type": "scatterternary"
           }
          ],
          "surface": [
           {
            "colorbar": {
             "outlinewidth": 0,
             "ticks": ""
            },
            "colorscale": [
             [
              0,
              "#0d0887"
             ],
             [
              0.1111111111111111,
              "#46039f"
             ],
             [
              0.2222222222222222,
              "#7201a8"
             ],
             [
              0.3333333333333333,
              "#9c179e"
             ],
             [
              0.4444444444444444,
              "#bd3786"
             ],
             [
              0.5555555555555556,
              "#d8576b"
             ],
             [
              0.6666666666666666,
              "#ed7953"
             ],
             [
              0.7777777777777778,
              "#fb9f3a"
             ],
             [
              0.8888888888888888,
              "#fdca26"
             ],
             [
              1,
              "#f0f921"
             ]
            ],
            "type": "surface"
           }
          ],
          "table": [
           {
            "cells": {
             "fill": {
              "color": "#EBF0F8"
             },
             "line": {
              "color": "white"
             }
            },
            "header": {
             "fill": {
              "color": "#C8D4E3"
             },
             "line": {
              "color": "white"
             }
            },
            "type": "table"
           }
          ]
         },
         "layout": {
          "annotationdefaults": {
           "arrowcolor": "#2a3f5f",
           "arrowhead": 0,
           "arrowwidth": 1
          },
          "autotypenumbers": "strict",
          "coloraxis": {
           "colorbar": {
            "outlinewidth": 0,
            "ticks": ""
           }
          },
          "colorscale": {
           "diverging": [
            [
             0,
             "#8e0152"
            ],
            [
             0.1,
             "#c51b7d"
            ],
            [
             0.2,
             "#de77ae"
            ],
            [
             0.3,
             "#f1b6da"
            ],
            [
             0.4,
             "#fde0ef"
            ],
            [
             0.5,
             "#f7f7f7"
            ],
            [
             0.6,
             "#e6f5d0"
            ],
            [
             0.7,
             "#b8e186"
            ],
            [
             0.8,
             "#7fbc41"
            ],
            [
             0.9,
             "#4d9221"
            ],
            [
             1,
             "#276419"
            ]
           ],
           "sequential": [
            [
             0,
             "#0d0887"
            ],
            [
             0.1111111111111111,
             "#46039f"
            ],
            [
             0.2222222222222222,
             "#7201a8"
            ],
            [
             0.3333333333333333,
             "#9c179e"
            ],
            [
             0.4444444444444444,
             "#bd3786"
            ],
            [
             0.5555555555555556,
             "#d8576b"
            ],
            [
             0.6666666666666666,
             "#ed7953"
            ],
            [
             0.7777777777777778,
             "#fb9f3a"
            ],
            [
             0.8888888888888888,
             "#fdca26"
            ],
            [
             1,
             "#f0f921"
            ]
           ],
           "sequentialminus": [
            [
             0,
             "#0d0887"
            ],
            [
             0.1111111111111111,
             "#46039f"
            ],
            [
             0.2222222222222222,
             "#7201a8"
            ],
            [
             0.3333333333333333,
             "#9c179e"
            ],
            [
             0.4444444444444444,
             "#bd3786"
            ],
            [
             0.5555555555555556,
             "#d8576b"
            ],
            [
             0.6666666666666666,
             "#ed7953"
            ],
            [
             0.7777777777777778,
             "#fb9f3a"
            ],
            [
             0.8888888888888888,
             "#fdca26"
            ],
            [
             1,
             "#f0f921"
            ]
           ]
          },
          "colorway": [
           "#636efa",
           "#EF553B",
           "#00cc96",
           "#ab63fa",
           "#FFA15A",
           "#19d3f3",
           "#FF6692",
           "#B6E880",
           "#FF97FF",
           "#FECB52"
          ],
          "font": {
           "color": "#2a3f5f"
          },
          "geo": {
           "bgcolor": "white",
           "lakecolor": "white",
           "landcolor": "#E5ECF6",
           "showlakes": true,
           "showland": true,
           "subunitcolor": "white"
          },
          "hoverlabel": {
           "align": "left"
          },
          "hovermode": "closest",
          "mapbox": {
           "style": "light"
          },
          "paper_bgcolor": "white",
          "plot_bgcolor": "#E5ECF6",
          "polar": {
           "angularaxis": {
            "gridcolor": "white",
            "linecolor": "white",
            "ticks": ""
           },
           "bgcolor": "#E5ECF6",
           "radialaxis": {
            "gridcolor": "white",
            "linecolor": "white",
            "ticks": ""
           }
          },
          "scene": {
           "xaxis": {
            "backgroundcolor": "#E5ECF6",
            "gridcolor": "white",
            "gridwidth": 2,
            "linecolor": "white",
            "showbackground": true,
            "ticks": "",
            "zerolinecolor": "white"
           },
           "yaxis": {
            "backgroundcolor": "#E5ECF6",
            "gridcolor": "white",
            "gridwidth": 2,
            "linecolor": "white",
            "showbackground": true,
            "ticks": "",
            "zerolinecolor": "white"
           },
           "zaxis": {
            "backgroundcolor": "#E5ECF6",
            "gridcolor": "white",
            "gridwidth": 2,
            "linecolor": "white",
            "showbackground": true,
            "ticks": "",
            "zerolinecolor": "white"
           }
          },
          "shapedefaults": {
           "line": {
            "color": "#2a3f5f"
           }
          },
          "ternary": {
           "aaxis": {
            "gridcolor": "white",
            "linecolor": "white",
            "ticks": ""
           },
           "baxis": {
            "gridcolor": "white",
            "linecolor": "white",
            "ticks": ""
           },
           "bgcolor": "#E5ECF6",
           "caxis": {
            "gridcolor": "white",
            "linecolor": "white",
            "ticks": ""
           }
          },
          "title": {
           "x": 0.05
          },
          "xaxis": {
           "automargin": true,
           "gridcolor": "white",
           "linecolor": "white",
           "ticks": "",
           "title": {
            "standoff": 15
           },
           "zerolinecolor": "white",
           "zerolinewidth": 2
          },
          "yaxis": {
           "automargin": true,
           "gridcolor": "white",
           "linecolor": "white",
           "ticks": "",
           "title": {
            "standoff": 15
           },
           "zerolinecolor": "white",
           "zerolinewidth": 2
          }
         }
        },
        "title": {
         "text": "Locations with Over 100 Postings"
        },
        "xaxis": {
         "anchor": "y",
         "domain": [
          0,
          1
         ],
         "title": {
          "text": "Metro Area"
         }
        },
        "yaxis": {
         "anchor": "x",
         "domain": [
          0,
          1
         ],
         "title": {
          "text": "Job Count"
         }
        }
       }
      },
      "text/html": [
       "<div>                            <div id=\"e2a1a45b-c8c6-4aad-9cc2-5efbcf7a5468\" class=\"plotly-graph-div\" style=\"height:700px; width:100%;\"></div>            <script type=\"text/javascript\">                require([\"plotly\"], function(Plotly) {                    window.PLOTLYENV=window.PLOTLYENV || {};                                    if (document.getElementById(\"e2a1a45b-c8c6-4aad-9cc2-5efbcf7a5468\")) {                    Plotly.newPlot(                        \"e2a1a45b-c8c6-4aad-9cc2-5efbcf7a5468\",                        [{\"alignmentgroup\": \"True\", \"customdata\": [[29820], [38300], [41940], [32820], [12060], [37980], [19740], [19820], [42660], [31080], [26420], [41700], [34980], [38060], [16980], [19100]], \"hovertemplate\": \"Metro Area=%{x}<br>Job Count=%{marker.color}<br>MSA ID=%{customdata[0]}<extra></extra>\", \"legendgroup\": \"\", \"marker\": {\"color\": [105, 110, 121, 122, 126, 140, 143, 168, 192, 192, 216, 238, 264, 288, 352, 859], \"coloraxis\": \"coloraxis\"}, \"name\": \"\", \"offsetgroup\": \"\", \"orientation\": \"v\", \"showlegend\": false, \"textposition\": \"auto\", \"type\": \"bar\", \"x\": [\"Las Vegas-Henderson-Paradise, NV\", \"Pittsburgh, PA\", \"San Jose-Sunnyvale-Santa Clara, CA\", \"Memphis, TN-MS-AR\", \"Atlanta-Sandy Springs-Roswell, GA\", \"Philadelphia-Camden-Wilmington, PA-NJ-DE-MD\", \"Denver-Aurora-Lakewood, CO\", \"Detroit-Warren-Dearborn, MI\", \"Seattle-Tacoma-Bellevue, WA\", \"Los Angeles-Long Beach-Anaheim, CA\", \"Houston-The Woodlands-Sugar Land, TX\", \"San Antonio-New Braunfels, TX\", \"Nashville-Davidson--Murfreesboro--Franklin, TN\", \"Phoenix-Mesa-Scottsdale, AZ\", \"Chicago-Naperville-Elgin, IL-IN-WI\", \"Dallas-Fort Worth-Arlington, TX\"], \"xaxis\": \"x\", \"y\": [105, 110, 121, 122, 126, 140, 143, 168, 192, 192, 216, 238, 264, 288, 352, 859], \"yaxis\": \"y\"}],                        {\"barmode\": \"relative\", \"coloraxis\": {\"colorbar\": {\"title\": {\"text\": \"Job Count\"}}, \"colorscale\": [[0.0, \"#0d0887\"], [0.1111111111111111, \"#46039f\"], [0.2222222222222222, \"#7201a8\"], [0.3333333333333333, \"#9c179e\"], [0.4444444444444444, \"#bd3786\"], [0.5555555555555556, \"#d8576b\"], [0.6666666666666666, \"#ed7953\"], [0.7777777777777778, \"#fb9f3a\"], [0.8888888888888888, \"#fdca26\"], [1.0, \"#f0f921\"]]}, \"height\": 700, \"legend\": {\"tracegroupgap\": 0}, \"template\": {\"data\": {\"bar\": [{\"error_x\": {\"color\": \"#2a3f5f\"}, \"error_y\": {\"color\": \"#2a3f5f\"}, \"marker\": {\"line\": {\"color\": \"#E5ECF6\", \"width\": 0.5}}, \"type\": \"bar\"}], \"barpolar\": [{\"marker\": {\"line\": {\"color\": \"#E5ECF6\", \"width\": 0.5}}, \"type\": \"barpolar\"}], \"carpet\": [{\"aaxis\": {\"endlinecolor\": \"#2a3f5f\", \"gridcolor\": \"white\", \"linecolor\": \"white\", \"minorgridcolor\": \"white\", \"startlinecolor\": \"#2a3f5f\"}, \"baxis\": {\"endlinecolor\": \"#2a3f5f\", \"gridcolor\": \"white\", \"linecolor\": \"white\", \"minorgridcolor\": \"white\", \"startlinecolor\": \"#2a3f5f\"}, \"type\": \"carpet\"}], \"choropleth\": [{\"colorbar\": {\"outlinewidth\": 0, \"ticks\": \"\"}, \"type\": \"choropleth\"}], \"contour\": [{\"colorbar\": {\"outlinewidth\": 0, \"ticks\": \"\"}, \"colorscale\": [[0.0, \"#0d0887\"], [0.1111111111111111, \"#46039f\"], [0.2222222222222222, \"#7201a8\"], [0.3333333333333333, \"#9c179e\"], [0.4444444444444444, \"#bd3786\"], [0.5555555555555556, \"#d8576b\"], [0.6666666666666666, \"#ed7953\"], [0.7777777777777778, \"#fb9f3a\"], [0.8888888888888888, \"#fdca26\"], [1.0, \"#f0f921\"]], \"type\": \"contour\"}], \"contourcarpet\": [{\"colorbar\": {\"outlinewidth\": 0, \"ticks\": \"\"}, \"type\": \"contourcarpet\"}], \"heatmap\": [{\"colorbar\": {\"outlinewidth\": 0, \"ticks\": \"\"}, \"colorscale\": [[0.0, \"#0d0887\"], [0.1111111111111111, \"#46039f\"], [0.2222222222222222, \"#7201a8\"], [0.3333333333333333, \"#9c179e\"], [0.4444444444444444, \"#bd3786\"], [0.5555555555555556, \"#d8576b\"], [0.6666666666666666, \"#ed7953\"], [0.7777777777777778, \"#fb9f3a\"], [0.8888888888888888, \"#fdca26\"], [1.0, \"#f0f921\"]], \"type\": \"heatmap\"}], \"heatmapgl\": [{\"colorbar\": {\"outlinewidth\": 0, \"ticks\": \"\"}, \"colorscale\": [[0.0, \"#0d0887\"], [0.1111111111111111, \"#46039f\"], [0.2222222222222222, \"#7201a8\"], [0.3333333333333333, \"#9c179e\"], [0.4444444444444444, \"#bd3786\"], [0.5555555555555556, \"#d8576b\"], [0.6666666666666666, \"#ed7953\"], [0.7777777777777778, \"#fb9f3a\"], [0.8888888888888888, \"#fdca26\"], [1.0, \"#f0f921\"]], \"type\": \"heatmapgl\"}], \"histogram\": [{\"marker\": {\"colorbar\": {\"outlinewidth\": 0, \"ticks\": \"\"}}, \"type\": \"histogram\"}], \"histogram2d\": [{\"colorbar\": {\"outlinewidth\": 0, \"ticks\": \"\"}, \"colorscale\": [[0.0, \"#0d0887\"], [0.1111111111111111, \"#46039f\"], [0.2222222222222222, \"#7201a8\"], [0.3333333333333333, \"#9c179e\"], [0.4444444444444444, \"#bd3786\"], [0.5555555555555556, \"#d8576b\"], [0.6666666666666666, \"#ed7953\"], [0.7777777777777778, \"#fb9f3a\"], [0.8888888888888888, \"#fdca26\"], [1.0, \"#f0f921\"]], \"type\": \"histogram2d\"}], \"histogram2dcontour\": [{\"colorbar\": {\"outlinewidth\": 0, \"ticks\": \"\"}, \"colorscale\": [[0.0, \"#0d0887\"], [0.1111111111111111, \"#46039f\"], [0.2222222222222222, \"#7201a8\"], [0.3333333333333333, \"#9c179e\"], [0.4444444444444444, \"#bd3786\"], [0.5555555555555556, \"#d8576b\"], [0.6666666666666666, \"#ed7953\"], [0.7777777777777778, \"#fb9f3a\"], [0.8888888888888888, \"#fdca26\"], [1.0, \"#f0f921\"]], \"type\": \"histogram2dcontour\"}], \"mesh3d\": [{\"colorbar\": {\"outlinewidth\": 0, \"ticks\": \"\"}, \"type\": \"mesh3d\"}], \"parcoords\": [{\"line\": {\"colorbar\": {\"outlinewidth\": 0, \"ticks\": \"\"}}, \"type\": \"parcoords\"}], \"pie\": [{\"automargin\": true, \"type\": \"pie\"}], \"scatter\": [{\"marker\": {\"colorbar\": {\"outlinewidth\": 0, \"ticks\": \"\"}}, \"type\": \"scatter\"}], \"scatter3d\": [{\"line\": {\"colorbar\": {\"outlinewidth\": 0, \"ticks\": \"\"}}, \"marker\": {\"colorbar\": {\"outlinewidth\": 0, \"ticks\": \"\"}}, \"type\": \"scatter3d\"}], \"scattercarpet\": [{\"marker\": {\"colorbar\": {\"outlinewidth\": 0, \"ticks\": \"\"}}, \"type\": \"scattercarpet\"}], \"scattergeo\": [{\"marker\": {\"colorbar\": {\"outlinewidth\": 0, \"ticks\": \"\"}}, \"type\": \"scattergeo\"}], \"scattergl\": [{\"marker\": {\"colorbar\": {\"outlinewidth\": 0, \"ticks\": \"\"}}, \"type\": \"scattergl\"}], \"scattermapbox\": [{\"marker\": {\"colorbar\": {\"outlinewidth\": 0, \"ticks\": \"\"}}, \"type\": \"scattermapbox\"}], \"scatterpolar\": [{\"marker\": {\"colorbar\": {\"outlinewidth\": 0, \"ticks\": \"\"}}, \"type\": \"scatterpolar\"}], \"scatterpolargl\": [{\"marker\": {\"colorbar\": {\"outlinewidth\": 0, \"ticks\": \"\"}}, \"type\": \"scatterpolargl\"}], \"scatterternary\": [{\"marker\": {\"colorbar\": {\"outlinewidth\": 0, \"ticks\": \"\"}}, \"type\": \"scatterternary\"}], \"surface\": [{\"colorbar\": {\"outlinewidth\": 0, \"ticks\": \"\"}, \"colorscale\": [[0.0, \"#0d0887\"], [0.1111111111111111, \"#46039f\"], [0.2222222222222222, \"#7201a8\"], [0.3333333333333333, \"#9c179e\"], [0.4444444444444444, \"#bd3786\"], [0.5555555555555556, \"#d8576b\"], [0.6666666666666666, \"#ed7953\"], [0.7777777777777778, \"#fb9f3a\"], [0.8888888888888888, \"#fdca26\"], [1.0, \"#f0f921\"]], \"type\": \"surface\"}], \"table\": [{\"cells\": {\"fill\": {\"color\": \"#EBF0F8\"}, \"line\": {\"color\": \"white\"}}, \"header\": {\"fill\": {\"color\": \"#C8D4E3\"}, \"line\": {\"color\": \"white\"}}, \"type\": \"table\"}]}, \"layout\": {\"annotationdefaults\": {\"arrowcolor\": \"#2a3f5f\", \"arrowhead\": 0, \"arrowwidth\": 1}, \"autotypenumbers\": \"strict\", \"coloraxis\": {\"colorbar\": {\"outlinewidth\": 0, \"ticks\": \"\"}}, \"colorscale\": {\"diverging\": [[0, \"#8e0152\"], [0.1, \"#c51b7d\"], [0.2, \"#de77ae\"], [0.3, \"#f1b6da\"], [0.4, \"#fde0ef\"], [0.5, \"#f7f7f7\"], [0.6, \"#e6f5d0\"], [0.7, \"#b8e186\"], [0.8, \"#7fbc41\"], [0.9, \"#4d9221\"], [1, \"#276419\"]], \"sequential\": [[0.0, \"#0d0887\"], [0.1111111111111111, \"#46039f\"], [0.2222222222222222, \"#7201a8\"], [0.3333333333333333, \"#9c179e\"], [0.4444444444444444, \"#bd3786\"], [0.5555555555555556, \"#d8576b\"], [0.6666666666666666, \"#ed7953\"], [0.7777777777777778, \"#fb9f3a\"], [0.8888888888888888, \"#fdca26\"], [1.0, \"#f0f921\"]], \"sequentialminus\": [[0.0, \"#0d0887\"], [0.1111111111111111, \"#46039f\"], [0.2222222222222222, \"#7201a8\"], [0.3333333333333333, \"#9c179e\"], [0.4444444444444444, \"#bd3786\"], [0.5555555555555556, \"#d8576b\"], [0.6666666666666666, \"#ed7953\"], [0.7777777777777778, \"#fb9f3a\"], [0.8888888888888888, \"#fdca26\"], [1.0, \"#f0f921\"]]}, \"colorway\": [\"#636efa\", \"#EF553B\", \"#00cc96\", \"#ab63fa\", \"#FFA15A\", \"#19d3f3\", \"#FF6692\", \"#B6E880\", \"#FF97FF\", \"#FECB52\"], \"font\": {\"color\": \"#2a3f5f\"}, \"geo\": {\"bgcolor\": \"white\", \"lakecolor\": \"white\", \"landcolor\": \"#E5ECF6\", \"showlakes\": true, \"showland\": true, \"subunitcolor\": \"white\"}, \"hoverlabel\": {\"align\": \"left\"}, \"hovermode\": \"closest\", \"mapbox\": {\"style\": \"light\"}, \"paper_bgcolor\": \"white\", \"plot_bgcolor\": \"#E5ECF6\", \"polar\": {\"angularaxis\": {\"gridcolor\": \"white\", \"linecolor\": \"white\", \"ticks\": \"\"}, \"bgcolor\": \"#E5ECF6\", \"radialaxis\": {\"gridcolor\": \"white\", \"linecolor\": \"white\", \"ticks\": \"\"}}, \"scene\": {\"xaxis\": {\"backgroundcolor\": \"#E5ECF6\", \"gridcolor\": \"white\", \"gridwidth\": 2, \"linecolor\": \"white\", \"showbackground\": true, \"ticks\": \"\", \"zerolinecolor\": \"white\"}, \"yaxis\": {\"backgroundcolor\": \"#E5ECF6\", \"gridcolor\": \"white\", \"gridwidth\": 2, \"linecolor\": \"white\", \"showbackground\": true, \"ticks\": \"\", \"zerolinecolor\": \"white\"}, \"zaxis\": {\"backgroundcolor\": \"#E5ECF6\", \"gridcolor\": \"white\", \"gridwidth\": 2, \"linecolor\": \"white\", \"showbackground\": true, \"ticks\": \"\", \"zerolinecolor\": \"white\"}}, \"shapedefaults\": {\"line\": {\"color\": \"#2a3f5f\"}}, \"ternary\": {\"aaxis\": {\"gridcolor\": \"white\", \"linecolor\": \"white\", \"ticks\": \"\"}, \"baxis\": {\"gridcolor\": \"white\", \"linecolor\": \"white\", \"ticks\": \"\"}, \"bgcolor\": \"#E5ECF6\", \"caxis\": {\"gridcolor\": \"white\", \"linecolor\": \"white\", \"ticks\": \"\"}}, \"title\": {\"x\": 0.05}, \"xaxis\": {\"automargin\": true, \"gridcolor\": \"white\", \"linecolor\": \"white\", \"ticks\": \"\", \"title\": {\"standoff\": 15}, \"zerolinecolor\": \"white\", \"zerolinewidth\": 2}, \"yaxis\": {\"automargin\": true, \"gridcolor\": \"white\", \"linecolor\": \"white\", \"ticks\": \"\", \"title\": {\"standoff\": 15}, \"zerolinecolor\": \"white\", \"zerolinewidth\": 2}}}, \"title\": {\"text\": \"Locations with Over 100 Postings\"}, \"xaxis\": {\"anchor\": \"y\", \"domain\": [0.0, 1.0], \"title\": {\"text\": \"Metro Area\"}}, \"yaxis\": {\"anchor\": \"x\", \"domain\": [0.0, 1.0], \"title\": {\"text\": \"Job Count\"}}},                        {\"responsive\": true}                    ).then(function(){\n",
       "                            \n",
       "var gd = document.getElementById('e2a1a45b-c8c6-4aad-9cc2-5efbcf7a5468');\n",
       "var x = new MutationObserver(function (mutations, observer) {{\n",
       "        var display = window.getComputedStyle(gd).display;\n",
       "        if (!display || display === 'none') {{\n",
       "            console.log([gd, 'removed!']);\n",
       "            Plotly.purge(gd);\n",
       "            observer.disconnect();\n",
       "        }}\n",
       "}});\n",
       "\n",
       "// Listen for the removal of the full notebook cells\n",
       "var notebookContainer = gd.closest('#notebook-container');\n",
       "if (notebookContainer) {{\n",
       "    x.observe(notebookContainer, {childList: true});\n",
       "}}\n",
       "\n",
       "// Listen for the clearing of the current output cell\n",
       "var outputEl = gd.closest('.output');\n",
       "if (outputEl) {{\n",
       "    x.observe(outputEl, {childList: true});\n",
       "}}\n",
       "\n",
       "                        })                };                });            </script>        </div>"
      ]
     },
     "metadata": {},
     "output_type": "display_data"
    }
   ],
   "source": [
    "#Plot bar chart to show distrobution of job postings of atleast 100 per metro area\n",
    "posting_location_100 = posting_location_100.sort_values(by='Job Count', ascending=True)\n",
    "data = px.data.gapminder()\n",
    "\n",
    "fig = px.bar(posting_location_100, x='Metro Area', y='Job Count',\n",
    "             hover_data=['MSA_ID','Metro Area', 'Job Count'],\n",
    "             title=\"Locations with Over 100 Postings\",\n",
    "             labels={'MSA_ID':'MSA ID'},\n",
    "             color='Job Count', height=700)\n",
    "fig.show()"
   ]
  }
 ],
 "metadata": {
  "kernelspec": {
   "display_name": "Python 3",
   "language": "python",
   "name": "python3"
  },
  "language_info": {
   "codemirror_mode": {
    "name": "ipython",
    "version": 3
   },
   "file_extension": ".py",
   "mimetype": "text/x-python",
   "name": "python",
   "nbconvert_exporter": "python",
   "pygments_lexer": "ipython3",
   "version": "3.6.10"
  }
 },
 "nbformat": 4,
 "nbformat_minor": 4
}
